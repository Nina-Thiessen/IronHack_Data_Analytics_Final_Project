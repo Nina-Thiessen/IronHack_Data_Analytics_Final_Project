{
 "cells": [
  {
   "cell_type": "code",
   "execution_count": 1,
   "id": "45baf026",
   "metadata": {},
   "outputs": [],
   "source": [
    "import os\n",
    "import numpy as np\n",
    "import pandas as pd\n",
    "import warnings\n",
    "warnings.filterwarnings(\"ignore\")\n",
    "\n",
    "import couponProjectUtils as proj_utils\n",
    "\n",
    "from sklearn.preprocessing import StandardScaler\n",
    "\n",
    "from imblearn.over_sampling import SMOTE\n",
    "\n",
    "## models\n",
    "from sklearn.linear_model import LogisticRegression\n",
    "from sklearn.neighbors import KNeighborsClassifier\n",
    "from sklearn.tree import DecisionTreeClassifier\n",
    "\n",
    "from sklearn.ensemble import RandomForestClassifier\n",
    "\n",
    "from sklearn.model_selection import GridSearchCV\n",
    "from sklearn.model_selection import train_test_split\n",
    "from sklearn.model_selection import cross_val_score\n",
    "\n",
    "from sklearn.metrics import accuracy_score, precision_score, recall_score, roc_auc_score\n",
    "\n",
    "## to make it possible to display multiple output inside one cell \n",
    "from IPython.core.interactiveshell import InteractiveShell\n",
    "InteractiveShell.ast_node_interactivity = \"all\"\n",
    "\n",
    "pd.options.display.max_rows = 50\n",
    "pd.set_option('display.float_format', lambda x: '%9.8f' % x)"
   ]
  },
  {
   "cell_type": "markdown",
   "id": "102d2405",
   "metadata": {},
   "source": [
    "# Use all onehot nominal encoding for coupon type: Carry out & Take away"
   ]
  },
  {
   "cell_type": "code",
   "execution_count": 2,
   "id": "955dc49c",
   "metadata": {},
   "outputs": [],
   "source": [
    "encoding_type = 'onehot' ## use this string to access input file and name output files\n",
    "\n",
    "os.makedirs(os.path.join('model', encoding_type), exist_ok=True)"
   ]
  },
  {
   "cell_type": "code",
   "execution_count": 3,
   "id": "528e36ad",
   "metadata": {},
   "outputs": [
    {
     "name": "stdout",
     "output_type": "stream",
     "text": [
      "Orig: 73.38% Yes\n",
      "After SMOTE upsampling\n",
      "\tNum training samples: 2,752 (49.38% yes)\n",
      "\tNum testing samples:  688 (52.47% yes)\n"
     ]
    }
   ],
   "source": [
    "## load data, split Xy, upsample with SMOTE, split train/test\n",
    "data = pd.read_csv(f'data/CarryAway_data_{encoding_type}.csv')\n",
    "\n",
    "## define X and y \n",
    "X = data.drop('Y', axis=1).reset_index(drop=True)\n",
    "y = data.Y\n",
    "\n",
    "## Handle imbalance\n",
    "smote = SMOTE(random_state=42)\n",
    "\n",
    "orig_vc = y.value_counts()\n",
    "print(f\"Orig: {100* orig_vc[1]/(orig_vc.sum()):.2f}% Yes\")\n",
    "\n",
    "X_sm, y_sm = smote.fit_resample(X, y)\n",
    "\n",
    "## Data splitting train/test\n",
    "X_train, X_test, y_train, y_test = train_test_split(X_sm, y_sm, test_size=0.20, random_state=42)\n",
    "\n",
    "print(\"After SMOTE upsampling\")\n",
    "train_vc = y_train.value_counts()\n",
    "print(f\"\\tNum training samples: {X_train.shape[0]:,} ({100* train_vc[1]/(train_vc.sum()):.2f}% yes)\")\n",
    "test_vc = y_test.value_counts()\n",
    "print(f\"\\tNum testing samples:  {X_test.shape[0]:,} ({100* test_vc[1]/(test_vc.sum()):.2f}% yes)\")"
   ]
  },
  {
   "cell_type": "markdown",
   "id": "8b5b7fac",
   "metadata": {},
   "source": [
    "## Testing RandomForestClassifier with Grid Search Cross-validation\n"
   ]
  },
  {
   "cell_type": "markdown",
   "id": "32f36012",
   "metadata": {},
   "source": [
    "## RandomForestClassifier Parameters\n",
    "\n",
    "The main parameters to adjust when using these methods:\n",
    "* n_estimators\n",
    "* max_features (sqrt is generally best default for classification. I have 55 features, so try values around 8) \n",
    "\n",
    "Make sure to include params:\n",
    "* max_depth=None\n",
    "* min_samples_split=2 \n",
    "* oob_score=True (with bootstrapping)"
   ]
  },
  {
   "cell_type": "code",
   "execution_count": 4,
   "id": "bd7710a4",
   "metadata": {},
   "outputs": [],
   "source": [
    "cols_to_view = ['rank_test_score', 'param_max_features', 'param_min_samples_split', 'param_n_estimators', \n",
    "#                 'param_min_samples_leaf', \n",
    "                'param_max_depth', 'param_max_leaf_nodes',\n",
    "                'mean_test_score', 'std_test_score', 'mean_train_score', 'std_train_score']"
   ]
  },
  {
   "cell_type": "code",
   "execution_count": 5,
   "id": "640c640f",
   "metadata": {},
   "outputs": [
    {
     "data": {
      "text/plain": [
       "GridSearchCV(cv=5,\n",
       "             estimator=RandomForestClassifier(oob_score=True, random_state=42),\n",
       "             n_jobs=4,\n",
       "             param_grid={'max_depth': [None, 20, 25, 30],\n",
       "                         'max_features': [5, 6, 7, 8, 9, 10, 11, 12, 13, 14,\n",
       "                                          15],\n",
       "                         'max_leaf_nodes': [None, 100, 200],\n",
       "                         'min_samples_split': [2, 3],\n",
       "                         'n_estimators': [100, 150, 200]},\n",
       "             return_train_score=True, scoring='roc_auc')"
      ]
     },
     "execution_count": 5,
     "metadata": {},
     "output_type": "execute_result"
    },
    {
     "data": {
      "text/plain": [
       "RandomForestClassifier(max_features=6, n_estimators=200, oob_score=True,\n",
       "                       random_state=42)"
      ]
     },
     "execution_count": 5,
     "metadata": {},
     "output_type": "execute_result"
    }
   ],
   "source": [
    "param_grid={'max_features': [5, 6, 7, 8, 9, 10, 11, 12, 13, 14, 15],\n",
    "            'min_samples_split': [2, 3],\n",
    "            'n_estimators': [100, 150, 200],\n",
    "#             'min_samples_leaf': [1, 2, 3, 4, 5, 10],\n",
    "            'max_depth': [None, 20, 25, 30],\n",
    "            'max_leaf_nodes': [None, 100, 200]\n",
    "           }\n",
    "\n",
    "clf = RandomForestClassifier(oob_score=True, random_state=42)\n",
    "\n",
    "grid_search1 = GridSearchCV(clf, param_grid, scoring='roc_auc', cv=5, return_train_score=True, n_jobs=4)\n",
    "grid_search1.fit(X_train.values, y_train.values)\n",
    "\n",
    "cv_results1 = pd.DataFrame(grid_search1.cv_results_)\n",
    "best_model = grid_search1.best_estimator_\n",
    "best_model"
   ]
  },
  {
   "cell_type": "code",
   "execution_count": 6,
   "id": "005979f0",
   "metadata": {},
   "outputs": [
    {
     "name": "stdout",
     "output_type": "stream",
     "text": [
      "Best model oob score: 0.8528343023255814\n",
      "ROC AUC: TEST 0.921777\n",
      "\n"
     ]
    }
   ],
   "source": [
    "print(f\"Best model oob score: {best_model.oob_score_}\")\n",
    "y_test_score = best_model.predict_proba(X_test)[:, 1]\n",
    "print(f\"ROC AUC: TEST {roc_auc_score(y_test, y_test_score):.6f}\\n\")"
   ]
  },
  {
   "cell_type": "code",
   "execution_count": 7,
   "id": "290da23d",
   "metadata": {},
   "outputs": [
    {
     "data": {
      "text/html": [
       "<div>\n",
       "<style scoped>\n",
       "    .dataframe tbody tr th:only-of-type {\n",
       "        vertical-align: middle;\n",
       "    }\n",
       "\n",
       "    .dataframe tbody tr th {\n",
       "        vertical-align: top;\n",
       "    }\n",
       "\n",
       "    .dataframe thead th {\n",
       "        text-align: right;\n",
       "    }\n",
       "</style>\n",
       "<table border=\"1\" class=\"dataframe\">\n",
       "  <thead>\n",
       "    <tr style=\"text-align: right;\">\n",
       "      <th></th>\n",
       "      <th>rank_test_score</th>\n",
       "      <th>param_max_features</th>\n",
       "      <th>param_min_samples_split</th>\n",
       "      <th>param_n_estimators</th>\n",
       "      <th>param_max_depth</th>\n",
       "      <th>param_max_leaf_nodes</th>\n",
       "      <th>mean_test_score</th>\n",
       "      <th>std_test_score</th>\n",
       "      <th>mean_train_score</th>\n",
       "      <th>std_train_score</th>\n",
       "    </tr>\n",
       "  </thead>\n",
       "  <tbody>\n",
       "    <tr>\n",
       "      <th>20</th>\n",
       "      <td>1</td>\n",
       "      <td>6</td>\n",
       "      <td>2</td>\n",
       "      <td>200</td>\n",
       "      <td>None</td>\n",
       "      <td>None</td>\n",
       "      <td>0.92174261</td>\n",
       "      <td>0.01443620</td>\n",
       "      <td>0.99996955</td>\n",
       "      <td>0.00001891</td>\n",
       "    </tr>\n",
       "    <tr>\n",
       "      <th>614</th>\n",
       "      <td>2</td>\n",
       "      <td>6</td>\n",
       "      <td>2</td>\n",
       "      <td>200</td>\n",
       "      <td>30</td>\n",
       "      <td>None</td>\n",
       "      <td>0.92163962</td>\n",
       "      <td>0.01406455</td>\n",
       "      <td>0.99996955</td>\n",
       "      <td>0.00001901</td>\n",
       "    </tr>\n",
       "    <tr>\n",
       "      <th>416</th>\n",
       "      <td>3</td>\n",
       "      <td>6</td>\n",
       "      <td>2</td>\n",
       "      <td>200</td>\n",
       "      <td>25</td>\n",
       "      <td>None</td>\n",
       "      <td>0.92147305</td>\n",
       "      <td>0.01383416</td>\n",
       "      <td>0.99996757</td>\n",
       "      <td>0.00002094</td>\n",
       "    </tr>\n",
       "    <tr>\n",
       "      <th>613</th>\n",
       "      <td>4</td>\n",
       "      <td>6</td>\n",
       "      <td>2</td>\n",
       "      <td>150</td>\n",
       "      <td>30</td>\n",
       "      <td>None</td>\n",
       "      <td>0.92080620</td>\n",
       "      <td>0.01500843</td>\n",
       "      <td>0.99996113</td>\n",
       "      <td>0.00002750</td>\n",
       "    </tr>\n",
       "    <tr>\n",
       "      <th>19</th>\n",
       "      <td>5</td>\n",
       "      <td>6</td>\n",
       "      <td>2</td>\n",
       "      <td>150</td>\n",
       "      <td>None</td>\n",
       "      <td>None</td>\n",
       "      <td>0.92073781</td>\n",
       "      <td>0.01546871</td>\n",
       "      <td>0.99996129</td>\n",
       "      <td>0.00002705</td>\n",
       "    </tr>\n",
       "    <tr>\n",
       "      <th>398</th>\n",
       "      <td>6</td>\n",
       "      <td>5</td>\n",
       "      <td>2</td>\n",
       "      <td>200</td>\n",
       "      <td>25</td>\n",
       "      <td>None</td>\n",
       "      <td>0.91973860</td>\n",
       "      <td>0.01449364</td>\n",
       "      <td>0.99996360</td>\n",
       "      <td>0.00002340</td>\n",
       "    </tr>\n",
       "    <tr>\n",
       "      <th>415</th>\n",
       "      <td>7</td>\n",
       "      <td>6</td>\n",
       "      <td>2</td>\n",
       "      <td>150</td>\n",
       "      <td>25</td>\n",
       "      <td>None</td>\n",
       "      <td>0.91955297</td>\n",
       "      <td>0.01438937</td>\n",
       "      <td>0.99995816</td>\n",
       "      <td>0.00002894</td>\n",
       "    </tr>\n",
       "    <tr>\n",
       "      <th>617</th>\n",
       "      <td>8</td>\n",
       "      <td>6</td>\n",
       "      <td>3</td>\n",
       "      <td>200</td>\n",
       "      <td>30</td>\n",
       "      <td>None</td>\n",
       "      <td>0.91951942</td>\n",
       "      <td>0.01529310</td>\n",
       "      <td>0.99987365</td>\n",
       "      <td>0.00007332</td>\n",
       "    </tr>\n",
       "    <tr>\n",
       "      <th>616</th>\n",
       "      <td>9</td>\n",
       "      <td>6</td>\n",
       "      <td>3</td>\n",
       "      <td>150</td>\n",
       "      <td>30</td>\n",
       "      <td>None</td>\n",
       "      <td>0.91934089</td>\n",
       "      <td>0.01610536</td>\n",
       "      <td>0.99986226</td>\n",
       "      <td>0.00008089</td>\n",
       "    </tr>\n",
       "    <tr>\n",
       "      <th>1</th>\n",
       "      <td>10</td>\n",
       "      <td>5</td>\n",
       "      <td>2</td>\n",
       "      <td>150</td>\n",
       "      <td>None</td>\n",
       "      <td>None</td>\n",
       "      <td>0.91933361</td>\n",
       "      <td>0.01449980</td>\n",
       "      <td>0.99995981</td>\n",
       "      <td>0.00002620</td>\n",
       "    </tr>\n",
       "  </tbody>\n",
       "</table>\n",
       "</div>"
      ],
      "text/plain": [
       "     rank_test_score param_max_features param_min_samples_split  \\\n",
       "20                 1                  6                       2   \n",
       "614                2                  6                       2   \n",
       "416                3                  6                       2   \n",
       "613                4                  6                       2   \n",
       "19                 5                  6                       2   \n",
       "398                6                  5                       2   \n",
       "415                7                  6                       2   \n",
       "617                8                  6                       3   \n",
       "616                9                  6                       3   \n",
       "1                 10                  5                       2   \n",
       "\n",
       "    param_n_estimators param_max_depth param_max_leaf_nodes  mean_test_score  \\\n",
       "20                 200            None                 None       0.92174261   \n",
       "614                200              30                 None       0.92163962   \n",
       "416                200              25                 None       0.92147305   \n",
       "613                150              30                 None       0.92080620   \n",
       "19                 150            None                 None       0.92073781   \n",
       "398                200              25                 None       0.91973860   \n",
       "415                150              25                 None       0.91955297   \n",
       "617                200              30                 None       0.91951942   \n",
       "616                150              30                 None       0.91934089   \n",
       "1                  150            None                 None       0.91933361   \n",
       "\n",
       "     std_test_score  mean_train_score  std_train_score  \n",
       "20       0.01443620        0.99996955       0.00001891  \n",
       "614      0.01406455        0.99996955       0.00001901  \n",
       "416      0.01383416        0.99996757       0.00002094  \n",
       "613      0.01500843        0.99996113       0.00002750  \n",
       "19       0.01546871        0.99996129       0.00002705  \n",
       "398      0.01449364        0.99996360       0.00002340  \n",
       "415      0.01438937        0.99995816       0.00002894  \n",
       "617      0.01529310        0.99987365       0.00007332  \n",
       "616      0.01610536        0.99986226       0.00008089  \n",
       "1        0.01449980        0.99995981       0.00002620  "
      ]
     },
     "execution_count": 7,
     "metadata": {},
     "output_type": "execute_result"
    }
   ],
   "source": [
    "cv_results1.loc[:, cols_to_view].sort_values('rank_test_score').head(10)"
   ]
  },
  {
   "cell_type": "code",
   "execution_count": 8,
   "id": "ea126940",
   "metadata": {},
   "outputs": [
    {
     "data": {
      "text/html": [
       "<div>\n",
       "<style scoped>\n",
       "    .dataframe tbody tr th:only-of-type {\n",
       "        vertical-align: middle;\n",
       "    }\n",
       "\n",
       "    .dataframe tbody tr th {\n",
       "        vertical-align: top;\n",
       "    }\n",
       "\n",
       "    .dataframe thead th {\n",
       "        text-align: right;\n",
       "    }\n",
       "</style>\n",
       "<table border=\"1\" class=\"dataframe\">\n",
       "  <thead>\n",
       "    <tr style=\"text-align: right;\">\n",
       "      <th></th>\n",
       "      <th>feature_name</th>\n",
       "      <th>importance</th>\n",
       "    </tr>\n",
       "  </thead>\n",
       "  <tbody>\n",
       "    <tr>\n",
       "      <th>18</th>\n",
       "      <td>time_6PM</td>\n",
       "      <td>0.02527235</td>\n",
       "    </tr>\n",
       "    <tr>\n",
       "      <th>21</th>\n",
       "      <td>gender_Male</td>\n",
       "      <td>0.02307457</td>\n",
       "    </tr>\n",
       "    <tr>\n",
       "      <th>92</th>\n",
       "      <td>minsToCouponDest_5-14</td>\n",
       "      <td>0.02269589</td>\n",
       "    </tr>\n",
       "    <tr>\n",
       "      <th>13</th>\n",
       "      <td>weather_Sunny</td>\n",
       "      <td>0.02254047</td>\n",
       "    </tr>\n",
       "    <tr>\n",
       "      <th>89</th>\n",
       "      <td>Restaurant20To50_less1</td>\n",
       "      <td>0.02234556</td>\n",
       "    </tr>\n",
       "    <tr>\n",
       "      <th>20</th>\n",
       "      <td>expiration_2h</td>\n",
       "      <td>0.02223522</td>\n",
       "    </tr>\n",
       "    <tr>\n",
       "      <th>16</th>\n",
       "      <td>time_10PM</td>\n",
       "      <td>0.02188856</td>\n",
       "    </tr>\n",
       "    <tr>\n",
       "      <th>83</th>\n",
       "      <td>RestaurantLessThan20_4~8</td>\n",
       "      <td>0.02115116</td>\n",
       "    </tr>\n",
       "    <tr>\n",
       "      <th>37</th>\n",
       "      <td>education_Some college - no degree</td>\n",
       "      <td>0.02095138</td>\n",
       "    </tr>\n",
       "    <tr>\n",
       "      <th>73</th>\n",
       "      <td>Bar_never</td>\n",
       "      <td>0.02080994</td>\n",
       "    </tr>\n",
       "  </tbody>\n",
       "</table>\n",
       "</div>"
      ],
      "text/plain": [
       "                          feature_name  importance\n",
       "18                            time_6PM  0.02527235\n",
       "21                         gender_Male  0.02307457\n",
       "92               minsToCouponDest_5-14  0.02269589\n",
       "13                       weather_Sunny  0.02254047\n",
       "89              Restaurant20To50_less1  0.02234556\n",
       "20                       expiration_2h  0.02223522\n",
       "16                           time_10PM  0.02188856\n",
       "83            RestaurantLessThan20_4~8  0.02115116\n",
       "37  education_Some college - no degree  0.02095138\n",
       "73                           Bar_never  0.02080994"
      ]
     },
     "execution_count": 8,
     "metadata": {},
     "output_type": "execute_result"
    }
   ],
   "source": [
    "featimp_df = pd.DataFrame({'feature_name': X.columns, 'importance': best_model.feature_importances_})\n",
    "featimp_df.sort_values('importance', ascending=False).head(10)"
   ]
  },
  {
   "cell_type": "code",
   "execution_count": 9,
   "id": "9e3b10d1",
   "metadata": {},
   "outputs": [],
   "source": [
    "import pickle\n",
    "\n",
    "with open(f'model/{encoding_type}/CarryAway_GridSearchCV_RFC.pickle', \"wb\") as f:\n",
    "    pickle.dump(grid_search1,f)\n",
    "    \n",
    "with open(f'model/{encoding_type}/CarryAway_best_model_RFC.pickle', \"wb\") as f:\n",
    "    pickle.dump(best_model,f)"
   ]
  },
  {
   "cell_type": "code",
   "execution_count": 10,
   "id": "4f7af53f",
   "metadata": {},
   "outputs": [
    {
     "name": "stdout",
     "output_type": "stream",
     "text": [
      "Saving file: data/CarryAway_X_train_onehot.csv\n",
      "Saving file: data/CarryAway_X_test_onehot.csv\n",
      "Saving file: data/CarryAway_y_train_onehot.csv\n",
      "Saving file: data/CarryAway_y_test_onehot.csv\n"
     ]
    }
   ],
   "source": [
    "## save train/test info to file\n",
    "Xy_tt = {'X_train': X_train, 'X_test': X_test, 'y_train': y_train, 'y_test': y_test}\n",
    "\n",
    "for k in Xy_tt.keys():\n",
    "    fname = f'data/CarryAway_{k}_{encoding_type}.csv'\n",
    "    print(f'Saving file: {fname}')\n",
    "    Xy_tt[k].to_csv(fname, index=False)"
   ]
  },
  {
   "cell_type": "markdown",
   "id": "2bc9c27b",
   "metadata": {},
   "source": [
    "# KNN"
   ]
  },
  {
   "cell_type": "code",
   "execution_count": 11,
   "id": "18c49a1c",
   "metadata": {},
   "outputs": [
    {
     "data": {
      "text/plain": [
       "GridSearchCV(cv=5, estimator=KNeighborsClassifier(), n_jobs=4,\n",
       "             param_grid={'n_neighbors': [1, 2, 3, 4, 5, 6, 7, 8, 9, 10, 11, 12,\n",
       "                                         13, 14, 15, 16, 17, 18, 19, 20, 21, 22,\n",
       "                                         23, 24, 25]},\n",
       "             return_train_score=True, scoring='roc_auc')"
      ]
     },
     "execution_count": 11,
     "metadata": {},
     "output_type": "execute_result"
    }
   ],
   "source": [
    "param_grid={'n_neighbors': [x for x in range(1,26)]}\n",
    "\n",
    "clf = KNeighborsClassifier()\n",
    "\n",
    "grid_search_knn = GridSearchCV(clf, param_grid, scoring='roc_auc', cv=5, return_train_score=True, n_jobs=4)\n",
    "grid_search_knn.fit(X_train.values, y_train.values)"
   ]
  },
  {
   "cell_type": "code",
   "execution_count": 12,
   "id": "7c68dd30",
   "metadata": {},
   "outputs": [
    {
     "data": {
      "text/html": [
       "<div>\n",
       "<style scoped>\n",
       "    .dataframe tbody tr th:only-of-type {\n",
       "        vertical-align: middle;\n",
       "    }\n",
       "\n",
       "    .dataframe tbody tr th {\n",
       "        vertical-align: top;\n",
       "    }\n",
       "\n",
       "    .dataframe thead th {\n",
       "        text-align: right;\n",
       "    }\n",
       "</style>\n",
       "<table border=\"1\" class=\"dataframe\">\n",
       "  <thead>\n",
       "    <tr style=\"text-align: right;\">\n",
       "      <th></th>\n",
       "      <th>rank_test_score</th>\n",
       "      <th>param_n_neighbors</th>\n",
       "      <th>mean_test_score</th>\n",
       "      <th>std_test_score</th>\n",
       "      <th>mean_train_score</th>\n",
       "      <th>std_train_score</th>\n",
       "    </tr>\n",
       "  </thead>\n",
       "  <tbody>\n",
       "    <tr>\n",
       "      <th>4</th>\n",
       "      <td>1</td>\n",
       "      <td>5</td>\n",
       "      <td>0.87748799</td>\n",
       "      <td>0.00711899</td>\n",
       "      <td>0.96633729</td>\n",
       "      <td>0.00202044</td>\n",
       "    </tr>\n",
       "    <tr>\n",
       "      <th>5</th>\n",
       "      <td>2</td>\n",
       "      <td>6</td>\n",
       "      <td>0.87514128</td>\n",
       "      <td>0.00771629</td>\n",
       "      <td>0.95869306</td>\n",
       "      <td>0.00209576</td>\n",
       "    </tr>\n",
       "    <tr>\n",
       "      <th>3</th>\n",
       "      <td>3</td>\n",
       "      <td>4</td>\n",
       "      <td>0.87406669</td>\n",
       "      <td>0.00569778</td>\n",
       "      <td>0.97303633</td>\n",
       "      <td>0.00221679</td>\n",
       "    </tr>\n",
       "  </tbody>\n",
       "</table>\n",
       "</div>"
      ],
      "text/plain": [
       "   rank_test_score param_n_neighbors  mean_test_score  std_test_score  \\\n",
       "4                1                 5       0.87748799      0.00711899   \n",
       "5                2                 6       0.87514128      0.00771629   \n",
       "3                3                 4       0.87406669      0.00569778   \n",
       "\n",
       "   mean_train_score  std_train_score  \n",
       "4        0.96633729       0.00202044  \n",
       "5        0.95869306       0.00209576  \n",
       "3        0.97303633       0.00221679  "
      ]
     },
     "execution_count": 12,
     "metadata": {},
     "output_type": "execute_result"
    }
   ],
   "source": [
    "knn_cols_to_view = ['rank_test_score', 'param_n_neighbors', \n",
    "                    'mean_test_score', 'std_test_score', 'mean_train_score', 'std_train_score']\n",
    "\n",
    "cv_results_knn = pd.DataFrame(grid_search_knn.cv_results_)\n",
    "cv_results_knn.loc[:, knn_cols_to_view].sort_values('rank_test_score').head(3)"
   ]
  },
  {
   "cell_type": "code",
   "execution_count": 13,
   "id": "7836da03",
   "metadata": {},
   "outputs": [
    {
     "data": {
      "text/plain": [
       "KNeighborsClassifier()"
      ]
     },
     "execution_count": 13,
     "metadata": {},
     "output_type": "execute_result"
    },
    {
     "name": "stdout",
     "output_type": "stream",
     "text": [
      "ROC AUC: TEST 0.886973\n",
      "\n"
     ]
    }
   ],
   "source": [
    "best_model_knn = grid_search_knn.best_estimator_\n",
    "best_model_knn\n",
    "y_test_score_knn = best_model_knn.predict_proba(X_test)[:, 1]\n",
    "print(f\"ROC AUC: TEST {roc_auc_score(y_test, y_test_score_knn):.6f}\\n\")"
   ]
  },
  {
   "cell_type": "code",
   "execution_count": 14,
   "id": "46250cbd",
   "metadata": {},
   "outputs": [],
   "source": [
    "with open(f'model/{encoding_type}/CarryAway_GridSearchCV_KNN.pickle', \"wb\") as f:\n",
    "    pickle.dump(grid_search_knn,f)\n",
    "    \n",
    "with open(f'model/{encoding_type}/CarryAway_best_model_KNN.pickle', \"wb\") as f:\n",
    "    pickle.dump(best_model_knn,f)"
   ]
  },
  {
   "cell_type": "markdown",
   "id": "c9a5a5ed",
   "metadata": {},
   "source": [
    "# Logistic regression"
   ]
  },
  {
   "cell_type": "code",
   "execution_count": 15,
   "id": "98cfafe2",
   "metadata": {},
   "outputs": [
    {
     "data": {
      "text/plain": [
       "LogisticRegression(random_state=42, solver='liblinear')"
      ]
     },
     "execution_count": 15,
     "metadata": {},
     "output_type": "execute_result"
    },
    {
     "name": "stdout",
     "output_type": "stream",
     "text": [
      "5-fold CV ROC AUC: mean: 0.863953 std dev:0.017614\n",
      "ROC AUC: TEST 0.859949850483282\n",
      "\n"
     ]
    },
    {
     "data": {
      "text/plain": [
       "LogisticRegression(random_state=42)"
      ]
     },
     "execution_count": 15,
     "metadata": {},
     "output_type": "execute_result"
    },
    {
     "name": "stdout",
     "output_type": "stream",
     "text": [
      "5-fold CV ROC AUC: mean: 0.863766 std dev:0.017054\n",
      "ROC AUC: TEST 0.8599413792811339\n",
      "\n"
     ]
    }
   ],
   "source": [
    "## standardization\n",
    "std_scaler=StandardScaler().fit(X_train) ## first fit the model on the training data\n",
    "\n",
    "## now std scaler transform\n",
    "X_train_scaled = std_scaler.transform(X_train)\n",
    "X_test_scaled = std_scaler.transform(X_test)\n",
    "\n",
    "## apply regression\n",
    "liblinear_model = LogisticRegression(solver='liblinear', random_state=42)\n",
    "liblinear_model.fit(X_train_scaled, y_train)   # train model by fitting to training data\n",
    "\n",
    "## use cv to assess generalization\n",
    "cross_val_scores = cross_val_score(liblinear_model, X_train, y_train, scoring='roc_auc', cv=5)\n",
    "print(f\"5-fold CV ROC AUC: mean: {np.mean(cross_val_scores):.6f} std dev:{np.std(cross_val_scores):.6f}\")\n",
    "    \n",
    "# use trained model to get predicted target var\n",
    "y_test_score_ll = liblinear_model.predict_proba(X_test_scaled)[:, 1]\n",
    "\n",
    "print(f\"ROC AUC: TEST {roc_auc_score(y_test, y_test_score_ll)}\\n\")\n",
    "\n",
    "## apply regression again, using a different solver\n",
    "lbfgs_model = LogisticRegression(solver='lbfgs', random_state=42)\n",
    "lbfgs_model.fit(X_train_scaled, y_train)   # train model by fitting to training data\n",
    "\n",
    "## use cv to assess generalization\n",
    "cross_val_scores = cross_val_score(lbfgs_model, X_train, y_train, scoring='roc_auc', cv=5)\n",
    "print(f\"5-fold CV ROC AUC: mean: {np.mean(cross_val_scores):.6f} std dev:{np.std(cross_val_scores):.6f}\")\n",
    "\n",
    "# use trained model to get predicted target var\n",
    "y_test_score_lb = lbfgs_model.predict_proba(X_test_scaled)[:, 1]\n",
    "\n",
    "print(f\"ROC AUC: TEST {roc_auc_score(y_test, y_test_score_lb)}\\n\")"
   ]
  },
  {
   "cell_type": "code",
   "execution_count": 16,
   "id": "cf908cad",
   "metadata": {},
   "outputs": [],
   "source": [
    "## both LR models have essentially the same score, just save one\n",
    "with open(f'model/{encoding_type}/CarryAway_best_model_LogisticRegression.pickle', \"wb\") as f:\n",
    "    pickle.dump(liblinear_model,f)"
   ]
  }
 ],
 "metadata": {
  "kernelspec": {
   "display_name": "Python 3 (ipykernel)",
   "language": "python",
   "name": "python3"
  },
  "language_info": {
   "codemirror_mode": {
    "name": "ipython",
    "version": 3
   },
   "file_extension": ".py",
   "mimetype": "text/x-python",
   "name": "python",
   "nbconvert_exporter": "python",
   "pygments_lexer": "ipython3",
   "version": "3.9.7"
  }
 },
 "nbformat": 4,
 "nbformat_minor": 5
}
