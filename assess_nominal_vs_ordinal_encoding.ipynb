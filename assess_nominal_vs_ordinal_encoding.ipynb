{
 "cells": [
  {
   "cell_type": "code",
   "execution_count": 60,
   "id": "0206e4a7",
   "metadata": {},
   "outputs": [],
   "source": [
    "import numpy as np\n",
    "import pandas as pd\n",
    "import warnings\n",
    "warnings.filterwarnings(\"ignore\")\n",
    "\n",
    "from imblearn.over_sampling import SMOTE\n",
    "\n",
    "from sklearn.tree import DecisionTreeClassifier\n",
    "from sklearn.ensemble import RandomForestClassifier\n",
    "\n",
    "from sklearn.model_selection import cross_val_score\n",
    "from sklearn.model_selection import train_test_split\n",
    "\n",
    "from sklearn.metrics import confusion_matrix, make_scorer, roc_auc_score\n",
    "from sklearn.metrics import accuracy_score, precision_score, recall_score\n",
    "\n",
    "## to make it possible to display multiple output inside one cell \n",
    "from IPython.core.interactiveshell import InteractiveShell\n",
    "InteractiveShell.ast_node_interactivity = \"all\""
   ]
  },
  {
   "cell_type": "markdown",
   "id": "91e150c3",
   "metadata": {},
   "source": [
    "# Assessment Overview\n",
    "\n",
    "Investigation into the effect of encoding 'time', 'age', 'education', 'income', and/or 'temperature' as nominal instead of ordinal.\n",
    "\n",
    "I'm running this assessment using the 'best model' params from the initial testing (with the 5 features encoded as ordinal) to assess whether the nominal encoding improves anything.\n",
    "\n",
    "For all coupon types the comparison includes:\n",
    "* data_encoded.csv: all 5 as ordinal\n",
    "* data_encoded-all5_nominal.csv: all 5 as nominal\n",
    "* 5 x data_encoded-\\<featureName>\\_nominal.csv: encoding only one of the features as nominal\n",
    "\n",
    "\n",
    "Plus an encoding of 2-4 features as nominal (feature subset selected based on the single feature as nominal test scores for that specific coupon type):\n",
    "* data_encoded-\\<letterCode>\\_nominal.csv\n",
    "\n",
    "using letterCodes:\n",
    "* A: age\n",
    "* E: education\n",
    "* I: income\n",
    "* M: time\n",
    "* P: temperature\n",
    "\n",
    "## Best Result\n",
    "based on test roc auc score\n",
    "\n",
    "```\n",
    "Restaurant(20-50): data/Restaurant20To50_data_encoded-AEIP_nominal.csv\n",
    "    5-fold CV ROC AUC: mean: 0.783592 std dev:0.018793\n",
    "    ROC AUC: TEST 0.814635\n",
    "\n",
    "Restaurant(<20): data/RestaurantLessThan20_data_encoded-all5_nominal.csv\n",
    "    5-fold CV ROC AUC: mean: 0.927935 std dev:0.005978\n",
    "    ROC AUC: TEST 0.940948\n",
    "\n",
    "Coffee House: data/CoffeeHouse_data_encoded-age_nominal.csv\n",
    "    5-fold CV ROC AUC: mean: 0.838130 std dev:0.010756\n",
    "    ROC AUC: TEST 0.864536\n",
    "\n",
    "Bar: data/Bar_data_encoded-all5_nominal.csv\n",
    "    5-fold CV ROC AUC: mean: 0.893960 std dev:0.003912\n",
    "    ROC AUC: TEST 0.905959\n",
    "\n",
    "Carry out & Take away: data/CarryAway_data_encoded-time_nominal.csv\n",
    "    5-fold CV ROC AUC: mean: 0.923258 std dev:0.009514\n",
    "    ROC AUC: TEST 0.933429\n",
    "```             "
   ]
  },
  {
   "cell_type": "code",
   "execution_count": 73,
   "id": "d4b3c3d1",
   "metadata": {},
   "outputs": [],
   "source": [
    "def eval_roc_auc_cv_scores(infilename, model, verbose=False):\n",
    "    print(infilename)\n",
    "    ## load data, split Xy, upsample with SMOTE, split train/test\n",
    "    data = pd.read_csv(infilename)\n",
    "\n",
    "    ## define X and y \n",
    "    X = data.drop('Y', axis=1).reset_index(drop=True)\n",
    "    y = data.Y\n",
    "\n",
    "    ## Handle imbalance\n",
    "    smote = SMOTE(random_state=42)\n",
    "\n",
    "    if verbose:\n",
    "        orig_vc = y.value_counts()\n",
    "        print(f\"Orig: {100* orig_vc[1]/(orig_vc.sum()):.2f}% Yes\")\n",
    "\n",
    "    X_sm, y_sm = smote.fit_resample(X, y)\n",
    "\n",
    "    ## Data splitting train/test\n",
    "    X_train, X_test, y_train, y_test = train_test_split(X_sm, y_sm, test_size=0.20, random_state=42)\n",
    "\n",
    "    if verbose:\n",
    "        print(\"After SMOTE upsampling\")\n",
    "        train_vc = y_train.value_counts()\n",
    "        print(f\"\\tNum training samples: {X_train.shape[0]:,} ({100* train_vc[1]/(train_vc.sum()):.2f}% yes)\")\n",
    "        test_vc = y_test.value_counts()\n",
    "        print(f\"\\tNum testing samples:  {X_test.shape[0]:,} ({100* test_vc[1]/(test_vc.sum()):.2f}% yes)\")\n",
    "    \n",
    "    ## fit model on full training data, cross validate, then assess score on test data\n",
    "    model.fit(X_train, y_train)\n",
    "    cross_val_scores = cross_val_score(model, X_train, y_train, scoring='roc_auc', cv=5)\n",
    "    print(f\"5-fold CV ROC AUC: mean: {np.mean(cross_val_scores):.6f} std dev:{np.std(cross_val_scores):.6f}\")\n",
    "\n",
    "    y_test_score = model.predict_proba(X_test)[:, 1]\n",
    "    print(f\"ROC AUC: TEST {roc_auc_score(y_test, y_test_score):.6f}\\n\")\n",
    "    \n",
    "    return\n"
   ]
  },
  {
   "cell_type": "code",
   "execution_count": 79,
   "id": "836990b2",
   "metadata": {},
   "outputs": [],
   "source": [
    "filename_endings = ['', '-all5_nominal', '-age_nominal', '-education_nominal', '-income_nominal', \n",
    "                    '-temperature_nominal', '-time_nominal']"
   ]
  },
  {
   "cell_type": "markdown",
   "id": "c9a1341d",
   "metadata": {},
   "source": [
    "## Expensive Restaurant"
   ]
  },
  {
   "cell_type": "code",
   "execution_count": 88,
   "id": "b91ce78c",
   "metadata": {},
   "outputs": [
    {
     "name": "stdout",
     "output_type": "stream",
     "text": [
      "data/Restaurant20To50_data_encoded-AEIP_nominal.csv\n",
      "5-fold CV ROC AUC: mean: 0.783592 std dev:0.018793\n",
      "ROC AUC: TEST 0.814635\n",
      "\n"
     ]
    }
   ],
   "source": [
    "## testings coupon-specific combo created based on iterative output below\n",
    "eval_roc_auc_cv_scores('data/Restaurant20To50_data_encoded-AEIP_nominal.csv',\n",
    "                     RandomForestClassifier(max_features=5, min_samples_split=3, n_estimators=150, random_state=42))  "
   ]
  },
  {
   "cell_type": "code",
   "execution_count": 80,
   "id": "5ee6dbe9",
   "metadata": {},
   "outputs": [
    {
     "name": "stdout",
     "output_type": "stream",
     "text": [
      "data/Restaurant20To50_data_encoded.csv\n",
      "5-fold CV ROC AUC: mean: 0.783701 std dev:0.014206\n",
      "ROC AUC: TEST 0.794125\n",
      "\n",
      "data/Restaurant20To50_data_encoded-all5_nominal.csv\n",
      "5-fold CV ROC AUC: mean: 0.770888 std dev:0.012906\n",
      "ROC AUC: TEST 0.797355\n",
      "\n",
      "data/Restaurant20To50_data_encoded-age_nominal.csv\n",
      "5-fold CV ROC AUC: mean: 0.774159 std dev:0.016381\n",
      "ROC AUC: TEST 0.797427\n",
      "\n",
      "data/Restaurant20To50_data_encoded-education_nominal.csv\n",
      "5-fold CV ROC AUC: mean: 0.770946 std dev:0.016234\n",
      "ROC AUC: TEST 0.806560\n",
      "\n",
      "data/Restaurant20To50_data_encoded-income_nominal.csv\n",
      "5-fold CV ROC AUC: mean: 0.781243 std dev:0.013589\n",
      "ROC AUC: TEST 0.802810\n",
      "\n",
      "data/Restaurant20To50_data_encoded-temperature_nominal.csv\n",
      "5-fold CV ROC AUC: mean: 0.776397 std dev:0.011976\n",
      "ROC AUC: TEST 0.795291\n",
      "\n",
      "data/Restaurant20To50_data_encoded-time_nominal.csv\n",
      "5-fold CV ROC AUC: mean: 0.763534 std dev:0.018145\n",
      "ROC AUC: TEST 0.791631\n",
      "\n"
     ]
    }
   ],
   "source": [
    "for fne in filename_endings:\n",
    "    eval_roc_auc_cv_scores(f'data/Restaurant20To50_data_encoded{fne}.csv', \n",
    "               RandomForestClassifier(max_features=5, min_samples_split=3, n_estimators=150, random_state=42))"
   ]
  },
  {
   "cell_type": "markdown",
   "id": "798b81c4",
   "metadata": {},
   "source": [
    "## Cheap Restaurant"
   ]
  },
  {
   "cell_type": "code",
   "execution_count": 87,
   "id": "e383fb55",
   "metadata": {},
   "outputs": [
    {
     "name": "stdout",
     "output_type": "stream",
     "text": [
      "data/RestaurantLessThan20_data_encoded-EM_nominal.csv\n",
      "5-fold CV ROC AUC: mean: 0.926073 std dev:0.006593\n",
      "ROC AUC: TEST 0.936222\n",
      "\n"
     ]
    }
   ],
   "source": [
    "## testings coupon-specific combo created based on iterative output below\n",
    "eval_roc_auc_cv_scores('data/RestaurantLessThan20_data_encoded-EM_nominal.csv',\n",
    "                       RandomForestClassifier(max_features=2, n_estimators=200, random_state=42))"
   ]
  },
  {
   "cell_type": "code",
   "execution_count": 81,
   "id": "00e01d38",
   "metadata": {},
   "outputs": [
    {
     "name": "stdout",
     "output_type": "stream",
     "text": [
      "data/RestaurantLessThan20_data_encoded.csv\n",
      "5-fold CV ROC AUC: mean: 0.922418 std dev:0.005040\n",
      "ROC AUC: TEST 0.937237\n",
      "\n",
      "data/RestaurantLessThan20_data_encoded-all5_nominal.csv\n",
      "5-fold CV ROC AUC: mean: 0.927935 std dev:0.005978\n",
      "ROC AUC: TEST 0.940948\n",
      "\n",
      "data/RestaurantLessThan20_data_encoded-age_nominal.csv\n",
      "5-fold CV ROC AUC: mean: 0.922395 std dev:0.005139\n",
      "ROC AUC: TEST 0.935986\n",
      "\n",
      "data/RestaurantLessThan20_data_encoded-education_nominal.csv\n",
      "5-fold CV ROC AUC: mean: 0.924275 std dev:0.006254\n",
      "ROC AUC: TEST 0.937331\n",
      "\n",
      "data/RestaurantLessThan20_data_encoded-income_nominal.csv\n",
      "5-fold CV ROC AUC: mean: 0.922398 std dev:0.001559\n",
      "ROC AUC: TEST 0.935419\n",
      "\n",
      "data/RestaurantLessThan20_data_encoded-temperature_nominal.csv\n",
      "5-fold CV ROC AUC: mean: 0.920618 std dev:0.007301\n",
      "ROC AUC: TEST 0.937195\n",
      "\n",
      "data/RestaurantLessThan20_data_encoded-time_nominal.csv\n",
      "5-fold CV ROC AUC: mean: 0.925179 std dev:0.006403\n",
      "ROC AUC: TEST 0.937650\n",
      "\n"
     ]
    }
   ],
   "source": [
    "for fne in filename_endings:\n",
    "    eval_roc_auc_cv_scores(f'data/RestaurantLessThan20_data_encoded{fne}.csv', \n",
    "               RandomForestClassifier(max_features=2, n_estimators=200, random_state=42))"
   ]
  },
  {
   "cell_type": "markdown",
   "id": "d757e064",
   "metadata": {},
   "source": [
    "## Coffee House"
   ]
  },
  {
   "cell_type": "code",
   "execution_count": 86,
   "id": "463dbf2d",
   "metadata": {},
   "outputs": [
    {
     "name": "stdout",
     "output_type": "stream",
     "text": [
      "data/CoffeeHouse_data_encoded-AEIM_nominal.csv\n",
      "5-fold CV ROC AUC: mean: 0.836473 std dev:0.016430\n",
      "ROC AUC: TEST 0.861901\n",
      "\n"
     ]
    }
   ],
   "source": [
    "## testings coupon-specific combo created based on iterative output below\n",
    "eval_roc_auc_cv_scores('data/CoffeeHouse_data_encoded-AEIM_nominal.csv',\n",
    "                       RandomForestClassifier(max_features=12, n_estimators=200, random_state=42))"
   ]
  },
  {
   "cell_type": "code",
   "execution_count": 82,
   "id": "4685d17d",
   "metadata": {},
   "outputs": [
    {
     "name": "stdout",
     "output_type": "stream",
     "text": [
      "data/CoffeeHouse_data_encoded.csv\n",
      "5-fold CV ROC AUC: mean: 0.841308 std dev:0.013106\n",
      "ROC AUC: TEST 0.857360\n",
      "\n",
      "data/CoffeeHouse_data_encoded-all5_nominal.csv\n",
      "5-fold CV ROC AUC: mean: 0.838216 std dev:0.014396\n",
      "ROC AUC: TEST 0.858125\n",
      "\n",
      "data/CoffeeHouse_data_encoded-age_nominal.csv\n",
      "5-fold CV ROC AUC: mean: 0.838130 std dev:0.010756\n",
      "ROC AUC: TEST 0.864536\n",
      "\n",
      "data/CoffeeHouse_data_encoded-education_nominal.csv\n",
      "5-fold CV ROC AUC: mean: 0.838859 std dev:0.011429\n",
      "ROC AUC: TEST 0.857800\n",
      "\n",
      "data/CoffeeHouse_data_encoded-income_nominal.csv\n",
      "5-fold CV ROC AUC: mean: 0.840551 std dev:0.012217\n",
      "ROC AUC: TEST 0.861343\n",
      "\n",
      "data/CoffeeHouse_data_encoded-temperature_nominal.csv\n",
      "5-fold CV ROC AUC: mean: 0.837986 std dev:0.013033\n",
      "ROC AUC: TEST 0.857145\n",
      "\n",
      "data/CoffeeHouse_data_encoded-time_nominal.csv\n",
      "5-fold CV ROC AUC: mean: 0.834738 std dev:0.014890\n",
      "ROC AUC: TEST 0.861518\n",
      "\n"
     ]
    }
   ],
   "source": [
    "for fne in filename_endings:\n",
    "    eval_roc_auc_cv_scores(f'data/CoffeeHouse_data_encoded{fne}.csv', \n",
    "               RandomForestClassifier(max_features=12, n_estimators=200, random_state=42))"
   ]
  },
  {
   "cell_type": "markdown",
   "id": "07b70b00",
   "metadata": {},
   "source": [
    "## Bar"
   ]
  },
  {
   "cell_type": "code",
   "execution_count": null,
   "id": "39922c93",
   "metadata": {},
   "outputs": [],
   "source": [
    "## best coupon-specific combo is all 5, so there is no new subset to test here"
   ]
  },
  {
   "cell_type": "code",
   "execution_count": 83,
   "id": "bd4047bc",
   "metadata": {},
   "outputs": [
    {
     "name": "stdout",
     "output_type": "stream",
     "text": [
      "data/Bar_data_encoded.csv\n",
      "5-fold CV ROC AUC: mean: 0.889618 std dev:0.005409\n",
      "ROC AUC: TEST 0.888474\n",
      "\n",
      "data/Bar_data_encoded-all5_nominal.csv\n",
      "5-fold CV ROC AUC: mean: 0.893960 std dev:0.003912\n",
      "ROC AUC: TEST 0.905959\n",
      "\n",
      "data/Bar_data_encoded-age_nominal.csv\n",
      "5-fold CV ROC AUC: mean: 0.885884 std dev:0.004736\n",
      "ROC AUC: TEST 0.891574\n",
      "\n",
      "data/Bar_data_encoded-education_nominal.csv\n",
      "5-fold CV ROC AUC: mean: 0.889386 std dev:0.009265\n",
      "ROC AUC: TEST 0.893384\n",
      "\n",
      "data/Bar_data_encoded-income_nominal.csv\n",
      "5-fold CV ROC AUC: mean: 0.888137 std dev:0.002029\n",
      "ROC AUC: TEST 0.895804\n",
      "\n",
      "data/Bar_data_encoded-temperature_nominal.csv\n",
      "5-fold CV ROC AUC: mean: 0.888907 std dev:0.003771\n",
      "ROC AUC: TEST 0.899477\n",
      "\n",
      "data/Bar_data_encoded-time_nominal.csv\n",
      "5-fold CV ROC AUC: mean: 0.885075 std dev:0.004668\n",
      "ROC AUC: TEST 0.891565\n",
      "\n"
     ]
    }
   ],
   "source": [
    "for fne in filename_endings:\n",
    "    eval_roc_auc_cv_scores(f'data/Bar_data_encoded{fne}.csv', \n",
    "               RandomForestClassifier(max_features=11, n_estimators=200, random_state=42))"
   ]
  },
  {
   "cell_type": "markdown",
   "id": "de5f50b3",
   "metadata": {},
   "source": [
    "## CarryAway"
   ]
  },
  {
   "cell_type": "code",
   "execution_count": 85,
   "id": "cea4d1a7",
   "metadata": {},
   "outputs": [
    {
     "name": "stdout",
     "output_type": "stream",
     "text": [
      "data/CarryAway_data_encoded-APM_nominal.csv\n",
      "5-fold CV ROC AUC: mean: 0.922662 std dev:0.010854\n",
      "ROC AUC: TEST 0.932795\n",
      "\n"
     ]
    }
   ],
   "source": [
    "## testings coupon-specific combo created based on iterative output below\n",
    "eval_roc_auc_cv_scores('data/CarryAway_data_encoded-APM_nominal.csv',\n",
    "                       RandomForestClassifier(max_features=5, n_estimators=150, random_state=42))"
   ]
  },
  {
   "cell_type": "code",
   "execution_count": 84,
   "id": "6706297a",
   "metadata": {},
   "outputs": [
    {
     "name": "stdout",
     "output_type": "stream",
     "text": [
      "data/CarryAway_data_encoded.csv\n",
      "5-fold CV ROC AUC: mean: 0.927542 std dev:0.009962\n",
      "ROC AUC: TEST 0.930397\n",
      "\n",
      "data/CarryAway_data_encoded-all5_nominal.csv\n",
      "5-fold CV ROC AUC: mean: 0.924179 std dev:0.010087\n",
      "ROC AUC: TEST 0.931305\n",
      "\n",
      "data/CarryAway_data_encoded-age_nominal.csv\n",
      "5-fold CV ROC AUC: mean: 0.930741 std dev:0.009582\n",
      "ROC AUC: TEST 0.932270\n",
      "\n",
      "data/CarryAway_data_encoded-education_nominal.csv\n",
      "5-fold CV ROC AUC: mean: 0.925852 std dev:0.007429\n",
      "ROC AUC: TEST 0.925349\n",
      "\n",
      "data/CarryAway_data_encoded-income_nominal.csv\n",
      "5-fold CV ROC AUC: mean: 0.930701 std dev:0.009271\n",
      "ROC AUC: TEST 0.923088\n",
      "\n",
      "data/CarryAway_data_encoded-temperature_nominal.csv\n",
      "5-fold CV ROC AUC: mean: 0.927841 std dev:0.007716\n",
      "ROC AUC: TEST 0.933344\n",
      "\n",
      "data/CarryAway_data_encoded-time_nominal.csv\n",
      "5-fold CV ROC AUC: mean: 0.923258 std dev:0.009514\n",
      "ROC AUC: TEST 0.933429\n",
      "\n"
     ]
    }
   ],
   "source": [
    "for fne in filename_endings:\n",
    "    eval_roc_auc_cv_scores(f'data/CarryAway_data_encoded{fne}.csv', \n",
    "               RandomForestClassifier(max_features=5, n_estimators=150, random_state=42))"
   ]
  }
 ],
 "metadata": {
  "kernelspec": {
   "display_name": "Python 3 (ipykernel)",
   "language": "python",
   "name": "python3"
  },
  "language_info": {
   "codemirror_mode": {
    "name": "ipython",
    "version": 3
   },
   "file_extension": ".py",
   "mimetype": "text/x-python",
   "name": "python",
   "nbconvert_exporter": "python",
   "pygments_lexer": "ipython3",
   "version": "3.9.7"
  }
 },
 "nbformat": 4,
 "nbformat_minor": 5
}
