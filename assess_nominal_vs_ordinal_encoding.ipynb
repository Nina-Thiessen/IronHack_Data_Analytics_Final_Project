{
 "cells": [
  {
   "cell_type": "code",
   "execution_count": 1,
   "id": "617f91df",
   "metadata": {},
   "outputs": [],
   "source": [
    "import numpy as np\n",
    "import pandas as pd\n",
    "import warnings\n",
    "warnings.filterwarnings(\"ignore\")\n",
    "\n",
    "import couponProjectUtils as proj_utils\n",
    "\n",
    "from imblearn.over_sampling import SMOTE\n",
    "\n",
    "from sklearn.tree import DecisionTreeClassifier\n",
    "from sklearn.ensemble import RandomForestClassifier\n",
    "\n",
    "from sklearn.model_selection import cross_val_score\n",
    "from sklearn.model_selection import train_test_split\n",
    "\n",
    "from sklearn.metrics import confusion_matrix, roc_auc_score\n",
    "from sklearn.metrics import accuracy_score, precision_score, recall_score\n",
    "\n",
    "## to make it possible to display multiple output inside one cell \n",
    "from IPython.core.interactiveshell import InteractiveShell\n",
    "InteractiveShell.ast_node_interactivity = \"all\""
   ]
  },
  {
   "cell_type": "markdown",
   "id": "9f17baa1",
   "metadata": {},
   "source": [
    "# Assessment Overview\n",
    "\n",
    "Investigation into the effect of encoding 'time', 'age', 'education', 'income', and/or 'temperature' as nominal instead of ordinal.\n",
    "\n",
    "I'm running this assessment using the 'best model' params from the initial testing (with the 5 features encoded as ordinal) to assess whether the nominal encoding improves anything.\n",
    "\n",
    "For all coupon types the comparison includes:\n",
    "* data_encoded.csv: all 5 as ordinal\n",
    "* data_encoded-all5_nominal.csv: all 5 as nominal\n",
    "* 5 x data_encoded-\\<featureName>\\_nominal.csv: encoding only one of the features as nominal\n",
    "\n",
    "\n",
    "Plus an encoding of 2-4 features as nominal (feature subset selected based on the single feature as nominal test scores for that specific coupon type):\n",
    "* data_encoded-\\<letterCode>\\_nominal.csv\n",
    "\n",
    "using letterCodes:\n",
    "* A: age\n",
    "* E: education\n",
    "* I: income\n",
    "* M: time\n",
    "* P: temperature\n",
    "\n",
    "## Best Result\n",
    "based on test roc auc score\n",
    "\n",
    "```\n",
    "Restaurant(20-50): data/Restaurant20To50_data_encoded-age_nominal.csv\n",
    "    5-fold CV ROC AUC: mean: 0.764292 std dev:0.014494\n",
    "    ROC AUC: TEST 0.776617\n",
    "\n",
    "Restaurant(<20): data/RestaurantLessThan20_data_encoded-time_nominal.csv\n",
    "    5-fold CV ROC AUC: mean: 0.920792 std dev:0.010820\n",
    "    ROC AUC: TEST 0.946881\n",
    "\n",
    "Coffee House: data/CoffeeHouse_data_encoded-AI_nominal.csv\n",
    "    5-fold CV ROC AUC: mean: 0.848034 std dev:0.014650\n",
    "    ROC AUC: TEST 0.861322\n",
    "\n",
    "Bar: data/Bar_data_encoded-all5_nominal.csv\n",
    "    5-fold CV ROC AUC: mean: 0.894461 std dev:0.012684\n",
    "    ROC AUC: TEST 0.910159\n",
    "\n",
    "Carry out & Take away: data/CarryAway_data_encoded-temperature_nominal.csv\n",
    "    5-fold CV ROC AUC: mean: 0.917464 std dev:0.013480\n",
    "    ROC AUC: TEST 0.921896\n",
    "```             "
   ]
  },
  {
   "cell_type": "code",
   "execution_count": 2,
   "id": "2f6d285c",
   "metadata": {},
   "outputs": [],
   "source": [
    "def eval_roc_auc_cv_scores(infilename, model, verbose=False):\n",
    "    print(infilename)\n",
    "    ## load data, split Xy, upsample with SMOTE, split train/test\n",
    "    data = pd.read_csv(infilename)\n",
    "\n",
    "    ## define X and y \n",
    "    X = data.drop('Y', axis=1).reset_index(drop=True)\n",
    "    y = data.Y\n",
    "\n",
    "    ## Handle imbalance\n",
    "    smote = SMOTE(random_state=42)\n",
    "\n",
    "    if verbose:\n",
    "        orig_vc = y.value_counts()\n",
    "        print(f\"Orig: {100* orig_vc[1]/(orig_vc.sum()):.2f}% Yes\")\n",
    "\n",
    "    X_sm, y_sm = smote.fit_resample(X, y)\n",
    "\n",
    "    ## Data splitting train/test\n",
    "    X_train, X_test, y_train, y_test = train_test_split(X_sm, y_sm, test_size=0.20, random_state=42)\n",
    "\n",
    "    if verbose:\n",
    "        print(\"After SMOTE upsampling\")\n",
    "        train_vc = y_train.value_counts()\n",
    "        print(f\"\\tNum training samples: {X_train.shape[0]:,} ({100* train_vc[1]/(train_vc.sum()):.2f}% yes)\")\n",
    "        test_vc = y_test.value_counts()\n",
    "        print(f\"\\tNum testing samples:  {X_test.shape[0]:,} ({100* test_vc[1]/(test_vc.sum()):.2f}% yes)\")\n",
    "    \n",
    "    ## Replace the unknown values (previously encoded as 0.0) using the most frequent value seen in the TRAINING data\n",
    "    ## Do NOT save the mode info to file\n",
    "    X_train, X_test, _ = proj_utils.replace_unknown_with_mode(X_train, X_test, outfile_prefix=None)\n",
    "\n",
    "    ## fit model on full training data, cross validate, then assess score on test data\n",
    "    model.fit(X_train, y_train)\n",
    "    cross_val_scores = cross_val_score(model, X_train, y_train, scoring='roc_auc', cv=5)\n",
    "    print(f\"5-fold CV ROC AUC: mean: {np.mean(cross_val_scores):.6f} std dev:{np.std(cross_val_scores):.6f}\")\n",
    "\n",
    "    y_test_score = model.predict_proba(X_test)[:, 1]\n",
    "    print(f\"ROC AUC: TEST {roc_auc_score(y_test, y_test_score):.6f}\\n\")\n",
    "    \n",
    "    return\n"
   ]
  },
  {
   "cell_type": "code",
   "execution_count": 3,
   "id": "46eac15d",
   "metadata": {},
   "outputs": [],
   "source": [
    "filename_endings = ['', '-all5_nominal', '-age_nominal', '-education_nominal', '-income_nominal', \n",
    "                    '-temperature_nominal', '-time_nominal']"
   ]
  },
  {
   "cell_type": "markdown",
   "id": "3bca116e",
   "metadata": {},
   "source": [
    "## Expensive Restaurant"
   ]
  },
  {
   "cell_type": "code",
   "execution_count": 4,
   "id": "b9a0146a",
   "metadata": {},
   "outputs": [
    {
     "name": "stdout",
     "output_type": "stream",
     "text": [
      "data/Restaurant20To50_data_encoded.csv\n",
      "5-fold CV ROC AUC: mean: 0.778086 std dev:0.010545\n",
      "ROC AUC: TEST 0.762645\n",
      "\n",
      "data/Restaurant20To50_data_encoded-all5_nominal.csv\n",
      "5-fold CV ROC AUC: mean: 0.770785 std dev:0.012229\n",
      "ROC AUC: TEST 0.768048\n",
      "\n",
      "data/Restaurant20To50_data_encoded-age_nominal.csv\n",
      "5-fold CV ROC AUC: mean: 0.764292 std dev:0.014494\n",
      "ROC AUC: TEST 0.776617\n",
      "\n",
      "data/Restaurant20To50_data_encoded-education_nominal.csv\n",
      "5-fold CV ROC AUC: mean: 0.768880 std dev:0.010679\n",
      "ROC AUC: TEST 0.765756\n",
      "\n",
      "data/Restaurant20To50_data_encoded-income_nominal.csv\n",
      "5-fold CV ROC AUC: mean: 0.774084 std dev:0.020151\n",
      "ROC AUC: TEST 0.757678\n",
      "\n",
      "data/Restaurant20To50_data_encoded-temperature_nominal.csv\n",
      "5-fold CV ROC AUC: mean: 0.771956 std dev:0.023648\n",
      "ROC AUC: TEST 0.770031\n",
      "\n",
      "data/Restaurant20To50_data_encoded-time_nominal.csv\n",
      "5-fold CV ROC AUC: mean: 0.768588 std dev:0.013430\n",
      "ROC AUC: TEST 0.763700\n",
      "\n"
     ]
    }
   ],
   "source": [
    "for fne in filename_endings:\n",
    "    eval_roc_auc_cv_scores(f'data/Restaurant20To50_data_encoded{fne}.csv', \n",
    "               RandomForestClassifier(max_features=4, min_samples_split=3, n_estimators=150, random_state=42))"
   ]
  },
  {
   "cell_type": "code",
   "execution_count": 9,
   "id": "8193b3de",
   "metadata": {},
   "outputs": [
    {
     "name": "stdout",
     "output_type": "stream",
     "text": [
      "data/Restaurant20To50_data_encoded-AEPM_nominal.csv\n",
      "5-fold CV ROC AUC: mean: 0.762304 std dev:0.007365\n",
      "ROC AUC: TEST 0.770814\n",
      "\n"
     ]
    }
   ],
   "source": [
    "## testings coupon-specific combo created based on iterative output above\n",
    "eval_roc_auc_cv_scores('data/Restaurant20To50_data_encoded-AEPM_nominal.csv',\n",
    "                     RandomForestClassifier(max_features=4, min_samples_split=3, n_estimators=150, random_state=42))  "
   ]
  },
  {
   "cell_type": "markdown",
   "id": "2b9e5592",
   "metadata": {},
   "source": [
    "## Cheap Restaurant"
   ]
  },
  {
   "cell_type": "code",
   "execution_count": 5,
   "id": "db31b456",
   "metadata": {},
   "outputs": [
    {
     "name": "stdout",
     "output_type": "stream",
     "text": [
      "data/RestaurantLessThan20_data_encoded.csv\n",
      "5-fold CV ROC AUC: mean: 0.923149 std dev:0.011154\n",
      "ROC AUC: TEST 0.944040\n",
      "\n",
      "data/RestaurantLessThan20_data_encoded-all5_nominal.csv\n",
      "5-fold CV ROC AUC: mean: 0.925323 std dev:0.012389\n",
      "ROC AUC: TEST 0.944175\n",
      "\n",
      "data/RestaurantLessThan20_data_encoded-age_nominal.csv\n",
      "5-fold CV ROC AUC: mean: 0.922121 std dev:0.011896\n",
      "ROC AUC: TEST 0.940158\n",
      "\n",
      "data/RestaurantLessThan20_data_encoded-education_nominal.csv\n",
      "5-fold CV ROC AUC: mean: 0.924542 std dev:0.008746\n",
      "ROC AUC: TEST 0.946713\n",
      "\n",
      "data/RestaurantLessThan20_data_encoded-income_nominal.csv\n",
      "5-fold CV ROC AUC: mean: 0.922050 std dev:0.009540\n",
      "ROC AUC: TEST 0.945118\n",
      "\n",
      "data/RestaurantLessThan20_data_encoded-temperature_nominal.csv\n",
      "5-fold CV ROC AUC: mean: 0.921174 std dev:0.011974\n",
      "ROC AUC: TEST 0.944808\n",
      "\n",
      "data/RestaurantLessThan20_data_encoded-time_nominal.csv\n",
      "5-fold CV ROC AUC: mean: 0.920792 std dev:0.010820\n",
      "ROC AUC: TEST 0.946881\n",
      "\n"
     ]
    }
   ],
   "source": [
    "for fne in filename_endings:\n",
    "    eval_roc_auc_cv_scores(f'data/RestaurantLessThan20_data_encoded{fne}.csv', \n",
    "               RandomForestClassifier(max_features=2, min_samples_split=4, n_estimators=200, random_state=42))"
   ]
  },
  {
   "cell_type": "code",
   "execution_count": 10,
   "id": "c32961bc",
   "metadata": {},
   "outputs": [
    {
     "name": "stdout",
     "output_type": "stream",
     "text": [
      "data/RestaurantLessThan20_data_encoded-EIPM_nominal.csv\n",
      "5-fold CV ROC AUC: mean: 0.922972 std dev:0.010381\n",
      "ROC AUC: TEST 0.945725\n",
      "\n"
     ]
    }
   ],
   "source": [
    "## testings coupon-specific combo created based on iterative output above\n",
    "eval_roc_auc_cv_scores('data/RestaurantLessThan20_data_encoded-EIPM_nominal.csv',\n",
    "                       RandomForestClassifier(max_features=2, min_samples_split=4, n_estimators=200, random_state=42))"
   ]
  },
  {
   "cell_type": "markdown",
   "id": "5fba3f9d",
   "metadata": {},
   "source": [
    "## Coffee House"
   ]
  },
  {
   "cell_type": "code",
   "execution_count": 6,
   "id": "06fd36ff",
   "metadata": {},
   "outputs": [
    {
     "name": "stdout",
     "output_type": "stream",
     "text": [
      "data/CoffeeHouse_data_encoded.csv\n",
      "5-fold CV ROC AUC: mean: 0.846149 std dev:0.015823\n",
      "ROC AUC: TEST 0.853249\n",
      "\n",
      "data/CoffeeHouse_data_encoded-all5_nominal.csv\n",
      "5-fold CV ROC AUC: mean: 0.841285 std dev:0.015081\n",
      "ROC AUC: TEST 0.858299\n",
      "\n",
      "data/CoffeeHouse_data_encoded-age_nominal.csv\n",
      "5-fold CV ROC AUC: mean: 0.845051 std dev:0.017853\n",
      "ROC AUC: TEST 0.858067\n",
      "\n",
      "data/CoffeeHouse_data_encoded-education_nominal.csv\n",
      "5-fold CV ROC AUC: mean: 0.843837 std dev:0.017810\n",
      "ROC AUC: TEST 0.851808\n",
      "\n",
      "data/CoffeeHouse_data_encoded-income_nominal.csv\n",
      "5-fold CV ROC AUC: mean: 0.845588 std dev:0.014781\n",
      "ROC AUC: TEST 0.855072\n",
      "\n",
      "data/CoffeeHouse_data_encoded-temperature_nominal.csv\n",
      "5-fold CV ROC AUC: mean: 0.842123 std dev:0.014466\n",
      "ROC AUC: TEST 0.849674\n",
      "\n",
      "data/CoffeeHouse_data_encoded-time_nominal.csv\n",
      "5-fold CV ROC AUC: mean: 0.841135 std dev:0.015717\n",
      "ROC AUC: TEST 0.848788\n",
      "\n"
     ]
    }
   ],
   "source": [
    "for fne in filename_endings:\n",
    "    eval_roc_auc_cv_scores(f'data/CoffeeHouse_data_encoded{fne}.csv', \n",
    "               RandomForestClassifier(max_features=8, min_samples_split=3, n_estimators=200, random_state=42))"
   ]
  },
  {
   "cell_type": "code",
   "execution_count": 11,
   "id": "6c92fe0f",
   "metadata": {},
   "outputs": [
    {
     "name": "stdout",
     "output_type": "stream",
     "text": [
      "data/CoffeeHouse_data_encoded-AI_nominal.csv\n",
      "5-fold CV ROC AUC: mean: 0.848034 std dev:0.014650\n",
      "ROC AUC: TEST 0.861322\n",
      "\n"
     ]
    }
   ],
   "source": [
    "## testings coupon-specific combo created based on iterative output above\n",
    "eval_roc_auc_cv_scores('data/CoffeeHouse_data_encoded-AI_nominal.csv',\n",
    "                       RandomForestClassifier(max_features=8, min_samples_split=3, n_estimators=200, random_state=42))"
   ]
  },
  {
   "cell_type": "markdown",
   "id": "80fa70a7",
   "metadata": {},
   "source": [
    "## Bar"
   ]
  },
  {
   "cell_type": "code",
   "execution_count": 7,
   "id": "18ea587d",
   "metadata": {},
   "outputs": [
    {
     "name": "stdout",
     "output_type": "stream",
     "text": [
      "data/Bar_data_encoded.csv\n",
      "5-fold CV ROC AUC: mean: 0.892287 std dev:0.012258\n",
      "ROC AUC: TEST 0.904195\n",
      "\n",
      "data/Bar_data_encoded-all5_nominal.csv\n",
      "5-fold CV ROC AUC: mean: 0.894461 std dev:0.012684\n",
      "ROC AUC: TEST 0.910159\n",
      "\n",
      "data/Bar_data_encoded-age_nominal.csv\n",
      "5-fold CV ROC AUC: mean: 0.889955 std dev:0.013174\n",
      "ROC AUC: TEST 0.907854\n",
      "\n",
      "data/Bar_data_encoded-education_nominal.csv\n",
      "5-fold CV ROC AUC: mean: 0.888909 std dev:0.014218\n",
      "ROC AUC: TEST 0.903554\n",
      "\n",
      "data/Bar_data_encoded-income_nominal.csv\n",
      "5-fold CV ROC AUC: mean: 0.892277 std dev:0.016613\n",
      "ROC AUC: TEST 0.901889\n",
      "\n",
      "data/Bar_data_encoded-temperature_nominal.csv\n",
      "5-fold CV ROC AUC: mean: 0.888717 std dev:0.013092\n",
      "ROC AUC: TEST 0.901773\n",
      "\n",
      "data/Bar_data_encoded-time_nominal.csv\n",
      "5-fold CV ROC AUC: mean: 0.886190 std dev:0.012988\n",
      "ROC AUC: TEST 0.898079\n",
      "\n"
     ]
    }
   ],
   "source": [
    "for fne in filename_endings:\n",
    "    eval_roc_auc_cv_scores(f'data/Bar_data_encoded{fne}.csv', \n",
    "               RandomForestClassifier(max_features=5, n_estimators=200, random_state=42))"
   ]
  },
  {
   "cell_type": "code",
   "execution_count": null,
   "id": "75d08b32",
   "metadata": {},
   "outputs": [],
   "source": [
    "## iterative output above only has one improved feature, so no new combo to test"
   ]
  },
  {
   "cell_type": "markdown",
   "id": "08234d7b",
   "metadata": {},
   "source": [
    "## CarryAway"
   ]
  },
  {
   "cell_type": "code",
   "execution_count": 8,
   "id": "c968ce8a",
   "metadata": {},
   "outputs": [
    {
     "name": "stdout",
     "output_type": "stream",
     "text": [
      "data/CarryAway_data_encoded.csv\n",
      "5-fold CV ROC AUC: mean: 0.922661 std dev:0.012814\n",
      "ROC AUC: TEST 0.920629\n",
      "\n",
      "data/CarryAway_data_encoded-all5_nominal.csv\n",
      "5-fold CV ROC AUC: mean: 0.919068 std dev:0.014706\n",
      "ROC AUC: TEST 0.915165\n",
      "\n",
      "data/CarryAway_data_encoded-age_nominal.csv\n",
      "5-fold CV ROC AUC: mean: 0.922134 std dev:0.013009\n",
      "ROC AUC: TEST 0.918956\n",
      "\n",
      "data/CarryAway_data_encoded-education_nominal.csv\n",
      "5-fold CV ROC AUC: mean: 0.917932 std dev:0.012564\n",
      "ROC AUC: TEST 0.917300\n",
      "\n",
      "data/CarryAway_data_encoded-income_nominal.csv\n",
      "5-fold CV ROC AUC: mean: 0.919183 std dev:0.010639\n",
      "ROC AUC: TEST 0.917385\n",
      "\n",
      "data/CarryAway_data_encoded-temperature_nominal.csv\n",
      "5-fold CV ROC AUC: mean: 0.917464 std dev:0.013480\n",
      "ROC AUC: TEST 0.921896\n",
      "\n",
      "data/CarryAway_data_encoded-time_nominal.csv\n",
      "5-fold CV ROC AUC: mean: 0.917471 std dev:0.013042\n",
      "ROC AUC: TEST 0.914780\n",
      "\n"
     ]
    }
   ],
   "source": [
    "for fne in filename_endings:\n",
    "    eval_roc_auc_cv_scores(f'data/CarryAway_data_encoded{fne}.csv', \n",
    "               RandomForestClassifier(max_features=5, min_samples_split=3, n_estimators=200, random_state=42))"
   ]
  },
  {
   "cell_type": "code",
   "execution_count": null,
   "id": "341a720e",
   "metadata": {},
   "outputs": [],
   "source": [
    "## iterative output above only has one improved feature, so no new combo to test"
   ]
  }
 ],
 "metadata": {
  "kernelspec": {
   "display_name": "Python 3 (ipykernel)",
   "language": "python",
   "name": "python3"
  },
  "language_info": {
   "codemirror_mode": {
    "name": "ipython",
    "version": 3
   },
   "file_extension": ".py",
   "mimetype": "text/x-python",
   "name": "python",
   "nbconvert_exporter": "python",
   "pygments_lexer": "ipython3",
   "version": "3.9.7"
  }
 },
 "nbformat": 4,
 "nbformat_minor": 5
}
