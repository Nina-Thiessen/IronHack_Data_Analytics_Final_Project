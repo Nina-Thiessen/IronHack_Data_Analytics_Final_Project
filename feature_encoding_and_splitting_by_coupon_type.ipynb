{
 "cells": [
  {
   "cell_type": "code",
   "execution_count": 1,
   "id": "a3c9edd4",
   "metadata": {},
   "outputs": [],
   "source": [
    "import copy\n",
    "import numpy as np\n",
    "import pandas as pd\n",
    "import warnings\n",
    "warnings.filterwarnings(\"ignore\")\n",
    "\n",
    "from sklearn.preprocessing import OrdinalEncoder\n",
    "\n",
    "## to make it possible to display multiple output inside one cell \n",
    "from IPython.core.interactiveshell import InteractiveShell\n",
    "InteractiveShell.ast_node_interactivity = \"all\"\n",
    "\n",
    "pd.options.display.max_rows = 50\n",
    "pd.set_option('display.float_format', lambda x: '%9.8f' % x)"
   ]
  },
  {
   "cell_type": "markdown",
   "id": "0fa4d63c",
   "metadata": {},
   "source": [
    "## Read original csv and drop/transform features"
   ]
  },
  {
   "cell_type": "code",
   "execution_count": 2,
   "id": "62c0b354",
   "metadata": {},
   "outputs": [],
   "source": [
    "file_name = \"data/in-vehicle-coupon-recommendation.csv\"\n",
    "data = pd.read_csv(file_name)\n",
    "\n",
    "## drop unneeded cols (car is mostly null, direction_opp is the inverse of direction_same)\n",
    "data = data.drop(['car', 'direction_opp'], axis=1)"
   ]
  },
  {
   "cell_type": "code",
   "execution_count": 3,
   "id": "b9d9b3e3",
   "metadata": {},
   "outputs": [],
   "source": [
    "## populate new column minsToCouponDest with values ['5-14', '15-24', '25plus']\n",
    "data.loc[(data.toCoupon_GEQ25min == 1), 'minsToCouponDest'] = '25plus'\n",
    "data.loc[(data.toCoupon_GEQ25min == 0) & (data.toCoupon_GEQ15min==1), 'minsToCouponDest'] = '15-24'\n",
    "data.loc[(data.toCoupon_GEQ25min == 0) & (data.toCoupon_GEQ15min==0), 'minsToCouponDest'] = '5-14'\n",
    "\n",
    "## drop separate cols used to create minsToCouponDest\n",
    "data = data.drop(['toCoupon_GEQ5min', 'toCoupon_GEQ15min', 'toCoupon_GEQ25min'], axis=1)"
   ]
  },
  {
   "cell_type": "code",
   "execution_count": 4,
   "id": "0d564cf2",
   "metadata": {},
   "outputs": [],
   "source": [
    "## convert temperature to string\n",
    "data['temperature'] = data.temperature.astype(str)"
   ]
  },
  {
   "cell_type": "code",
   "execution_count": 5,
   "id": "2c84322d",
   "metadata": {},
   "outputs": [
    {
     "data": {
      "text/plain": [
       "12684"
      ]
     },
     "execution_count": 5,
     "metadata": {},
     "output_type": "execute_result"
    },
    {
     "data": {
      "text/plain": [
       "12610"
      ]
     },
     "execution_count": 5,
     "metadata": {},
     "output_type": "execute_result"
    }
   ],
   "source": [
    "## drop duplicates (count rows before and after to see how many records were dropped)\n",
    "data.shape[0]\n",
    "data = data.drop_duplicates().reset_index(drop=True)\n",
    "data.shape[0]"
   ]
  },
  {
   "cell_type": "markdown",
   "id": "f4a4b266",
   "metadata": {},
   "source": [
    "## Handle missing values in 5 driver-habit columns"
   ]
  },
  {
   "cell_type": "code",
   "execution_count": 6,
   "id": "f19d64bc",
   "metadata": {},
   "outputs": [
    {
     "data": {
      "text/plain": [
       "['Bar', 'CoffeeHouse', 'CarryAway', 'RestaurantLessThan20', 'Restaurant20To50']"
      ]
     },
     "execution_count": 6,
     "metadata": {},
     "output_type": "execute_result"
    }
   ],
   "source": [
    "data.columns[data.isna().any()].tolist()"
   ]
  },
  {
   "cell_type": "code",
   "execution_count": 7,
   "id": "5c66d500",
   "metadata": {},
   "outputs": [],
   "source": [
    "## manually add indicator columns\n",
    "data['Bar_freq_unknown'] = np.where(data['Bar'].isna(), 1, 0)\n",
    "data['CoffeeHouse_freq_unknown'] = np.where(data['CoffeeHouse'].isna(), 1, 0)\n",
    "data['CarryAway_freq_unknown'] = np.where(data['CarryAway'].isna(), 1, 0)\n",
    "data['RestaurantLessThan20_freq_unknown'] = np.where(data['RestaurantLessThan20'].isna(), 1, 0)\n",
    "data['Restaurant20To50_freq_unknown'] = np.where(data['Restaurant20To50'].isna(), 1, 0)\n",
    "\n",
    "## replace missing values with string 'unknown'\n",
    "data = data.fillna(value='unknown')"
   ]
  },
  {
   "cell_type": "markdown",
   "id": "ff0e519c",
   "metadata": {},
   "source": [
    "# Split by coupon type"
   ]
  },
  {
   "cell_type": "code",
   "execution_count": 8,
   "id": "136e4c65",
   "metadata": {},
   "outputs": [],
   "source": [
    "Bar_data = data[data['coupon'] == 'Bar']\n",
    "Bar_data = Bar_data.drop('coupon', axis=1)\n",
    "Bar_data.to_csv('data/Bar_data.csv', index=False)\n",
    "\n",
    "CoffeeHouse_data = data[data['coupon'] == 'Coffee House']\n",
    "CoffeeHouse_data = CoffeeHouse_data.drop('coupon', axis=1)\n",
    "CoffeeHouse_data.to_csv('data/CoffeeHouse_data.csv', index=False)\n",
    "\n",
    "CarryAway_data = data[data['coupon'] == 'Carry out & Take away']\n",
    "CarryAway_data = CarryAway_data.drop('coupon', axis=1)\n",
    "CarryAway_data.to_csv('data/CarryAway_data.csv', index=False)\n",
    "\n",
    "RestaurantLessThan20_data = data[data['coupon'] == 'Restaurant(<20)']\n",
    "RestaurantLessThan20_data = RestaurantLessThan20_data.drop('coupon', axis=1)\n",
    "RestaurantLessThan20_data.to_csv('data/RestaurantLessThan20_data.csv', index=False)\n",
    "\n",
    "Restaurant20To50_data = data[data['coupon'] == 'Restaurant(20-50)']\n",
    "Restaurant20To50_data = Restaurant20To50_data.drop('coupon', axis=1)\n",
    "Restaurant20To50_data.to_csv('data/Restaurant20To50_data.csv', index=False)"
   ]
  },
  {
   "cell_type": "markdown",
   "id": "85e560df",
   "metadata": {},
   "source": [
    "# Encode features"
   ]
  },
  {
   "cell_type": "code",
   "execution_count": 9,
   "id": "8edc5bbb",
   "metadata": {},
   "outputs": [
    {
     "data": {
      "text/plain": [
       "Index(['destination', 'passanger', 'weather', 'temperature', 'time', 'coupon',\n",
       "       'expiration', 'gender', 'age', 'maritalStatus', 'has_children',\n",
       "       'education', 'occupation', 'income', 'Bar', 'CoffeeHouse', 'CarryAway',\n",
       "       'RestaurantLessThan20', 'Restaurant20To50', 'direction_same', 'Y',\n",
       "       'minsToCouponDest', 'Bar_freq_unknown', 'CoffeeHouse_freq_unknown',\n",
       "       'CarryAway_freq_unknown', 'RestaurantLessThan20_freq_unknown',\n",
       "       'Restaurant20To50_freq_unknown'],\n",
       "      dtype='object')"
      ]
     },
     "execution_count": 9,
     "metadata": {},
     "output_type": "execute_result"
    }
   ],
   "source": [
    "data.columns"
   ]
  },
  {
   "cell_type": "markdown",
   "id": "15e2631b",
   "metadata": {},
   "source": [
    "### Binary features already encoded as numeric\n",
    "\n",
    "`['has_children', 'direction_same', 'Bar_freq_unknown', 'CoffeeHouse_freq_unknown',\n",
    "  'CarryAway_freq_unknown', 'RestaurantLessThan20_freq_unknown', 'Restaurant20To50_freq_unknown', 'Y']`\n",
    "\n",
    "### Ordinal\n",
    "\n",
    "`['Bar', 'CoffeeHouse', 'CarryAway', 'RestaurantLessThan20', 'Restaurant20To50', 'minsToCouponDest']`\n",
    "\n",
    "\n",
    "### Ordinal features where the order may or may not matter. \n",
    "(Encode as Ordinal for now)\n",
    "\n",
    "`['time', 'age', 'education', 'income', 'temperature']`\n",
    "\n",
    "\n",
    "### Nominal (unordered)\n",
    "\n",
    "`['destination', 'passanger', 'weather', 'expiration', 'gender', 'maritalStatus', 'occupation']`\n"
   ]
  },
  {
   "cell_type": "code",
   "execution_count": 10,
   "id": "d830ba9f",
   "metadata": {},
   "outputs": [],
   "source": [
    "binary_numeric_data = data[['has_children', 'direction_same', 'Bar_freq_unknown', 'CoffeeHouse_freq_unknown',\n",
    "       'CarryAway_freq_unknown', 'RestaurantLessThan20_freq_unknown', 'Restaurant20To50_freq_unknown', 'Y']]"
   ]
  },
  {
   "cell_type": "code",
   "execution_count": 12,
   "id": "4f7c2aeb",
   "metadata": {},
   "outputs": [],
   "source": [
    "## Note: encoding cannot handle missing values\n",
    "ordinal_colnames = ['time', 'age', 'education', 'income', 'temperature', 'minsToCouponDest',\n",
    "                   'Bar', 'CoffeeHouse', 'CarryAway', 'RestaurantLessThan20', 'Restaurant20To50']\n",
    "ordinal_data = data[ordinal_colnames]\n",
    "\n",
    "ordinal_categories_list = [['7AM', '10AM', '2PM', '6PM', '10PM'],\n",
    "                           ['below21', '21', '26', '31', '36', '41', '46', '50plus'],\n",
    "                           ['Some High School', 'High School Graduate', 'Some college - no degree',\n",
    "                            'Associates degree', 'Bachelors degree', 'Graduate degree (Masters or Doctorate)'],\n",
    "                           ['Less than $12500', '$12500 - $24999', '$25000 - $37499', '$37500 - $49999',\n",
    "                            '$50000 - $62499', '$62500 - $74999', '$75000 - $87499', '$87500 - $99999',\n",
    "                            '$100000 or More'],\n",
    "                           ['30', '55', '80'],\n",
    "                           ['5-14', '15-24', '25plus'],\n",
    "                           ['unknown', 'never', 'less1', '1~3', '4~8', 'gt8'],\n",
    "                           ['unknown', 'never', 'less1', '1~3', '4~8', 'gt8'],\n",
    "                           ['unknown', 'never', 'less1', '1~3', '4~8', 'gt8'],\n",
    "                           ['unknown', 'never', 'less1', '1~3', '4~8', 'gt8'],\n",
    "                           ['unknown', 'never', 'less1', '1~3', '4~8', 'gt8']]\n",
    "\n",
    "ordinal_encoder = OrdinalEncoder(categories=ordinal_categories_list)\n",
    "\n",
    "## run the encoding\n",
    "encoded_ordinal_data = pd.DataFrame(ordinal_encoder.fit_transform(ordinal_data), columns=ordinal_data.columns)"
   ]
  },
  {
   "cell_type": "code",
   "execution_count": 16,
   "id": "21583d32",
   "metadata": {},
   "outputs": [],
   "source": [
    "nominal_colnames = ['destination', 'passanger', 'weather', 'expiration', 'gender', 'maritalStatus', 'occupation']\n",
    "nominal_data = data[nominal_colnames]\n",
    "\n",
    "encoded_nominal_data = pd.get_dummies(nominal_data, drop_first=True)"
   ]
  },
  {
   "cell_type": "code",
   "execution_count": 17,
   "id": "3a3c497b",
   "metadata": {},
   "outputs": [],
   "source": [
    "recombined_data = pd.concat([binary_numeric_data, encoded_ordinal_data, encoded_nominal_data, data.coupon], axis=1)"
   ]
  },
  {
   "cell_type": "code",
   "execution_count": 18,
   "id": "50d0d062",
   "metadata": {},
   "outputs": [],
   "source": [
    "recombined_data.to_csv('data/full_dataset_encoded_plus_coupon.csv', index=False)"
   ]
  },
  {
   "cell_type": "markdown",
   "id": "340e7b8d",
   "metadata": {},
   "source": [
    "## Split encoded data by coupon type"
   ]
  },
  {
   "cell_type": "code",
   "execution_count": 19,
   "id": "e80f32e2",
   "metadata": {},
   "outputs": [],
   "source": [
    "Bar_data = recombined_data[recombined_data['coupon'] == 'Bar']\n",
    "Bar_data = Bar_data.drop('coupon', axis=1)\n",
    "Bar_data.to_csv('data/Bar_data_encoded.csv', index=False)\n",
    "\n",
    "CoffeeHouse_data = recombined_data[recombined_data['coupon'] == 'Coffee House']\n",
    "CoffeeHouse_data = CoffeeHouse_data.drop('coupon', axis=1)\n",
    "CoffeeHouse_data.to_csv('data/CoffeeHouse_data_encoded.csv', index=False)\n",
    "\n",
    "CarryAway_data = recombined_data[recombined_data['coupon'] == 'Carry out & Take away']\n",
    "CarryAway_data = CarryAway_data.drop('coupon', axis=1)\n",
    "CarryAway_data.to_csv('data/CarryAway_data_encoded.csv', index=False)\n",
    "\n",
    "RestaurantLessThan20_data = recombined_data[recombined_data['coupon'] == 'Restaurant(<20)']\n",
    "RestaurantLessThan20_data = RestaurantLessThan20_data.drop('coupon', axis=1)\n",
    "RestaurantLessThan20_data.to_csv('data/RestaurantLessThan20_data_encoded.csv', index=False)\n",
    "\n",
    "Restaurant20To50_data = recombined_data[recombined_data['coupon'] == 'Restaurant(20-50)']\n",
    "Restaurant20To50_data = Restaurant20To50_data.drop('coupon', axis=1)\n",
    "Restaurant20To50_data.to_csv('data/Restaurant20To50_data_encoded.csv', index=False)"
   ]
  },
  {
   "cell_type": "markdown",
   "id": "d474f372",
   "metadata": {},
   "source": [
    "# Phase II: Exploring encoding 5 variables as nominal instead of ordinal\n",
    "('time', 'age', 'education', 'income', 'temperature')\n"
   ]
  },
  {
   "cell_type": "markdown",
   "id": "30b9c352",
   "metadata": {},
   "source": [
    "## Nominal encode each of the 5 features individually "
   ]
  },
  {
   "cell_type": "code",
   "execution_count": 21,
   "id": "4fdf851f",
   "metadata": {},
   "outputs": [
    {
     "name": "stdout",
     "output_type": "stream",
     "text": [
      "time\n",
      "\n",
      "age\n",
      "\n",
      "education\n",
      "\n",
      "income\n",
      "\n",
      "temperature\n",
      "\n"
     ]
    }
   ],
   "source": [
    "ordinal_colnames = ['time', 'age', 'education', 'income', 'temperature', 'minsToCouponDest',\n",
    "                   'Bar', 'CoffeeHouse', 'CarryAway', 'RestaurantLessThan20', 'Restaurant20To50']\n",
    "\n",
    "ordinal_categories_list = [['7AM', '10AM', '2PM', '6PM', '10PM'],\n",
    "                           ['below21', '21', '26', '31', '36', '41', '46', '50plus'],\n",
    "                           ['Some High School', 'High School Graduate', 'Some college - no degree',\n",
    "                            'Associates degree', 'Bachelors degree', 'Graduate degree (Masters or Doctorate)'],\n",
    "                           ['Less than $12500', '$12500 - $24999', '$25000 - $37499', '$37500 - $49999',\n",
    "                            '$50000 - $62499', '$62500 - $74999', '$75000 - $87499', '$87500 - $99999',\n",
    "                            '$100000 or More'],\n",
    "                           ['30', '55', '80'],\n",
    "                           ['5-14', '15-24', '25plus'],\n",
    "                           ['unknown', 'never', 'less1', '1~3', '4~8', 'gt8'],\n",
    "                           ['unknown', 'never', 'less1', '1~3', '4~8', 'gt8'],\n",
    "                           ['unknown', 'never', 'less1', '1~3', '4~8', 'gt8'],\n",
    "                           ['unknown', 'never', 'less1', '1~3', '4~8', 'gt8'],\n",
    "                           ['unknown', 'never', 'less1', '1~3', '4~8', 'gt8']]\n",
    "nominal_colnames = ['destination', 'passanger', 'weather', 'expiration', 'gender', 'maritalStatus', 'occupation']\n",
    "\n",
    "coupon_type_outfile_name = {'Bar': 'Bar',\n",
    "                           'Coffee House': 'CoffeeHouse',\n",
    "                           'Carry out & Take away': 'CarryAway',\n",
    "                           'Restaurant(<20)': 'RestaurantLessThan20',\n",
    "                           'Restaurant(20-50)': 'Restaurant20To50'}\n",
    "\n",
    "for i in range(5):\n",
    "    my_ordinal_colnames = copy.deepcopy(ordinal_colnames)\n",
    "    nom_feature = my_ordinal_colnames.pop(i)\n",
    "    print(f\"{nom_feature}\\n\")\n",
    "\n",
    "    my_ordinal_data = data[my_ordinal_colnames]\n",
    "    my_ordinal_categories_list = copy.deepcopy(ordinal_categories_list)\n",
    "    del my_ordinal_categories_list[i]\n",
    "    my_ordinal_encoder = OrdinalEncoder(categories=my_ordinal_categories_list)\n",
    "\n",
    "    my_encoded_ordinal_data = pd.DataFrame(my_ordinal_encoder.fit_transform(my_ordinal_data), \n",
    "                                           columns=my_ordinal_data.columns)\n",
    "    \n",
    "    my_nominal_colnames = nominal_colnames + [nom_feature]\n",
    "    my_nominal_data = data[my_nominal_colnames]\n",
    "    my_encoded_nominal_data = pd.get_dummies(my_nominal_data, drop_first=True)\n",
    "\n",
    "    my_recombined_data = pd.concat([binary_numeric_data, \n",
    "                                    my_encoded_ordinal_data, \n",
    "                                    my_encoded_nominal_data, data.coupon], axis=1)\n",
    "    my_recombined_data.to_csv(f'data/full_dataset_encoded_plus_coupon-{nom_feature}_nominal.csv', index=False)\n",
    "    \n",
    "    for k,v in coupon_type_outfile_name.items():\n",
    "        subset_data = my_recombined_data[my_recombined_data['coupon'] == k]\n",
    "        subset_data = subset_data.drop('coupon', axis=1)\n",
    "        subset_data.to_csv(f'data/{v}_data_encoded-{nom_feature}_nominal.csv', index=False)"
   ]
  },
  {
   "cell_type": "markdown",
   "id": "360c0ca1",
   "metadata": {},
   "source": [
    "## Encode all 5 as nominal (together)"
   ]
  },
  {
   "cell_type": "code",
   "execution_count": 22,
   "id": "ca71100e",
   "metadata": {},
   "outputs": [],
   "source": [
    "my_ordinal_colnames = ['minsToCouponDest', 'Bar', 'CoffeeHouse', 'CarryAway', 'RestaurantLessThan20', \n",
    "                       'Restaurant20To50']\n",
    "\n",
    "my_ordinal_categories_list = [['5-14', '15-24', '25plus'],\n",
    "                           ['unknown', 'never', 'less1', '1~3', '4~8', 'gt8'],\n",
    "                           ['unknown', 'never', 'less1', '1~3', '4~8', 'gt8'],\n",
    "                           ['unknown', 'never', 'less1', '1~3', '4~8', 'gt8'],\n",
    "                           ['unknown', 'never', 'less1', '1~3', '4~8', 'gt8'],\n",
    "                           ['unknown', 'never', 'less1', '1~3', '4~8', 'gt8']]\n",
    "\n",
    "my_nominal_colnames = ['time', 'age', 'education', 'income', 'temperature',\n",
    "                    'destination', 'passanger', 'weather', 'expiration', 'gender', 'maritalStatus', 'occupation']\n",
    "\n",
    "coupon_type_outfile_name = {'Bar': 'Bar',\n",
    "                           'Coffee House': 'CoffeeHouse',\n",
    "                           'Carry out & Take away': 'CarryAway',\n",
    "                           'Restaurant(<20)': 'RestaurantLessThan20',\n",
    "                           'Restaurant(20-50)': 'Restaurant20To50'}\n",
    "\n",
    "my_ordinal_data = data[my_ordinal_colnames]\n",
    "my_ordinal_encoder = OrdinalEncoder(categories=my_ordinal_categories_list)\n",
    "my_encoded_ordinal_data = pd.DataFrame(my_ordinal_encoder.fit_transform(my_ordinal_data), \n",
    "                                       columns=my_ordinal_data.columns)\n",
    "\n",
    "my_nominal_data = data[my_nominal_colnames]\n",
    "my_encoded_nominal_data = pd.get_dummies(my_nominal_data, drop_first=True)\n",
    "\n",
    "my_recombined_data = pd.concat([binary_numeric_data, \n",
    "                                my_encoded_ordinal_data, \n",
    "                                my_encoded_nominal_data, data.coupon], axis=1)\n",
    "my_recombined_data.to_csv(f'data/full_dataset_encoded_plus_coupon-all5_nominal.csv', index=False)\n",
    "\n",
    "for k,v in coupon_type_outfile_name.items():\n",
    "    subset_data = my_recombined_data[my_recombined_data['coupon'] == k]\n",
    "    subset_data = subset_data.drop('coupon', axis=1)\n",
    "    subset_data.to_csv(f'data/{v}_data_encoded-all5_nominal.csv', index=False)"
   ]
  },
  {
   "cell_type": "markdown",
   "id": "6386f984",
   "metadata": {},
   "source": [
    "## Encode subsets of 2-4 for each coupon\n",
    "\n",
    "Choice of subsets is based on the results seen in `assess_nominal_vs_ordinal_encoding.ipynb`\n",
    "\n",
    "Encode subset of 5 features that have a better test score for their individual nominal encoding (as compared to original all ordinal)\n",
    "\n",
    "Note: Bar and CarryOut only have one feature that's better so we don't need a new subset\n",
    "\n",
    "output filenaming:\n",
    "* A: age\n",
    "* E: education\n",
    "* I: income\n",
    "* M: time\n",
    "* P: temperature"
   ]
  },
  {
   "cell_type": "markdown",
   "id": "c87d41ba",
   "metadata": {},
   "source": [
    "### Expensive Restaurant"
   ]
  },
  {
   "cell_type": "code",
   "execution_count": 23,
   "id": "64656632",
   "metadata": {},
   "outputs": [],
   "source": [
    "### Expensive Restaurant\n",
    "my_ordinal_colnames = ['income', 'minsToCouponDest',\n",
    "                   'Bar', 'CoffeeHouse', 'CarryAway', 'RestaurantLessThan20', 'Restaurant20To50']\n",
    "\n",
    "my_ordinal_categories_list = [['Less than $12500', '$12500 - $24999', '$25000 - $37499', '$37500 - $49999',\n",
    "                            '$50000 - $62499', '$62500 - $74999', '$75000 - $87499', '$87500 - $99999',\n",
    "                            '$100000 or More'],\n",
    "                           ['5-14', '15-24', '25plus'],\n",
    "                           ['unknown', 'never', 'less1', '1~3', '4~8', 'gt8'],\n",
    "                           ['unknown', 'never', 'less1', '1~3', '4~8', 'gt8'],\n",
    "                           ['unknown', 'never', 'less1', '1~3', '4~8', 'gt8'],\n",
    "                           ['unknown', 'never', 'less1', '1~3', '4~8', 'gt8'],\n",
    "                           ['unknown', 'never', 'less1', '1~3', '4~8', 'gt8']]\n",
    "\n",
    "my_nominal_colnames = ['time', 'age', 'education', 'temperature',\n",
    "                       'destination', 'passanger', 'weather', 'expiration', 'gender', 'maritalStatus', 'occupation']\n",
    "\n",
    "my_ordinal_data = data[my_ordinal_colnames]\n",
    "my_ordinal_encoder = OrdinalEncoder(categories=my_ordinal_categories_list)\n",
    "my_encoded_ordinal_data = pd.DataFrame(my_ordinal_encoder.fit_transform(my_ordinal_data), \n",
    "                                       columns=my_ordinal_data.columns)\n",
    "\n",
    "my_nominal_data = data[my_nominal_colnames]\n",
    "my_encoded_nominal_data = pd.get_dummies(my_nominal_data, drop_first=True)\n",
    "\n",
    "my_recombined_data = pd.concat([binary_numeric_data, \n",
    "                                my_encoded_ordinal_data, \n",
    "                                my_encoded_nominal_data, data.coupon], axis=1)\n",
    "\n",
    "subset_data = my_recombined_data[my_recombined_data['coupon'] == 'Restaurant(20-50)']\n",
    "subset_data = subset_data.drop('coupon', axis=1)\n",
    "subset_data.to_csv('data/Restaurant20To50_data_encoded-AEPM_nominal.csv', index=False)"
   ]
  },
  {
   "cell_type": "markdown",
   "id": "55ecdbe5",
   "metadata": {},
   "source": [
    "### Cheap Restaurant"
   ]
  },
  {
   "cell_type": "code",
   "execution_count": 24,
   "id": "db7ce17b",
   "metadata": {},
   "outputs": [],
   "source": [
    "### Cheap Restaurant\n",
    "my_ordinal_colnames = ['age', 'minsToCouponDest',\n",
    "                   'Bar', 'CoffeeHouse', 'CarryAway', 'RestaurantLessThan20', 'Restaurant20To50']\n",
    "\n",
    "my_ordinal_categories_list = [['below21', '21', '26', '31', '36', '41', '46', '50plus'],\n",
    "                           ['5-14', '15-24', '25plus'],\n",
    "                           ['unknown', 'never', 'less1', '1~3', '4~8', 'gt8'],\n",
    "                           ['unknown', 'never', 'less1', '1~3', '4~8', 'gt8'],\n",
    "                           ['unknown', 'never', 'less1', '1~3', '4~8', 'gt8'],\n",
    "                           ['unknown', 'never', 'less1', '1~3', '4~8', 'gt8'],\n",
    "                           ['unknown', 'never', 'less1', '1~3', '4~8', 'gt8']]\n",
    "\n",
    "my_nominal_colnames = ['time', 'education', 'income', 'temperature', \n",
    "                       'destination', 'passanger', 'weather', 'expiration', 'gender', 'maritalStatus', 'occupation']\n",
    "\n",
    "my_ordinal_data = data[my_ordinal_colnames]\n",
    "my_ordinal_encoder = OrdinalEncoder(categories=my_ordinal_categories_list)\n",
    "my_encoded_ordinal_data = pd.DataFrame(my_ordinal_encoder.fit_transform(my_ordinal_data), \n",
    "                                       columns=my_ordinal_data.columns)\n",
    "\n",
    "my_nominal_data = data[my_nominal_colnames]\n",
    "my_encoded_nominal_data = pd.get_dummies(my_nominal_data, drop_first=True)\n",
    "\n",
    "my_recombined_data = pd.concat([binary_numeric_data, \n",
    "                                my_encoded_ordinal_data, \n",
    "                                my_encoded_nominal_data, data.coupon], axis=1)\n",
    "\n",
    "subset_data = my_recombined_data[my_recombined_data['coupon'] == 'Restaurant(<20)']\n",
    "subset_data = subset_data.drop('coupon', axis=1)\n",
    "subset_data.to_csv('data/RestaurantLessThan20_data_encoded-EIPM_nominal.csv', index=False)"
   ]
  },
  {
   "cell_type": "markdown",
   "id": "4a16dea3",
   "metadata": {},
   "source": [
    "### Coffee House"
   ]
  },
  {
   "cell_type": "code",
   "execution_count": 25,
   "id": "f21e01d9",
   "metadata": {},
   "outputs": [],
   "source": [
    "### Coffee House\n",
    "my_ordinal_colnames = ['time', 'education', 'temperature', 'minsToCouponDest',\n",
    "                   'Bar', 'CoffeeHouse', 'CarryAway', 'RestaurantLessThan20', 'Restaurant20To50']\n",
    "\n",
    "my_ordinal_categories_list = [['7AM', '10AM', '2PM', '6PM', '10PM'],\n",
    "                           ['Some High School', 'High School Graduate', 'Some college - no degree',\n",
    "                            'Associates degree', 'Bachelors degree', 'Graduate degree (Masters or Doctorate)'],\n",
    "                           ['30', '55', '80'],\n",
    "                           ['5-14', '15-24', '25plus'],\n",
    "                           ['unknown', 'never', 'less1', '1~3', '4~8', 'gt8'],\n",
    "                           ['unknown', 'never', 'less1', '1~3', '4~8', 'gt8'],\n",
    "                           ['unknown', 'never', 'less1', '1~3', '4~8', 'gt8'],\n",
    "                           ['unknown', 'never', 'less1', '1~3', '4~8', 'gt8'],\n",
    "                           ['unknown', 'never', 'less1', '1~3', '4~8', 'gt8']]\n",
    "\n",
    "my_nominal_colnames = ['age', 'income',\n",
    "                       'destination', 'passanger', 'weather', 'expiration', 'gender', 'maritalStatus', 'occupation']\n",
    "\n",
    "my_ordinal_data = data[my_ordinal_colnames]\n",
    "my_ordinal_encoder = OrdinalEncoder(categories=my_ordinal_categories_list)\n",
    "my_encoded_ordinal_data = pd.DataFrame(my_ordinal_encoder.fit_transform(my_ordinal_data), \n",
    "                                       columns=my_ordinal_data.columns)\n",
    "\n",
    "my_nominal_data = data[my_nominal_colnames]\n",
    "my_encoded_nominal_data = pd.get_dummies(my_nominal_data, drop_first=True)\n",
    "\n",
    "my_recombined_data = pd.concat([binary_numeric_data, \n",
    "                                my_encoded_ordinal_data, \n",
    "                                my_encoded_nominal_data, data.coupon], axis=1)\n",
    "\n",
    "subset_data = my_recombined_data[my_recombined_data['coupon'] == 'Coffee House']\n",
    "subset_data = subset_data.drop('coupon', axis=1)\n",
    "subset_data.to_csv('data/CoffeeHouse_data_encoded-AI_nominal.csv', index=False)"
   ]
  },
  {
   "cell_type": "markdown",
   "id": "ba82c247",
   "metadata": {},
   "source": [
    "# All Nominal : onehot"
   ]
  },
  {
   "cell_type": "code",
   "execution_count": 7,
   "id": "0ecd2b7b",
   "metadata": {},
   "outputs": [
    {
     "data": {
      "text/plain": [
       "Index(['destination', 'passanger', 'weather', 'temperature', 'time', 'coupon',\n",
       "       'expiration', 'gender', 'age', 'maritalStatus', 'has_children',\n",
       "       'education', 'occupation', 'income', 'Bar', 'CoffeeHouse', 'CarryAway',\n",
       "       'RestaurantLessThan20', 'Restaurant20To50', 'direction_same', 'Y',\n",
       "       'minsToCouponDest', 'Bar_freq_unknown', 'CoffeeHouse_freq_unknown',\n",
       "       'CarryAway_freq_unknown', 'RestaurantLessThan20_freq_unknown',\n",
       "       'Restaurant20To50_freq_unknown'],\n",
       "      dtype='object')"
      ]
     },
     "execution_count": 7,
     "metadata": {},
     "output_type": "execute_result"
    }
   ],
   "source": [
    "data.columns"
   ]
  },
  {
   "cell_type": "code",
   "execution_count": 10,
   "id": "a1ea9069",
   "metadata": {},
   "outputs": [],
   "source": [
    "coupon_type_filenames = {'Bar':'Bar', 'Coffee House': 'CoffeeHouse', 'Carry out & Take away': 'CarryAway',\n",
    "               'Restaurant(<20)': 'RestaurantLessThan20', 'Restaurant(20-50)': 'Restaurant20To50'}"
   ]
  },
  {
   "cell_type": "code",
   "execution_count": 11,
   "id": "beab1476",
   "metadata": {},
   "outputs": [
    {
     "name": "stdout",
     "output_type": "stream",
     "text": [
      "Reading mode values from file: model/Bar-train_mode_values.csv\n",
      "Reading mode values from file: model/CoffeeHouse-train_mode_values.csv\n",
      "Reading mode values from file: model/CarryAway-train_mode_values.csv\n",
      "Reading mode values from file: model/RestaurantLessThan20-train_mode_values.csv\n",
      "Reading mode values from file: model/Restaurant20To50-train_mode_values.csv\n"
     ]
    }
   ],
   "source": [
    "## Re-encoding the unknown values after the onehot encoding is done is super complicated\n",
    "## PLAN: Do it up front, using the X_train mode values we saved from an earlier run with ordinal encoding\n",
    "\n",
    "for ctype in coupon_type_filenames.keys():\n",
    "    fname = coupon_type_filenames[ctype]\n",
    "    mode_filename = f'model/{fname}-train_mode_values.csv'\n",
    "    print(f'Reading mode values from file: {mode_filename}')\n",
    "    modevals = pd.read_csv(mode_filename)\n",
    "    for ctype2 in coupon_type_filenames.keys():\n",
    "        colname = coupon_type_filenames[ctype2]\n",
    "        data.loc[data[colname] == 'unknown', colname] = modevals[colname]"
   ]
  },
  {
   "cell_type": "code",
   "execution_count": 12,
   "id": "42f0dc48",
   "metadata": {},
   "outputs": [],
   "source": [
    "nominal_data = data.drop('coupon', axis=1)\n",
    "\n",
    "encoded_nominal_data = pd.get_dummies(nominal_data, drop_first=True)"
   ]
  },
  {
   "cell_type": "code",
   "execution_count": 13,
   "id": "c4704d6c",
   "metadata": {},
   "outputs": [],
   "source": [
    "recombined_data = pd.concat([encoded_nominal_data, data.coupon], axis=1)"
   ]
  },
  {
   "cell_type": "markdown",
   "id": "95ad2616",
   "metadata": {},
   "source": [
    "## Split by coupon type"
   ]
  },
  {
   "cell_type": "code",
   "execution_count": 14,
   "id": "50b5977e",
   "metadata": {},
   "outputs": [],
   "source": [
    "for ctype in coupon_type_filenames.keys():\n",
    "    coupon_data = recombined_data[recombined_data['coupon'] == ctype]\n",
    "    coupon_data = coupon_data.drop('coupon', axis=1)\n",
    "    coupon_data.to_csv(f'data/{coupon_type_filenames[ctype]}_data_onehot.csv', index=False)"
   ]
  },
  {
   "cell_type": "code",
   "execution_count": 15,
   "id": "ac622061",
   "metadata": {},
   "outputs": [
    {
     "data": {
      "text/plain": [
       "Index(['has_children', 'direction_same', 'Y', 'Bar_freq_unknown',\n",
       "       'CoffeeHouse_freq_unknown', 'CarryAway_freq_unknown',\n",
       "       'RestaurantLessThan20_freq_unknown', 'Restaurant20To50_freq_unknown',\n",
       "       'destination_No Urgent Place', 'destination_Work',\n",
       "       'passanger_Friend(s)', 'passanger_Kid(s)', 'passanger_Partner',\n",
       "       'weather_Snowy', 'weather_Sunny', 'temperature_55', 'temperature_80',\n",
       "       'time_10PM', 'time_2PM', 'time_6PM', 'time_7AM', 'expiration_2h',\n",
       "       'gender_Male', 'age_26', 'age_31', 'age_36', 'age_41', 'age_46',\n",
       "       'age_50plus', 'age_below21', 'maritalStatus_Married partner',\n",
       "       'maritalStatus_Single', 'maritalStatus_Unmarried partner',\n",
       "       'maritalStatus_Widowed', 'education_Bachelors degree',\n",
       "       'education_Graduate degree (Masters or Doctorate)',\n",
       "       'education_High School Graduate', 'education_Some High School',\n",
       "       'education_Some college - no degree',\n",
       "       'occupation_Arts Design Entertainment Sports & Media',\n",
       "       'occupation_Building & Grounds Cleaning & Maintenance',\n",
       "       'occupation_Business & Financial',\n",
       "       'occupation_Community & Social Services',\n",
       "       'occupation_Computer & Mathematical',\n",
       "       'occupation_Construction & Extraction',\n",
       "       'occupation_Education&Training&Library',\n",
       "       'occupation_Farming Fishing & Forestry',\n",
       "       'occupation_Food Preparation & Serving Related',\n",
       "       'occupation_Healthcare Practitioners & Technical',\n",
       "       'occupation_Healthcare Support',\n",
       "       'occupation_Installation Maintenance & Repair', 'occupation_Legal',\n",
       "       'occupation_Life Physical Social Science', 'occupation_Management',\n",
       "       'occupation_Office & Administrative Support',\n",
       "       'occupation_Personal Care & Service',\n",
       "       'occupation_Production Occupations', 'occupation_Protective Service',\n",
       "       'occupation_Retired', 'occupation_Sales & Related',\n",
       "       'occupation_Student', 'occupation_Transportation & Material Moving',\n",
       "       'occupation_Unemployed', 'income_$12500 - $24999',\n",
       "       'income_$25000 - $37499', 'income_$37500 - $49999',\n",
       "       'income_$50000 - $62499', 'income_$62500 - $74999',\n",
       "       'income_$75000 - $87499', 'income_$87500 - $99999',\n",
       "       'income_Less than $12500', 'Bar_4~8', 'Bar_gt8', 'Bar_less1',\n",
       "       'Bar_never', 'CoffeeHouse_4~8', 'CoffeeHouse_gt8', 'CoffeeHouse_less1',\n",
       "       'CoffeeHouse_never', 'CarryAway_1~3', 'CarryAway_4~8', 'CarryAway_gt8',\n",
       "       'CarryAway_less1', 'CarryAway_never', 'RestaurantLessThan20_4~8',\n",
       "       'RestaurantLessThan20_gt8', 'RestaurantLessThan20_less1',\n",
       "       'RestaurantLessThan20_never', 'Restaurant20To50_4~8',\n",
       "       'Restaurant20To50_gt8', 'Restaurant20To50_less1',\n",
       "       'Restaurant20To50_never', 'minsToCouponDest_25plus',\n",
       "       'minsToCouponDest_5-14'],\n",
       "      dtype='object')"
      ]
     },
     "execution_count": 15,
     "metadata": {},
     "output_type": "execute_result"
    }
   ],
   "source": [
    "coupon_data.columns"
   ]
  },
  {
   "cell_type": "markdown",
   "id": "59e5fb99",
   "metadata": {},
   "source": [
    "# All Nominal : onehot -- keep first\n",
    "\n",
    "Same as above but do not drop the first value for each category (decision trees are ok with correlated vars).\n",
    "\n",
    "Note: I have already run the data loading and preprocessing steps from start of this notebook up to \"Encode Features\""
   ]
  },
  {
   "cell_type": "code",
   "execution_count": 8,
   "id": "ffcbfca7",
   "metadata": {},
   "outputs": [
    {
     "data": {
      "text/plain": [
       "Index(['destination', 'passanger', 'weather', 'temperature', 'time', 'coupon',\n",
       "       'expiration', 'gender', 'age', 'maritalStatus', 'has_children',\n",
       "       'education', 'occupation', 'income', 'Bar', 'CoffeeHouse', 'CarryAway',\n",
       "       'RestaurantLessThan20', 'Restaurant20To50', 'direction_same', 'Y',\n",
       "       'minsToCouponDest', 'Bar_freq_unknown', 'CoffeeHouse_freq_unknown',\n",
       "       'CarryAway_freq_unknown', 'RestaurantLessThan20_freq_unknown',\n",
       "       'Restaurant20To50_freq_unknown'],\n",
       "      dtype='object')"
      ]
     },
     "execution_count": 8,
     "metadata": {},
     "output_type": "execute_result"
    }
   ],
   "source": [
    "data.columns"
   ]
  },
  {
   "cell_type": "code",
   "execution_count": 9,
   "id": "f1f4cb37",
   "metadata": {},
   "outputs": [
    {
     "name": "stdout",
     "output_type": "stream",
     "text": [
      "Reading mode values from file: model/Bar-train_mode_values.csv\n",
      "Reading mode values from file: model/CoffeeHouse-train_mode_values.csv\n",
      "Reading mode values from file: model/CarryAway-train_mode_values.csv\n",
      "Reading mode values from file: model/RestaurantLessThan20-train_mode_values.csv\n",
      "Reading mode values from file: model/Restaurant20To50-train_mode_values.csv\n"
     ]
    }
   ],
   "source": [
    "coupon_type_filenames = {'Bar':'Bar', 'Coffee House': 'CoffeeHouse', 'Carry out & Take away': 'CarryAway',\n",
    "               'Restaurant(<20)': 'RestaurantLessThan20', 'Restaurant(20-50)': 'Restaurant20To50'}\n",
    "\n",
    "## Re-encoding the unknown values after the onehot encoding is done is super complicated\n",
    "## PLAN: Do it up front, using the X_train mode values we saved from an earlier run with ordinal encoding\n",
    "\n",
    "for ctype in coupon_type_filenames.keys():\n",
    "    fname = coupon_type_filenames[ctype]\n",
    "    mode_filename = f'model/{fname}-train_mode_values.csv'\n",
    "    print(f'Reading mode values from file: {mode_filename}')\n",
    "    modevals = pd.read_csv(mode_filename)\n",
    "    for ctype2 in coupon_type_filenames.keys():\n",
    "        colname = coupon_type_filenames[ctype2]\n",
    "        data.loc[data[colname] == 'unknown', colname] = modevals[colname]"
   ]
  },
  {
   "cell_type": "code",
   "execution_count": 10,
   "id": "d3c81046",
   "metadata": {},
   "outputs": [],
   "source": [
    "## Run the encoding KEEPING first\n",
    "nominal_data = data.drop('coupon', axis=1)\n",
    "\n",
    "encoded_nominal_data = pd.get_dummies(nominal_data, drop_first=False)\n",
    "\n",
    "recombined_data = pd.concat([encoded_nominal_data, data.coupon], axis=1)"
   ]
  },
  {
   "cell_type": "markdown",
   "id": "841412bf",
   "metadata": {},
   "source": [
    "## Split by coupon type"
   ]
  },
  {
   "cell_type": "code",
   "execution_count": 11,
   "id": "82dca61e",
   "metadata": {},
   "outputs": [],
   "source": [
    "encoding_type = 'onehot-keepfirst'\n",
    "\n",
    "for ctype in coupon_type_filenames.keys():\n",
    "    coupon_data = recombined_data[recombined_data['coupon'] == ctype]\n",
    "    coupon_data = coupon_data.drop('coupon', axis=1)\n",
    "    coupon_data.to_csv(f'data/{coupon_type_filenames[ctype]}_data_{encoding_type}.csv', index=False)"
   ]
  },
  {
   "cell_type": "code",
   "execution_count": 17,
   "id": "94858b0c",
   "metadata": {},
   "outputs": [
    {
     "data": {
      "text/plain": [
       "Index(['has_children', 'direction_same', 'Y', 'Bar_freq_unknown',\n",
       "       'CoffeeHouse_freq_unknown', 'CarryAway_freq_unknown',\n",
       "       'RestaurantLessThan20_freq_unknown', 'Restaurant20To50_freq_unknown',\n",
       "       'destination_Home', 'destination_No Urgent Place', 'destination_Work',\n",
       "       'passanger_Alone', 'passanger_Friend(s)', 'passanger_Kid(s)',\n",
       "       'passanger_Partner', 'weather_Rainy', 'weather_Snowy', 'weather_Sunny',\n",
       "       'temperature_30', 'temperature_55', 'temperature_80', 'time_10AM',\n",
       "       'time_10PM', 'time_2PM', 'time_6PM', 'time_7AM', 'expiration_1d',\n",
       "       'expiration_2h', 'gender_Female', 'gender_Male', 'age_21', 'age_26',\n",
       "       'age_31', 'age_36', 'age_41', 'age_46', 'age_50plus', 'age_below21',\n",
       "       'maritalStatus_Divorced', 'maritalStatus_Married partner',\n",
       "       'maritalStatus_Single', 'maritalStatus_Unmarried partner',\n",
       "       'maritalStatus_Widowed', 'education_Associates degree',\n",
       "       'education_Bachelors degree',\n",
       "       'education_Graduate degree (Masters or Doctorate)',\n",
       "       'education_High School Graduate', 'education_Some High School',\n",
       "       'education_Some college - no degree',\n",
       "       'occupation_Architecture & Engineering'],\n",
       "      dtype='object')"
      ]
     },
     "execution_count": 17,
     "metadata": {},
     "output_type": "execute_result"
    },
    {
     "data": {
      "text/plain": [
       "Index(['occupation_Arts Design Entertainment Sports & Media',\n",
       "       'occupation_Building & Grounds Cleaning & Maintenance',\n",
       "       'occupation_Business & Financial',\n",
       "       'occupation_Community & Social Services',\n",
       "       'occupation_Computer & Mathematical',\n",
       "       'occupation_Construction & Extraction',\n",
       "       'occupation_Education&Training&Library',\n",
       "       'occupation_Farming Fishing & Forestry',\n",
       "       'occupation_Food Preparation & Serving Related',\n",
       "       'occupation_Healthcare Practitioners & Technical',\n",
       "       'occupation_Healthcare Support',\n",
       "       'occupation_Installation Maintenance & Repair', 'occupation_Legal',\n",
       "       'occupation_Life Physical Social Science', 'occupation_Management',\n",
       "       'occupation_Office & Administrative Support',\n",
       "       'occupation_Personal Care & Service',\n",
       "       'occupation_Production Occupations', 'occupation_Protective Service',\n",
       "       'occupation_Retired', 'occupation_Sales & Related',\n",
       "       'occupation_Student', 'occupation_Transportation & Material Moving',\n",
       "       'occupation_Unemployed', 'income_$100000 or More',\n",
       "       'income_$12500 - $24999', 'income_$25000 - $37499',\n",
       "       'income_$37500 - $49999', 'income_$50000 - $62499',\n",
       "       'income_$62500 - $74999', 'income_$75000 - $87499',\n",
       "       'income_$87500 - $99999', 'income_Less than $12500', 'Bar_1~3',\n",
       "       'Bar_4~8', 'Bar_gt8', 'Bar_less1', 'Bar_never', 'CoffeeHouse_1~3',\n",
       "       'CoffeeHouse_4~8', 'CoffeeHouse_gt8', 'CoffeeHouse_less1',\n",
       "       'CoffeeHouse_never', 'CarryAway_3.0', 'CarryAway_1~3', 'CarryAway_4~8',\n",
       "       'CarryAway_gt8', 'CarryAway_less1', 'CarryAway_never',\n",
       "       'RestaurantLessThan20_1~3', 'RestaurantLessThan20_4~8',\n",
       "       'RestaurantLessThan20_gt8', 'RestaurantLessThan20_less1',\n",
       "       'RestaurantLessThan20_never', 'Restaurant20To50_1~3',\n",
       "       'Restaurant20To50_4~8', 'Restaurant20To50_gt8',\n",
       "       'Restaurant20To50_less1', 'Restaurant20To50_never',\n",
       "       'minsToCouponDest_15-24', 'minsToCouponDest_25plus',\n",
       "       'minsToCouponDest_5-14'],\n",
       "      dtype='object')"
      ]
     },
     "execution_count": 17,
     "metadata": {},
     "output_type": "execute_result"
    }
   ],
   "source": [
    "coupon_data.columns[:50]\n",
    "coupon_data.columns[50:]"
   ]
  }
 ],
 "metadata": {
  "kernelspec": {
   "display_name": "Python 3 (ipykernel)",
   "language": "python",
   "name": "python3"
  },
  "language_info": {
   "codemirror_mode": {
    "name": "ipython",
    "version": 3
   },
   "file_extension": ".py",
   "mimetype": "text/x-python",
   "name": "python",
   "nbconvert_exporter": "python",
   "pygments_lexer": "ipython3",
   "version": "3.9.7"
  }
 },
 "nbformat": 4,
 "nbformat_minor": 5
}
