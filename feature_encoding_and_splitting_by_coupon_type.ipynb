{
 "cells": [
  {
   "cell_type": "code",
   "execution_count": 1,
   "id": "a3c9edd4",
   "metadata": {},
   "outputs": [],
   "source": [
    "import copy\n",
    "import numpy as np\n",
    "import pandas as pd\n",
    "import warnings\n",
    "warnings.filterwarnings(\"ignore\")\n",
    "\n",
    "from sklearn.preprocessing import OrdinalEncoder\n",
    "\n",
    "## to make it possible to display multiple output inside one cell \n",
    "from IPython.core.interactiveshell import InteractiveShell\n",
    "InteractiveShell.ast_node_interactivity = \"all\"\n",
    "\n",
    "pd.options.display.max_rows = 50\n",
    "pd.set_option('display.float_format', lambda x: '%9.8f' % x)"
   ]
  },
  {
   "cell_type": "markdown",
   "id": "0fa4d63c",
   "metadata": {},
   "source": [
    "## Read original csv and drop/transform features"
   ]
  },
  {
   "cell_type": "code",
   "execution_count": 2,
   "id": "62c0b354",
   "metadata": {},
   "outputs": [],
   "source": [
    "file_name = \"data/in-vehicle-coupon-recommendation.csv\"\n",
    "data = pd.read_csv(file_name)\n",
    "\n",
    "## drop unneeded cols (car is mostly null, direction_opp is the inverse of direction_same)\n",
    "data = data.drop(['car', 'direction_opp'], axis=1)"
   ]
  },
  {
   "cell_type": "code",
   "execution_count": 3,
   "id": "b9d9b3e3",
   "metadata": {},
   "outputs": [],
   "source": [
    "## populate new column minsToCouponDest with values ['5-14', '15-24', '25plus']\n",
    "data.loc[(data.toCoupon_GEQ25min == 1), 'minsToCouponDest'] = '25plus'\n",
    "data.loc[(data.toCoupon_GEQ25min == 0) & (data.toCoupon_GEQ15min==1), 'minsToCouponDest'] = '15-24'\n",
    "data.loc[(data.toCoupon_GEQ25min == 0) & (data.toCoupon_GEQ15min==0), 'minsToCouponDest'] = '5-14'\n",
    "\n",
    "## drop separate cols used to create minsToCouponDest\n",
    "data = data.drop(['toCoupon_GEQ5min', 'toCoupon_GEQ15min', 'toCoupon_GEQ25min'], axis=1)"
   ]
  },
  {
   "cell_type": "code",
   "execution_count": 4,
   "id": "0d564cf2",
   "metadata": {},
   "outputs": [],
   "source": [
    "## convert temperature to string\n",
    "data['temperature'] = data.temperature.astype(str)"
   ]
  },
  {
   "cell_type": "code",
   "execution_count": 5,
   "id": "2c84322d",
   "metadata": {},
   "outputs": [
    {
     "data": {
      "text/plain": [
       "12684"
      ]
     },
     "execution_count": 5,
     "metadata": {},
     "output_type": "execute_result"
    },
    {
     "data": {
      "text/plain": [
       "12610"
      ]
     },
     "execution_count": 5,
     "metadata": {},
     "output_type": "execute_result"
    }
   ],
   "source": [
    "## drop duplicates (count rows before and after to see how many records were dropped)\n",
    "data.shape[0]\n",
    "data = data.drop_duplicates().reset_index(drop=True)\n",
    "data.shape[0]"
   ]
  },
  {
   "cell_type": "markdown",
   "id": "f4a4b266",
   "metadata": {},
   "source": [
    "## Handle missing values in 5 driver-habit columns"
   ]
  },
  {
   "cell_type": "code",
   "execution_count": 6,
   "id": "f19d64bc",
   "metadata": {},
   "outputs": [
    {
     "data": {
      "text/plain": [
       "['Bar', 'CoffeeHouse', 'CarryAway', 'RestaurantLessThan20', 'Restaurant20To50']"
      ]
     },
     "execution_count": 6,
     "metadata": {},
     "output_type": "execute_result"
    }
   ],
   "source": [
    "data.columns[data.isna().any()].tolist()"
   ]
  },
  {
   "cell_type": "code",
   "execution_count": 7,
   "id": "5c66d500",
   "metadata": {},
   "outputs": [],
   "source": [
    "## manually add indicator columns\n",
    "data['Bar_freq_unknown'] = np.where(data['Bar'].isna(), 1, 0)\n",
    "data['CoffeeHouse_freq_unknown'] = np.where(data['CoffeeHouse'].isna(), 1, 0)\n",
    "data['CarryAway_freq_unknown'] = np.where(data['CarryAway'].isna(), 1, 0)\n",
    "data['RestaurantLessThan20_freq_unknown'] = np.where(data['RestaurantLessThan20'].isna(), 1, 0)\n",
    "data['Restaurant20To50_freq_unknown'] = np.where(data['Restaurant20To50'].isna(), 1, 0)\n",
    "\n",
    "## replace missing values with string 'unknown'\n",
    "data = data.fillna(value='unknown')"
   ]
  },
  {
   "cell_type": "markdown",
   "id": "ff0e519c",
   "metadata": {},
   "source": [
    "# Split by coupon type"
   ]
  },
  {
   "cell_type": "code",
   "execution_count": 8,
   "id": "136e4c65",
   "metadata": {},
   "outputs": [],
   "source": [
    "Bar_data = data[data['coupon'] == 'Bar']\n",
    "Bar_data = Bar_data.drop('coupon', axis=1)\n",
    "Bar_data.to_csv('data/Bar_data.csv', index=False)\n",
    "\n",
    "CoffeeHouse_data = data[data['coupon'] == 'Coffee House']\n",
    "CoffeeHouse_data = CoffeeHouse_data.drop('coupon', axis=1)\n",
    "CoffeeHouse_data.to_csv('data/CoffeeHouse_data.csv', index=False)\n",
    "\n",
    "CarryAway_data = data[data['coupon'] == 'Carry out & Take away']\n",
    "CarryAway_data = CarryAway_data.drop('coupon', axis=1)\n",
    "CarryAway_data.to_csv('data/CarryAway_data.csv', index=False)\n",
    "\n",
    "RestaurantLessThan20_data = data[data['coupon'] == 'Restaurant(<20)']\n",
    "RestaurantLessThan20_data = RestaurantLessThan20_data.drop('coupon', axis=1)\n",
    "RestaurantLessThan20_data.to_csv('data/RestaurantLessThan20_data.csv', index=False)\n",
    "\n",
    "Restaurant20To50_data = data[data['coupon'] == 'Restaurant(20-50)']\n",
    "Restaurant20To50_data = Restaurant20To50_data.drop('coupon', axis=1)\n",
    "Restaurant20To50_data.to_csv('data/Restaurant20To50_data.csv', index=False)"
   ]
  },
  {
   "cell_type": "markdown",
   "id": "85e560df",
   "metadata": {},
   "source": [
    "# Encode features"
   ]
  },
  {
   "cell_type": "code",
   "execution_count": 9,
   "id": "8edc5bbb",
   "metadata": {},
   "outputs": [
    {
     "data": {
      "text/plain": [
       "Index(['destination', 'passanger', 'weather', 'temperature', 'time', 'coupon',\n",
       "       'expiration', 'gender', 'age', 'maritalStatus', 'has_children',\n",
       "       'education', 'occupation', 'income', 'Bar', 'CoffeeHouse', 'CarryAway',\n",
       "       'RestaurantLessThan20', 'Restaurant20To50', 'direction_same', 'Y',\n",
       "       'minsToCouponDest', 'Bar_freq_unknown', 'CoffeeHouse_freq_unknown',\n",
       "       'CarryAway_freq_unknown', 'RestaurantLessThan20_freq_unknown',\n",
       "       'Restaurant20To50_freq_unknown'],\n",
       "      dtype='object')"
      ]
     },
     "execution_count": 9,
     "metadata": {},
     "output_type": "execute_result"
    }
   ],
   "source": [
    "data.columns"
   ]
  },
  {
   "cell_type": "markdown",
   "id": "15e2631b",
   "metadata": {},
   "source": [
    "### Binary features already encoded as numeric\n",
    "\n",
    "`['has_children', 'direction_same', 'Bar_freq_unknown', 'CoffeeHouse_freq_unknown',\n",
    "  'CarryAway_freq_unknown', 'RestaurantLessThan20_freq_unknown', 'Restaurant20To50_freq_unknown', 'Y']`\n",
    "\n",
    "### Ordinal\n",
    "\n",
    "`['Bar', 'CoffeeHouse', 'CarryAway', 'RestaurantLessThan20', 'Restaurant20To50', 'minsToCouponDest']`\n",
    "\n",
    "\n",
    "### Ordinal features where the order may or may not matter. \n",
    "(Encode as Ordinal for now)\n",
    "\n",
    "`['time', 'age', 'education', 'income', 'temperature']`\n",
    "\n",
    "\n",
    "### Nominal (unordered)\n",
    "\n",
    "`['destination', 'passanger', 'weather', 'expiration', 'gender', 'maritalStatus', 'occupation']`\n"
   ]
  },
  {
   "cell_type": "code",
   "execution_count": 10,
   "id": "d830ba9f",
   "metadata": {},
   "outputs": [],
   "source": [
    "binary_numeric_data = data[['has_children', 'direction_same', 'Bar_freq_unknown', 'CoffeeHouse_freq_unknown',\n",
    "       'CarryAway_freq_unknown', 'RestaurantLessThan20_freq_unknown', 'Restaurant20To50_freq_unknown', 'Y']]"
   ]
  },
  {
   "cell_type": "code",
   "execution_count": 12,
   "id": "4f7c2aeb",
   "metadata": {},
   "outputs": [],
   "source": [
    "## Note: encoding cannot handle missing values\n",
    "ordinal_colnames = ['time', 'age', 'education', 'income', 'temperature', 'minsToCouponDest',\n",
    "                   'Bar', 'CoffeeHouse', 'CarryAway', 'RestaurantLessThan20', 'Restaurant20To50']\n",
    "ordinal_data = data[ordinal_colnames]\n",
    "\n",
    "ordinal_categories_list = [['7AM', '10AM', '2PM', '6PM', '10PM'],\n",
    "                           ['below21', '21', '26', '31', '36', '41', '46', '50plus'],\n",
    "                           ['Some High School', 'High School Graduate', 'Some college - no degree',\n",
    "                            'Associates degree', 'Bachelors degree', 'Graduate degree (Masters or Doctorate)'],\n",
    "                           ['Less than $12500', '$12500 - $24999', '$25000 - $37499', '$37500 - $49999',\n",
    "                            '$50000 - $62499', '$62500 - $74999', '$75000 - $87499', '$87500 - $99999',\n",
    "                            '$100000 or More'],\n",
    "                           ['30', '55', '80'],\n",
    "                           ['5-14', '15-24', '25plus'],\n",
    "                           ['unknown', 'never', 'less1', '1~3', '4~8', 'gt8'],\n",
    "                           ['unknown', 'never', 'less1', '1~3', '4~8', 'gt8'],\n",
    "                           ['unknown', 'never', 'less1', '1~3', '4~8', 'gt8'],\n",
    "                           ['unknown', 'never', 'less1', '1~3', '4~8', 'gt8'],\n",
    "                           ['unknown', 'never', 'less1', '1~3', '4~8', 'gt8']]\n",
    "\n",
    "ordinal_encoder = OrdinalEncoder(categories=ordinal_categories_list)\n",
    "\n",
    "## run the encoding\n",
    "encoded_ordinal_data = pd.DataFrame(ordinal_encoder.fit_transform(ordinal_data), columns=ordinal_data.columns)"
   ]
  },
  {
   "cell_type": "code",
   "execution_count": 16,
   "id": "21583d32",
   "metadata": {},
   "outputs": [],
   "source": [
    "nominal_colnames = ['destination', 'passanger', 'weather', 'expiration', 'gender', 'maritalStatus', 'occupation']\n",
    "nominal_data = data[nominal_colnames]\n",
    "\n",
    "encoded_nominal_data = pd.get_dummies(nominal_data, drop_first=True)"
   ]
  },
  {
   "cell_type": "code",
   "execution_count": 17,
   "id": "3a3c497b",
   "metadata": {},
   "outputs": [],
   "source": [
    "recombined_data = pd.concat([binary_numeric_data, encoded_ordinal_data, encoded_nominal_data, data.coupon], axis=1)"
   ]
  },
  {
   "cell_type": "code",
   "execution_count": 18,
   "id": "50d0d062",
   "metadata": {},
   "outputs": [],
   "source": [
    "recombined_data.to_csv('data/full_dataset_encoded_plus_coupon.csv', index=False)"
   ]
  },
  {
   "cell_type": "markdown",
   "id": "340e7b8d",
   "metadata": {},
   "source": [
    "## Split encoded data by coupon type"
   ]
  },
  {
   "cell_type": "code",
   "execution_count": 19,
   "id": "e80f32e2",
   "metadata": {},
   "outputs": [],
   "source": [
    "Bar_data = recombined_data[recombined_data['coupon'] == 'Bar']\n",
    "Bar_data = Bar_data.drop('coupon', axis=1)\n",
    "Bar_data.to_csv('data/Bar_data_encoded.csv', index=False)\n",
    "\n",
    "CoffeeHouse_data = recombined_data[recombined_data['coupon'] == 'Coffee House']\n",
    "CoffeeHouse_data = CoffeeHouse_data.drop('coupon', axis=1)\n",
    "CoffeeHouse_data.to_csv('data/CoffeeHouse_data_encoded.csv', index=False)\n",
    "\n",
    "CarryAway_data = recombined_data[recombined_data['coupon'] == 'Carry out & Take away']\n",
    "CarryAway_data = CarryAway_data.drop('coupon', axis=1)\n",
    "CarryAway_data.to_csv('data/CarryAway_data_encoded.csv', index=False)\n",
    "\n",
    "RestaurantLessThan20_data = recombined_data[recombined_data['coupon'] == 'Restaurant(<20)']\n",
    "RestaurantLessThan20_data = RestaurantLessThan20_data.drop('coupon', axis=1)\n",
    "RestaurantLessThan20_data.to_csv('data/RestaurantLessThan20_data_encoded.csv', index=False)\n",
    "\n",
    "Restaurant20To50_data = recombined_data[recombined_data['coupon'] == 'Restaurant(20-50)']\n",
    "Restaurant20To50_data = Restaurant20To50_data.drop('coupon', axis=1)\n",
    "Restaurant20To50_data.to_csv('data/Restaurant20To50_data_encoded.csv', index=False)"
   ]
  },
  {
   "cell_type": "markdown",
   "id": "d474f372",
   "metadata": {},
   "source": [
    "# Phase II: Exploring encoding 5 variables as nominal instead of ordinal\n",
    "('time', 'age', 'education', 'income', 'temperature')\n"
   ]
  },
  {
   "cell_type": "markdown",
   "id": "30b9c352",
   "metadata": {},
   "source": [
    "## Nominal encode each of the 5 features individually "
   ]
  },
  {
   "cell_type": "code",
   "execution_count": 21,
   "id": "4fdf851f",
   "metadata": {},
   "outputs": [
    {
     "name": "stdout",
     "output_type": "stream",
     "text": [
      "time\n",
      "\n",
      "age\n",
      "\n",
      "education\n",
      "\n",
      "income\n",
      "\n",
      "temperature\n",
      "\n"
     ]
    }
   ],
   "source": [
    "ordinal_colnames = ['time', 'age', 'education', 'income', 'temperature', 'minsToCouponDest',\n",
    "                   'Bar', 'CoffeeHouse', 'CarryAway', 'RestaurantLessThan20', 'Restaurant20To50']\n",
    "\n",
    "ordinal_categories_list = [['7AM', '10AM', '2PM', '6PM', '10PM'],\n",
    "                           ['below21', '21', '26', '31', '36', '41', '46', '50plus'],\n",
    "                           ['Some High School', 'High School Graduate', 'Some college - no degree',\n",
    "                            'Associates degree', 'Bachelors degree', 'Graduate degree (Masters or Doctorate)'],\n",
    "                           ['Less than $12500', '$12500 - $24999', '$25000 - $37499', '$37500 - $49999',\n",
    "                            '$50000 - $62499', '$62500 - $74999', '$75000 - $87499', '$87500 - $99999',\n",
    "                            '$100000 or More'],\n",
    "                           ['30', '55', '80'],\n",
    "                           ['5-14', '15-24', '25plus'],\n",
    "                           ['unknown', 'never', 'less1', '1~3', '4~8', 'gt8'],\n",
    "                           ['unknown', 'never', 'less1', '1~3', '4~8', 'gt8'],\n",
    "                           ['unknown', 'never', 'less1', '1~3', '4~8', 'gt8'],\n",
    "                           ['unknown', 'never', 'less1', '1~3', '4~8', 'gt8'],\n",
    "                           ['unknown', 'never', 'less1', '1~3', '4~8', 'gt8']]\n",
    "nominal_colnames = ['destination', 'passanger', 'weather', 'expiration', 'gender', 'maritalStatus', 'occupation']\n",
    "\n",
    "coupon_type_outfile_name = {'Bar': 'Bar',\n",
    "                           'Coffee House': 'CoffeeHouse',\n",
    "                           'Carry out & Take away': 'CarryAway',\n",
    "                           'Restaurant(<20)': 'RestaurantLessThan20',\n",
    "                           'Restaurant(20-50)': 'Restaurant20To50'}\n",
    "\n",
    "for i in range(5):\n",
    "    my_ordinal_colnames = copy.deepcopy(ordinal_colnames)\n",
    "    nom_feature = my_ordinal_colnames.pop(i)\n",
    "    print(f\"{nom_feature}\\n\")\n",
    "\n",
    "    my_ordinal_data = data[my_ordinal_colnames]\n",
    "    my_ordinal_categories_list = copy.deepcopy(ordinal_categories_list)\n",
    "    del my_ordinal_categories_list[i]\n",
    "    my_ordinal_encoder = OrdinalEncoder(categories=my_ordinal_categories_list)\n",
    "\n",
    "    my_encoded_ordinal_data = pd.DataFrame(my_ordinal_encoder.fit_transform(my_ordinal_data), \n",
    "                                           columns=my_ordinal_data.columns)\n",
    "    \n",
    "    my_nominal_colnames = nominal_colnames + [nom_feature]\n",
    "    my_nominal_data = data[my_nominal_colnames]\n",
    "    my_encoded_nominal_data = pd.get_dummies(my_nominal_data, drop_first=True)\n",
    "\n",
    "    my_recombined_data = pd.concat([binary_numeric_data, \n",
    "                                    my_encoded_ordinal_data, \n",
    "                                    my_encoded_nominal_data, data.coupon], axis=1)\n",
    "    my_recombined_data.to_csv(f'data/full_dataset_encoded_plus_coupon-{nom_feature}_nominal.csv', index=False)\n",
    "    \n",
    "    for k,v in coupon_type_outfile_name.items():\n",
    "        subset_data = my_recombined_data[my_recombined_data['coupon'] == k]\n",
    "        subset_data = subset_data.drop('coupon', axis=1)\n",
    "        subset_data.to_csv(f'data/{v}_data_encoded-{nom_feature}_nominal.csv', index=False)"
   ]
  },
  {
   "cell_type": "markdown",
   "id": "360c0ca1",
   "metadata": {},
   "source": [
    "## Encode all 5 as nominal (together)"
   ]
  },
  {
   "cell_type": "code",
   "execution_count": 22,
   "id": "ca71100e",
   "metadata": {},
   "outputs": [],
   "source": [
    "my_ordinal_colnames = ['minsToCouponDest', 'Bar', 'CoffeeHouse', 'CarryAway', 'RestaurantLessThan20', \n",
    "                       'Restaurant20To50']\n",
    "\n",
    "my_ordinal_categories_list = [['5-14', '15-24', '25plus'],\n",
    "                           ['unknown', 'never', 'less1', '1~3', '4~8', 'gt8'],\n",
    "                           ['unknown', 'never', 'less1', '1~3', '4~8', 'gt8'],\n",
    "                           ['unknown', 'never', 'less1', '1~3', '4~8', 'gt8'],\n",
    "                           ['unknown', 'never', 'less1', '1~3', '4~8', 'gt8'],\n",
    "                           ['unknown', 'never', 'less1', '1~3', '4~8', 'gt8']]\n",
    "\n",
    "my_nominal_colnames = ['time', 'age', 'education', 'income', 'temperature',\n",
    "                    'destination', 'passanger', 'weather', 'expiration', 'gender', 'maritalStatus', 'occupation']\n",
    "\n",
    "coupon_type_outfile_name = {'Bar': 'Bar',\n",
    "                           'Coffee House': 'CoffeeHouse',\n",
    "                           'Carry out & Take away': 'CarryAway',\n",
    "                           'Restaurant(<20)': 'RestaurantLessThan20',\n",
    "                           'Restaurant(20-50)': 'Restaurant20To50'}\n",
    "\n",
    "my_ordinal_data = data[my_ordinal_colnames]\n",
    "my_ordinal_encoder = OrdinalEncoder(categories=my_ordinal_categories_list)\n",
    "my_encoded_ordinal_data = pd.DataFrame(my_ordinal_encoder.fit_transform(my_ordinal_data), \n",
    "                                       columns=my_ordinal_data.columns)\n",
    "\n",
    "my_nominal_data = data[my_nominal_colnames]\n",
    "my_encoded_nominal_data = pd.get_dummies(my_nominal_data, drop_first=True)\n",
    "\n",
    "my_recombined_data = pd.concat([binary_numeric_data, \n",
    "                                my_encoded_ordinal_data, \n",
    "                                my_encoded_nominal_data, data.coupon], axis=1)\n",
    "my_recombined_data.to_csv(f'data/full_dataset_encoded_plus_coupon-all5_nominal.csv', index=False)\n",
    "\n",
    "for k,v in coupon_type_outfile_name.items():\n",
    "    subset_data = my_recombined_data[my_recombined_data['coupon'] == k]\n",
    "    subset_data = subset_data.drop('coupon', axis=1)\n",
    "    subset_data.to_csv(f'data/{v}_data_encoded-all5_nominal.csv', index=False)"
   ]
  },
  {
   "cell_type": "markdown",
   "id": "6386f984",
   "metadata": {},
   "source": [
    "## Encode subsets of 2-4 for each coupon\n",
    "\n",
    "Choice of subsets is based on the results seen in `assess_nominal_vs_ordinal_encoding.ipynb`\n",
    "\n",
    "Encode subset of 5 features that have a better test score for their individual nominal encoding (as compared to original all ordinal)\n",
    "\n",
    "Note: Bar and CarryOut only have one feature that's better so we don't need a new subset\n",
    "\n",
    "output filenaming:\n",
    "* A: age\n",
    "* E: education\n",
    "* I: income\n",
    "* M: time\n",
    "* P: temperature"
   ]
  },
  {
   "cell_type": "markdown",
   "id": "c87d41ba",
   "metadata": {},
   "source": [
    "### Expensive Restaurant"
   ]
  },
  {
   "cell_type": "code",
   "execution_count": 23,
   "id": "64656632",
   "metadata": {},
   "outputs": [],
   "source": [
    "### Expensive Restaurant\n",
    "my_ordinal_colnames = ['income', 'minsToCouponDest',\n",
    "                   'Bar', 'CoffeeHouse', 'CarryAway', 'RestaurantLessThan20', 'Restaurant20To50']\n",
    "\n",
    "my_ordinal_categories_list = [['Less than $12500', '$12500 - $24999', '$25000 - $37499', '$37500 - $49999',\n",
    "                            '$50000 - $62499', '$62500 - $74999', '$75000 - $87499', '$87500 - $99999',\n",
    "                            '$100000 or More'],\n",
    "                           ['5-14', '15-24', '25plus'],\n",
    "                           ['unknown', 'never', 'less1', '1~3', '4~8', 'gt8'],\n",
    "                           ['unknown', 'never', 'less1', '1~3', '4~8', 'gt8'],\n",
    "                           ['unknown', 'never', 'less1', '1~3', '4~8', 'gt8'],\n",
    "                           ['unknown', 'never', 'less1', '1~3', '4~8', 'gt8'],\n",
    "                           ['unknown', 'never', 'less1', '1~3', '4~8', 'gt8']]\n",
    "\n",
    "my_nominal_colnames = ['time', 'age', 'education', 'temperature',\n",
    "                       'destination', 'passanger', 'weather', 'expiration', 'gender', 'maritalStatus', 'occupation']\n",
    "\n",
    "my_ordinal_data = data[my_ordinal_colnames]\n",
    "my_ordinal_encoder = OrdinalEncoder(categories=my_ordinal_categories_list)\n",
    "my_encoded_ordinal_data = pd.DataFrame(my_ordinal_encoder.fit_transform(my_ordinal_data), \n",
    "                                       columns=my_ordinal_data.columns)\n",
    "\n",
    "my_nominal_data = data[my_nominal_colnames]\n",
    "my_encoded_nominal_data = pd.get_dummies(my_nominal_data, drop_first=True)\n",
    "\n",
    "my_recombined_data = pd.concat([binary_numeric_data, \n",
    "                                my_encoded_ordinal_data, \n",
    "                                my_encoded_nominal_data, data.coupon], axis=1)\n",
    "\n",
    "subset_data = my_recombined_data[my_recombined_data['coupon'] == 'Restaurant(20-50)']\n",
    "subset_data = subset_data.drop('coupon', axis=1)\n",
    "subset_data.to_csv('data/Restaurant20To50_data_encoded-AEPM_nominal.csv', index=False)"
   ]
  },
  {
   "cell_type": "markdown",
   "id": "55ecdbe5",
   "metadata": {},
   "source": [
    "### Cheap Restaurant"
   ]
  },
  {
   "cell_type": "code",
   "execution_count": 24,
   "id": "db7ce17b",
   "metadata": {},
   "outputs": [],
   "source": [
    "### Cheap Restaurant\n",
    "my_ordinal_colnames = ['age', 'minsToCouponDest',\n",
    "                   'Bar', 'CoffeeHouse', 'CarryAway', 'RestaurantLessThan20', 'Restaurant20To50']\n",
    "\n",
    "my_ordinal_categories_list = [['below21', '21', '26', '31', '36', '41', '46', '50plus'],\n",
    "                           ['5-14', '15-24', '25plus'],\n",
    "                           ['unknown', 'never', 'less1', '1~3', '4~8', 'gt8'],\n",
    "                           ['unknown', 'never', 'less1', '1~3', '4~8', 'gt8'],\n",
    "                           ['unknown', 'never', 'less1', '1~3', '4~8', 'gt8'],\n",
    "                           ['unknown', 'never', 'less1', '1~3', '4~8', 'gt8'],\n",
    "                           ['unknown', 'never', 'less1', '1~3', '4~8', 'gt8']]\n",
    "\n",
    "my_nominal_colnames = ['time', 'education', 'income', 'temperature', \n",
    "                       'destination', 'passanger', 'weather', 'expiration', 'gender', 'maritalStatus', 'occupation']\n",
    "\n",
    "my_ordinal_data = data[my_ordinal_colnames]\n",
    "my_ordinal_encoder = OrdinalEncoder(categories=my_ordinal_categories_list)\n",
    "my_encoded_ordinal_data = pd.DataFrame(my_ordinal_encoder.fit_transform(my_ordinal_data), \n",
    "                                       columns=my_ordinal_data.columns)\n",
    "\n",
    "my_nominal_data = data[my_nominal_colnames]\n",
    "my_encoded_nominal_data = pd.get_dummies(my_nominal_data, drop_first=True)\n",
    "\n",
    "my_recombined_data = pd.concat([binary_numeric_data, \n",
    "                                my_encoded_ordinal_data, \n",
    "                                my_encoded_nominal_data, data.coupon], axis=1)\n",
    "\n",
    "subset_data = my_recombined_data[my_recombined_data['coupon'] == 'Restaurant(<20)']\n",
    "subset_data = subset_data.drop('coupon', axis=1)\n",
    "subset_data.to_csv('data/RestaurantLessThan20_data_encoded-EIPM_nominal.csv', index=False)"
   ]
  },
  {
   "cell_type": "markdown",
   "id": "4a16dea3",
   "metadata": {},
   "source": [
    "### Coffee House"
   ]
  },
  {
   "cell_type": "code",
   "execution_count": 25,
   "id": "f21e01d9",
   "metadata": {},
   "outputs": [],
   "source": [
    "### Coffee House\n",
    "my_ordinal_colnames = ['time', 'education', 'temperature', 'minsToCouponDest',\n",
    "                   'Bar', 'CoffeeHouse', 'CarryAway', 'RestaurantLessThan20', 'Restaurant20To50']\n",
    "\n",
    "my_ordinal_categories_list = [['7AM', '10AM', '2PM', '6PM', '10PM'],\n",
    "                           ['Some High School', 'High School Graduate', 'Some college - no degree',\n",
    "                            'Associates degree', 'Bachelors degree', 'Graduate degree (Masters or Doctorate)'],\n",
    "                           ['30', '55', '80'],\n",
    "                           ['5-14', '15-24', '25plus'],\n",
    "                           ['unknown', 'never', 'less1', '1~3', '4~8', 'gt8'],\n",
    "                           ['unknown', 'never', 'less1', '1~3', '4~8', 'gt8'],\n",
    "                           ['unknown', 'never', 'less1', '1~3', '4~8', 'gt8'],\n",
    "                           ['unknown', 'never', 'less1', '1~3', '4~8', 'gt8'],\n",
    "                           ['unknown', 'never', 'less1', '1~3', '4~8', 'gt8']]\n",
    "\n",
    "my_nominal_colnames = ['age', 'income',\n",
    "                       'destination', 'passanger', 'weather', 'expiration', 'gender', 'maritalStatus', 'occupation']\n",
    "\n",
    "my_ordinal_data = data[my_ordinal_colnames]\n",
    "my_ordinal_encoder = OrdinalEncoder(categories=my_ordinal_categories_list)\n",
    "my_encoded_ordinal_data = pd.DataFrame(my_ordinal_encoder.fit_transform(my_ordinal_data), \n",
    "                                       columns=my_ordinal_data.columns)\n",
    "\n",
    "my_nominal_data = data[my_nominal_colnames]\n",
    "my_encoded_nominal_data = pd.get_dummies(my_nominal_data, drop_first=True)\n",
    "\n",
    "my_recombined_data = pd.concat([binary_numeric_data, \n",
    "                                my_encoded_ordinal_data, \n",
    "                                my_encoded_nominal_data, data.coupon], axis=1)\n",
    "\n",
    "subset_data = my_recombined_data[my_recombined_data['coupon'] == 'Coffee House']\n",
    "subset_data = subset_data.drop('coupon', axis=1)\n",
    "subset_data.to_csv('data/CoffeeHouse_data_encoded-AI_nominal.csv', index=False)"
   ]
  }
 ],
 "metadata": {
  "kernelspec": {
   "display_name": "Python 3 (ipykernel)",
   "language": "python",
   "name": "python3"
  },
  "language_info": {
   "codemirror_mode": {
    "name": "ipython",
    "version": 3
   },
   "file_extension": ".py",
   "mimetype": "text/x-python",
   "name": "python",
   "nbconvert_exporter": "python",
   "pygments_lexer": "ipython3",
   "version": "3.9.7"
  }
 },
 "nbformat": 4,
 "nbformat_minor": 5
}
