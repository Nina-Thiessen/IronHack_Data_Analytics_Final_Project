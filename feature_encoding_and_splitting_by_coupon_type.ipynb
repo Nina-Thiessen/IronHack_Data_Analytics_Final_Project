{
 "cells": [
  {
   "cell_type": "code",
   "execution_count": 52,
   "id": "78b818f9",
   "metadata": {},
   "outputs": [],
   "source": [
    "import os, copy\n",
    "import numpy as np\n",
    "import pandas as pd\n",
    "import warnings\n",
    "warnings.filterwarnings(\"ignore\")\n",
    "import pickle\n",
    "\n",
    "from sklearn.preprocessing import OrdinalEncoder\n",
    "from sklearn.impute import SimpleImputer\n",
    "\n",
    "## to make it possible to display multiple output inside one cell \n",
    "from IPython.core.interactiveshell import InteractiveShell\n",
    "InteractiveShell.ast_node_interactivity = \"all\"\n",
    "\n",
    "pd.options.display.max_rows = 50\n",
    "pd.set_option('display.float_format', lambda x: '%9.8f' % x)"
   ]
  },
  {
   "cell_type": "code",
   "execution_count": 2,
   "id": "06a1189d",
   "metadata": {},
   "outputs": [],
   "source": [
    "file_name = \"data/in-vehicle-coupon-recommendation.csv\"\n",
    "data = pd.read_csv(file_name)\n",
    "\n",
    "data = data.drop(['car', 'direction_opp'], axis=1)"
   ]
  },
  {
   "cell_type": "code",
   "execution_count": 3,
   "id": "072c3264",
   "metadata": {},
   "outputs": [],
   "source": [
    "## populate new column minsToCouponDest with values ['5-14', '15-24', '25plus']\n",
    "data.loc[(data.toCoupon_GEQ25min == 1), 'minsToCouponDest'] = '25plus'\n",
    "data.loc[(data.toCoupon_GEQ25min == 0) & (data.toCoupon_GEQ15min==1), 'minsToCouponDest'] = '15-24'\n",
    "data.loc[(data.toCoupon_GEQ25min == 0) & (data.toCoupon_GEQ15min==0), 'minsToCouponDest'] = '5-14'\n",
    "\n",
    "## drop separate cols\n",
    "data = data.drop(['toCoupon_GEQ5min', 'toCoupon_GEQ15min', 'toCoupon_GEQ25min'], axis=1)"
   ]
  },
  {
   "cell_type": "code",
   "execution_count": 8,
   "id": "0c4b843d",
   "metadata": {},
   "outputs": [],
   "source": [
    "## convert temperature to string\n",
    "data['temperature'] = data.temperature.astype(str)"
   ]
  },
  {
   "cell_type": "markdown",
   "id": "2868740d",
   "metadata": {},
   "source": [
    "# Split by coupon type"
   ]
  },
  {
   "cell_type": "code",
   "execution_count": 9,
   "id": "15fd4217",
   "metadata": {},
   "outputs": [],
   "source": [
    "Bar_data = data[data['coupon'] == 'Bar']\n",
    "Bar_data = Bar_data.drop('coupon', axis=1)\n",
    "Bar_data.to_csv('data/Bar_data.csv', index=False)\n",
    "\n",
    "CoffeeHouse_data = data[data['coupon'] == 'Coffee House']\n",
    "CoffeeHouse_data = CoffeeHouse_data.drop('coupon', axis=1)\n",
    "CoffeeHouse_data.to_csv('data/CoffeeHouse_data.csv', index=False)\n",
    "\n",
    "CarryAway_data = data[data['coupon'] == 'Carry out & Take away']\n",
    "CarryAway_data = CarryAway_data.drop('coupon', axis=1)\n",
    "CarryAway_data.to_csv('data/CarryAway_data.csv', index=False)\n",
    "\n",
    "RestaurantLessThan20_data = data[data['coupon'] == 'Restaurant(<20)']\n",
    "RestaurantLessThan20_data = RestaurantLessThan20_data.drop('coupon', axis=1)\n",
    "RestaurantLessThan20_data.to_csv('data/RestaurantLessThan20_data.csv', index=False)\n",
    "\n",
    "Restaurant20To50_data = data[data['coupon'] == 'Restaurant(20-50)']\n",
    "Restaurant20To50_data = Restaurant20To50_data.drop('coupon', axis=1)\n",
    "Restaurant20To50_data.to_csv('data/Restaurant20To50_data.csv', index=False)"
   ]
  },
  {
   "cell_type": "markdown",
   "id": "3a0ef551",
   "metadata": {},
   "source": [
    "## Handle missing values"
   ]
  },
  {
   "cell_type": "code",
   "execution_count": 12,
   "id": "cd51146b",
   "metadata": {},
   "outputs": [
    {
     "data": {
      "text/plain": [
       "['Bar', 'CoffeeHouse', 'CarryAway', 'RestaurantLessThan20', 'Restaurant20To50']"
      ]
     },
     "execution_count": 12,
     "metadata": {},
     "output_type": "execute_result"
    }
   ],
   "source": [
    "data.columns[data.isna().any()].tolist()"
   ]
  },
  {
   "cell_type": "code",
   "execution_count": 29,
   "id": "30f586b6",
   "metadata": {},
   "outputs": [],
   "source": [
    "## manually add indicator columns\n",
    "data['Bar_freq_unknown'] = np.where(data['Bar'].isna(), 1, 0)\n",
    "data['CoffeeHouse_freq_unknown'] = np.where(data['CoffeeHouse'].isna(), 1, 0)\n",
    "data['CarryAway_freq_unknown'] = np.where(data['CarryAway'].isna(), 1, 0)\n",
    "data['RestaurantLessThan20_freq_unknown'] = np.where(data['RestaurantLessThan20'].isna(), 1, 0)\n",
    "data['Restaurant20To50_freq_unknown'] = np.where(data['Restaurant20To50'].isna(), 1, 0)"
   ]
  },
  {
   "cell_type": "code",
   "execution_count": 30,
   "id": "23f1e854",
   "metadata": {},
   "outputs": [],
   "source": [
    "imputer = SimpleImputer(missing_values=np.nan, strategy='most_frequent')"
   ]
  },
  {
   "cell_type": "code",
   "execution_count": 31,
   "id": "ba344bd7",
   "metadata": {},
   "outputs": [
    {
     "data": {
      "text/plain": [
       "SimpleImputer(strategy='most_frequent')"
      ]
     },
     "execution_count": 31,
     "metadata": {},
     "output_type": "execute_result"
    }
   ],
   "source": [
    "## fit and transform using the entire dataset\n",
    "imputer.fit(data)\n",
    "data2 = imputer.transform(data)\n",
    "\n",
    "data = pd.DataFrame(data2, columns = data.columns)"
   ]
  },
  {
   "cell_type": "code",
   "execution_count": 34,
   "id": "5a68f5d8",
   "metadata": {},
   "outputs": [],
   "source": [
    "filename = f\"model/imputer.pickle\"\n",
    "with open(filename, \"wb\") as f:\n",
    "    pickle.dump(imputer,f)"
   ]
  },
  {
   "cell_type": "code",
   "execution_count": 35,
   "id": "e179d412",
   "metadata": {},
   "outputs": [
    {
     "data": {
      "text/plain": [
       "Index(['destination', 'passanger', 'weather', 'temperature', 'time', 'coupon',\n",
       "       'expiration', 'gender', 'age', 'maritalStatus', 'has_children',\n",
       "       'education', 'occupation', 'income', 'Bar', 'CoffeeHouse', 'CarryAway',\n",
       "       'RestaurantLessThan20', 'Restaurant20To50', 'direction_same', 'Y',\n",
       "       'minsToCouponDest', 'Bar_freq_unknown', 'CoffeeHouse_freq_unknown',\n",
       "       'CarryAway_freq_unknown', 'RestaurantLessThan20_freq_unknown',\n",
       "       'Restaurant20To50_freq_unknown'],\n",
       "      dtype='object')"
      ]
     },
     "execution_count": 35,
     "metadata": {},
     "output_type": "execute_result"
    }
   ],
   "source": [
    "data.columns"
   ]
  },
  {
   "cell_type": "markdown",
   "id": "52ff43b8",
   "metadata": {},
   "source": [
    "# Encode features"
   ]
  },
  {
   "cell_type": "markdown",
   "id": "e9b6b7e3",
   "metadata": {},
   "source": [
    "### Binary features already encoded as numeric\n",
    "\n",
    "`['has_children', 'direction_same', 'Bar_freq_unknown', 'CoffeeHouse_freq_unknown',\n",
    "  'CarryAway_freq_unknown', 'RestaurantLessThan20_freq_unknown', 'Restaurant20To50_freq_unknown', 'Y']`\n",
    "\n",
    "### Ordinal\n",
    "\n",
    "`['Bar', 'CoffeeHouse', 'CarryAway', 'RestaurantLessThan20', 'Restaurant20To50', 'minsToCouponDest']`\n",
    "\n",
    "\n",
    "### Ordinal features where the order may or may not matter. \n",
    "(Encode as Ordinal for now)\n",
    "\n",
    "`['time', 'age', 'education', 'income', 'temperature']`\n",
    "\n",
    "\n",
    "### Nominal (unordered)\n",
    "\n",
    "`['destination', 'passanger', 'weather', 'expiration', 'gender', 'maritalStatus', 'occupation']`\n"
   ]
  },
  {
   "cell_type": "code",
   "execution_count": 36,
   "id": "33495786",
   "metadata": {},
   "outputs": [],
   "source": [
    "binary_numeric_data = data[['has_children', 'direction_same', 'Bar_freq_unknown', 'CoffeeHouse_freq_unknown',\n",
    "       'CarryAway_freq_unknown', 'RestaurantLessThan20_freq_unknown', 'Restaurant20To50_freq_unknown', 'Y']]"
   ]
  },
  {
   "cell_type": "code",
   "execution_count": 39,
   "id": "bc10e6f3",
   "metadata": {},
   "outputs": [],
   "source": [
    "## Note: encoding cannot handle missing values\n",
    "ordinal_colnames = ['time', 'age', 'education', 'income', 'temperature', 'minsToCouponDest',\n",
    "                   'Bar', 'CoffeeHouse', 'CarryAway', 'RestaurantLessThan20', 'Restaurant20To50']\n",
    "ordinal_data = data[ordinal_colnames]\n",
    "\n",
    "ordinal_categories_list = [['7AM', '10AM', '2PM', '6PM', '10PM'],\n",
    "                           ['below21', '21', '26', '31', '36', '41', '46', '50plus'],\n",
    "                           ['Some High School', 'High School Graduate', 'Some college - no degree',\n",
    "                            'Associates degree', 'Bachelors degree', 'Graduate degree (Masters or Doctorate)'],\n",
    "                           ['Less than $12500', '$12500 - $24999', '$25000 - $37499', '$37500 - $49999',\n",
    "                            '$50000 - $62499', '$62500 - $74999', '$75000 - $87499', '$87500 - $99999',\n",
    "                            '$100000 or More'],\n",
    "                           ['30', '55', '80'],\n",
    "                           ['5-14', '15-24', '25plus'],\n",
    "                           ['never', 'less1', '1~3', '4~8', 'gt8'],\n",
    "                           ['never', 'less1', '1~3', '4~8', 'gt8'],\n",
    "                           ['never', 'less1', '1~3', '4~8', 'gt8'],\n",
    "                           ['never', 'less1', '1~3', '4~8', 'gt8'],\n",
    "                           ['never', 'less1', '1~3', '4~8', 'gt8']]\n",
    "\n",
    "ordinal_encoder = OrdinalEncoder(categories=ordinal_categories_list)\n",
    "\n",
    "## run the encoding\n",
    "encoded_ordinal_data = pd.DataFrame(ordinal_encoder.fit_transform(ordinal_data), columns=ordinal_data.columns)"
   ]
  },
  {
   "cell_type": "code",
   "execution_count": 38,
   "id": "19af802e",
   "metadata": {},
   "outputs": [],
   "source": [
    "nominal_colnames = ['destination', 'passanger', 'weather', 'expiration', 'gender', 'maritalStatus', 'occupation']\n",
    "nominal_data = data[nominal_colnames]\n",
    "\n",
    "encoded_nominal_data = pd.get_dummies(nominal_data, drop_first=True)"
   ]
  },
  {
   "cell_type": "code",
   "execution_count": 44,
   "id": "5cb2fd93",
   "metadata": {},
   "outputs": [],
   "source": [
    "recombined_data = pd.concat([binary_numeric_data, encoded_ordinal_data, encoded_nominal_data, data.coupon], axis=1)"
   ]
  },
  {
   "cell_type": "code",
   "execution_count": 47,
   "id": "05c1a9a2",
   "metadata": {},
   "outputs": [],
   "source": [
    "recombined_data.to_csv('data/full_dataset_encoded_plus_coupon.csv', index=False)"
   ]
  },
  {
   "cell_type": "markdown",
   "id": "e4311a53",
   "metadata": {},
   "source": [
    "## Split encoded data by coupon type"
   ]
  },
  {
   "cell_type": "code",
   "execution_count": 46,
   "id": "e58e43f9",
   "metadata": {},
   "outputs": [],
   "source": [
    "Bar_data = recombined_data[recombined_data['coupon'] == 'Bar']\n",
    "Bar_data = Bar_data.drop('coupon', axis=1)\n",
    "Bar_data.to_csv('data/Bar_data_encoded.csv', index=False)\n",
    "\n",
    "CoffeeHouse_data = recombined_data[recombined_data['coupon'] == 'Coffee House']\n",
    "CoffeeHouse_data = CoffeeHouse_data.drop('coupon', axis=1)\n",
    "CoffeeHouse_data.to_csv('data/CoffeeHouse_data_encoded.csv', index=False)\n",
    "\n",
    "CarryAway_data = recombined_data[recombined_data['coupon'] == 'Carry out & Take away']\n",
    "CarryAway_data = CarryAway_data.drop('coupon', axis=1)\n",
    "CarryAway_data.to_csv('data/CarryAway_data_encoded.csv', index=False)\n",
    "\n",
    "RestaurantLessThan20_data = recombined_data[recombined_data['coupon'] == 'Restaurant(<20)']\n",
    "RestaurantLessThan20_data = RestaurantLessThan20_data.drop('coupon', axis=1)\n",
    "RestaurantLessThan20_data.to_csv('data/RestaurantLessThan20_data_encoded.csv', index=False)\n",
    "\n",
    "Restaurant20To50_data = recombined_data[recombined_data['coupon'] == 'Restaurant(20-50)']\n",
    "Restaurant20To50_data = Restaurant20To50_data.drop('coupon', axis=1)\n",
    "Restaurant20To50_data.to_csv('data/Restaurant20To50_data_encoded.csv', index=False)"
   ]
  },
  {
   "cell_type": "markdown",
   "id": "139a2b12",
   "metadata": {},
   "source": [
    "# Phase II: Exploring encoding 5 variables as nominal instead of ordinal\n",
    "('time', 'age', 'education', 'income', 'temperature')\n"
   ]
  },
  {
   "cell_type": "markdown",
   "id": "27e916d8",
   "metadata": {},
   "source": [
    "## Nominal encode each of the 5 features individually "
   ]
  },
  {
   "cell_type": "code",
   "execution_count": 61,
   "id": "a0783507",
   "metadata": {},
   "outputs": [
    {
     "name": "stdout",
     "output_type": "stream",
     "text": [
      "time\n",
      "\n",
      "age\n",
      "\n",
      "education\n",
      "\n",
      "income\n",
      "\n",
      "temperature\n",
      "\n"
     ]
    }
   ],
   "source": [
    "ordinal_colnames = ['time', 'age', 'education', 'income', 'temperature', 'minsToCouponDest',\n",
    "                   'Bar', 'CoffeeHouse', 'CarryAway', 'RestaurantLessThan20', 'Restaurant20To50']\n",
    "\n",
    "ordinal_categories_list = [['7AM', '10AM', '2PM', '6PM', '10PM'],\n",
    "                           ['below21', '21', '26', '31', '36', '41', '46', '50plus'],\n",
    "                           ['Some High School', 'High School Graduate', 'Some college - no degree',\n",
    "                            'Associates degree', 'Bachelors degree', 'Graduate degree (Masters or Doctorate)'],\n",
    "                           ['Less than $12500', '$12500 - $24999', '$25000 - $37499', '$37500 - $49999',\n",
    "                            '$50000 - $62499', '$62500 - $74999', '$75000 - $87499', '$87500 - $99999',\n",
    "                            '$100000 or More'],\n",
    "                           ['30', '55', '80'],\n",
    "                           ['5-14', '15-24', '25plus'],\n",
    "                           ['never', 'less1', '1~3', '4~8', 'gt8'],\n",
    "                           ['never', 'less1', '1~3', '4~8', 'gt8'],\n",
    "                           ['never', 'less1', '1~3', '4~8', 'gt8'],\n",
    "                           ['never', 'less1', '1~3', '4~8', 'gt8'],\n",
    "                           ['never', 'less1', '1~3', '4~8', 'gt8']]\n",
    "nominal_colnames = ['destination', 'passanger', 'weather', 'expiration', 'gender', 'maritalStatus', 'occupation']\n",
    "\n",
    "coupon_type_outfile_name = {'Bar': 'Bar',\n",
    "                           'Coffee House': 'CoffeeHouse',\n",
    "                           'Carry out & Take away': 'CarryAway',\n",
    "                           'Restaurant(<20)': 'RestaurantLessThan20',\n",
    "                           'Restaurant(20-50)': 'Restaurant20To50'}\n",
    "\n",
    "for i in range(5):\n",
    "    my_ordinal_colnames = copy.deepcopy(ordinal_colnames)\n",
    "    nom_feature = my_ordinal_colnames.pop(i)\n",
    "    print(f\"{nom_feature}\\n\")\n",
    "\n",
    "    my_ordinal_data = data[my_ordinal_colnames]\n",
    "    my_ordinal_categories_list = copy.deepcopy(ordinal_categories_list)\n",
    "    del my_ordinal_categories_list[i]\n",
    "    my_ordinal_encoder = OrdinalEncoder(categories=my_ordinal_categories_list)\n",
    "\n",
    "    my_encoded_ordinal_data = pd.DataFrame(my_ordinal_encoder.fit_transform(my_ordinal_data), \n",
    "                                           columns=my_ordinal_data.columns)\n",
    "    \n",
    "    my_nominal_colnames = nominal_colnames + [nom_feature]\n",
    "    my_nominal_data = data[my_nominal_colnames]\n",
    "    my_encoded_nominal_data = pd.get_dummies(my_nominal_data, drop_first=True)\n",
    "\n",
    "    my_recombined_data = pd.concat([binary_numeric_data, \n",
    "                                    my_encoded_ordinal_data, \n",
    "                                    my_encoded_nominal_data, data.coupon], axis=1)\n",
    "    my_recombined_data.to_csv(f'data/full_dataset_encoded_plus_coupon-{nom_feature}_nominal.csv', index=False)\n",
    "    for k,v in coupon_type_outfile_name.items():\n",
    "        subset_data = my_recombined_data[my_recombined_data['coupon'] == k]\n",
    "        subset_data = subset_data.drop('coupon', axis=1)\n",
    "        subset_data.to_csv(f'data/{v}_data_encoded-{nom_feature}_nominal.csv', index=False)"
   ]
  },
  {
   "cell_type": "markdown",
   "id": "e37ead41",
   "metadata": {},
   "source": [
    "## Encode all 5 as nominal (together)"
   ]
  },
  {
   "cell_type": "code",
   "execution_count": 62,
   "id": "fa7149b8",
   "metadata": {},
   "outputs": [],
   "source": [
    "\n",
    "my_ordinal_colnames = ['minsToCouponDest',\n",
    "                   'Bar', 'CoffeeHouse', 'CarryAway', 'RestaurantLessThan20', 'Restaurant20To50']\n",
    "\n",
    "my_ordinal_categories_list = [['5-14', '15-24', '25plus'],\n",
    "                           ['never', 'less1', '1~3', '4~8', 'gt8'],\n",
    "                           ['never', 'less1', '1~3', '4~8', 'gt8'],\n",
    "                           ['never', 'less1', '1~3', '4~8', 'gt8'],\n",
    "                           ['never', 'less1', '1~3', '4~8', 'gt8'],\n",
    "                           ['never', 'less1', '1~3', '4~8', 'gt8']]\n",
    "\n",
    "my_nominal_colnames = ['time', 'age', 'education', 'income', 'temperature',\n",
    "                    'destination', 'passanger', 'weather', 'expiration', 'gender', 'maritalStatus', 'occupation']\n",
    "\n",
    "coupon_type_outfile_name = {'Bar': 'Bar',\n",
    "                           'Coffee House': 'CoffeeHouse',\n",
    "                           'Carry out & Take away': 'CarryAway',\n",
    "                           'Restaurant(<20)': 'RestaurantLessThan20',\n",
    "                           'Restaurant(20-50)': 'Restaurant20To50'}\n",
    "\n",
    "my_ordinal_data = data[my_ordinal_colnames]\n",
    "my_ordinal_encoder = OrdinalEncoder(categories=my_ordinal_categories_list)\n",
    "my_encoded_ordinal_data = pd.DataFrame(my_ordinal_encoder.fit_transform(my_ordinal_data), \n",
    "                                       columns=my_ordinal_data.columns)\n",
    "\n",
    "my_nominal_data = data[my_nominal_colnames]\n",
    "my_encoded_nominal_data = pd.get_dummies(my_nominal_data, drop_first=True)\n",
    "\n",
    "my_recombined_data = pd.concat([binary_numeric_data, \n",
    "                                my_encoded_ordinal_data, \n",
    "                                my_encoded_nominal_data, data.coupon], axis=1)\n",
    "my_recombined_data.to_csv(f'data/full_dataset_encoded_plus_coupon-all5_nominal.csv', index=False)\n",
    "\n",
    "for k,v in coupon_type_outfile_name.items():\n",
    "    subset_data = my_recombined_data[my_recombined_data['coupon'] == k]\n",
    "    subset_data = subset_data.drop('coupon', axis=1)\n",
    "    subset_data.to_csv(f'data/{v}_data_encoded-all5_nominal.csv', index=False)"
   ]
  },
  {
   "cell_type": "markdown",
   "id": "a7e4819d",
   "metadata": {},
   "source": [
    "## Encode subsets for each coupon\n",
    "Choice of subsets is based on the results seen in `assess_nominal_vs_ordinal_encoding.ipynb`\n",
    "\n",
    "(Best bar subset is all 5, so it's not included here)\n",
    "\n",
    "output filenaming:\n",
    "* A: age\n",
    "* E: education\n",
    "* I: income\n",
    "* M: time\n",
    "* P: temperature"
   ]
  },
  {
   "cell_type": "markdown",
   "id": "ce37f185",
   "metadata": {},
   "source": [
    "### Expensive Restaurant"
   ]
  },
  {
   "cell_type": "code",
   "execution_count": 63,
   "id": "336d56f8",
   "metadata": {},
   "outputs": [],
   "source": [
    "### Expensive Restaurant\n",
    "my_ordinal_colnames = ['time', 'minsToCouponDest',\n",
    "                   'Bar', 'CoffeeHouse', 'CarryAway', 'RestaurantLessThan20', 'Restaurant20To50']\n",
    "\n",
    "my_ordinal_categories_list = [['7AM', '10AM', '2PM', '6PM', '10PM'],\n",
    "                           ['5-14', '15-24', '25plus'],\n",
    "                           ['never', 'less1', '1~3', '4~8', 'gt8'],\n",
    "                           ['never', 'less1', '1~3', '4~8', 'gt8'],\n",
    "                           ['never', 'less1', '1~3', '4~8', 'gt8'],\n",
    "                           ['never', 'less1', '1~3', '4~8', 'gt8'],\n",
    "                           ['never', 'less1', '1~3', '4~8', 'gt8']]\n",
    "my_nominal_colnames = ['age', 'education', 'income', 'temperature',\n",
    "                       'destination', 'passanger', 'weather', 'expiration', 'gender', 'maritalStatus', 'occupation']\n",
    "\n",
    "my_ordinal_data = data[my_ordinal_colnames]\n",
    "my_ordinal_encoder = OrdinalEncoder(categories=my_ordinal_categories_list)\n",
    "my_encoded_ordinal_data = pd.DataFrame(my_ordinal_encoder.fit_transform(my_ordinal_data), \n",
    "                                       columns=my_ordinal_data.columns)\n",
    "\n",
    "my_nominal_data = data[my_nominal_colnames]\n",
    "my_encoded_nominal_data = pd.get_dummies(my_nominal_data, drop_first=True)\n",
    "\n",
    "my_recombined_data = pd.concat([binary_numeric_data, \n",
    "                                my_encoded_ordinal_data, \n",
    "                                my_encoded_nominal_data, data.coupon], axis=1)\n",
    "\n",
    "subset_data = my_recombined_data[my_recombined_data['coupon'] == 'Restaurant(20-50)']\n",
    "subset_data = subset_data.drop('coupon', axis=1)\n",
    "subset_data.to_csv('data/Restaurant20To50_data_encoded-AEIP_nominal.csv', index=False)"
   ]
  },
  {
   "cell_type": "markdown",
   "id": "903b0682",
   "metadata": {},
   "source": [
    "### Cheap Restaurant"
   ]
  },
  {
   "cell_type": "code",
   "execution_count": 64,
   "id": "c81c1dc2",
   "metadata": {},
   "outputs": [],
   "source": [
    "### Cheap Restaurant\n",
    "my_ordinal_colnames = ['age',  'income', 'temperature', 'minsToCouponDest',\n",
    "                   'Bar', 'CoffeeHouse', 'CarryAway', 'RestaurantLessThan20', 'Restaurant20To50']\n",
    "\n",
    "my_ordinal_categories_list = [['below21', '21', '26', '31', '36', '41', '46', '50plus'],\n",
    "                           ['Less than $12500', '$12500 - $24999', '$25000 - $37499', '$37500 - $49999',\n",
    "                            '$50000 - $62499', '$62500 - $74999', '$75000 - $87499', '$87500 - $99999',\n",
    "                            '$100000 or More'],\n",
    "                           ['30', '55', '80'],\n",
    "                           ['5-14', '15-24', '25plus'],\n",
    "                           ['never', 'less1', '1~3', '4~8', 'gt8'],\n",
    "                           ['never', 'less1', '1~3', '4~8', 'gt8'],\n",
    "                           ['never', 'less1', '1~3', '4~8', 'gt8'],\n",
    "                           ['never', 'less1', '1~3', '4~8', 'gt8'],\n",
    "                           ['never', 'less1', '1~3', '4~8', 'gt8']]\n",
    "my_nominal_colnames = ['time', 'education',\n",
    "                       'destination', 'passanger', 'weather', 'expiration', 'gender', 'maritalStatus', 'occupation']\n",
    "\n",
    "my_ordinal_data = data[my_ordinal_colnames]\n",
    "my_ordinal_encoder = OrdinalEncoder(categories=my_ordinal_categories_list)\n",
    "my_encoded_ordinal_data = pd.DataFrame(my_ordinal_encoder.fit_transform(my_ordinal_data), \n",
    "                                       columns=my_ordinal_data.columns)\n",
    "\n",
    "my_nominal_data = data[my_nominal_colnames]\n",
    "my_encoded_nominal_data = pd.get_dummies(my_nominal_data, drop_first=True)\n",
    "\n",
    "my_recombined_data = pd.concat([binary_numeric_data, \n",
    "                                my_encoded_ordinal_data, \n",
    "                                my_encoded_nominal_data, data.coupon], axis=1)\n",
    "\n",
    "subset_data = my_recombined_data[my_recombined_data['coupon'] == 'Restaurant(<20)']\n",
    "subset_data = subset_data.drop('coupon', axis=1)\n",
    "subset_data.to_csv('data/RestaurantLessThan20_data_encoded-EM_nominal.csv', index=False)"
   ]
  },
  {
   "cell_type": "markdown",
   "id": "c98b6154",
   "metadata": {},
   "source": [
    "### Coffee House"
   ]
  },
  {
   "cell_type": "code",
   "execution_count": 65,
   "id": "b41beba9",
   "metadata": {},
   "outputs": [],
   "source": [
    "### Coffee House\n",
    "my_ordinal_colnames = ['temperature', 'minsToCouponDest',\n",
    "                   'Bar', 'CoffeeHouse', 'CarryAway', 'RestaurantLessThan20', 'Restaurant20To50']\n",
    "\n",
    "my_ordinal_categories_list = [['30', '55', '80'],\n",
    "                           ['5-14', '15-24', '25plus'],\n",
    "                           ['never', 'less1', '1~3', '4~8', 'gt8'],\n",
    "                           ['never', 'less1', '1~3', '4~8', 'gt8'],\n",
    "                           ['never', 'less1', '1~3', '4~8', 'gt8'],\n",
    "                           ['never', 'less1', '1~3', '4~8', 'gt8'],\n",
    "                           ['never', 'less1', '1~3', '4~8', 'gt8']]\n",
    "my_nominal_colnames = ['time', 'age', 'education', 'income', \n",
    "                       'destination', 'passanger', 'weather', 'expiration', 'gender', 'maritalStatus', 'occupation']\n",
    "\n",
    "my_ordinal_data = data[my_ordinal_colnames]\n",
    "my_ordinal_encoder = OrdinalEncoder(categories=my_ordinal_categories_list)\n",
    "my_encoded_ordinal_data = pd.DataFrame(my_ordinal_encoder.fit_transform(my_ordinal_data), \n",
    "                                       columns=my_ordinal_data.columns)\n",
    "\n",
    "my_nominal_data = data[my_nominal_colnames]\n",
    "my_encoded_nominal_data = pd.get_dummies(my_nominal_data, drop_first=True)\n",
    "\n",
    "my_recombined_data = pd.concat([binary_numeric_data, \n",
    "                                my_encoded_ordinal_data, \n",
    "                                my_encoded_nominal_data, data.coupon], axis=1)\n",
    "\n",
    "subset_data = my_recombined_data[my_recombined_data['coupon'] == 'Coffee House']\n",
    "subset_data = subset_data.drop('coupon', axis=1)\n",
    "subset_data.to_csv('data/CoffeeHouse_data_encoded-AEIM_nominal.csv', index=False)"
   ]
  },
  {
   "cell_type": "markdown",
   "id": "a924f35c",
   "metadata": {},
   "source": [
    "### Carry out"
   ]
  },
  {
   "cell_type": "code",
   "execution_count": 66,
   "id": "6b2c7166",
   "metadata": {},
   "outputs": [],
   "source": [
    "### Carry out\n",
    "my_ordinal_colnames = ['education', 'income', 'minsToCouponDest',\n",
    "                   'Bar', 'CoffeeHouse', 'CarryAway', 'RestaurantLessThan20', 'Restaurant20To50']\n",
    "\n",
    "my_ordinal_categories_list = [['Some High School', 'High School Graduate', 'Some college - no degree',\n",
    "                            'Associates degree', 'Bachelors degree', 'Graduate degree (Masters or Doctorate)'],\n",
    "                           ['Less than $12500', '$12500 - $24999', '$25000 - $37499', '$37500 - $49999',\n",
    "                            '$50000 - $62499', '$62500 - $74999', '$75000 - $87499', '$87500 - $99999',\n",
    "                            '$100000 or More'],\n",
    "                           ['5-14', '15-24', '25plus'],\n",
    "                           ['never', 'less1', '1~3', '4~8', 'gt8'],\n",
    "                           ['never', 'less1', '1~3', '4~8', 'gt8'],\n",
    "                           ['never', 'less1', '1~3', '4~8', 'gt8'],\n",
    "                           ['never', 'less1', '1~3', '4~8', 'gt8'],\n",
    "                           ['never', 'less1', '1~3', '4~8', 'gt8']]\n",
    "my_nominal_colnames = ['time', 'age', 'temperature',\n",
    "                       'destination', 'passanger', 'weather', 'expiration', 'gender', 'maritalStatus', 'occupation']\n",
    "\n",
    "my_ordinal_data = data[my_ordinal_colnames]\n",
    "my_ordinal_encoder = OrdinalEncoder(categories=my_ordinal_categories_list)\n",
    "my_encoded_ordinal_data = pd.DataFrame(my_ordinal_encoder.fit_transform(my_ordinal_data), \n",
    "                                       columns=my_ordinal_data.columns)\n",
    "\n",
    "my_nominal_data = data[my_nominal_colnames]\n",
    "my_encoded_nominal_data = pd.get_dummies(my_nominal_data, drop_first=True)\n",
    "\n",
    "my_recombined_data = pd.concat([binary_numeric_data, \n",
    "                                my_encoded_ordinal_data, \n",
    "                                my_encoded_nominal_data, data.coupon], axis=1)\n",
    "\n",
    "subset_data = my_recombined_data[my_recombined_data['coupon'] == 'Carry out & Take away']\n",
    "subset_data = subset_data.drop('coupon', axis=1)\n",
    "subset_data.to_csv('data/CarryAway_data_encoded-APM_nominal.csv', index=False)"
   ]
  }
 ],
 "metadata": {
  "kernelspec": {
   "display_name": "Python 3 (ipykernel)",
   "language": "python",
   "name": "python3"
  },
  "language_info": {
   "codemirror_mode": {
    "name": "ipython",
    "version": 3
   },
   "file_extension": ".py",
   "mimetype": "text/x-python",
   "name": "python",
   "nbconvert_exporter": "python",
   "pygments_lexer": "ipython3",
   "version": "3.9.7"
  }
 },
 "nbformat": 4,
 "nbformat_minor": 5
}
