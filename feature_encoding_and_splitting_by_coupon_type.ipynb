{
 "cells": [
  {
   "cell_type": "code",
   "execution_count": 33,
   "id": "ff48af8f",
   "metadata": {},
   "outputs": [],
   "source": [
    "import os\n",
    "import numpy as np\n",
    "import pandas as pd\n",
    "import warnings\n",
    "warnings.filterwarnings(\"ignore\")\n",
    "import pickle\n",
    "\n",
    "from sklearn.preprocessing import OrdinalEncoder\n",
    "from sklearn.impute import SimpleImputer\n",
    "\n",
    "## to make it possible to display multiple output inside one cell \n",
    "from IPython.core.interactiveshell import InteractiveShell\n",
    "InteractiveShell.ast_node_interactivity = \"all\"\n",
    "\n",
    "pd.options.display.max_rows = 50\n",
    "pd.set_option('display.float_format', lambda x: '%9.8f' % x)"
   ]
  },
  {
   "cell_type": "code",
   "execution_count": 2,
   "id": "3d7b0555",
   "metadata": {},
   "outputs": [],
   "source": [
    "file_name = \"data/in-vehicle-coupon-recommendation.csv\"\n",
    "data = pd.read_csv(file_name)\n",
    "\n",
    "data = data.drop(['car', 'direction_opp'], axis=1)"
   ]
  },
  {
   "cell_type": "code",
   "execution_count": 3,
   "id": "5c759c63",
   "metadata": {},
   "outputs": [],
   "source": [
    "## populate new column minsToCouponDest with values ['5-14', '15-24', '25plus']\n",
    "data.loc[(data.toCoupon_GEQ25min == 1), 'minsToCouponDest'] = '25plus'\n",
    "data.loc[(data.toCoupon_GEQ25min == 0) & (data.toCoupon_GEQ15min==1), 'minsToCouponDest'] = '15-24'\n",
    "data.loc[(data.toCoupon_GEQ25min == 0) & (data.toCoupon_GEQ15min==0), 'minsToCouponDest'] = '5-14'\n",
    "\n",
    "## drop separate cols\n",
    "data = data.drop(['toCoupon_GEQ5min', 'toCoupon_GEQ15min', 'toCoupon_GEQ25min'], axis=1)"
   ]
  },
  {
   "cell_type": "code",
   "execution_count": 8,
   "id": "209d77bb",
   "metadata": {},
   "outputs": [],
   "source": [
    "## convert temperature to string\n",
    "data['temperature'] = data.temperature.astype(str)"
   ]
  },
  {
   "cell_type": "markdown",
   "id": "186bcba4",
   "metadata": {},
   "source": [
    "# Split by coupon type"
   ]
  },
  {
   "cell_type": "code",
   "execution_count": 9,
   "id": "b304b66b",
   "metadata": {},
   "outputs": [],
   "source": [
    "Bar_data = data[data['coupon'] == 'Bar']\n",
    "Bar_data = Bar_data.drop('coupon', axis=1)\n",
    "Bar_data.to_csv('data/Bar_data.csv', index=False)\n",
    "\n",
    "CoffeeHouse_data = data[data['coupon'] == 'Coffee House']\n",
    "CoffeeHouse_data = CoffeeHouse_data.drop('coupon', axis=1)\n",
    "CoffeeHouse_data.to_csv('data/CoffeeHouse_data.csv', index=False)\n",
    "\n",
    "CarryAway_data = data[data['coupon'] == 'Carry out & Take away']\n",
    "CarryAway_data = CarryAway_data.drop('coupon', axis=1)\n",
    "CarryAway_data.to_csv('data/CarryAway_data.csv', index=False)\n",
    "\n",
    "RestaurantLessThan20_data = data[data['coupon'] == 'Restaurant(<20)']\n",
    "RestaurantLessThan20_data = RestaurantLessThan20_data.drop('coupon', axis=1)\n",
    "RestaurantLessThan20_data.to_csv('data/RestaurantLessThan20_data.csv', index=False)\n",
    "\n",
    "Restaurant20To50_data = data[data['coupon'] == 'Restaurant(20-50)']\n",
    "Restaurant20To50_data = Restaurant20To50_data.drop('coupon', axis=1)\n",
    "Restaurant20To50_data.to_csv('data/Restaurant20To50_data.csv', index=False)"
   ]
  },
  {
   "cell_type": "markdown",
   "id": "0de98066",
   "metadata": {},
   "source": [
    "## Handle missing values"
   ]
  },
  {
   "cell_type": "code",
   "execution_count": 12,
   "id": "95ecb7c4",
   "metadata": {},
   "outputs": [
    {
     "data": {
      "text/plain": [
       "['Bar', 'CoffeeHouse', 'CarryAway', 'RestaurantLessThan20', 'Restaurant20To50']"
      ]
     },
     "execution_count": 12,
     "metadata": {},
     "output_type": "execute_result"
    }
   ],
   "source": [
    "data.columns[data.isna().any()].tolist()"
   ]
  },
  {
   "cell_type": "code",
   "execution_count": 29,
   "id": "17e8b3a1",
   "metadata": {},
   "outputs": [],
   "source": [
    "## manually add indicator columns\n",
    "data['Bar_freq_unknown'] = np.where(data['Bar'].isna(), 1, 0)\n",
    "data['CoffeeHouse_freq_unknown'] = np.where(data['CoffeeHouse'].isna(), 1, 0)\n",
    "data['CarryAway_freq_unknown'] = np.where(data['CarryAway'].isna(), 1, 0)\n",
    "data['RestaurantLessThan20_freq_unknown'] = np.where(data['RestaurantLessThan20'].isna(), 1, 0)\n",
    "data['Restaurant20To50_freq_unknown'] = np.where(data['Restaurant20To50'].isna(), 1, 0)"
   ]
  },
  {
   "cell_type": "code",
   "execution_count": 30,
   "id": "53f0366a",
   "metadata": {},
   "outputs": [],
   "source": [
    "imputer = SimpleImputer(missing_values=np.nan, strategy='most_frequent')"
   ]
  },
  {
   "cell_type": "code",
   "execution_count": 31,
   "id": "a4bd9dde",
   "metadata": {},
   "outputs": [
    {
     "data": {
      "text/plain": [
       "SimpleImputer(strategy='most_frequent')"
      ]
     },
     "execution_count": 31,
     "metadata": {},
     "output_type": "execute_result"
    }
   ],
   "source": [
    "## fit and transform using the entire dataset\n",
    "imputer.fit(data)\n",
    "data2 = imputer.transform(data)\n",
    "\n",
    "data = pd.DataFrame(data2, columns = data.columns)"
   ]
  },
  {
   "cell_type": "code",
   "execution_count": 34,
   "id": "d42126d3",
   "metadata": {},
   "outputs": [],
   "source": [
    "filename = f\"model/imputer.pickle\"\n",
    "with open(filename, \"wb\") as f:\n",
    "    pickle.dump(imputer,f)"
   ]
  },
  {
   "cell_type": "code",
   "execution_count": 35,
   "id": "a86d86b4",
   "metadata": {},
   "outputs": [
    {
     "data": {
      "text/plain": [
       "Index(['destination', 'passanger', 'weather', 'temperature', 'time', 'coupon',\n",
       "       'expiration', 'gender', 'age', 'maritalStatus', 'has_children',\n",
       "       'education', 'occupation', 'income', 'Bar', 'CoffeeHouse', 'CarryAway',\n",
       "       'RestaurantLessThan20', 'Restaurant20To50', 'direction_same', 'Y',\n",
       "       'minsToCouponDest', 'Bar_freq_unknown', 'CoffeeHouse_freq_unknown',\n",
       "       'CarryAway_freq_unknown', 'RestaurantLessThan20_freq_unknown',\n",
       "       'Restaurant20To50_freq_unknown'],\n",
       "      dtype='object')"
      ]
     },
     "execution_count": 35,
     "metadata": {},
     "output_type": "execute_result"
    }
   ],
   "source": [
    "data.columns"
   ]
  },
  {
   "cell_type": "markdown",
   "id": "7022e56b",
   "metadata": {},
   "source": [
    "# Encode features"
   ]
  },
  {
   "cell_type": "markdown",
   "id": "e86f9f7b",
   "metadata": {},
   "source": [
    "### Binary features already encoded as numeric\n",
    "\n",
    "`['has_children', 'direction_same', 'Bar_freq_unknown', 'CoffeeHouse_freq_unknown',\n",
    "  'CarryAway_freq_unknown', 'RestaurantLessThan20_freq_unknown', 'Restaurant20To50_freq_unknown', 'Y']`\n",
    "\n",
    "### Ordinal\n",
    "\n",
    "`['Bar', 'CoffeeHouse', 'CarryAway', 'RestaurantLessThan20', 'Restaurant20To50', 'minsToCouponDest']`\n",
    "\n",
    "\n",
    "### Ordinal features where the order may or may not matter. \n",
    "(Encode as Ordinal for now)\n",
    "\n",
    "`['time', 'age', 'education', 'income', 'temperature']`\n",
    "\n",
    "\n",
    "### Nominal (unordered)\n",
    "\n",
    "`['destination', 'passanger', 'weather', 'expiration', 'gender', 'maritalStatus', 'occupation']`\n"
   ]
  },
  {
   "cell_type": "code",
   "execution_count": 36,
   "id": "95c4b6dd",
   "metadata": {},
   "outputs": [],
   "source": [
    "binary_numeric_data = data[['has_children', 'direction_same', 'Bar_freq_unknown', 'CoffeeHouse_freq_unknown',\n",
    "       'CarryAway_freq_unknown', 'RestaurantLessThan20_freq_unknown', 'Restaurant20To50_freq_unknown', 'Y']]"
   ]
  },
  {
   "cell_type": "code",
   "execution_count": 39,
   "id": "e6282656",
   "metadata": {},
   "outputs": [],
   "source": [
    "## Note: encoding cannot handle missing values\n",
    "ordinal_colnames = ['time', 'age', 'education', 'income', 'temperature', 'minsToCouponDest',\n",
    "                   'Bar', 'CoffeeHouse', 'CarryAway', 'RestaurantLessThan20', 'Restaurant20To50']\n",
    "ordinal_data = data[ordinal_colnames]\n",
    "\n",
    "ordinal_categories_list = [['7AM', '10AM', '2PM', '6PM', '10PM'],\n",
    "                           ['below21', '21', '26', '31', '36', '41', '46', '50plus'],\n",
    "                           ['Some High School', 'High School Graduate', 'Some college - no degree',\n",
    "                            'Associates degree', 'Bachelors degree', 'Graduate degree (Masters or Doctorate)'],\n",
    "                           ['Less than $12500', '$12500 - $24999', '$25000 - $37499', '$37500 - $49999',\n",
    "                            '$50000 - $62499', '$62500 - $74999', '$75000 - $87499', '$87500 - $99999',\n",
    "                            '$100000 or More'],\n",
    "                           ['30', '55', '80'],\n",
    "                           ['5-14', '15-24', '25plus'],\n",
    "                           ['never', 'less1', '1~3', '4~8', 'gt8'],\n",
    "                           ['never', 'less1', '1~3', '4~8', 'gt8'],\n",
    "                           ['never', 'less1', '1~3', '4~8', 'gt8'],\n",
    "                           ['never', 'less1', '1~3', '4~8', 'gt8'],\n",
    "                           ['never', 'less1', '1~3', '4~8', 'gt8']]\n",
    "\n",
    "ordinal_encoder = OrdinalEncoder(categories=ordinal_categories_list)\n",
    "\n",
    "## run the encoding\n",
    "encoded_ordinal_data = pd.DataFrame(ordinal_encoder.fit_transform(ordinal_data), columns=ordinal_data.columns)"
   ]
  },
  {
   "cell_type": "code",
   "execution_count": 38,
   "id": "0e53c1e6",
   "metadata": {},
   "outputs": [],
   "source": [
    "nominal_data = data[['destination', 'passanger', 'weather', 'expiration', 'gender', 'maritalStatus', 'occupation']]\n",
    "\n",
    "encoded_nominal_data = pd.get_dummies(nominal_data, drop_first=True)"
   ]
  },
  {
   "cell_type": "code",
   "execution_count": 44,
   "id": "84a659dc",
   "metadata": {},
   "outputs": [],
   "source": [
    "recombined_data = pd.concat([binary_numeric_data, encoded_ordinal_data, encoded_nominal_data, data.coupon], axis=1)"
   ]
  },
  {
   "cell_type": "code",
   "execution_count": 47,
   "id": "473fe39e",
   "metadata": {},
   "outputs": [],
   "source": [
    "recombined_data.to_csv('data/full_dataset_encoded_plus_coupon.csv', index=False)"
   ]
  },
  {
   "cell_type": "markdown",
   "id": "1b5c7f03",
   "metadata": {},
   "source": [
    "## Split encoded data by coupon type"
   ]
  },
  {
   "cell_type": "code",
   "execution_count": 46,
   "id": "5cb04bcf",
   "metadata": {},
   "outputs": [],
   "source": [
    "Bar_data = recombined_data[recombined_data['coupon'] == 'Bar']\n",
    "Bar_data = Bar_data.drop('coupon', axis=1)\n",
    "Bar_data.to_csv('data/Bar_data_encoded.csv', index=False)\n",
    "\n",
    "CoffeeHouse_data = recombined_data[recombined_data['coupon'] == 'Coffee House']\n",
    "CoffeeHouse_data = CoffeeHouse_data.drop('coupon', axis=1)\n",
    "CoffeeHouse_data.to_csv('data/CoffeeHouse_data_encoded.csv', index=False)\n",
    "\n",
    "CarryAway_data = recombined_data[recombined_data['coupon'] == 'Carry out & Take away']\n",
    "CarryAway_data = CarryAway_data.drop('coupon', axis=1)\n",
    "CarryAway_data.to_csv('data/CarryAway_data_encoded.csv', index=False)\n",
    "\n",
    "RestaurantLessThan20_data = recombined_data[recombined_data['coupon'] == 'Restaurant(<20)']\n",
    "RestaurantLessThan20_data = RestaurantLessThan20_data.drop('coupon', axis=1)\n",
    "RestaurantLessThan20_data.to_csv('data/RestaurantLessThan20_data_encoded.csv', index=False)\n",
    "\n",
    "Restaurant20To50_data = recombined_data[recombined_data['coupon'] == 'Restaurant(20-50)']\n",
    "Restaurant20To50_data = Restaurant20To50_data.drop('coupon', axis=1)\n",
    "Restaurant20To50_data.to_csv('data/Restaurant20To50_data_encoded.csv', index=False)"
   ]
  }
 ],
 "metadata": {
  "kernelspec": {
   "display_name": "Python 3 (ipykernel)",
   "language": "python",
   "name": "python3"
  },
  "language_info": {
   "codemirror_mode": {
    "name": "ipython",
    "version": 3
   },
   "file_extension": ".py",
   "mimetype": "text/x-python",
   "name": "python",
   "nbconvert_exporter": "python",
   "pygments_lexer": "ipython3",
   "version": "3.9.7"
  }
 },
 "nbformat": 4,
 "nbformat_minor": 5
}
