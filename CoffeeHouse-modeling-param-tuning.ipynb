{
 "cells": [
  {
   "cell_type": "code",
   "execution_count": 2,
   "id": "51bc31d0",
   "metadata": {},
   "outputs": [],
   "source": [
    "import os\n",
    "import numpy as np\n",
    "import pandas as pd\n",
    "import warnings\n",
    "warnings.filterwarnings(\"ignore\")\n",
    "\n",
    "from sklearn.preprocessing import StandardScaler\n",
    "from sklearn.preprocessing import minmax_scale\n",
    "from sklearn.preprocessing import PowerTransformer\n",
    "\n",
    "from imblearn.over_sampling import SMOTE\n",
    "\n",
    "## models\n",
    "from sklearn.linear_model import LogisticRegression\n",
    "from sklearn.neighbors import KNeighborsClassifier\n",
    "from sklearn.tree import DecisionTreeClassifier\n",
    "from sklearn.tree import plot_tree\n",
    "from sklearn.svm import LinearSVC\n",
    "\n",
    "from sklearn.ensemble import RandomForestClassifier\n",
    "from sklearn.ensemble import GradientBoostingClassifier\n",
    "\n",
    "from sklearn.model_selection import GridSearchCV\n",
    "from sklearn.model_selection import train_test_split\n",
    "from sklearn.model_selection import cross_val_score, cross_val_predict, cross_validate\n",
    "\n",
    "from sklearn.metrics import accuracy_score, precision_score, recall_score\n",
    "from sklearn.metrics import confusion_matrix, make_scorer, roc_auc_score\n",
    "\n",
    "import matplotlib.pyplot as plt\n",
    "%matplotlib inline\n",
    "import seaborn as sns\n",
    "\n",
    "## to make it possible to display multiple output inside one cell \n",
    "from IPython.core.interactiveshell import InteractiveShell\n",
    "InteractiveShell.ast_node_interactivity = \"all\"\n",
    "\n",
    "pd.options.display.max_rows = 50\n",
    "pd.set_option('display.float_format', lambda x: '%9.8f' % x)"
   ]
  },
  {
   "cell_type": "code",
   "execution_count": 3,
   "id": "e3f61f7a",
   "metadata": {},
   "outputs": [
    {
     "name": "stdout",
     "output_type": "stream",
     "text": [
      "Orig: 49.92% Yes\n",
      "After SMOTE: 50.00% Yes\n"
     ]
    }
   ],
   "source": [
    "## load data, split Xy, upsample with SMOTE, split train/test\n",
    "data = pd.read_csv('data/CoffeeHouse_data_encoded.csv')\n",
    "\n",
    "## define X and y \n",
    "X = data.drop('Y', axis=1).reset_index(drop=True)\n",
    "y = data.Y\n",
    "\n",
    "## Handle imbalance\n",
    "smote = SMOTE()\n",
    "\n",
    "orig_vc = y.value_counts()\n",
    "print(f\"Orig: {100* orig_vc[1]/(orig_vc.sum()):.2f}% Yes\")\n",
    "\n",
    "X_sm, y_sm = smote.fit_resample(X, y)\n",
    "sm_vc = y_sm.value_counts()\n",
    "print(f\"After SMOTE: {100* sm_vc[1]/(sm_vc.sum()):.2f}% Yes\")\n",
    "\n",
    "## Data splitting train/test\n",
    "X_train, X_test, y_train, y_test = train_test_split(X_sm, y_sm, test_size=0.20, random_state=42)"
   ]
  },
  {
   "cell_type": "code",
   "execution_count": 4,
   "id": "c903f2bb",
   "metadata": {},
   "outputs": [
    {
     "data": {
      "text/plain": [
       "(3201, 55)"
      ]
     },
     "execution_count": 4,
     "metadata": {},
     "output_type": "execute_result"
    }
   ],
   "source": [
    "X_train.shape"
   ]
  },
  {
   "cell_type": "markdown",
   "id": "385d87e2",
   "metadata": {},
   "source": [
    "## Testing RandomForestClassifier with Grid Search Cross-validation\n"
   ]
  },
  {
   "cell_type": "code",
   "execution_count": 5,
   "id": "f02a39ce",
   "metadata": {},
   "outputs": [],
   "source": [
    "roc_auc_scorer = make_scorer(roc_auc_score, average='weighted')"
   ]
  },
  {
   "cell_type": "code",
   "execution_count": 6,
   "id": "70ac7507",
   "metadata": {},
   "outputs": [],
   "source": [
    "cols_to_view = ['rank_test_score', 'param_max_depth', 'param_max_features', 'param_min_samples_split', \n",
    "                'param_min_samples_leaf', 'param_n_estimators', \n",
    "                'mean_test_score', 'std_test_score', 'mean_train_score', 'std_train_score']"
   ]
  },
  {
   "cell_type": "code",
   "execution_count": 7,
   "id": "56ab020a",
   "metadata": {},
   "outputs": [
    {
     "data": {
      "text/plain": [
       "GridSearchCV(cv=5,\n",
       "             estimator=RandomForestClassifier(oob_score=True, random_state=42),\n",
       "             n_jobs=4,\n",
       "             param_grid={'max_depth': [None, 5, 10, 15],\n",
       "                         'max_features': [5, 6, 7, 8, 9, 10],\n",
       "                         'min_samples_leaf': [1, 3, 5],\n",
       "                         'min_samples_split': [2, 3, 4, 5],\n",
       "                         'n_estimators': [100, 150, 200]},\n",
       "             return_train_score=True,\n",
       "             scoring=make_scorer(roc_auc_score, average=weighted))"
      ]
     },
     "execution_count": 7,
     "metadata": {},
     "output_type": "execute_result"
    }
   ],
   "source": [
    "param_grid={'max_depth': [None, 5, 10, 15],\n",
    "            'max_features': [5, 6, 7, 8, 9, 10],\n",
    "            'min_samples_split': [2, 3, 4, 5],\n",
    "            'min_samples_leaf': [1, 3, 5],\n",
    "            'n_estimators': [100, 150, 200]}\n",
    "\n",
    "clf = RandomForestClassifier(oob_score=True, random_state=42)\n",
    "\n",
    "grid_search1 = GridSearchCV(clf, param_grid, scoring=roc_auc_scorer, cv=5, return_train_score=True, n_jobs=4)\n",
    "grid_search1.fit(X_train.values, y_train.values)"
   ]
  },
  {
   "cell_type": "code",
   "execution_count": 8,
   "id": "5acd3870",
   "metadata": {},
   "outputs": [
    {
     "data": {
      "text/html": [
       "<div>\n",
       "<style scoped>\n",
       "    .dataframe tbody tr th:only-of-type {\n",
       "        vertical-align: middle;\n",
       "    }\n",
       "\n",
       "    .dataframe tbody tr th {\n",
       "        vertical-align: top;\n",
       "    }\n",
       "\n",
       "    .dataframe thead th {\n",
       "        text-align: right;\n",
       "    }\n",
       "</style>\n",
       "<table border=\"1\" class=\"dataframe\">\n",
       "  <thead>\n",
       "    <tr style=\"text-align: right;\">\n",
       "      <th></th>\n",
       "      <th>rank_test_score</th>\n",
       "      <th>param_max_depth</th>\n",
       "      <th>param_max_features</th>\n",
       "      <th>param_min_samples_split</th>\n",
       "      <th>param_min_samples_leaf</th>\n",
       "      <th>param_n_estimators</th>\n",
       "      <th>mean_test_score</th>\n",
       "      <th>std_test_score</th>\n",
       "      <th>mean_train_score</th>\n",
       "      <th>std_train_score</th>\n",
       "    </tr>\n",
       "  </thead>\n",
       "  <tbody>\n",
       "    <tr>\n",
       "      <th>110</th>\n",
       "      <td>1</td>\n",
       "      <td>None</td>\n",
       "      <td>8</td>\n",
       "      <td>2</td>\n",
       "      <td>1</td>\n",
       "      <td>200</td>\n",
       "      <td>0.76899954</td>\n",
       "      <td>0.01588181</td>\n",
       "      <td>0.99922314</td>\n",
       "      <td>0.00000351</td>\n",
       "    </tr>\n",
       "    <tr>\n",
       "      <th>1</th>\n",
       "      <td>2</td>\n",
       "      <td>None</td>\n",
       "      <td>5</td>\n",
       "      <td>2</td>\n",
       "      <td>1</td>\n",
       "      <td>150</td>\n",
       "      <td>0.76713222</td>\n",
       "      <td>0.02031054</td>\n",
       "      <td>0.99922033</td>\n",
       "      <td>0.00000284</td>\n",
       "    </tr>\n",
       "    <tr>\n",
       "      <th>41</th>\n",
       "      <td>3</td>\n",
       "      <td>None</td>\n",
       "      <td>6</td>\n",
       "      <td>3</td>\n",
       "      <td>1</td>\n",
       "      <td>200</td>\n",
       "      <td>0.76613221</td>\n",
       "      <td>0.01950003</td>\n",
       "      <td>0.99687987</td>\n",
       "      <td>0.00118282</td>\n",
       "    </tr>\n",
       "    <tr>\n",
       "      <th>147</th>\n",
       "      <td>4</td>\n",
       "      <td>None</td>\n",
       "      <td>9</td>\n",
       "      <td>3</td>\n",
       "      <td>1</td>\n",
       "      <td>100</td>\n",
       "      <td>0.76547299</td>\n",
       "      <td>0.01523921</td>\n",
       "      <td>0.99664926</td>\n",
       "      <td>0.00145525</td>\n",
       "    </tr>\n",
       "    <tr>\n",
       "      <th>76</th>\n",
       "      <td>5</td>\n",
       "      <td>None</td>\n",
       "      <td>7</td>\n",
       "      <td>3</td>\n",
       "      <td>1</td>\n",
       "      <td>150</td>\n",
       "      <td>0.76515158</td>\n",
       "      <td>0.01745697</td>\n",
       "      <td>0.99594125</td>\n",
       "      <td>0.00072014</td>\n",
       "    </tr>\n",
       "    <tr>\n",
       "      <th>150</th>\n",
       "      <td>6</td>\n",
       "      <td>None</td>\n",
       "      <td>9</td>\n",
       "      <td>4</td>\n",
       "      <td>1</td>\n",
       "      <td>100</td>\n",
       "      <td>0.76510271</td>\n",
       "      <td>0.01654888</td>\n",
       "      <td>0.98750391</td>\n",
       "      <td>0.00183353</td>\n",
       "    </tr>\n",
       "    <tr>\n",
       "      <th>2</th>\n",
       "      <td>7</td>\n",
       "      <td>None</td>\n",
       "      <td>5</td>\n",
       "      <td>2</td>\n",
       "      <td>1</td>\n",
       "      <td>200</td>\n",
       "      <td>0.76490932</td>\n",
       "      <td>0.01874245</td>\n",
       "      <td>0.99922180</td>\n",
       "      <td>0.00000344</td>\n",
       "    </tr>\n",
       "    <tr>\n",
       "      <th>74</th>\n",
       "      <td>8</td>\n",
       "      <td>None</td>\n",
       "      <td>7</td>\n",
       "      <td>2</td>\n",
       "      <td>1</td>\n",
       "      <td>200</td>\n",
       "      <td>0.76489670</td>\n",
       "      <td>0.02381884</td>\n",
       "      <td>0.99922320</td>\n",
       "      <td>0.00000344</td>\n",
       "    </tr>\n",
       "    <tr>\n",
       "      <th>40</th>\n",
       "      <td>9</td>\n",
       "      <td>None</td>\n",
       "      <td>6</td>\n",
       "      <td>3</td>\n",
       "      <td>1</td>\n",
       "      <td>150</td>\n",
       "      <td>0.76487128</td>\n",
       "      <td>0.01990970</td>\n",
       "      <td>0.99618053</td>\n",
       "      <td>0.00108805</td>\n",
       "    </tr>\n",
       "    <tr>\n",
       "      <th>113</th>\n",
       "      <td>10</td>\n",
       "      <td>None</td>\n",
       "      <td>8</td>\n",
       "      <td>3</td>\n",
       "      <td>1</td>\n",
       "      <td>200</td>\n",
       "      <td>0.76484099</td>\n",
       "      <td>0.02389226</td>\n",
       "      <td>0.99704467</td>\n",
       "      <td>0.00094221</td>\n",
       "    </tr>\n",
       "  </tbody>\n",
       "</table>\n",
       "</div>"
      ],
      "text/plain": [
       "     rank_test_score param_max_depth param_max_features  \\\n",
       "110                1            None                  8   \n",
       "1                  2            None                  5   \n",
       "41                 3            None                  6   \n",
       "147                4            None                  9   \n",
       "76                 5            None                  7   \n",
       "150                6            None                  9   \n",
       "2                  7            None                  5   \n",
       "74                 8            None                  7   \n",
       "40                 9            None                  6   \n",
       "113               10            None                  8   \n",
       "\n",
       "    param_min_samples_split param_min_samples_leaf param_n_estimators  \\\n",
       "110                       2                      1                200   \n",
       "1                         2                      1                150   \n",
       "41                        3                      1                200   \n",
       "147                       3                      1                100   \n",
       "76                        3                      1                150   \n",
       "150                       4                      1                100   \n",
       "2                         2                      1                200   \n",
       "74                        2                      1                200   \n",
       "40                        3                      1                150   \n",
       "113                       3                      1                200   \n",
       "\n",
       "     mean_test_score  std_test_score  mean_train_score  std_train_score  \n",
       "110       0.76899954      0.01588181        0.99922314       0.00000351  \n",
       "1         0.76713222      0.02031054        0.99922033       0.00000284  \n",
       "41        0.76613221      0.01950003        0.99687987       0.00118282  \n",
       "147       0.76547299      0.01523921        0.99664926       0.00145525  \n",
       "76        0.76515158      0.01745697        0.99594125       0.00072014  \n",
       "150       0.76510271      0.01654888        0.98750391       0.00183353  \n",
       "2         0.76490932      0.01874245        0.99922180       0.00000344  \n",
       "74        0.76489670      0.02381884        0.99922320       0.00000344  \n",
       "40        0.76487128      0.01990970        0.99618053       0.00108805  \n",
       "113       0.76484099      0.02389226        0.99704467       0.00094221  "
      ]
     },
     "execution_count": 8,
     "metadata": {},
     "output_type": "execute_result"
    }
   ],
   "source": [
    "cv_results1 = pd.DataFrame(grid_search1.cv_results_)\n",
    "cv_results1.loc[:, cols_to_view].sort_values('rank_test_score').head(10)"
   ]
  },
  {
   "cell_type": "code",
   "execution_count": 9,
   "id": "95050e23",
   "metadata": {},
   "outputs": [
    {
     "data": {
      "text/plain": [
       "RandomForestClassifier(max_features=8, n_estimators=200, oob_score=True,\n",
       "                       random_state=42)"
      ]
     },
     "execution_count": 9,
     "metadata": {},
     "output_type": "execute_result"
    }
   ],
   "source": [
    "grid_search1.best_estimator_"
   ]
  },
  {
   "cell_type": "code",
   "execution_count": 10,
   "id": "9201d2db",
   "metadata": {},
   "outputs": [
    {
     "data": {
      "text/plain": [
       "0.767260231177757"
      ]
     },
     "execution_count": 10,
     "metadata": {},
     "output_type": "execute_result"
    }
   ],
   "source": [
    "best_model = grid_search1.best_estimator_\n",
    "best_model.oob_score_"
   ]
  },
  {
   "cell_type": "code",
   "execution_count": 11,
   "id": "f7e1f7de",
   "metadata": {},
   "outputs": [
    {
     "name": "stdout",
     "output_type": "stream",
     "text": [
      "(weighted avg) AUC: 0.7689995417123742 0.015881813634078458\n"
     ]
    }
   ],
   "source": [
    "cross_val_scores = cross_val_score(best_model, X_train, y_train, scoring=roc_auc_scorer, cv=5)\n",
    "print(f\"(weighted avg) AUC: {np.mean(cross_val_scores)} {np.std(cross_val_scores)}\")"
   ]
  },
  {
   "cell_type": "code",
   "execution_count": 13,
   "id": "8a8749d5",
   "metadata": {},
   "outputs": [
    {
     "name": "stdout",
     "output_type": "stream",
     "text": [
      "(weighted avg) AUC: TEST 0.7869155377988638\n"
     ]
    }
   ],
   "source": [
    "## fit best model on full train and test on test data\n",
    "best_model = best_model.fit(X_train, y_train)\n",
    "\n",
    "## use trained model to get predicted target var\n",
    "# y_train_pred = best_model.predict(X_train)   \n",
    "y_test_pred = best_model.predict(X_test) \n",
    "\n",
    "# print(f\"(weighted avg) AUC: train {roc_auc_score(y_train, y_train_pred, average='weighted')}\")\n",
    "print(f\"(weighted avg) AUC: TEST {roc_auc_score(y_test, y_test_pred, average='weighted')}\")"
   ]
  },
  {
   "cell_type": "code",
   "execution_count": 12,
   "id": "7ee7acf9",
   "metadata": {},
   "outputs": [
    {
     "data": {
      "text/html": [
       "<div>\n",
       "<style scoped>\n",
       "    .dataframe tbody tr th:only-of-type {\n",
       "        vertical-align: middle;\n",
       "    }\n",
       "\n",
       "    .dataframe tbody tr th {\n",
       "        vertical-align: top;\n",
       "    }\n",
       "\n",
       "    .dataframe thead th {\n",
       "        text-align: right;\n",
       "    }\n",
       "</style>\n",
       "<table border=\"1\" class=\"dataframe\">\n",
       "  <thead>\n",
       "    <tr style=\"text-align: right;\">\n",
       "      <th></th>\n",
       "      <th>feature_name</th>\n",
       "      <th>importance</th>\n",
       "    </tr>\n",
       "  </thead>\n",
       "  <tbody>\n",
       "    <tr>\n",
       "      <th>14</th>\n",
       "      <td>CoffeeHouse</td>\n",
       "      <td>0.15086089</td>\n",
       "    </tr>\n",
       "    <tr>\n",
       "      <th>10</th>\n",
       "      <td>income</td>\n",
       "      <td>0.06711129</td>\n",
       "    </tr>\n",
       "    <tr>\n",
       "      <th>8</th>\n",
       "      <td>age</td>\n",
       "      <td>0.05905937</td>\n",
       "    </tr>\n",
       "    <tr>\n",
       "      <th>7</th>\n",
       "      <td>time</td>\n",
       "      <td>0.04926985</td>\n",
       "    </tr>\n",
       "    <tr>\n",
       "      <th>9</th>\n",
       "      <td>education</td>\n",
       "      <td>0.04785758</td>\n",
       "    </tr>\n",
       "    <tr>\n",
       "      <th>13</th>\n",
       "      <td>Bar</td>\n",
       "      <td>0.04770870</td>\n",
       "    </tr>\n",
       "    <tr>\n",
       "      <th>16</th>\n",
       "      <td>RestaurantLessThan20</td>\n",
       "      <td>0.04453074</td>\n",
       "    </tr>\n",
       "    <tr>\n",
       "      <th>15</th>\n",
       "      <td>CarryAway</td>\n",
       "      <td>0.04448611</td>\n",
       "    </tr>\n",
       "    <tr>\n",
       "      <th>12</th>\n",
       "      <td>minsToCouponDest</td>\n",
       "      <td>0.04419782</td>\n",
       "    </tr>\n",
       "    <tr>\n",
       "      <th>17</th>\n",
       "      <td>Restaurant20To50</td>\n",
       "      <td>0.04405273</td>\n",
       "    </tr>\n",
       "  </tbody>\n",
       "</table>\n",
       "</div>"
      ],
      "text/plain": [
       "            feature_name  importance\n",
       "14           CoffeeHouse  0.15086089\n",
       "10                income  0.06711129\n",
       "8                    age  0.05905937\n",
       "7                   time  0.04926985\n",
       "9              education  0.04785758\n",
       "13                   Bar  0.04770870\n",
       "16  RestaurantLessThan20  0.04453074\n",
       "15             CarryAway  0.04448611\n",
       "12      minsToCouponDest  0.04419782\n",
       "17      Restaurant20To50  0.04405273"
      ]
     },
     "execution_count": 12,
     "metadata": {},
     "output_type": "execute_result"
    }
   ],
   "source": [
    "featimp_df = pd.DataFrame({'feature_name': X.columns, 'importance': best_model.feature_importances_})\n",
    "featimp_df.sort_values('importance', ascending=False).head(10)"
   ]
  },
  {
   "cell_type": "markdown",
   "id": "846d2607",
   "metadata": {},
   "source": [
    "# Attempting to look at the resulting decision tree nodes"
   ]
  }
 ],
 "metadata": {
  "kernelspec": {
   "display_name": "Python 3 (ipykernel)",
   "language": "python",
   "name": "python3"
  },
  "language_info": {
   "codemirror_mode": {
    "name": "ipython",
    "version": 3
   },
   "file_extension": ".py",
   "mimetype": "text/x-python",
   "name": "python",
   "nbconvert_exporter": "python",
   "pygments_lexer": "ipython3",
   "version": "3.9.7"
  }
 },
 "nbformat": 4,
 "nbformat_minor": 5
}
