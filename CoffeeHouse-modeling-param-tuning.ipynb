{
 "cells": [
  {
   "cell_type": "code",
   "execution_count": 1,
   "id": "51bc31d0",
   "metadata": {},
   "outputs": [],
   "source": [
    "import numpy as np\n",
    "import pandas as pd\n",
    "import warnings\n",
    "warnings.filterwarnings(\"ignore\")\n",
    "\n",
    "import couponProjectUtils as proj_utils\n",
    "\n",
    "from sklearn.preprocessing import StandardScaler\n",
    "\n",
    "from imblearn.over_sampling import SMOTE\n",
    "\n",
    "## models\n",
    "from sklearn.linear_model import LogisticRegression\n",
    "from sklearn.neighbors import KNeighborsClassifier\n",
    "from sklearn.tree import DecisionTreeClassifier\n",
    "\n",
    "from sklearn.ensemble import RandomForestClassifier\n",
    "\n",
    "from sklearn.model_selection import GridSearchCV\n",
    "from sklearn.model_selection import train_test_split\n",
    "from sklearn.model_selection import cross_val_score\n",
    "\n",
    "from sklearn.metrics import accuracy_score, precision_score, recall_score, roc_auc_score\n",
    "\n",
    "## to make it possible to display multiple output inside one cell \n",
    "from IPython.core.interactiveshell import InteractiveShell\n",
    "InteractiveShell.ast_node_interactivity = \"all\"\n",
    "\n",
    "pd.options.display.max_rows = 50\n",
    "pd.set_option('display.float_format', lambda x: '%9.8f' % x)"
   ]
  },
  {
   "cell_type": "markdown",
   "id": "412211df",
   "metadata": {},
   "source": [
    "# Predict accept/decline recommendation for coupon type: Coffee House"
   ]
  },
  {
   "cell_type": "code",
   "execution_count": 3,
   "id": "e3f61f7a",
   "metadata": {},
   "outputs": [
    {
     "name": "stdout",
     "output_type": "stream",
     "text": [
      "Orig: 49.86% Yes\n",
      "After SMOTE upsampling\n",
      "\tNum training samples: 3,200 (50.62% yes)\n",
      "\tNum testing samples:  800 (47.50% yes)\n"
     ]
    }
   ],
   "source": [
    "## load data, split Xy, upsample with SMOTE, split train/test\n",
    "data = pd.read_csv('data/CoffeeHouse_data_encoded.csv')\n",
    "\n",
    "## define X and y \n",
    "X = data.drop('Y', axis=1).reset_index(drop=True)\n",
    "y = data.Y\n",
    "\n",
    "## Handle imbalance\n",
    "smote = SMOTE(random_state=42)\n",
    "\n",
    "orig_vc = y.value_counts()\n",
    "print(f\"Orig: {100* orig_vc[1]/(orig_vc.sum()):.2f}% Yes\")\n",
    "\n",
    "X_sm, y_sm = smote.fit_resample(X, y)\n",
    "\n",
    "## Data splitting train/test\n",
    "X_train, X_test, y_train, y_test = train_test_split(X_sm, y_sm, test_size=0.20, random_state=42)\n",
    "\n",
    "print(\"After SMOTE upsampling\")\n",
    "train_vc = y_train.value_counts()\n",
    "print(f\"\\tNum training samples: {X_train.shape[0]:,} ({100* train_vc[1]/(train_vc.sum()):.2f}% yes)\")\n",
    "test_vc = y_test.value_counts()\n",
    "print(f\"\\tNum testing samples:  {X_test.shape[0]:,} ({100* test_vc[1]/(test_vc.sum()):.2f}% yes)\")"
   ]
  },
  {
   "cell_type": "code",
   "execution_count": 4,
   "id": "478638e1",
   "metadata": {},
   "outputs": [],
   "source": [
    "## Replace the unknown values (previously encoded as 0.0) using the most frequent value seen in the TRAINING data\n",
    "X_train, X_test, train_modes = proj_utils.replace_unknown_with_mode(X_train, X_test, outfile_prefix='CoffeeHouse')"
   ]
  },
  {
   "cell_type": "markdown",
   "id": "385d87e2",
   "metadata": {},
   "source": [
    "## Testing RandomForestClassifier with Grid Search Cross-validation\n"
   ]
  },
  {
   "cell_type": "code",
   "execution_count": 5,
   "id": "70ac7507",
   "metadata": {},
   "outputs": [
    {
     "data": {
      "text/plain": [
       "GridSearchCV(cv=5,\n",
       "             estimator=RandomForestClassifier(oob_score=True, random_state=42),\n",
       "             n_jobs=4,\n",
       "             param_grid={'max_features': [5, 6, 7, 8, 9, 10, 11, 12, 13, 14,\n",
       "                                          15],\n",
       "                         'min_samples_split': [2, 3, 4, 5],\n",
       "                         'n_estimators': [100, 150, 200]},\n",
       "             return_train_score=True, scoring='roc_auc')"
      ]
     },
     "execution_count": 5,
     "metadata": {},
     "output_type": "execute_result"
    },
    {
     "data": {
      "text/plain": [
       "RandomForestClassifier(max_features=8, min_samples_split=3, n_estimators=200,\n",
       "                       oob_score=True, random_state=42)"
      ]
     },
     "execution_count": 5,
     "metadata": {},
     "output_type": "execute_result"
    }
   ],
   "source": [
    "cols_to_view = ['rank_test_score', 'param_max_features', 'param_min_samples_split', 'param_n_estimators', \n",
    "                'mean_test_score', 'std_test_score', 'mean_train_score', 'std_train_score']\n",
    "\n",
    "param_grid={'max_features': [5, 6, 7, 8, 9, 10, 11, 12, 13, 14, 15],\n",
    "            'min_samples_split': [2, 3, 4, 5],\n",
    "            'n_estimators': [100, 150, 200]}\n",
    "\n",
    "clf = RandomForestClassifier(oob_score=True, random_state=42)\n",
    "\n",
    "grid_search1 = GridSearchCV(clf, param_grid, scoring='roc_auc', cv=5, return_train_score=True, n_jobs=4)\n",
    "grid_search1.fit(X_train.values, y_train.values)\n",
    "\n",
    "cv_results1 = pd.DataFrame(grid_search1.cv_results_)\n",
    "best_model = grid_search1.best_estimator_\n",
    "best_model"
   ]
  },
  {
   "cell_type": "code",
   "execution_count": 6,
   "id": "e84f1efa",
   "metadata": {},
   "outputs": [
    {
     "name": "stdout",
     "output_type": "stream",
     "text": [
      "Best model oob score: 0.7596875\n",
      "ROC AUC: TEST 0.853249\n",
      "\n"
     ]
    }
   ],
   "source": [
    "print(f\"Best model oob score: {best_model.oob_score_}\")\n",
    "y_test_score = best_model.predict_proba(X_test)[:, 1]\n",
    "print(f\"ROC AUC: TEST {roc_auc_score(y_test, y_test_score):.6f}\\n\")"
   ]
  },
  {
   "cell_type": "code",
   "execution_count": 7,
   "id": "1da67f56",
   "metadata": {},
   "outputs": [
    {
     "data": {
      "text/html": [
       "<div>\n",
       "<style scoped>\n",
       "    .dataframe tbody tr th:only-of-type {\n",
       "        vertical-align: middle;\n",
       "    }\n",
       "\n",
       "    .dataframe tbody tr th {\n",
       "        vertical-align: top;\n",
       "    }\n",
       "\n",
       "    .dataframe thead th {\n",
       "        text-align: right;\n",
       "    }\n",
       "</style>\n",
       "<table border=\"1\" class=\"dataframe\">\n",
       "  <thead>\n",
       "    <tr style=\"text-align: right;\">\n",
       "      <th></th>\n",
       "      <th>rank_test_score</th>\n",
       "      <th>param_max_features</th>\n",
       "      <th>param_min_samples_split</th>\n",
       "      <th>param_n_estimators</th>\n",
       "      <th>mean_test_score</th>\n",
       "      <th>std_test_score</th>\n",
       "      <th>mean_train_score</th>\n",
       "      <th>std_train_score</th>\n",
       "    </tr>\n",
       "  </thead>\n",
       "  <tbody>\n",
       "    <tr>\n",
       "      <th>41</th>\n",
       "      <td>1</td>\n",
       "      <td>8</td>\n",
       "      <td>3</td>\n",
       "      <td>200</td>\n",
       "      <td>0.84614881</td>\n",
       "      <td>0.01582314</td>\n",
       "      <td>0.99994134</td>\n",
       "      <td>0.00001363</td>\n",
       "    </tr>\n",
       "    <tr>\n",
       "      <th>62</th>\n",
       "      <td>2</td>\n",
       "      <td>10</td>\n",
       "      <td>2</td>\n",
       "      <td>200</td>\n",
       "      <td>0.84613025</td>\n",
       "      <td>0.01588423</td>\n",
       "      <td>0.99999884</td>\n",
       "      <td>0.00000089</td>\n",
       "    </tr>\n",
       "    <tr>\n",
       "      <th>40</th>\n",
       "      <td>3</td>\n",
       "      <td>8</td>\n",
       "      <td>3</td>\n",
       "      <td>150</td>\n",
       "      <td>0.84556962</td>\n",
       "      <td>0.01608756</td>\n",
       "      <td>0.99993670</td>\n",
       "      <td>0.00001372</td>\n",
       "    </tr>\n",
       "    <tr>\n",
       "      <th>97</th>\n",
       "      <td>4</td>\n",
       "      <td>13</td>\n",
       "      <td>2</td>\n",
       "      <td>150</td>\n",
       "      <td>0.84555595</td>\n",
       "      <td>0.01586434</td>\n",
       "      <td>0.99999860</td>\n",
       "      <td>0.00000096</td>\n",
       "    </tr>\n",
       "    <tr>\n",
       "      <th>85</th>\n",
       "      <td>5</td>\n",
       "      <td>12</td>\n",
       "      <td>2</td>\n",
       "      <td>150</td>\n",
       "      <td>0.84550613</td>\n",
       "      <td>0.01580532</td>\n",
       "      <td>0.99999884</td>\n",
       "      <td>0.00000089</td>\n",
       "    </tr>\n",
       "  </tbody>\n",
       "</table>\n",
       "</div>"
      ],
      "text/plain": [
       "    rank_test_score param_max_features param_min_samples_split  \\\n",
       "41                1                  8                       3   \n",
       "62                2                 10                       2   \n",
       "40                3                  8                       3   \n",
       "97                4                 13                       2   \n",
       "85                5                 12                       2   \n",
       "\n",
       "   param_n_estimators  mean_test_score  std_test_score  mean_train_score  \\\n",
       "41                200       0.84614881      0.01582314        0.99994134   \n",
       "62                200       0.84613025      0.01588423        0.99999884   \n",
       "40                150       0.84556962      0.01608756        0.99993670   \n",
       "97                150       0.84555595      0.01586434        0.99999860   \n",
       "85                150       0.84550613      0.01580532        0.99999884   \n",
       "\n",
       "    std_train_score  \n",
       "41       0.00001363  \n",
       "62       0.00000089  \n",
       "40       0.00001372  \n",
       "97       0.00000096  \n",
       "85       0.00000089  "
      ]
     },
     "execution_count": 7,
     "metadata": {},
     "output_type": "execute_result"
    }
   ],
   "source": [
    "cv_results1.loc[:, cols_to_view].sort_values('rank_test_score').head(5)"
   ]
  },
  {
   "cell_type": "code",
   "execution_count": 8,
   "id": "7ee7acf9",
   "metadata": {},
   "outputs": [
    {
     "data": {
      "text/html": [
       "<div>\n",
       "<style scoped>\n",
       "    .dataframe tbody tr th:only-of-type {\n",
       "        vertical-align: middle;\n",
       "    }\n",
       "\n",
       "    .dataframe tbody tr th {\n",
       "        vertical-align: top;\n",
       "    }\n",
       "\n",
       "    .dataframe thead th {\n",
       "        text-align: right;\n",
       "    }\n",
       "</style>\n",
       "<table border=\"1\" class=\"dataframe\">\n",
       "  <thead>\n",
       "    <tr style=\"text-align: right;\">\n",
       "      <th></th>\n",
       "      <th>feature_name</th>\n",
       "      <th>importance</th>\n",
       "    </tr>\n",
       "  </thead>\n",
       "  <tbody>\n",
       "    <tr>\n",
       "      <th>14</th>\n",
       "      <td>CoffeeHouse</td>\n",
       "      <td>0.15997396</td>\n",
       "    </tr>\n",
       "    <tr>\n",
       "      <th>10</th>\n",
       "      <td>income</td>\n",
       "      <td>0.06876997</td>\n",
       "    </tr>\n",
       "    <tr>\n",
       "      <th>8</th>\n",
       "      <td>age</td>\n",
       "      <td>0.06105614</td>\n",
       "    </tr>\n",
       "    <tr>\n",
       "      <th>9</th>\n",
       "      <td>education</td>\n",
       "      <td>0.05178316</td>\n",
       "    </tr>\n",
       "    <tr>\n",
       "      <th>13</th>\n",
       "      <td>Bar</td>\n",
       "      <td>0.04533029</td>\n",
       "    </tr>\n",
       "    <tr>\n",
       "      <th>7</th>\n",
       "      <td>time</td>\n",
       "      <td>0.04525635</td>\n",
       "    </tr>\n",
       "    <tr>\n",
       "      <th>16</th>\n",
       "      <td>RestaurantLessThan20</td>\n",
       "      <td>0.04346042</td>\n",
       "    </tr>\n",
       "    <tr>\n",
       "      <th>15</th>\n",
       "      <td>CarryAway</td>\n",
       "      <td>0.04334984</td>\n",
       "    </tr>\n",
       "    <tr>\n",
       "      <th>17</th>\n",
       "      <td>Restaurant20To50</td>\n",
       "      <td>0.04323902</td>\n",
       "    </tr>\n",
       "    <tr>\n",
       "      <th>25</th>\n",
       "      <td>expiration_2h</td>\n",
       "      <td>0.03443145</td>\n",
       "    </tr>\n",
       "  </tbody>\n",
       "</table>\n",
       "</div>"
      ],
      "text/plain": [
       "            feature_name  importance\n",
       "14           CoffeeHouse  0.15997396\n",
       "10                income  0.06876997\n",
       "8                    age  0.06105614\n",
       "9              education  0.05178316\n",
       "13                   Bar  0.04533029\n",
       "7                   time  0.04525635\n",
       "16  RestaurantLessThan20  0.04346042\n",
       "15             CarryAway  0.04334984\n",
       "17      Restaurant20To50  0.04323902\n",
       "25         expiration_2h  0.03443145"
      ]
     },
     "execution_count": 8,
     "metadata": {},
     "output_type": "execute_result"
    }
   ],
   "source": [
    "featimp_df = pd.DataFrame({'feature_name': X.columns, 'importance': best_model.feature_importances_})\n",
    "featimp_df.sort_values('importance', ascending=False).head(10)"
   ]
  },
  {
   "cell_type": "code",
   "execution_count": 9,
   "id": "f1cca1f4",
   "metadata": {},
   "outputs": [],
   "source": [
    "import pickle\n",
    "\n",
    "with open('model/phase1/CoffeeHouse_GridSearchCV_RFC.pickle', \"wb\") as f:\n",
    "    pickle.dump(grid_search1,f)\n",
    "    \n",
    "with open('model/phase1/CoffeeHouse_best_model_RFC.pickle', \"wb\") as f:\n",
    "    pickle.dump(best_model,f)"
   ]
  }
 ],
 "metadata": {
  "kernelspec": {
   "display_name": "Python 3 (ipykernel)",
   "language": "python",
   "name": "python3"
  },
  "language_info": {
   "codemirror_mode": {
    "name": "ipython",
    "version": 3
   },
   "file_extension": ".py",
   "mimetype": "text/x-python",
   "name": "python",
   "nbconvert_exporter": "python",
   "pygments_lexer": "ipython3",
   "version": "3.9.7"
  }
 },
 "nbformat": 4,
 "nbformat_minor": 5
}
