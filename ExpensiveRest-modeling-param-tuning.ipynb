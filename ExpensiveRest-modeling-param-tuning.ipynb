{
 "cells": [
  {
   "cell_type": "code",
   "execution_count": 1,
   "id": "51bc31d0",
   "metadata": {},
   "outputs": [],
   "source": [
    "import os\n",
    "import numpy as np\n",
    "import pandas as pd\n",
    "import warnings\n",
    "warnings.filterwarnings(\"ignore\")\n",
    "\n",
    "from sklearn.preprocessing import StandardScaler\n",
    "from sklearn.preprocessing import minmax_scale\n",
    "from sklearn.preprocessing import PowerTransformer\n",
    "\n",
    "from imblearn.over_sampling import SMOTE\n",
    "\n",
    "## models\n",
    "from sklearn.linear_model import LogisticRegression\n",
    "from sklearn.neighbors import KNeighborsClassifier\n",
    "from sklearn.tree import DecisionTreeClassifier\n",
    "from sklearn.tree import plot_tree\n",
    "from sklearn.svm import LinearSVC\n",
    "\n",
    "from sklearn.ensemble import RandomForestClassifier\n",
    "from sklearn.ensemble import GradientBoostingClassifier\n",
    "\n",
    "from sklearn.model_selection import GridSearchCV\n",
    "from sklearn.model_selection import train_test_split\n",
    "from sklearn.model_selection import cross_val_score, cross_val_predict, cross_validate\n",
    "\n",
    "from sklearn.metrics import accuracy_score, precision_score, recall_score\n",
    "from sklearn.metrics import confusion_matrix, make_scorer, roc_auc_score\n",
    "\n",
    "import matplotlib.pyplot as plt\n",
    "%matplotlib inline\n",
    "import seaborn as sns\n",
    "\n",
    "## to make it possible to display multiple output inside one cell \n",
    "from IPython.core.interactiveshell import InteractiveShell\n",
    "InteractiveShell.ast_node_interactivity = \"all\"\n",
    "\n",
    "pd.options.display.max_rows = 50\n",
    "pd.set_option('display.float_format', lambda x: '%9.8f' % x)"
   ]
  },
  {
   "cell_type": "code",
   "execution_count": 2,
   "id": "e3f61f7a",
   "metadata": {},
   "outputs": [
    {
     "name": "stdout",
     "output_type": "stream",
     "text": [
      "Orig: 44.10% Yes\n",
      "After SMOTE: 50.00% Yes\n"
     ]
    }
   ],
   "source": [
    "## load data, split Xy, upsample with SMOTE, split train/test\n",
    "data = pd.read_csv('data/Restaurant20To50_data_encoded.csv')\n",
    "\n",
    "## define X and y \n",
    "X = data.drop('Y', axis=1).reset_index(drop=True)\n",
    "y = data.Y\n",
    "\n",
    "## Handle imbalance\n",
    "smote = SMOTE()\n",
    "\n",
    "orig_vc = y.value_counts()\n",
    "print(f\"Orig: {100* orig_vc[1]/(orig_vc.sum()):.2f}% Yes\")\n",
    "\n",
    "X_sm, y_sm = smote.fit_resample(X, y)\n",
    "sm_vc = y_sm.value_counts()\n",
    "print(f\"After SMOTE: {100* sm_vc[1]/(sm_vc.sum()):.2f}% Yes\")\n",
    "\n",
    "## Data splitting train/test\n",
    "X_train, X_test, y_train, y_test = train_test_split(X_sm, y_sm, test_size=0.20, random_state=42)"
   ]
  },
  {
   "cell_type": "code",
   "execution_count": 3,
   "id": "c903f2bb",
   "metadata": {},
   "outputs": [
    {
     "data": {
      "text/plain": [
       "(1334, 55)"
      ]
     },
     "execution_count": 3,
     "metadata": {},
     "output_type": "execute_result"
    }
   ],
   "source": [
    "X_train.shape"
   ]
  },
  {
   "cell_type": "markdown",
   "id": "385d87e2",
   "metadata": {},
   "source": [
    "## Testing RandomForestClassifier with Grid Search Cross-validation\n"
   ]
  },
  {
   "cell_type": "code",
   "execution_count": 4,
   "id": "f02a39ce",
   "metadata": {},
   "outputs": [],
   "source": [
    "roc_auc_scorer = make_scorer(roc_auc_score, average='weighted')"
   ]
  },
  {
   "cell_type": "code",
   "execution_count": 5,
   "id": "70ac7507",
   "metadata": {},
   "outputs": [],
   "source": [
    "cols_to_view = ['rank_test_score', 'param_max_depth', 'param_max_features', 'param_min_samples_split', \n",
    "                'param_min_samples_leaf', 'param_n_estimators', \n",
    "                'mean_test_score', 'std_test_score', 'mean_train_score', 'std_train_score']"
   ]
  },
  {
   "cell_type": "code",
   "execution_count": 6,
   "id": "56ab020a",
   "metadata": {},
   "outputs": [
    {
     "data": {
      "text/plain": [
       "GridSearchCV(cv=5,\n",
       "             estimator=RandomForestClassifier(oob_score=True, random_state=42),\n",
       "             n_jobs=4,\n",
       "             param_grid={'max_depth': [None, 5, 10, 15],\n",
       "                         'max_features': [5, 6, 7, 8, 9, 10],\n",
       "                         'min_samples_leaf': [1, 3, 5],\n",
       "                         'min_samples_split': [2, 3, 4, 5],\n",
       "                         'n_estimators': [100, 150, 200]},\n",
       "             return_train_score=True,\n",
       "             scoring=make_scorer(roc_auc_score, average=weighted))"
      ]
     },
     "execution_count": 6,
     "metadata": {},
     "output_type": "execute_result"
    }
   ],
   "source": [
    "param_grid={'max_depth': [None, 5, 10, 15],\n",
    "            'max_features': [5, 6, 7, 8, 9, 10],\n",
    "            'min_samples_split': [2, 3, 4, 5],\n",
    "            'min_samples_leaf': [1, 3, 5],\n",
    "            'n_estimators': [100, 150, 200]}\n",
    "\n",
    "clf = RandomForestClassifier(oob_score=True, random_state=42)\n",
    "\n",
    "grid_search1 = GridSearchCV(clf, param_grid, scoring=roc_auc_scorer, cv=5, return_train_score=True, n_jobs=4)\n",
    "grid_search1.fit(X_train.values, y_train.values)"
   ]
  },
  {
   "cell_type": "code",
   "execution_count": 7,
   "id": "5acd3870",
   "metadata": {},
   "outputs": [
    {
     "data": {
      "text/html": [
       "<div>\n",
       "<style scoped>\n",
       "    .dataframe tbody tr th:only-of-type {\n",
       "        vertical-align: middle;\n",
       "    }\n",
       "\n",
       "    .dataframe tbody tr th {\n",
       "        vertical-align: top;\n",
       "    }\n",
       "\n",
       "    .dataframe thead th {\n",
       "        text-align: right;\n",
       "    }\n",
       "</style>\n",
       "<table border=\"1\" class=\"dataframe\">\n",
       "  <thead>\n",
       "    <tr style=\"text-align: right;\">\n",
       "      <th></th>\n",
       "      <th>rank_test_score</th>\n",
       "      <th>param_max_depth</th>\n",
       "      <th>param_max_features</th>\n",
       "      <th>param_min_samples_split</th>\n",
       "      <th>param_min_samples_leaf</th>\n",
       "      <th>param_n_estimators</th>\n",
       "      <th>mean_test_score</th>\n",
       "      <th>std_test_score</th>\n",
       "      <th>mean_train_score</th>\n",
       "      <th>std_train_score</th>\n",
       "    </tr>\n",
       "  </thead>\n",
       "  <tbody>\n",
       "    <tr>\n",
       "      <th>39</th>\n",
       "      <td>1</td>\n",
       "      <td>None</td>\n",
       "      <td>6</td>\n",
       "      <td>3</td>\n",
       "      <td>1</td>\n",
       "      <td>100</td>\n",
       "      <td>0.71055988</td>\n",
       "      <td>0.00512310</td>\n",
       "      <td>0.99698778</td>\n",
       "      <td>0.00109772</td>\n",
       "    </tr>\n",
       "    <tr>\n",
       "      <th>190</th>\n",
       "      <td>2</td>\n",
       "      <td>None</td>\n",
       "      <td>10</td>\n",
       "      <td>5</td>\n",
       "      <td>1</td>\n",
       "      <td>150</td>\n",
       "      <td>0.70831554</td>\n",
       "      <td>0.01546154</td>\n",
       "      <td>0.99266006</td>\n",
       "      <td>0.00233655</td>\n",
       "    </tr>\n",
       "    <tr>\n",
       "      <th>184</th>\n",
       "      <td>3</td>\n",
       "      <td>None</td>\n",
       "      <td>10</td>\n",
       "      <td>3</td>\n",
       "      <td>1</td>\n",
       "      <td>150</td>\n",
       "      <td>0.70757455</td>\n",
       "      <td>0.01585656</td>\n",
       "      <td>0.99735952</td>\n",
       "      <td>0.00109729</td>\n",
       "    </tr>\n",
       "    <tr>\n",
       "      <th>835</th>\n",
       "      <td>4</td>\n",
       "      <td>15</td>\n",
       "      <td>10</td>\n",
       "      <td>4</td>\n",
       "      <td>1</td>\n",
       "      <td>150</td>\n",
       "      <td>0.70687385</td>\n",
       "      <td>0.00754695</td>\n",
       "      <td>0.99267269</td>\n",
       "      <td>0.00069672</td>\n",
       "    </tr>\n",
       "    <tr>\n",
       "      <th>800</th>\n",
       "      <td>5</td>\n",
       "      <td>15</td>\n",
       "      <td>9</td>\n",
       "      <td>4</td>\n",
       "      <td>1</td>\n",
       "      <td>200</td>\n",
       "      <td>0.70679486</td>\n",
       "      <td>0.01116598</td>\n",
       "      <td>0.99211824</td>\n",
       "      <td>0.00128023</td>\n",
       "    </tr>\n",
       "    <tr>\n",
       "      <th>10</th>\n",
       "      <td>6</td>\n",
       "      <td>None</td>\n",
       "      <td>5</td>\n",
       "      <td>5</td>\n",
       "      <td>1</td>\n",
       "      <td>150</td>\n",
       "      <td>0.70671605</td>\n",
       "      <td>0.01769672</td>\n",
       "      <td>0.98552496</td>\n",
       "      <td>0.00318266</td>\n",
       "    </tr>\n",
       "    <tr>\n",
       "      <th>4</th>\n",
       "      <td>7</td>\n",
       "      <td>None</td>\n",
       "      <td>5</td>\n",
       "      <td>3</td>\n",
       "      <td>1</td>\n",
       "      <td>150</td>\n",
       "      <td>0.70608787</td>\n",
       "      <td>0.01830177</td>\n",
       "      <td>0.99773724</td>\n",
       "      <td>0.00095988</td>\n",
       "    </tr>\n",
       "    <tr>\n",
       "      <th>838</th>\n",
       "      <td>8</td>\n",
       "      <td>15</td>\n",
       "      <td>10</td>\n",
       "      <td>5</td>\n",
       "      <td>1</td>\n",
       "      <td>150</td>\n",
       "      <td>0.70608771</td>\n",
       "      <td>0.00543729</td>\n",
       "      <td>0.98760781</td>\n",
       "      <td>0.00247269</td>\n",
       "    </tr>\n",
       "    <tr>\n",
       "      <th>5</th>\n",
       "      <td>9</td>\n",
       "      <td>None</td>\n",
       "      <td>5</td>\n",
       "      <td>3</td>\n",
       "      <td>1</td>\n",
       "      <td>200</td>\n",
       "      <td>0.70605998</td>\n",
       "      <td>0.00625786</td>\n",
       "      <td>0.99774285</td>\n",
       "      <td>0.00074858</td>\n",
       "    </tr>\n",
       "    <tr>\n",
       "      <th>837</th>\n",
       "      <td>10</td>\n",
       "      <td>15</td>\n",
       "      <td>10</td>\n",
       "      <td>5</td>\n",
       "      <td>1</td>\n",
       "      <td>100</td>\n",
       "      <td>0.70603151</td>\n",
       "      <td>0.00625385</td>\n",
       "      <td>0.98480604</td>\n",
       "      <td>0.00276145</td>\n",
       "    </tr>\n",
       "  </tbody>\n",
       "</table>\n",
       "</div>"
      ],
      "text/plain": [
       "     rank_test_score param_max_depth param_max_features  \\\n",
       "39                 1            None                  6   \n",
       "190                2            None                 10   \n",
       "184                3            None                 10   \n",
       "835                4              15                 10   \n",
       "800                5              15                  9   \n",
       "10                 6            None                  5   \n",
       "4                  7            None                  5   \n",
       "838                8              15                 10   \n",
       "5                  9            None                  5   \n",
       "837               10              15                 10   \n",
       "\n",
       "    param_min_samples_split param_min_samples_leaf param_n_estimators  \\\n",
       "39                        3                      1                100   \n",
       "190                       5                      1                150   \n",
       "184                       3                      1                150   \n",
       "835                       4                      1                150   \n",
       "800                       4                      1                200   \n",
       "10                        5                      1                150   \n",
       "4                         3                      1                150   \n",
       "838                       5                      1                150   \n",
       "5                         3                      1                200   \n",
       "837                       5                      1                100   \n",
       "\n",
       "     mean_test_score  std_test_score  mean_train_score  std_train_score  \n",
       "39        0.71055988      0.00512310        0.99698778       0.00109772  \n",
       "190       0.70831554      0.01546154        0.99266006       0.00233655  \n",
       "184       0.70757455      0.01585656        0.99735952       0.00109729  \n",
       "835       0.70687385      0.00754695        0.99267269       0.00069672  \n",
       "800       0.70679486      0.01116598        0.99211824       0.00128023  \n",
       "10        0.70671605      0.01769672        0.98552496       0.00318266  \n",
       "4         0.70608787      0.01830177        0.99773724       0.00095988  \n",
       "838       0.70608771      0.00543729        0.98760781       0.00247269  \n",
       "5         0.70605998      0.00625786        0.99774285       0.00074858  \n",
       "837       0.70603151      0.00625385        0.98480604       0.00276145  "
      ]
     },
     "execution_count": 7,
     "metadata": {},
     "output_type": "execute_result"
    }
   ],
   "source": [
    "cv_results1 = pd.DataFrame(grid_search1.cv_results_)\n",
    "cv_results1.loc[:, cols_to_view].sort_values('rank_test_score').head(10)"
   ]
  },
  {
   "cell_type": "code",
   "execution_count": 8,
   "id": "95050e23",
   "metadata": {},
   "outputs": [
    {
     "data": {
      "text/plain": [
       "RandomForestClassifier(max_features=6, min_samples_split=3, oob_score=True,\n",
       "                       random_state=42)"
      ]
     },
     "execution_count": 8,
     "metadata": {},
     "output_type": "execute_result"
    }
   ],
   "source": [
    "grid_search1.best_estimator_"
   ]
  },
  {
   "cell_type": "code",
   "execution_count": 9,
   "id": "9201d2db",
   "metadata": {},
   "outputs": [
    {
     "data": {
      "text/plain": [
       "0.684407796101949"
      ]
     },
     "execution_count": 9,
     "metadata": {},
     "output_type": "execute_result"
    }
   ],
   "source": [
    "best_model = grid_search1.best_estimator_\n",
    "best_model.oob_score_"
   ]
  },
  {
   "cell_type": "code",
   "execution_count": 10,
   "id": "f7e1f7de",
   "metadata": {},
   "outputs": [
    {
     "name": "stdout",
     "output_type": "stream",
     "text": [
      "(weighted avg) AUC: 0.7105598762472288 0.005123099516093643\n"
     ]
    }
   ],
   "source": [
    "cross_val_scores = cross_val_score(best_model, X_train, y_train, scoring=roc_auc_scorer, cv=5)\n",
    "print(f\"(weighted avg) AUC: {np.mean(cross_val_scores)} {np.std(cross_val_scores)}\")"
   ]
  },
  {
   "cell_type": "code",
   "execution_count": 12,
   "id": "a01b446b",
   "metadata": {},
   "outputs": [
    {
     "name": "stdout",
     "output_type": "stream",
     "text": [
      "(weighted avg) AUC: TEST 0.7226528854435831\n"
     ]
    }
   ],
   "source": [
    "## fit best model on full train and test on test data\n",
    "best_model = best_model.fit(X_train, y_train)\n",
    "\n",
    "## use trained model to get predicted target var\n",
    "# y_train_pred = best_model.predict(X_train)   \n",
    "y_test_pred = best_model.predict(X_test) \n",
    "\n",
    "# print(f\"(weighted avg) AUC: train {roc_auc_score(y_train, y_train_pred, average='weighted')}\")\n",
    "print(f\"(weighted avg) AUC: TEST {roc_auc_score(y_test, y_test_pred, average='weighted')}\")"
   ]
  },
  {
   "cell_type": "markdown",
   "id": "65402598",
   "metadata": {},
   "source": [
    "# KNN"
   ]
  },
  {
   "cell_type": "code",
   "execution_count": 13,
   "id": "0450f04e",
   "metadata": {},
   "outputs": [
    {
     "data": {
      "text/plain": [
       "GridSearchCV(cv=5, estimator=KNeighborsClassifier(), n_jobs=4,\n",
       "             param_grid={'n_neighbors': [1, 2, 3, 4, 5, 6, 7, 8, 9, 10, 11]},\n",
       "             return_train_score=True,\n",
       "             scoring=make_scorer(roc_auc_score, average=weighted))"
      ]
     },
     "execution_count": 13,
     "metadata": {},
     "output_type": "execute_result"
    },
    {
     "data": {
      "text/html": [
       "<div>\n",
       "<style scoped>\n",
       "    .dataframe tbody tr th:only-of-type {\n",
       "        vertical-align: middle;\n",
       "    }\n",
       "\n",
       "    .dataframe tbody tr th {\n",
       "        vertical-align: top;\n",
       "    }\n",
       "\n",
       "    .dataframe thead th {\n",
       "        text-align: right;\n",
       "    }\n",
       "</style>\n",
       "<table border=\"1\" class=\"dataframe\">\n",
       "  <thead>\n",
       "    <tr style=\"text-align: right;\">\n",
       "      <th></th>\n",
       "      <th>rank_test_score</th>\n",
       "      <th>param_n_neighbors</th>\n",
       "      <th>mean_test_score</th>\n",
       "      <th>std_test_score</th>\n",
       "      <th>mean_train_score</th>\n",
       "      <th>std_train_score</th>\n",
       "    </tr>\n",
       "  </thead>\n",
       "  <tbody>\n",
       "    <tr>\n",
       "      <th>0</th>\n",
       "      <td>1</td>\n",
       "      <td>1</td>\n",
       "      <td>0.66397018</td>\n",
       "      <td>0.02579237</td>\n",
       "      <td>0.99830925</td>\n",
       "      <td>0.00092033</td>\n",
       "    </tr>\n",
       "    <tr>\n",
       "      <th>2</th>\n",
       "      <td>2</td>\n",
       "      <td>3</td>\n",
       "      <td>0.64672166</td>\n",
       "      <td>0.03322447</td>\n",
       "      <td>0.82963105</td>\n",
       "      <td>0.00610641</td>\n",
       "    </tr>\n",
       "    <tr>\n",
       "      <th>3</th>\n",
       "      <td>3</td>\n",
       "      <td>4</td>\n",
       "      <td>0.64331951</td>\n",
       "      <td>0.03406148</td>\n",
       "      <td>0.79517494</td>\n",
       "      <td>0.00520299</td>\n",
       "    </tr>\n",
       "    <tr>\n",
       "      <th>5</th>\n",
       "      <td>4</td>\n",
       "      <td>6</td>\n",
       "      <td>0.64147418</td>\n",
       "      <td>0.04286132</td>\n",
       "      <td>0.76393665</td>\n",
       "      <td>0.00755106</td>\n",
       "    </tr>\n",
       "    <tr>\n",
       "      <th>1</th>\n",
       "      <td>5</td>\n",
       "      <td>2</td>\n",
       "      <td>0.64070271</td>\n",
       "      <td>0.03118021</td>\n",
       "      <td>0.86348290</td>\n",
       "      <td>0.00416732</td>\n",
       "    </tr>\n",
       "  </tbody>\n",
       "</table>\n",
       "</div>"
      ],
      "text/plain": [
       "   rank_test_score param_n_neighbors  mean_test_score  std_test_score  \\\n",
       "0                1                 1       0.66397018      0.02579237   \n",
       "2                2                 3       0.64672166      0.03322447   \n",
       "3                3                 4       0.64331951      0.03406148   \n",
       "5                4                 6       0.64147418      0.04286132   \n",
       "1                5                 2       0.64070271      0.03118021   \n",
       "\n",
       "   mean_train_score  std_train_score  \n",
       "0        0.99830925       0.00092033  \n",
       "2        0.82963105       0.00610641  \n",
       "3        0.79517494       0.00520299  \n",
       "5        0.76393665       0.00755106  \n",
       "1        0.86348290       0.00416732  "
      ]
     },
     "execution_count": 13,
     "metadata": {},
     "output_type": "execute_result"
    },
    {
     "name": "stdout",
     "output_type": "stream",
     "text": [
      "(weighted avg) AUC: TEST 0.6694659776055125\n"
     ]
    }
   ],
   "source": [
    "param_grid={'n_neighbors': [x for x in range(1,12)]}\n",
    "\n",
    "clf = KNeighborsClassifier()\n",
    "\n",
    "grid_search_knn = GridSearchCV(clf, param_grid, scoring=roc_auc_scorer, cv=5, return_train_score=True, n_jobs=4)\n",
    "grid_search_knn.fit(X_train.values, y_train.values)\n",
    "\n",
    "knn_cols_to_view = ['rank_test_score', 'param_n_neighbors', \n",
    "                    'mean_test_score', 'std_test_score', 'mean_train_score', 'std_train_score']\n",
    "\n",
    "cv_results_knn = pd.DataFrame(grid_search_knn.cv_results_)\n",
    "cv_results_knn.loc[:, knn_cols_to_view].sort_values('rank_test_score').head(5)\n",
    "\n",
    "best_model_knn = grid_search_knn.best_estimator_\n",
    "\n",
    "## fit best model on full train and test on test data\n",
    "best_model_knn = best_model_knn.fit(X_train, y_train)\n",
    "\n",
    "## use trained model to get predicted target var\n",
    "y_test_pred = best_model_knn.predict(X_test) \n",
    "\n",
    "print(f\"(weighted avg) AUC: TEST {roc_auc_score(y_test, y_test_pred, average='weighted')}\")"
   ]
  },
  {
   "cell_type": "markdown",
   "id": "846d2607",
   "metadata": {},
   "source": [
    "# Attempting to look at the resulting decision tree nodes"
   ]
  },
  {
   "cell_type": "code",
   "execution_count": 11,
   "id": "7ee7acf9",
   "metadata": {},
   "outputs": [
    {
     "data": {
      "text/html": [
       "<div>\n",
       "<style scoped>\n",
       "    .dataframe tbody tr th:only-of-type {\n",
       "        vertical-align: middle;\n",
       "    }\n",
       "\n",
       "    .dataframe tbody tr th {\n",
       "        vertical-align: top;\n",
       "    }\n",
       "\n",
       "    .dataframe thead th {\n",
       "        text-align: right;\n",
       "    }\n",
       "</style>\n",
       "<table border=\"1\" class=\"dataframe\">\n",
       "  <thead>\n",
       "    <tr style=\"text-align: right;\">\n",
       "      <th></th>\n",
       "      <th>feature_name</th>\n",
       "      <th>importance</th>\n",
       "    </tr>\n",
       "  </thead>\n",
       "  <tbody>\n",
       "    <tr>\n",
       "      <th>10</th>\n",
       "      <td>income</td>\n",
       "      <td>0.07906705</td>\n",
       "    </tr>\n",
       "    <tr>\n",
       "      <th>17</th>\n",
       "      <td>Restaurant20To50</td>\n",
       "      <td>0.06991700</td>\n",
       "    </tr>\n",
       "    <tr>\n",
       "      <th>8</th>\n",
       "      <td>age</td>\n",
       "      <td>0.06844166</td>\n",
       "    </tr>\n",
       "    <tr>\n",
       "      <th>14</th>\n",
       "      <td>CoffeeHouse</td>\n",
       "      <td>0.06045186</td>\n",
       "    </tr>\n",
       "    <tr>\n",
       "      <th>9</th>\n",
       "      <td>education</td>\n",
       "      <td>0.05420729</td>\n",
       "    </tr>\n",
       "    <tr>\n",
       "      <th>7</th>\n",
       "      <td>time</td>\n",
       "      <td>0.05411841</td>\n",
       "    </tr>\n",
       "    <tr>\n",
       "      <th>16</th>\n",
       "      <td>RestaurantLessThan20</td>\n",
       "      <td>0.04998435</td>\n",
       "    </tr>\n",
       "    <tr>\n",
       "      <th>15</th>\n",
       "      <td>CarryAway</td>\n",
       "      <td>0.04935573</td>\n",
       "    </tr>\n",
       "    <tr>\n",
       "      <th>13</th>\n",
       "      <td>Bar</td>\n",
       "      <td>0.04901340</td>\n",
       "    </tr>\n",
       "    <tr>\n",
       "      <th>25</th>\n",
       "      <td>expiration_2h</td>\n",
       "      <td>0.04244311</td>\n",
       "    </tr>\n",
       "  </tbody>\n",
       "</table>\n",
       "</div>"
      ],
      "text/plain": [
       "            feature_name  importance\n",
       "10                income  0.07906705\n",
       "17      Restaurant20To50  0.06991700\n",
       "8                    age  0.06844166\n",
       "14           CoffeeHouse  0.06045186\n",
       "9              education  0.05420729\n",
       "7                   time  0.05411841\n",
       "16  RestaurantLessThan20  0.04998435\n",
       "15             CarryAway  0.04935573\n",
       "13                   Bar  0.04901340\n",
       "25         expiration_2h  0.04244311"
      ]
     },
     "execution_count": 11,
     "metadata": {},
     "output_type": "execute_result"
    }
   ],
   "source": [
    "featimp_df = pd.DataFrame({'feature_name': X.columns, 'importance': best_model.feature_importances_})\n",
    "featimp_df.sort_values('importance', ascending=False).head(10)"
   ]
  }
 ],
 "metadata": {
  "kernelspec": {
   "display_name": "Python 3 (ipykernel)",
   "language": "python",
   "name": "python3"
  },
  "language_info": {
   "codemirror_mode": {
    "name": "ipython",
    "version": 3
   },
   "file_extension": ".py",
   "mimetype": "text/x-python",
   "name": "python",
   "nbconvert_exporter": "python",
   "pygments_lexer": "ipython3",
   "version": "3.9.7"
  }
 },
 "nbformat": 4,
 "nbformat_minor": 5
}
