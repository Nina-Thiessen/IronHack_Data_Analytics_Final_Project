{
 "cells": [
  {
   "cell_type": "code",
   "execution_count": 1,
   "id": "9e0891a8",
   "metadata": {},
   "outputs": [],
   "source": [
    "import os\n",
    "import numpy as np\n",
    "import pandas as pd\n",
    "import warnings\n",
    "warnings.filterwarnings(\"ignore\")\n",
    "\n",
    "from sklearn.preprocessing import StandardScaler\n",
    "from sklearn.preprocessing import minmax_scale\n",
    "from sklearn.preprocessing import OrdinalEncoder\n",
    "from sklearn.preprocessing import PowerTransformer\n",
    "\n",
    "from imblearn.over_sampling import SMOTE\n",
    "\n",
    "from sklearn.impute import KNNImputer\n",
    "\n",
    "## models\n",
    "from sklearn.linear_model import LogisticRegression\n",
    "from sklearn.neighbors import KNeighborsClassifier\n",
    "from sklearn.tree import DecisionTreeClassifier\n",
    "from sklearn.tree import plot_tree\n",
    "from sklearn.svm import LinearSVC\n",
    "\n",
    "from sklearn.ensemble import RandomForestClassifier\n",
    "from sklearn.ensemble import GradientBoostingClassifier\n",
    "\n",
    "from sklearn.model_selection import GridSearchCV\n",
    "from sklearn.model_selection import train_test_split\n",
    "from sklearn.model_selection import cross_val_score, cross_val_predict, cross_validate\n",
    "\n",
    "import statsmodels.api as sm\n",
    "from sklearn.metrics import accuracy_score, precision_score, recall_score\n",
    "from sklearn.metrics import confusion_matrix, make_scorer, roc_auc_score\n",
    "\n",
    "import matplotlib.pyplot as plt\n",
    "%matplotlib inline\n",
    "import seaborn as sns\n",
    "\n",
    "## to make it possible to display multiple output inside one cell \n",
    "from IPython.core.interactiveshell import InteractiveShell\n",
    "InteractiveShell.ast_node_interactivity = \"all\"\n",
    "\n",
    "pd.options.display.max_rows = 50\n",
    "pd.set_option('display.float_format', lambda x: '%9.8f' % x)"
   ]
  },
  {
   "cell_type": "code",
   "execution_count": 2,
   "id": "224e4e6f",
   "metadata": {},
   "outputs": [],
   "source": [
    "def run_logistic_regression_trials(X_train, y_train):\n",
    "    ## NOTE: this is actually ridge regression, as the default penalty is l2\n",
    "    ## Tries solvers: liblinear and lbfgs\n",
    "\n",
    "    df_list = [] # will be used to create reg_results (full list of scores, one row per run)\n",
    "    reg_mean_scores_df = pd.DataFrame() # mean scores one row per cv run, also has col used to save the models\n",
    "\n",
    "    idx = 0\n",
    "    for cvk in [5,10]:\n",
    "        for solver_name in ['liblinear', 'lbfgs']:\n",
    "            reg_model = LogisticRegression(solver=solver_name)\n",
    "            scores_list = cross_val_score(reg_model, X_train, y_train, cv=cvk)\n",
    "\n",
    "            df_list.append(pd.DataFrame({'score': scores_list, 'cvk':[cvk]*cvk, 'solver':[solver_name]*cvk}))\n",
    "\n",
    "            new_score_record = pd.DataFrame({'cvk': cvk, 'solver': solver_name, 'init_model': reg_model, \n",
    "                                             'mean_score': np.mean(scores_list)}, index=[idx])\n",
    "            reg_mean_scores_df = pd.concat([reg_mean_scores_df,new_score_record], axis=0)\n",
    "            idx += 1\n",
    "    reg_results = pd.concat(df_list)\n",
    "    \n",
    "    return reg_mean_scores_df, reg_results"
   ]
  },
  {
   "cell_type": "markdown",
   "id": "60fb42d6",
   "metadata": {},
   "source": [
    "# Load Data"
   ]
  },
  {
   "cell_type": "code",
   "execution_count": 14,
   "id": "85c2b8a5",
   "metadata": {},
   "outputs": [],
   "source": [
    "file_name = \"data/in-vehicle-coupon-recommendation.csv\"\n",
    "data = pd.read_csv(file_name)"
   ]
  },
  {
   "cell_type": "code",
   "execution_count": 4,
   "id": "439f2789",
   "metadata": {},
   "outputs": [
    {
     "data": {
      "text/plain": [
       "(12684, 26)"
      ]
     },
     "execution_count": 4,
     "metadata": {},
     "output_type": "execute_result"
    }
   ],
   "source": [
    "data.shape"
   ]
  },
  {
   "cell_type": "code",
   "execution_count": 5,
   "id": "2f4a187d",
   "metadata": {},
   "outputs": [
    {
     "name": "stdout",
     "output_type": "stream",
     "text": [
      "<class 'pandas.core.frame.DataFrame'>\n",
      "RangeIndex: 12684 entries, 0 to 12683\n",
      "Data columns (total 26 columns):\n",
      " #   Column                Non-Null Count  Dtype \n",
      "---  ------                --------------  ----- \n",
      " 0   destination           12684 non-null  object\n",
      " 1   passanger             12684 non-null  object\n",
      " 2   weather               12684 non-null  object\n",
      " 3   temperature           12684 non-null  int64 \n",
      " 4   time                  12684 non-null  object\n",
      " 5   coupon                12684 non-null  object\n",
      " 6   expiration            12684 non-null  object\n",
      " 7   gender                12684 non-null  object\n",
      " 8   age                   12684 non-null  object\n",
      " 9   maritalStatus         12684 non-null  object\n",
      " 10  has_children          12684 non-null  int64 \n",
      " 11  education             12684 non-null  object\n",
      " 12  occupation            12684 non-null  object\n",
      " 13  income                12684 non-null  object\n",
      " 14  car                   108 non-null    object\n",
      " 15  Bar                   12577 non-null  object\n",
      " 16  CoffeeHouse           12467 non-null  object\n",
      " 17  CarryAway             12533 non-null  object\n",
      " 18  RestaurantLessThan20  12554 non-null  object\n",
      " 19  Restaurant20To50      12495 non-null  object\n",
      " 20  toCoupon_GEQ5min      12684 non-null  int64 \n",
      " 21  toCoupon_GEQ15min     12684 non-null  int64 \n",
      " 22  toCoupon_GEQ25min     12684 non-null  int64 \n",
      " 23  direction_same        12684 non-null  int64 \n",
      " 24  direction_opp         12684 non-null  int64 \n",
      " 25  Y                     12684 non-null  int64 \n",
      "dtypes: int64(8), object(18)\n",
      "memory usage: 2.5+ MB\n"
     ]
    }
   ],
   "source": [
    "data.info()"
   ]
  },
  {
   "cell_type": "markdown",
   "id": "31e2652a",
   "metadata": {},
   "source": [
    "## Check for imbalance\n",
    "\n",
    "### Full dataset\n",
    "57% Yes  \n",
    "\n",
    "### Coupon type subsets\n",
    "\n",
    "```\n",
    "coupon type             % Yes\n",
    "-----------------------------\n",
    "Restaurant(<20)         70.71\n",
    "Coffee House            49.92\n",
    "Carry out & Take away   73.55\n",
    "Bar                     41.00\n",
    "Restaurant(20-50)       44.10\n",
    "\n",
    "           TOTAL record count\n",
    "-----------------------------\n",
    "Restaurant(<20)          2786\n",
    "Coffee House             3996\n",
    "Carry out & Take away    2393\n",
    "Bar                      2017\n",
    "Restaurant(20-50)        1492\n",
    "```"
   ]
  },
  {
   "cell_type": "code",
   "execution_count": 6,
   "id": "200744f9",
   "metadata": {},
   "outputs": [
    {
     "data": {
      "text/plain": [
       "1    7210\n",
       "0    5474\n",
       "Name: Y, dtype: int64"
      ]
     },
     "execution_count": 6,
     "metadata": {},
     "output_type": "execute_result"
    }
   ],
   "source": [
    "data.Y.value_counts()"
   ]
  },
  {
   "cell_type": "code",
   "execution_count": 7,
   "id": "952c37c3",
   "metadata": {},
   "outputs": [
    {
     "data": {
      "text/plain": [
       "0.5684326710816777"
      ]
     },
     "execution_count": 7,
     "metadata": {},
     "output_type": "execute_result"
    }
   ],
   "source": [
    "7210/12684"
   ]
  },
  {
   "cell_type": "code",
   "execution_count": 8,
   "id": "597c1043",
   "metadata": {},
   "outputs": [
    {
     "name": "stdout",
     "output_type": "stream",
     "text": [
      "Restaurant(<20) :\t\t70.71% Yes\n",
      "Coffee House :\t\t49.92% Yes\n",
      "Carry out & Take away :\t\t73.55% Yes\n",
      "Bar :\t\t41.00% Yes\n",
      "Restaurant(20-50) :\t\t44.10% Yes\n"
     ]
    }
   ],
   "source": [
    "for coupon_type in data.coupon.unique():\n",
    "    vc = data.loc[data['coupon'] == coupon_type, 'Y'].value_counts()\n",
    "    print(f'{coupon_type} :\\t\\t{100*vc[1]/(vc[0]+vc[1]):.2f}% Yes')\n"
   ]
  },
  {
   "cell_type": "markdown",
   "id": "29304644",
   "metadata": {},
   "source": [
    "## How many records do we have for each coupon type?\n",
    "Note: Numbers are kind of small... especially for the expensive restaurants"
   ]
  },
  {
   "cell_type": "code",
   "execution_count": 9,
   "id": "84bf5a6d",
   "metadata": {},
   "outputs": [
    {
     "data": {
      "text/plain": [
       "Coffee House             3996\n",
       "Restaurant(<20)          2786\n",
       "Carry out & Take away    2393\n",
       "Bar                      2017\n",
       "Restaurant(20-50)        1492\n",
       "Name: coupon, dtype: int64"
      ]
     },
     "execution_count": 9,
     "metadata": {},
     "output_type": "execute_result"
    }
   ],
   "source": [
    "data.coupon.value_counts()"
   ]
  },
  {
   "cell_type": "markdown",
   "id": "38ce9f40",
   "metadata": {},
   "source": [
    "# Cleaning: dropping features\n",
    "\n",
    "## Feature 'car' is mostly NULL\n",
    "Only 108/12684 records include this feature, and it's not mentioned in the feature descriptions."
   ]
  },
  {
   "cell_type": "code",
   "execution_count": 10,
   "id": "6ea68d10",
   "metadata": {},
   "outputs": [
    {
     "data": {
      "text/plain": [
       "Scooter and motorcycle                      22\n",
       "Mazda5                                      22\n",
       "do not drive                                22\n",
       "crossover                                   21\n",
       "Car that is too old to install Onstar :D    21\n",
       "Name: car, dtype: int64"
      ]
     },
     "execution_count": 10,
     "metadata": {},
     "output_type": "execute_result"
    }
   ],
   "source": [
    "data.car.value_counts()"
   ]
  },
  {
   "cell_type": "code",
   "execution_count": 15,
   "id": "7f5bd333",
   "metadata": {},
   "outputs": [],
   "source": [
    "data = data.drop('car', axis=1)"
   ]
  },
  {
   "cell_type": "markdown",
   "id": "d2e983bf",
   "metadata": {},
   "source": [
    "## Features 'direction_same' and 'direction_opp' are 100% correlated\n",
    "direction_same = not direction_opp\n",
    "\n",
    "Drop direction_opp"
   ]
  },
  {
   "cell_type": "code",
   "execution_count": 16,
   "id": "c5d69345",
   "metadata": {},
   "outputs": [],
   "source": [
    "data = data.drop('direction_opp', axis=1)"
   ]
  },
  {
   "cell_type": "markdown",
   "id": "807a16f6",
   "metadata": {},
   "source": [
    "## Combine features 'toCoupon_GEQ\\*min' into one column"
   ]
  },
  {
   "cell_type": "code",
   "execution_count": 18,
   "id": "001e6e15",
   "metadata": {},
   "outputs": [
    {
     "data": {
      "text/plain": [
       "toCoupon_GEQ5min  toCoupon_GEQ15min  toCoupon_GEQ25min\n",
       "1                 1                  0                    5611\n",
       "                  0                  0                    5562\n",
       "                  1                  1                    1511\n",
       "dtype: int64"
      ]
     },
     "execution_count": 18,
     "metadata": {},
     "output_type": "execute_result"
    },
    {
     "data": {
      "text/plain": [
       "1    7122\n",
       "Name: toCoupon_GEQ5min, dtype: int64"
      ]
     },
     "execution_count": 18,
     "metadata": {},
     "output_type": "execute_result"
    },
    {
     "data": {
      "text/plain": [
       "1    1511\n",
       "Name: toCoupon_GEQ15min, dtype: int64"
      ]
     },
     "execution_count": 18,
     "metadata": {},
     "output_type": "execute_result"
    }
   ],
   "source": [
    "## confirm these are indeed cumulative metrics (and not exlusive bins) -- YES!\n",
    "data[['toCoupon_GEQ5min', 'toCoupon_GEQ15min', 'toCoupon_GEQ25min']].value_counts()\n",
    "\n",
    "data.loc[data['toCoupon_GEQ15min'] == 1, 'toCoupon_GEQ5min'].value_counts()\n",
    "data.loc[data['toCoupon_GEQ25min'] == 1, 'toCoupon_GEQ15min'].value_counts()"
   ]
  },
  {
   "cell_type": "code",
   "execution_count": 33,
   "id": "e313a097",
   "metadata": {},
   "outputs": [],
   "source": [
    "## populate new column minsToCouponDest with values ['5-14', '15-24', '25plus']\n",
    "data.loc[(data.toCoupon_GEQ25min == 1), 'minsToCouponDest'] = '25plus'\n",
    "data.loc[(data.toCoupon_GEQ25min == 0) & (data.toCoupon_GEQ15min==1), 'minsToCouponDest'] = '15-24'\n",
    "data.loc[(data.toCoupon_GEQ25min == 0) & (data.toCoupon_GEQ15min==0), 'minsToCouponDest'] = '5-14'\n"
   ]
  },
  {
   "cell_type": "markdown",
   "id": "a219a848",
   "metadata": {},
   "source": [
    "# Split by coupon type"
   ]
  },
  {
   "cell_type": "code",
   "execution_count": null,
   "id": "8723baf5",
   "metadata": {},
   "outputs": [],
   "source": [
    "Bar_data = data[data['coupon'] == 'Bar']\n",
    "Bar_data = Bar_data.drop('coupon', axis=1)\n",
    "Bar_data.to_csv('data/Bar_data.csv', index=False)\n",
    "\n",
    "CoffeeHouse_data = data[data['coupon'] == 'Coffee House']\n",
    "CoffeeHouse_data = CoffeeHouse_data.drop('coupon', axis=1)\n",
    "CoffeeHouse_data.to_csv('data/CoffeeHouse_data.csv', index=False)\n",
    "\n",
    "CarryAway_data = data[data['coupon'] == 'Carry out & Take away']\n",
    "CarryAway_data = CarryAway_data.drop('coupon', axis=1)\n",
    "CarryAway_data.to_csv('data/CarryAway_data.csv', index=False)\n",
    "\n",
    "RestaurantLessThan20_data = data[data['coupon'] == 'Restaurant(<20)']\n",
    "RestaurantLessThan20_data = RestaurantLessThan20_data.drop('coupon', axis=1)\n",
    "RestaurantLessThan20_data.to_csv('data/RestaurantLessThan20_data.csv', index=False)\n",
    "\n",
    "Restaurant20To50_data = data[data['coupon'] == 'Restaurant(20-50)']\n",
    "Restaurant20To50_data = Restaurant20To50_data.drop('coupon', axis=1)\n",
    "Restaurant20To50_data.to_csv('data/Restaurant20To50_data.csv', index=False)\n"
   ]
  },
  {
   "cell_type": "markdown",
   "id": "0ac8cd80",
   "metadata": {},
   "source": [
    "## Number of categories for each feature"
   ]
  },
  {
   "cell_type": "code",
   "execution_count": 71,
   "id": "4d858db2",
   "metadata": {},
   "outputs": [
    {
     "name": "stdout",
     "output_type": "stream",
     "text": [
      "Binary features\n",
      "\n",
      "expiration 1d/2h\n",
      "gender Female/Male\n",
      "has_children 1/0\n",
      "toCoupon_GEQ15min 0/1\n",
      "toCoupon_GEQ25min 0/1\n",
      "direction_same 0/1\n",
      "Y 1/0\n",
      "\n",
      "Num categories, nonbinary features\n",
      "\n",
      "destination\t3\n",
      "passanger\t4\n",
      "weather\t3\n",
      "temperature\t3\n",
      "time\t5\n",
      "coupon\t5\n",
      "age\t8\n",
      "maritalStatus\t5\n",
      "education\t6\n",
      "occupation\t25\n",
      "income\t9\n",
      "Bar\t6\n",
      "CoffeeHouse\t6\n",
      "CarryAway\t6\n",
      "RestaurantLessThan20\t6\n",
      "Restaurant20To50\t6\n"
     ]
    }
   ],
   "source": [
    "print(\"Binary features\\n\")\n",
    "for colname in data.columns.to_list():\n",
    "    vals = data[colname].unique()\n",
    "    n = len(vals)\n",
    "    if n == 2:\n",
    "        print(f\"{colname} {vals[0]}/{vals[1]}\")\n",
    "        \n",
    "print(\"\\nNum categories, nonbinary features\\n\")\n",
    "for colname in data.columns.to_list():\n",
    "    vals = data[colname].unique()\n",
    "    n = len(vals)\n",
    "    if n > 2:\n",
    "        print(f\"{colname}\\t{n}\")"
   ]
  },
  {
   "cell_type": "markdown",
   "id": "70086807",
   "metadata": {},
   "source": [
    "## Extract binary features\n",
    "\n",
    "Includes binary values: 'has_children', 'toCoupon_GEQ5min', 'toCoupon_GEQ15min', 'toCoupon_GEQ25min', 'direction_opp'\n",
    "\n",
    "(these cols are already numeric 0/1 values)"
   ]
  },
  {
   "cell_type": "code",
   "execution_count": 32,
   "id": "52caa7aa",
   "metadata": {},
   "outputs": [
    {
     "data": {
      "text/plain": [
       "Index(['has_children', 'toCoupon_GEQ5min', 'toCoupon_GEQ15min',\n",
       "       'toCoupon_GEQ25min', 'direction_opp', 'Y'],\n",
       "      dtype='object')"
      ]
     },
     "execution_count": 32,
     "metadata": {},
     "output_type": "execute_result"
    }
   ],
   "source": [
    "numeric_data = data.select_dtypes('number')\n",
    "binary_numeric_data = numeric_data.drop('temperature', axis=1)\n",
    "binary_numeric_data.columns"
   ]
  },
  {
   "cell_type": "markdown",
   "id": "b031c018",
   "metadata": {},
   "source": [
    "# Encode Categoricals\n",
    "\n",
    "Note: temperature is one of 3 values: 30, 55, or 80 (essentially: cold, warm, hot)\n",
    "\n",
    "These probably aren't the exact temperature, but rather some kind of binned values, so it's really categorical.  \n",
    "Is it ordinal or nominal? \n",
    "\n",
    "IDEA: Try nominal, since one isn't better or worse?"
   ]
  },
  {
   "cell_type": "code",
   "execution_count": 16,
   "id": "fc9ac6e0",
   "metadata": {},
   "outputs": [
    {
     "data": {
      "text/plain": [
       "Index(['destination', 'passanger', 'weather', 'time', 'coupon', 'expiration',\n",
       "       'gender', 'age', 'maritalStatus', 'education', 'occupation', 'income',\n",
       "       'Bar', 'CoffeeHouse', 'CarryAway', 'RestaurantLessThan20',\n",
       "       'Restaurant20To50'],\n",
       "      dtype='object')"
      ]
     },
     "execution_count": 16,
     "metadata": {},
     "output_type": "execute_result"
    }
   ],
   "source": [
    "categorical_data = data.select_dtypes('object')\n",
    "categorical_data.columns"
   ]
  },
  {
   "cell_type": "markdown",
   "id": "e0b1466f",
   "metadata": {},
   "source": [
    "## Encoding options\n",
    "\n",
    "```\n",
    "Ordinal\n",
    "\n",
    "'Bar', 'CoffeeHouse', 'CarryAway', 'RestaurantLessThan20', 'Restaurant20To50'\n",
    "\n",
    "Nominal (unordered)\n",
    "\n",
    "'destination', 'passanger', 'weather', 'expiration', 'gender', 'maritalStatus', 'occupation'\n",
    "\n",
    "Try both?\n",
    "\n",
    "'time', 'age', 'education', 'income', 'temperature'\n",
    "\n",
    "```"
   ]
  },
  {
   "cell_type": "markdown",
   "id": "471e5a01",
   "metadata": {},
   "source": [
    "## Replace missing values with 'unknown'"
   ]
  },
  {
   "cell_type": "code",
   "execution_count": 17,
   "id": "5d46664e",
   "metadata": {},
   "outputs": [
    {
     "data": {
      "text/plain": [
       "['Bar', 'CoffeeHouse', 'CarryAway', 'RestaurantLessThan20', 'Restaurant20To50']"
      ]
     },
     "execution_count": 17,
     "metadata": {},
     "output_type": "execute_result"
    }
   ],
   "source": [
    "nan_colnames = categorical_data.columns[categorical_data.isna().any()].tolist()\n",
    "nan_colnames"
   ]
  },
  {
   "cell_type": "code",
   "execution_count": 18,
   "id": "d4b06db6",
   "metadata": {},
   "outputs": [],
   "source": [
    "categorical_data.fillna('unknown', inplace=True)"
   ]
  },
  {
   "cell_type": "markdown",
   "id": "9a6cffd8",
   "metadata": {},
   "source": [
    "## Ordinal features"
   ]
  },
  {
   "cell_type": "code",
   "execution_count": 19,
   "id": "e506b1b0",
   "metadata": {},
   "outputs": [],
   "source": [
    "ordinal_colnames = ['income', 'time', 'education', \n",
    "                   'Bar', 'CoffeeHouse', 'CarryAway', 'RestaurantLessThan20', 'Restaurant20To50']\n",
    "ordinal_data = categorical_data[ordinal_colnames]\n",
    "\n",
    "ordinal_categories_list = [['Less than $12500', '$12500 - $24999', '$25000 - $37499', '$37500 - $49999',\n",
    "                            '$50000 - $62499', '$62500 - $74999', '$75000 - $87499', '$87500 - $99999',\n",
    "                            '$100000 or More'],\n",
    "                           ['7AM', '10AM', '2PM', '6PM', '10PM'],\n",
    "                           ['Some High School', 'High School Graduate', 'Some college - no degree',\n",
    "                            'Associates degree', 'Bachelors degree', 'Graduate degree (Masters or Doctorate)'],\n",
    "                           ['unknown', 'never', 'less1', '1~3', '4~8', 'gt8'],\n",
    "                           ['unknown', 'never', 'less1', '1~3', '4~8', 'gt8'],\n",
    "                           ['unknown', 'never', 'less1', '1~3', '4~8', 'gt8'],\n",
    "                           ['unknown', 'never', 'less1', '1~3', '4~8', 'gt8'],\n",
    "                           ['unknown', 'never', 'less1', '1~3', '4~8', 'gt8']]\n",
    "\n",
    "ordinal_encoder = OrdinalEncoder(categories=ordinal_categories_list)\n",
    "\n",
    "## run the encoding\n",
    "ordinal_encoded_data = pd.DataFrame(ordinal_encoder.fit_transform(ordinal_data), columns=ordinal_data.columns)"
   ]
  },
  {
   "cell_type": "markdown",
   "id": "28e43a5c",
   "metadata": {},
   "source": [
    "## Nominal features"
   ]
  },
  {
   "cell_type": "code",
   "execution_count": 74,
   "id": "e78d6de5",
   "metadata": {},
   "outputs": [
    {
     "data": {
      "text/plain": [
       "Index(['destination', 'passanger', 'weather', 'coupon', 'expiration', 'gender',\n",
       "       'age', 'maritalStatus', 'occupation', 'temperature'],\n",
       "      dtype='object')"
      ]
     },
     "execution_count": 74,
     "metadata": {},
     "output_type": "execute_result"
    }
   ],
   "source": [
    "nominal_data_w_temp = categorical_data.drop(ordinal_colnames, axis=1)\n",
    "nominal_data_w_temp['temperature'] = data.temperature.astype(str)\n",
    "\n",
    "nominal_data_w_temp.columns\n",
    "\n",
    "encoded_nominal_data_w_temp = pd.get_dummies(nominal_data_w_temp, drop_first=True)"
   ]
  },
  {
   "cell_type": "code",
   "execution_count": 75,
   "id": "4eda3f3c",
   "metadata": {},
   "outputs": [
    {
     "data": {
      "text/html": [
       "<div>\n",
       "<style scoped>\n",
       "    .dataframe tbody tr th:only-of-type {\n",
       "        vertical-align: middle;\n",
       "    }\n",
       "\n",
       "    .dataframe tbody tr th {\n",
       "        vertical-align: top;\n",
       "    }\n",
       "\n",
       "    .dataframe thead th {\n",
       "        text-align: right;\n",
       "    }\n",
       "</style>\n",
       "<table border=\"1\" class=\"dataframe\">\n",
       "  <thead>\n",
       "    <tr style=\"text-align: right;\">\n",
       "      <th></th>\n",
       "      <th>destination</th>\n",
       "      <th>passanger</th>\n",
       "      <th>weather</th>\n",
       "      <th>coupon</th>\n",
       "      <th>expiration</th>\n",
       "      <th>gender</th>\n",
       "      <th>age</th>\n",
       "      <th>maritalStatus</th>\n",
       "      <th>occupation</th>\n",
       "      <th>temperature</th>\n",
       "    </tr>\n",
       "  </thead>\n",
       "  <tbody>\n",
       "    <tr>\n",
       "      <th>0</th>\n",
       "      <td>No Urgent Place</td>\n",
       "      <td>Alone</td>\n",
       "      <td>Sunny</td>\n",
       "      <td>Restaurant(&lt;20)</td>\n",
       "      <td>1d</td>\n",
       "      <td>Female</td>\n",
       "      <td>21</td>\n",
       "      <td>Unmarried partner</td>\n",
       "      <td>Unemployed</td>\n",
       "      <td>55</td>\n",
       "    </tr>\n",
       "    <tr>\n",
       "      <th>1</th>\n",
       "      <td>No Urgent Place</td>\n",
       "      <td>Friend(s)</td>\n",
       "      <td>Sunny</td>\n",
       "      <td>Coffee House</td>\n",
       "      <td>2h</td>\n",
       "      <td>Female</td>\n",
       "      <td>21</td>\n",
       "      <td>Unmarried partner</td>\n",
       "      <td>Unemployed</td>\n",
       "      <td>80</td>\n",
       "    </tr>\n",
       "    <tr>\n",
       "      <th>2</th>\n",
       "      <td>No Urgent Place</td>\n",
       "      <td>Friend(s)</td>\n",
       "      <td>Sunny</td>\n",
       "      <td>Carry out &amp; Take away</td>\n",
       "      <td>2h</td>\n",
       "      <td>Female</td>\n",
       "      <td>21</td>\n",
       "      <td>Unmarried partner</td>\n",
       "      <td>Unemployed</td>\n",
       "      <td>80</td>\n",
       "    </tr>\n",
       "    <tr>\n",
       "      <th>3</th>\n",
       "      <td>No Urgent Place</td>\n",
       "      <td>Friend(s)</td>\n",
       "      <td>Sunny</td>\n",
       "      <td>Coffee House</td>\n",
       "      <td>2h</td>\n",
       "      <td>Female</td>\n",
       "      <td>21</td>\n",
       "      <td>Unmarried partner</td>\n",
       "      <td>Unemployed</td>\n",
       "      <td>80</td>\n",
       "    </tr>\n",
       "    <tr>\n",
       "      <th>4</th>\n",
       "      <td>No Urgent Place</td>\n",
       "      <td>Friend(s)</td>\n",
       "      <td>Sunny</td>\n",
       "      <td>Coffee House</td>\n",
       "      <td>1d</td>\n",
       "      <td>Female</td>\n",
       "      <td>21</td>\n",
       "      <td>Unmarried partner</td>\n",
       "      <td>Unemployed</td>\n",
       "      <td>80</td>\n",
       "    </tr>\n",
       "  </tbody>\n",
       "</table>\n",
       "</div>"
      ],
      "text/plain": [
       "       destination  passanger weather                 coupon expiration  \\\n",
       "0  No Urgent Place      Alone   Sunny        Restaurant(<20)         1d   \n",
       "1  No Urgent Place  Friend(s)   Sunny           Coffee House         2h   \n",
       "2  No Urgent Place  Friend(s)   Sunny  Carry out & Take away         2h   \n",
       "3  No Urgent Place  Friend(s)   Sunny           Coffee House         2h   \n",
       "4  No Urgent Place  Friend(s)   Sunny           Coffee House         1d   \n",
       "\n",
       "   gender age      maritalStatus  occupation temperature  \n",
       "0  Female  21  Unmarried partner  Unemployed          55  \n",
       "1  Female  21  Unmarried partner  Unemployed          80  \n",
       "2  Female  21  Unmarried partner  Unemployed          80  \n",
       "3  Female  21  Unmarried partner  Unemployed          80  \n",
       "4  Female  21  Unmarried partner  Unemployed          80  "
      ]
     },
     "execution_count": 75,
     "metadata": {},
     "output_type": "execute_result"
    },
    {
     "data": {
      "text/html": [
       "<div>\n",
       "<style scoped>\n",
       "    .dataframe tbody tr th:only-of-type {\n",
       "        vertical-align: middle;\n",
       "    }\n",
       "\n",
       "    .dataframe tbody tr th {\n",
       "        vertical-align: top;\n",
       "    }\n",
       "\n",
       "    .dataframe thead th {\n",
       "        text-align: right;\n",
       "    }\n",
       "</style>\n",
       "<table border=\"1\" class=\"dataframe\">\n",
       "  <thead>\n",
       "    <tr style=\"text-align: right;\">\n",
       "      <th></th>\n",
       "      <th>destination_No Urgent Place</th>\n",
       "      <th>destination_Work</th>\n",
       "      <th>passanger_Friend(s)</th>\n",
       "      <th>passanger_Kid(s)</th>\n",
       "      <th>passanger_Partner</th>\n",
       "      <th>weather_Snowy</th>\n",
       "      <th>weather_Sunny</th>\n",
       "      <th>coupon_Carry out &amp; Take away</th>\n",
       "      <th>coupon_Coffee House</th>\n",
       "      <th>coupon_Restaurant(20-50)</th>\n",
       "      <th>...</th>\n",
       "      <th>occupation_Personal Care &amp; Service</th>\n",
       "      <th>occupation_Production Occupations</th>\n",
       "      <th>occupation_Protective Service</th>\n",
       "      <th>occupation_Retired</th>\n",
       "      <th>occupation_Sales &amp; Related</th>\n",
       "      <th>occupation_Student</th>\n",
       "      <th>occupation_Transportation &amp; Material Moving</th>\n",
       "      <th>occupation_Unemployed</th>\n",
       "      <th>temperature_55</th>\n",
       "      <th>temperature_80</th>\n",
       "    </tr>\n",
       "  </thead>\n",
       "  <tbody>\n",
       "    <tr>\n",
       "      <th>0</th>\n",
       "      <td>1</td>\n",
       "      <td>0</td>\n",
       "      <td>0</td>\n",
       "      <td>0</td>\n",
       "      <td>0</td>\n",
       "      <td>0</td>\n",
       "      <td>1</td>\n",
       "      <td>0</td>\n",
       "      <td>0</td>\n",
       "      <td>0</td>\n",
       "      <td>...</td>\n",
       "      <td>0</td>\n",
       "      <td>0</td>\n",
       "      <td>0</td>\n",
       "      <td>0</td>\n",
       "      <td>0</td>\n",
       "      <td>0</td>\n",
       "      <td>0</td>\n",
       "      <td>1</td>\n",
       "      <td>1</td>\n",
       "      <td>0</td>\n",
       "    </tr>\n",
       "    <tr>\n",
       "      <th>1</th>\n",
       "      <td>1</td>\n",
       "      <td>0</td>\n",
       "      <td>1</td>\n",
       "      <td>0</td>\n",
       "      <td>0</td>\n",
       "      <td>0</td>\n",
       "      <td>1</td>\n",
       "      <td>0</td>\n",
       "      <td>1</td>\n",
       "      <td>0</td>\n",
       "      <td>...</td>\n",
       "      <td>0</td>\n",
       "      <td>0</td>\n",
       "      <td>0</td>\n",
       "      <td>0</td>\n",
       "      <td>0</td>\n",
       "      <td>0</td>\n",
       "      <td>0</td>\n",
       "      <td>1</td>\n",
       "      <td>0</td>\n",
       "      <td>1</td>\n",
       "    </tr>\n",
       "    <tr>\n",
       "      <th>2</th>\n",
       "      <td>1</td>\n",
       "      <td>0</td>\n",
       "      <td>1</td>\n",
       "      <td>0</td>\n",
       "      <td>0</td>\n",
       "      <td>0</td>\n",
       "      <td>1</td>\n",
       "      <td>1</td>\n",
       "      <td>0</td>\n",
       "      <td>0</td>\n",
       "      <td>...</td>\n",
       "      <td>0</td>\n",
       "      <td>0</td>\n",
       "      <td>0</td>\n",
       "      <td>0</td>\n",
       "      <td>0</td>\n",
       "      <td>0</td>\n",
       "      <td>0</td>\n",
       "      <td>1</td>\n",
       "      <td>0</td>\n",
       "      <td>1</td>\n",
       "    </tr>\n",
       "    <tr>\n",
       "      <th>3</th>\n",
       "      <td>1</td>\n",
       "      <td>0</td>\n",
       "      <td>1</td>\n",
       "      <td>0</td>\n",
       "      <td>0</td>\n",
       "      <td>0</td>\n",
       "      <td>1</td>\n",
       "      <td>0</td>\n",
       "      <td>1</td>\n",
       "      <td>0</td>\n",
       "      <td>...</td>\n",
       "      <td>0</td>\n",
       "      <td>0</td>\n",
       "      <td>0</td>\n",
       "      <td>0</td>\n",
       "      <td>0</td>\n",
       "      <td>0</td>\n",
       "      <td>0</td>\n",
       "      <td>1</td>\n",
       "      <td>0</td>\n",
       "      <td>1</td>\n",
       "    </tr>\n",
       "    <tr>\n",
       "      <th>4</th>\n",
       "      <td>1</td>\n",
       "      <td>0</td>\n",
       "      <td>1</td>\n",
       "      <td>0</td>\n",
       "      <td>0</td>\n",
       "      <td>0</td>\n",
       "      <td>1</td>\n",
       "      <td>0</td>\n",
       "      <td>1</td>\n",
       "      <td>0</td>\n",
       "      <td>...</td>\n",
       "      <td>0</td>\n",
       "      <td>0</td>\n",
       "      <td>0</td>\n",
       "      <td>0</td>\n",
       "      <td>0</td>\n",
       "      <td>0</td>\n",
       "      <td>0</td>\n",
       "      <td>1</td>\n",
       "      <td>0</td>\n",
       "      <td>1</td>\n",
       "    </tr>\n",
       "  </tbody>\n",
       "</table>\n",
       "<p>5 rows × 50 columns</p>\n",
       "</div>"
      ],
      "text/plain": [
       "   destination_No Urgent Place  destination_Work  passanger_Friend(s)  \\\n",
       "0                            1                 0                    0   \n",
       "1                            1                 0                    1   \n",
       "2                            1                 0                    1   \n",
       "3                            1                 0                    1   \n",
       "4                            1                 0                    1   \n",
       "\n",
       "   passanger_Kid(s)  passanger_Partner  weather_Snowy  weather_Sunny  \\\n",
       "0                 0                  0              0              1   \n",
       "1                 0                  0              0              1   \n",
       "2                 0                  0              0              1   \n",
       "3                 0                  0              0              1   \n",
       "4                 0                  0              0              1   \n",
       "\n",
       "   coupon_Carry out & Take away  coupon_Coffee House  \\\n",
       "0                             0                    0   \n",
       "1                             0                    1   \n",
       "2                             1                    0   \n",
       "3                             0                    1   \n",
       "4                             0                    1   \n",
       "\n",
       "   coupon_Restaurant(20-50)  ...  occupation_Personal Care & Service  \\\n",
       "0                         0  ...                                   0   \n",
       "1                         0  ...                                   0   \n",
       "2                         0  ...                                   0   \n",
       "3                         0  ...                                   0   \n",
       "4                         0  ...                                   0   \n",
       "\n",
       "   occupation_Production Occupations  occupation_Protective Service  \\\n",
       "0                                  0                              0   \n",
       "1                                  0                              0   \n",
       "2                                  0                              0   \n",
       "3                                  0                              0   \n",
       "4                                  0                              0   \n",
       "\n",
       "   occupation_Retired  occupation_Sales & Related  occupation_Student  \\\n",
       "0                   0                           0                   0   \n",
       "1                   0                           0                   0   \n",
       "2                   0                           0                   0   \n",
       "3                   0                           0                   0   \n",
       "4                   0                           0                   0   \n",
       "\n",
       "   occupation_Transportation & Material Moving  occupation_Unemployed  \\\n",
       "0                                            0                      1   \n",
       "1                                            0                      1   \n",
       "2                                            0                      1   \n",
       "3                                            0                      1   \n",
       "4                                            0                      1   \n",
       "\n",
       "   temperature_55  temperature_80  \n",
       "0               1               0  \n",
       "1               0               1  \n",
       "2               0               1  \n",
       "3               0               1  \n",
       "4               0               1  \n",
       "\n",
       "[5 rows x 50 columns]"
      ]
     },
     "execution_count": 75,
     "metadata": {},
     "output_type": "execute_result"
    }
   ],
   "source": [
    "nominal_data_w_temp.head()\n",
    "encoded_nominal_data_w_temp.head()"
   ]
  },
  {
   "cell_type": "markdown",
   "id": "136bdc5d",
   "metadata": {},
   "source": [
    "## Combine all encoded features into one dataframe"
   ]
  },
  {
   "cell_type": "code",
   "execution_count": 33,
   "id": "7b9807e7",
   "metadata": {},
   "outputs": [],
   "source": [
    "recombined_data = pd.concat([binary_numeric_data, ordinal_encoded_data, encoded_nominal_data_w_temp], axis=1)"
   ]
  },
  {
   "cell_type": "markdown",
   "id": "bb834d28",
   "metadata": {},
   "source": [
    "## Define X/y train/test"
   ]
  },
  {
   "cell_type": "code",
   "execution_count": 34,
   "id": "16a06e38",
   "metadata": {},
   "outputs": [],
   "source": [
    "## define X and y \n",
    "X = recombined_data.drop('Y', axis=1).reset_index(drop=True)\n",
    "y = recombined_data.Y\n",
    "\n",
    "## Data splitting train/test\n",
    "X_train, X_test, y_train, y_test = train_test_split(X, y, test_size=0.20, random_state=42)"
   ]
  },
  {
   "cell_type": "markdown",
   "id": "b4d23bbc",
   "metadata": {},
   "source": [
    "## logistic_regression_trials"
   ]
  },
  {
   "cell_type": "code",
   "execution_count": 35,
   "id": "d9517668",
   "metadata": {},
   "outputs": [
    {
     "data": {
      "text/html": [
       "<div>\n",
       "<style scoped>\n",
       "    .dataframe tbody tr th:only-of-type {\n",
       "        vertical-align: middle;\n",
       "    }\n",
       "\n",
       "    .dataframe tbody tr th {\n",
       "        vertical-align: top;\n",
       "    }\n",
       "\n",
       "    .dataframe thead th {\n",
       "        text-align: right;\n",
       "    }\n",
       "</style>\n",
       "<table border=\"1\" class=\"dataframe\">\n",
       "  <thead>\n",
       "    <tr style=\"text-align: right;\">\n",
       "      <th></th>\n",
       "      <th>cvk</th>\n",
       "      <th>solver</th>\n",
       "      <th>init_model</th>\n",
       "      <th>mean_score</th>\n",
       "    </tr>\n",
       "  </thead>\n",
       "  <tbody>\n",
       "    <tr>\n",
       "      <th>2</th>\n",
       "      <td>10</td>\n",
       "      <td>liblinear</td>\n",
       "      <td>LogisticRegression(solver='liblinear')</td>\n",
       "      <td>0.68059696</td>\n",
       "    </tr>\n",
       "    <tr>\n",
       "      <th>0</th>\n",
       "      <td>5</td>\n",
       "      <td>liblinear</td>\n",
       "      <td>LogisticRegression(solver='liblinear')</td>\n",
       "      <td>0.67961154</td>\n",
       "    </tr>\n",
       "    <tr>\n",
       "      <th>1</th>\n",
       "      <td>5</td>\n",
       "      <td>lbfgs</td>\n",
       "      <td>LogisticRegression()</td>\n",
       "      <td>0.67645747</td>\n",
       "    </tr>\n",
       "    <tr>\n",
       "      <th>3</th>\n",
       "      <td>10</td>\n",
       "      <td>lbfgs</td>\n",
       "      <td>LogisticRegression()</td>\n",
       "      <td>0.67586518</td>\n",
       "    </tr>\n",
       "  </tbody>\n",
       "</table>\n",
       "</div>"
      ],
      "text/plain": [
       "   cvk     solver                              init_model  mean_score\n",
       "2   10  liblinear  LogisticRegression(solver='liblinear')  0.68059696\n",
       "0    5  liblinear  LogisticRegression(solver='liblinear')  0.67961154\n",
       "1    5      lbfgs                    LogisticRegression()  0.67645747\n",
       "3   10      lbfgs                    LogisticRegression()  0.67586518"
      ]
     },
     "metadata": {},
     "output_type": "display_data"
    }
   ],
   "source": [
    "reg_mean_scores_df, reg_results = run_logistic_regression_trials(X_train, y_train)\n",
    "display(reg_mean_scores_df.sort_values('mean_score', ascending=False))"
   ]
  },
  {
   "cell_type": "markdown",
   "id": "bcae44b3",
   "metadata": {},
   "source": [
    "## single random forest"
   ]
  },
  {
   "cell_type": "code",
   "execution_count": 36,
   "id": "13203973",
   "metadata": {},
   "outputs": [
    {
     "name": "stdout",
     "output_type": "stream",
     "text": [
      "0.6784267044116469 0.00801525847001094\n"
     ]
    }
   ],
   "source": [
    "clf = RandomForestClassifier(max_depth=5, random_state=42)\n",
    "cross_val_scores = cross_val_score(clf, X_train, y_train, cv=5)\n",
    "print(f\"{np.mean(cross_val_scores)} {np.std(cross_val_scores)}\")"
   ]
  },
  {
   "cell_type": "code",
   "execution_count": 37,
   "id": "788b0ed8",
   "metadata": {},
   "outputs": [
    {
     "name": "stdout",
     "output_type": "stream",
     "text": [
      "(weighted avg) AUC: 0.6432364265038633 0.008869013853778751\n"
     ]
    }
   ],
   "source": [
    "roc_auc_scorer = make_scorer(roc_auc_score, average='weighted')\n",
    "cross_val_scores = cross_val_score(clf, X_train, y_train, scoring=roc_auc_scorer, cv=5)\n",
    "print(f\"(weighted avg) AUC: {np.mean(cross_val_scores)} {np.std(cross_val_scores)}\")"
   ]
  },
  {
   "cell_type": "markdown",
   "id": "2eed3c69",
   "metadata": {},
   "source": [
    "# Split by coupon type"
   ]
  },
  {
   "cell_type": "code",
   "execution_count": 38,
   "id": "eab22dfb",
   "metadata": {},
   "outputs": [],
   "source": [
    "encoded_nominal_data_no_coupon = pd.get_dummies(nominal_data_w_temp.drop('coupon', axis=1), drop_first=True)\n",
    "data_to_split = pd.concat([binary_numeric_data, ordinal_encoded_data, encoded_nominal_data_no_coupon, \n",
    "                           nominal_data.coupon], axis=1)"
   ]
  },
  {
   "cell_type": "code",
   "execution_count": 39,
   "id": "a0cc4bff",
   "metadata": {},
   "outputs": [],
   "source": [
    "cols_to_keep = data_to_split.columns.to_list()\n",
    "cols_to_keep.remove('coupon')"
   ]
  },
  {
   "cell_type": "code",
   "execution_count": 40,
   "id": "49ae15d9",
   "metadata": {},
   "outputs": [],
   "source": [
    "Bar_data = data_to_split.loc[data_to_split['coupon'] == 'Bar', cols_to_keep]\n",
    "CoffeeHouse_data = data_to_split.loc[data_to_split['coupon'] == 'Coffee House', cols_to_keep]\n",
    "CarryAway_data = data_to_split.loc[data_to_split['coupon'] == 'Carry out & Take away', cols_to_keep]\n",
    "RestaurantLessThan20_data = data_to_split.loc[data_to_split['coupon'] == 'Restaurant(<20)', cols_to_keep]\n",
    "Restaurant20To50_data = data_to_split.loc[data_to_split['coupon'] == 'Restaurant(20-50)', cols_to_keep]"
   ]
  },
  {
   "cell_type": "code",
   "execution_count": 42,
   "id": "7bc699d2",
   "metadata": {},
   "outputs": [
    {
     "name": "stdout",
     "output_type": "stream",
     "text": [
      "<class 'pandas.core.frame.DataFrame'>\n",
      "Int64Index: 2017 entries, 9 to 12682\n",
      "Data columns (total 59 columns):\n",
      " #   Column                                                Non-Null Count  Dtype  \n",
      "---  ------                                                --------------  -----  \n",
      " 0   has_children                                          2017 non-null   int64  \n",
      " 1   toCoupon_GEQ5min                                      2017 non-null   int64  \n",
      " 2   toCoupon_GEQ15min                                     2017 non-null   int64  \n",
      " 3   toCoupon_GEQ25min                                     2017 non-null   int64  \n",
      " 4   direction_opp                                         2017 non-null   int64  \n",
      " 5   Y                                                     2017 non-null   int64  \n",
      " 6   income                                                2017 non-null   float64\n",
      " 7   time                                                  2017 non-null   float64\n",
      " 8   education                                             2017 non-null   float64\n",
      " 9   Bar                                                   2017 non-null   float64\n",
      " 10  CoffeeHouse                                           2017 non-null   float64\n",
      " 11  CarryAway                                             2017 non-null   float64\n",
      " 12  RestaurantLessThan20                                  2017 non-null   float64\n",
      " 13  Restaurant20To50                                      2017 non-null   float64\n",
      " 14  temperature                                           2017 non-null   int64  \n",
      " 15  destination_No Urgent Place                           2017 non-null   uint8  \n",
      " 16  destination_Work                                      2017 non-null   uint8  \n",
      " 17  passanger_Friend(s)                                   2017 non-null   uint8  \n",
      " 18  passanger_Kid(s)                                      2017 non-null   uint8  \n",
      " 19  passanger_Partner                                     2017 non-null   uint8  \n",
      " 20  weather_Snowy                                         2017 non-null   uint8  \n",
      " 21  weather_Sunny                                         2017 non-null   uint8  \n",
      " 22  expiration_2h                                         2017 non-null   uint8  \n",
      " 23  gender_Male                                           2017 non-null   uint8  \n",
      " 24  age_26                                                2017 non-null   uint8  \n",
      " 25  age_31                                                2017 non-null   uint8  \n",
      " 26  age_36                                                2017 non-null   uint8  \n",
      " 27  age_41                                                2017 non-null   uint8  \n",
      " 28  age_46                                                2017 non-null   uint8  \n",
      " 29  age_50plus                                            2017 non-null   uint8  \n",
      " 30  age_below21                                           2017 non-null   uint8  \n",
      " 31  maritalStatus_Married partner                         2017 non-null   uint8  \n",
      " 32  maritalStatus_Single                                  2017 non-null   uint8  \n",
      " 33  maritalStatus_Unmarried partner                       2017 non-null   uint8  \n",
      " 34  maritalStatus_Widowed                                 2017 non-null   uint8  \n",
      " 35  occupation_Arts Design Entertainment Sports & Media   2017 non-null   uint8  \n",
      " 36  occupation_Building & Grounds Cleaning & Maintenance  2017 non-null   uint8  \n",
      " 37  occupation_Business & Financial                       2017 non-null   uint8  \n",
      " 38  occupation_Community & Social Services                2017 non-null   uint8  \n",
      " 39  occupation_Computer & Mathematical                    2017 non-null   uint8  \n",
      " 40  occupation_Construction & Extraction                  2017 non-null   uint8  \n",
      " 41  occupation_Education&Training&Library                 2017 non-null   uint8  \n",
      " 42  occupation_Farming Fishing & Forestry                 2017 non-null   uint8  \n",
      " 43  occupation_Food Preparation & Serving Related         2017 non-null   uint8  \n",
      " 44  occupation_Healthcare Practitioners & Technical       2017 non-null   uint8  \n",
      " 45  occupation_Healthcare Support                         2017 non-null   uint8  \n",
      " 46  occupation_Installation Maintenance & Repair          2017 non-null   uint8  \n",
      " 47  occupation_Legal                                      2017 non-null   uint8  \n",
      " 48  occupation_Life Physical Social Science               2017 non-null   uint8  \n",
      " 49  occupation_Management                                 2017 non-null   uint8  \n",
      " 50  occupation_Office & Administrative Support            2017 non-null   uint8  \n",
      " 51  occupation_Personal Care & Service                    2017 non-null   uint8  \n",
      " 52  occupation_Production Occupations                     2017 non-null   uint8  \n",
      " 53  occupation_Protective Service                         2017 non-null   uint8  \n",
      " 54  occupation_Retired                                    2017 non-null   uint8  \n",
      " 55  occupation_Sales & Related                            2017 non-null   uint8  \n",
      " 56  occupation_Student                                    2017 non-null   uint8  \n",
      " 57  occupation_Transportation & Material Moving           2017 non-null   uint8  \n",
      " 58  occupation_Unemployed                                 2017 non-null   uint8  \n",
      "dtypes: float64(8), int64(7), uint8(44)\n",
      "memory usage: 338.8 KB\n"
     ]
    }
   ],
   "source": [
    "Bar_data.info()"
   ]
  }
 ],
 "metadata": {
  "kernelspec": {
   "display_name": "Python 3 (ipykernel)",
   "language": "python",
   "name": "python3"
  },
  "language_info": {
   "codemirror_mode": {
    "name": "ipython",
    "version": 3
   },
   "file_extension": ".py",
   "mimetype": "text/x-python",
   "name": "python",
   "nbconvert_exporter": "python",
   "pygments_lexer": "ipython3",
   "version": "3.9.7"
  }
 },
 "nbformat": 4,
 "nbformat_minor": 5
}
