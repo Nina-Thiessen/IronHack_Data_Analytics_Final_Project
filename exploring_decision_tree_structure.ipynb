{
 "cells": [
  {
   "cell_type": "code",
   "execution_count": 15,
   "id": "b0ad0eb7",
   "metadata": {},
   "outputs": [],
   "source": [
    "import pickle\n",
    "import numpy as np\n",
    "import pandas as pd\n",
    "import warnings\n",
    "warnings.filterwarnings(\"ignore\")\n",
    "\n",
    "from sklearn.ensemble import RandomForestClassifier\n",
    "\n",
    "from sklearn.tree import DecisionTreeClassifier\n",
    "from sklearn.tree import plot_tree, export_text\n",
    "\n",
    "import matplotlib.pyplot as plt\n",
    "%matplotlib inline\n",
    "import seaborn as sns\n",
    "\n",
    "## to make it possible to display multiple output inside one cell \n",
    "from IPython.core.interactiveshell import InteractiveShell\n",
    "InteractiveShell.ast_node_interactivity = \"all\"\n",
    "\n",
    "pd.options.display.max_rows = 50\n",
    "pd.set_option('display.float_format', lambda x: '%9.8f' % x)"
   ]
  },
  {
   "cell_type": "code",
   "execution_count": 127,
   "id": "6925e9ab",
   "metadata": {},
   "outputs": [],
   "source": [
    "def explore_tree(estimator, X_test, y_test, sample_id, feature_names):\n",
    "    \"\"\"\n",
    "    a slightly modified version of the code from \n",
    "    https://scikit-learn.org/stable/auto_examples/tree/plot_unveil_tree_structure.html#decision-path\n",
    "    \"\"\"\n",
    "    feature = estimator.tree_.feature\n",
    "    threshold = estimator.tree_.threshold\n",
    "\n",
    "    # First let's retrieve the decision path of each sample. The decision_path\n",
    "    # method allows to retrieve the node indicator functions. A non zero element of\n",
    "    # indicator matrix at the position (i, j) indicates that the sample i goes\n",
    "    # through the node j.\n",
    "\n",
    "    node_indicator = estimator.decision_path(X_test)\n",
    "\n",
    "    # Get the leaf ids reached by each sample.\n",
    "\n",
    "    leaf_ids = estimator.apply(X_test)\n",
    "\n",
    "    # Get the tests that were used to predict a sample\n",
    "    node_index = node_indicator.indices[node_indicator.indptr[sample_id]:\n",
    "                                        node_indicator.indptr[sample_id + 1]]\n",
    "\n",
    "    features_in_rules = []\n",
    "    print('Rules used to predict sample %s:\\n' % sample_id)\n",
    "    for node_id in node_index:\n",
    "        if leaf_ids[sample_id] == node_id:\n",
    "            print(\"\\t==> end\")\n",
    "            continue\n",
    "            \n",
    "        if (X_test[sample_id, feature[node_id]] <= threshold[node_id]):\n",
    "            threshold_sign = \"<=\"\n",
    "        else:\n",
    "            threshold_sign = \">\"\n",
    "\n",
    "        feature_name = feature_names[feature[node_id]]\n",
    "        if not feature_name in features_in_rules:\n",
    "            features_in_rules.append(feature_name)\n",
    "            \n",
    "        print(f\"(node {node_id})'{feature_name}' \"\n",
    "              f\"= {X_test[sample_id, feature[node_id]]} {threshold_sign} {threshold[node_id]:0.2f}\")\n",
    "\n",
    "    if estimator.predict(X_test)[sample_id] == 0:\n",
    "        ar = \"Reject\"\n",
    "    elif estimator.predict(X_test)[sample_id] == 1:\n",
    "        ar = \"Accept\"\n",
    "    else: # add this clause just in case there are value other than 0 or 1\n",
    "        ar = estimator.predict(X_test)[sample_id]\n",
    "        \n",
    "    if y_test[sample_id][0] == estimator.predict(X_test)[sample_id]:\n",
    "        isok = \"CORRECT\"\n",
    "    else:\n",
    "        isok = \"WRONG\"\n",
    "    print(f\"Prediction: {ar} coupon ({isok})\")\n",
    "    \n",
    "    return features_in_rules\n"
   ]
  },
  {
   "cell_type": "markdown",
   "id": "e108e1ee",
   "metadata": {},
   "source": [
    "## Restaurant20To50"
   ]
  },
  {
   "cell_type": "code",
   "execution_count": 130,
   "id": "a35d4fee",
   "metadata": {},
   "outputs": [],
   "source": [
    "coupon_type = 'Restaurant20To50'\n",
    "\n",
    "with open(f'model/phase2/{coupon_type}_best_model_RFC.pickle', \"rb\") as f: \n",
    "    best_model = pickle.load(f)\n",
    "    \n",
    "X_train = pd.read_csv(f'data/{coupon_type}_X_train_phase2.csv')\n",
    "X_test = pd.read_csv(f'data/{coupon_type}_X_test_phase2.csv')\n",
    "y_test = pd.read_csv(f'data/{coupon_type}_y_test_phase2.csv')"
   ]
  },
  {
   "cell_type": "code",
   "execution_count": 131,
   "id": "a9df1e3c",
   "metadata": {},
   "outputs": [
    {
     "name": "stdout",
     "output_type": "stream",
     "text": [
      "Tree 73 (DecisionTreeClassifier(max_features=4, random_state=68574553))\n",
      "Rules used to predict sample 13:\n",
      "\n",
      "(node 0)'time' = 4.0 > 3.98\n",
      "(node 768)'expiration_2h' = 0.0 <= 0.50\n",
      "(node 769)'Restaurant20To50_freq_unknown' = 0.0 <= 0.50\n",
      "(node 770)'occupation_Healthcare Support' = 0.0 <= 0.50\n",
      "(node 771)'RestaurantLessThan20_freq_unknown' = 0.0 <= 0.50\n",
      "(node 772)'occupation_Office & Administrative Support' = 0.0 <= 0.50\n",
      "(node 773)'age_50plus' = 0.0 <= 0.50\n",
      "(node 774)'occupation_Business & Financial' = 0.0 <= 0.50\n",
      "(node 775)'CoffeeHouse_freq_unknown' = 0.0 <= 0.50\n",
      "(node 776)'RestaurantLessThan20' = 2.0 <= 2.25\n",
      "(node 777)'CoffeeHouse' = 2.0 <= 2.50\n",
      "(node 778)'minsToCouponDest' = 0.0 <= 0.50\n",
      "(node 779)'has_children' = 0.0 <= 0.50\n",
      "(node 780)'CoffeeHouse' = 2.0 > 1.50\n",
      "\t==> end\n",
      "Prediction: Reject coupon (CORRECT)\n"
     ]
    },
    {
     "data": {
      "text/plain": [
       "time                                         4.00000000\n",
       "expiration_2h                                0.00000000\n",
       "Restaurant20To50_freq_unknown                0.00000000\n",
       "occupation_Healthcare Support                0.00000000\n",
       "RestaurantLessThan20_freq_unknown            0.00000000\n",
       "occupation_Office & Administrative Support   0.00000000\n",
       "age_50plus                                   0.00000000\n",
       "occupation_Business & Financial              0.00000000\n",
       "CoffeeHouse_freq_unknown                     0.00000000\n",
       "RestaurantLessThan20                         2.00000000\n",
       "CoffeeHouse                                  2.00000000\n",
       "minsToCouponDest                             0.00000000\n",
       "has_children                                 0.00000000\n",
       "Name: 13, dtype: float64"
      ]
     },
     "execution_count": 131,
     "metadata": {},
     "output_type": "execute_result"
    }
   ],
   "source": [
    "i=73 # pick an arbitrary tree in the forest\n",
    "sampleid=13 # pick an arbitrary test sample\n",
    "print(f\"Tree {i} ({best_model.estimators_[i]})\")\n",
    "features_in_rules = explore_tree(best_model.estimators_[i], X_test.values, y_test.values, \n",
    "                                 sampleid, X_test.columns.to_list())\n",
    "## sanity check -- do the values in the X_test record agree with the prediction path that was printed out? Yes! :)\n",
    "X_test.loc[sampleid, features_in_rules]"
   ]
  },
  {
   "cell_type": "code",
   "execution_count": 136,
   "id": "3e5e51d8",
   "metadata": {},
   "outputs": [],
   "source": [
    "#hmmmmm, not sure how to read this output... but keep this code just in case I find a use for it\n",
    "# print(export_text(best_model.estimators_[73], max_depth=10, feature_names=list(X_train)))"
   ]
  },
  {
   "cell_type": "markdown",
   "id": "4848c0c1",
   "metadata": {},
   "source": [
    "## Coffee House"
   ]
  },
  {
   "cell_type": "code",
   "execution_count": 132,
   "id": "13e97bf0",
   "metadata": {},
   "outputs": [],
   "source": [
    "coupon_type = 'CoffeeHouse'\n",
    "\n",
    "with open(f'model/phase2/{coupon_type}_best_model_RFC.pickle', \"rb\") as f: \n",
    "    best_model = pickle.load(f)\n",
    "    \n",
    "X_train = pd.read_csv(f'data/{coupon_type}_X_train_phase2.csv')\n",
    "X_test = pd.read_csv(f'data/{coupon_type}_X_test_phase2.csv')\n",
    "y_test = pd.read_csv(f'data/{coupon_type}_y_test_phase2.csv')"
   ]
  },
  {
   "cell_type": "code",
   "execution_count": 141,
   "id": "11bffd05",
   "metadata": {},
   "outputs": [
    {
     "name": "stdout",
     "output_type": "stream",
     "text": [
      "Tree 73 (DecisionTreeClassifier(max_features=8, random_state=68574553))\n",
      "Rules used to predict sample 3:\n",
      "\n",
      "(node 0)'expiration_2h' = 0.0 <= 0.50\n",
      "(node 1)'occupation_Business & Financial' = 0.0 <= 0.50\n",
      "(node 2)'income_$12500 - $24999' = 0.0 <= 0.50\n",
      "(node 3)'income_$75000 - $87499' = 0.0 <= 0.50\n",
      "(node 4)'occupation_Student' = 0.0 <= 0.50\n",
      "(node 5)'time' = 0.0 <= 3.50\n",
      "(node 6)'minsToCouponDest' = 0.0 <= 1.50\n",
      "(node 7)'CoffeeHouse' = 5.0 > 1.50\n",
      "(node 81)'passanger_Partner' = 0.0 <= 0.50\n",
      "(node 82)'destination_No Urgent Place' = 0.0 <= 0.50\n",
      "(node 83)'has_children' = 1.0 > 0.50\n",
      "(node 179)'RestaurantLessThan20_freq_unknown' = 0.0 <= 0.50\n",
      "(node 180)'direction_same' = 1.0 > 0.50\n",
      "(node 208)'occupation_Computer & Mathematical' = 1.0 > 0.50\n",
      "\t==> end\n",
      "Prediction: Accept coupon (CORRECT)\n"
     ]
    }
   ],
   "source": [
    "i=73 # pick an arbitrary tree in the forest\n",
    "sampleid=3 # pick an arbitrary test sample\n",
    "print(f\"Tree {i} ({best_model.estimators_[i]})\")\n",
    "features_in_rules = explore_tree(best_model.estimators_[i], X_test.values, y_test.values, \n",
    "                                 sampleid, X_test.columns.to_list())"
   ]
  }
 ],
 "metadata": {
  "kernelspec": {
   "display_name": "Python 3 (ipykernel)",
   "language": "python",
   "name": "python3"
  },
  "language_info": {
   "codemirror_mode": {
    "name": "ipython",
    "version": 3
   },
   "file_extension": ".py",
   "mimetype": "text/x-python",
   "name": "python",
   "nbconvert_exporter": "python",
   "pygments_lexer": "ipython3",
   "version": "3.9.7"
  }
 },
 "nbformat": 4,
 "nbformat_minor": 5
}
