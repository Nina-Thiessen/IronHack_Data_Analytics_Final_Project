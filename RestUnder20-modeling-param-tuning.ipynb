{
 "cells": [
  {
   "cell_type": "code",
   "execution_count": 1,
   "id": "51bc31d0",
   "metadata": {},
   "outputs": [],
   "source": [
    "import os\n",
    "import numpy as np\n",
    "import pandas as pd\n",
    "import warnings\n",
    "warnings.filterwarnings(\"ignore\")\n",
    "\n",
    "from sklearn.preprocessing import StandardScaler\n",
    "from sklearn.preprocessing import minmax_scale\n",
    "from sklearn.preprocessing import PowerTransformer\n",
    "\n",
    "from imblearn.over_sampling import SMOTE\n",
    "\n",
    "## models\n",
    "from sklearn.linear_model import LogisticRegression\n",
    "from sklearn.neighbors import KNeighborsClassifier\n",
    "from sklearn.tree import DecisionTreeClassifier\n",
    "from sklearn.tree import plot_tree\n",
    "from sklearn.svm import LinearSVC\n",
    "\n",
    "from sklearn.ensemble import RandomForestClassifier\n",
    "from sklearn.ensemble import GradientBoostingClassifier\n",
    "\n",
    "from sklearn.model_selection import GridSearchCV\n",
    "from sklearn.model_selection import train_test_split\n",
    "from sklearn.model_selection import cross_val_score, cross_val_predict, cross_validate\n",
    "\n",
    "from sklearn.metrics import accuracy_score, precision_score, recall_score\n",
    "from sklearn.metrics import confusion_matrix, make_scorer, roc_auc_score\n",
    "\n",
    "import matplotlib.pyplot as plt\n",
    "%matplotlib inline\n",
    "import seaborn as sns\n",
    "\n",
    "## to make it possible to display multiple output inside one cell \n",
    "from IPython.core.interactiveshell import InteractiveShell\n",
    "InteractiveShell.ast_node_interactivity = \"all\"\n",
    "\n",
    "pd.options.display.max_rows = 50\n",
    "pd.set_option('display.float_format', lambda x: '%9.8f' % x)"
   ]
  },
  {
   "cell_type": "code",
   "execution_count": 2,
   "id": "e3f61f7a",
   "metadata": {},
   "outputs": [
    {
     "name": "stdout",
     "output_type": "stream",
     "text": [
      "Orig: 70.71% Yes\n",
      "After SMOTE: 50.00% Yes\n"
     ]
    }
   ],
   "source": [
    "## load data, split Xy, upsample with SMOTE, split train/test\n",
    "data = pd.read_csv('data/RestaurantLessThan20_data_encoded.csv')\n",
    "\n",
    "## define X and y \n",
    "X = data.drop('Y', axis=1).reset_index(drop=True)\n",
    "y = data.Y\n",
    "\n",
    "## Handle imbalance\n",
    "smote = SMOTE()\n",
    "\n",
    "orig_vc = y.value_counts()\n",
    "print(f\"Orig: {100* orig_vc[1]/(orig_vc.sum()):.2f}% Yes\")\n",
    "\n",
    "X_sm, y_sm = smote.fit_resample(X, y)\n",
    "sm_vc = y_sm.value_counts()\n",
    "print(f\"After SMOTE: {100* sm_vc[1]/(sm_vc.sum()):.2f}% Yes\")\n",
    "\n",
    "## Data splitting train/test\n",
    "X_train, X_test, y_train, y_test = train_test_split(X_sm, y_sm, test_size=0.20, random_state=42)"
   ]
  },
  {
   "cell_type": "code",
   "execution_count": 3,
   "id": "c903f2bb",
   "metadata": {},
   "outputs": [
    {
     "data": {
      "text/plain": [
       "(3152, 55)"
      ]
     },
     "execution_count": 3,
     "metadata": {},
     "output_type": "execute_result"
    }
   ],
   "source": [
    "X_train.shape"
   ]
  },
  {
   "cell_type": "markdown",
   "id": "385d87e2",
   "metadata": {},
   "source": [
    "## Testing RandomForestClassifier with Grid Search Cross-validation\n"
   ]
  },
  {
   "cell_type": "code",
   "execution_count": 4,
   "id": "f02a39ce",
   "metadata": {},
   "outputs": [],
   "source": [
    "roc_auc_scorer = make_scorer(roc_auc_score, average='weighted')"
   ]
  },
  {
   "cell_type": "code",
   "execution_count": 5,
   "id": "70ac7507",
   "metadata": {},
   "outputs": [],
   "source": [
    "cols_to_view = ['rank_test_score', 'param_max_depth', 'param_max_features', 'param_min_samples_split', \n",
    "                'param_min_samples_leaf', 'param_n_estimators', \n",
    "                'mean_test_score', 'std_test_score', 'mean_train_score', 'std_train_score']"
   ]
  },
  {
   "cell_type": "code",
   "execution_count": 7,
   "id": "56ab020a",
   "metadata": {},
   "outputs": [
    {
     "data": {
      "text/plain": [
       "GridSearchCV(cv=5,\n",
       "             estimator=RandomForestClassifier(oob_score=True, random_state=42),\n",
       "             n_jobs=3,\n",
       "             param_grid={'max_depth': [None, 5, 10, 15],\n",
       "                         'max_features': [5, 6, 7, 8, 9, 10],\n",
       "                         'min_samples_leaf': [1, 3, 5],\n",
       "                         'min_samples_split': [2, 3, 4, 5],\n",
       "                         'n_estimators': [100, 150, 200]},\n",
       "             return_train_score=True,\n",
       "             scoring=make_scorer(roc_auc_score, average=weighted))"
      ]
     },
     "execution_count": 7,
     "metadata": {},
     "output_type": "execute_result"
    }
   ],
   "source": [
    "param_grid={'max_depth': [None, 5, 10, 15],\n",
    "            'max_features': [5, 6, 7, 8, 9, 10],\n",
    "            'min_samples_split': [2, 3, 4, 5],\n",
    "            'min_samples_leaf': [1, 3, 5],\n",
    "            'n_estimators': [100, 150, 200]}\n",
    "\n",
    "clf = RandomForestClassifier(oob_score=True, random_state=42)\n",
    "\n",
    "grid_search1 = GridSearchCV(clf, param_grid, scoring=roc_auc_scorer, cv=5, return_train_score=True, n_jobs=3)\n",
    "grid_search1.fit(X_train.values, y_train.values)"
   ]
  },
  {
   "cell_type": "code",
   "execution_count": 8,
   "id": "5acd3870",
   "metadata": {},
   "outputs": [
    {
     "data": {
      "text/html": [
       "<div>\n",
       "<style scoped>\n",
       "    .dataframe tbody tr th:only-of-type {\n",
       "        vertical-align: middle;\n",
       "    }\n",
       "\n",
       "    .dataframe tbody tr th {\n",
       "        vertical-align: top;\n",
       "    }\n",
       "\n",
       "    .dataframe thead th {\n",
       "        text-align: right;\n",
       "    }\n",
       "</style>\n",
       "<table border=\"1\" class=\"dataframe\">\n",
       "  <thead>\n",
       "    <tr style=\"text-align: right;\">\n",
       "      <th></th>\n",
       "      <th>rank_test_score</th>\n",
       "      <th>param_max_depth</th>\n",
       "      <th>param_max_features</th>\n",
       "      <th>param_min_samples_split</th>\n",
       "      <th>param_min_samples_leaf</th>\n",
       "      <th>param_n_estimators</th>\n",
       "      <th>mean_test_score</th>\n",
       "      <th>std_test_score</th>\n",
       "      <th>mean_train_score</th>\n",
       "      <th>std_train_score</th>\n",
       "    </tr>\n",
       "  </thead>\n",
       "  <tbody>\n",
       "    <tr>\n",
       "      <th>79</th>\n",
       "      <td>1</td>\n",
       "      <td>None</td>\n",
       "      <td>7</td>\n",
       "      <td>4</td>\n",
       "      <td>1</td>\n",
       "      <td>150</td>\n",
       "      <td>0.85684356</td>\n",
       "      <td>0.01392176</td>\n",
       "      <td>0.99288743</td>\n",
       "      <td>0.00155211</td>\n",
       "    </tr>\n",
       "    <tr>\n",
       "      <th>78</th>\n",
       "      <td>2</td>\n",
       "      <td>None</td>\n",
       "      <td>7</td>\n",
       "      <td>4</td>\n",
       "      <td>1</td>\n",
       "      <td>100</td>\n",
       "      <td>0.85557559</td>\n",
       "      <td>0.01502960</td>\n",
       "      <td>0.99232813</td>\n",
       "      <td>0.00171330</td>\n",
       "    </tr>\n",
       "    <tr>\n",
       "      <th>5</th>\n",
       "      <td>3</td>\n",
       "      <td>None</td>\n",
       "      <td>5</td>\n",
       "      <td>3</td>\n",
       "      <td>1</td>\n",
       "      <td>200</td>\n",
       "      <td>0.85557360</td>\n",
       "      <td>0.00885893</td>\n",
       "      <td>0.99794608</td>\n",
       "      <td>0.00057952</td>\n",
       "    </tr>\n",
       "    <tr>\n",
       "      <th>651</th>\n",
       "      <td>4</td>\n",
       "      <td>15</td>\n",
       "      <td>5</td>\n",
       "      <td>3</td>\n",
       "      <td>1</td>\n",
       "      <td>100</td>\n",
       "      <td>0.85432281</td>\n",
       "      <td>0.01093255</td>\n",
       "      <td>0.98546954</td>\n",
       "      <td>0.00332819</td>\n",
       "    </tr>\n",
       "    <tr>\n",
       "      <th>80</th>\n",
       "      <td>5</td>\n",
       "      <td>None</td>\n",
       "      <td>7</td>\n",
       "      <td>4</td>\n",
       "      <td>1</td>\n",
       "      <td>200</td>\n",
       "      <td>0.85430765</td>\n",
       "      <td>0.01532891</td>\n",
       "      <td>0.99280995</td>\n",
       "      <td>0.00088657</td>\n",
       "    </tr>\n",
       "    <tr>\n",
       "      <th>39</th>\n",
       "      <td>6</td>\n",
       "      <td>None</td>\n",
       "      <td>6</td>\n",
       "      <td>3</td>\n",
       "      <td>1</td>\n",
       "      <td>100</td>\n",
       "      <td>0.85366675</td>\n",
       "      <td>0.01463062</td>\n",
       "      <td>0.99746873</td>\n",
       "      <td>0.00126334</td>\n",
       "    </tr>\n",
       "    <tr>\n",
       "      <th>4</th>\n",
       "      <td>7</td>\n",
       "      <td>None</td>\n",
       "      <td>5</td>\n",
       "      <td>3</td>\n",
       "      <td>1</td>\n",
       "      <td>150</td>\n",
       "      <td>0.85365168</td>\n",
       "      <td>0.00949922</td>\n",
       "      <td>0.99786746</td>\n",
       "      <td>0.00047311</td>\n",
       "    </tr>\n",
       "    <tr>\n",
       "      <th>151</th>\n",
       "      <td>8</td>\n",
       "      <td>None</td>\n",
       "      <td>9</td>\n",
       "      <td>4</td>\n",
       "      <td>1</td>\n",
       "      <td>150</td>\n",
       "      <td>0.85271423</td>\n",
       "      <td>0.01161718</td>\n",
       "      <td>0.99414943</td>\n",
       "      <td>0.00128655</td>\n",
       "    </tr>\n",
       "    <tr>\n",
       "      <th>42</th>\n",
       "      <td>9</td>\n",
       "      <td>None</td>\n",
       "      <td>6</td>\n",
       "      <td>4</td>\n",
       "      <td>1</td>\n",
       "      <td>100</td>\n",
       "      <td>0.85242095</td>\n",
       "      <td>0.01317764</td>\n",
       "      <td>0.99114614</td>\n",
       "      <td>0.00085531</td>\n",
       "    </tr>\n",
       "    <tr>\n",
       "      <th>40</th>\n",
       "      <td>10</td>\n",
       "      <td>None</td>\n",
       "      <td>6</td>\n",
       "      <td>3</td>\n",
       "      <td>1</td>\n",
       "      <td>150</td>\n",
       "      <td>0.85239075</td>\n",
       "      <td>0.01389711</td>\n",
       "      <td>0.99802583</td>\n",
       "      <td>0.00089788</td>\n",
       "    </tr>\n",
       "  </tbody>\n",
       "</table>\n",
       "</div>"
      ],
      "text/plain": [
       "     rank_test_score param_max_depth param_max_features  \\\n",
       "79                 1            None                  7   \n",
       "78                 2            None                  7   \n",
       "5                  3            None                  5   \n",
       "651                4              15                  5   \n",
       "80                 5            None                  7   \n",
       "39                 6            None                  6   \n",
       "4                  7            None                  5   \n",
       "151                8            None                  9   \n",
       "42                 9            None                  6   \n",
       "40                10            None                  6   \n",
       "\n",
       "    param_min_samples_split param_min_samples_leaf param_n_estimators  \\\n",
       "79                        4                      1                150   \n",
       "78                        4                      1                100   \n",
       "5                         3                      1                200   \n",
       "651                       3                      1                100   \n",
       "80                        4                      1                200   \n",
       "39                        3                      1                100   \n",
       "4                         3                      1                150   \n",
       "151                       4                      1                150   \n",
       "42                        4                      1                100   \n",
       "40                        3                      1                150   \n",
       "\n",
       "     mean_test_score  std_test_score  mean_train_score  std_train_score  \n",
       "79        0.85684356      0.01392176        0.99288743       0.00155211  \n",
       "78        0.85557559      0.01502960        0.99232813       0.00171330  \n",
       "5         0.85557360      0.00885893        0.99794608       0.00057952  \n",
       "651       0.85432281      0.01093255        0.98546954       0.00332819  \n",
       "80        0.85430765      0.01532891        0.99280995       0.00088657  \n",
       "39        0.85366675      0.01463062        0.99746873       0.00126334  \n",
       "4         0.85365168      0.00949922        0.99786746       0.00047311  \n",
       "151       0.85271423      0.01161718        0.99414943       0.00128655  \n",
       "42        0.85242095      0.01317764        0.99114614       0.00085531  \n",
       "40        0.85239075      0.01389711        0.99802583       0.00089788  "
      ]
     },
     "execution_count": 8,
     "metadata": {},
     "output_type": "execute_result"
    }
   ],
   "source": [
    "cv_results1 = pd.DataFrame(grid_search1.cv_results_)\n",
    "cv_results1.loc[:, cols_to_view].sort_values('rank_test_score').head(10)"
   ]
  },
  {
   "cell_type": "code",
   "execution_count": 9,
   "id": "95050e23",
   "metadata": {},
   "outputs": [
    {
     "data": {
      "text/plain": [
       "RandomForestClassifier(max_features=7, min_samples_split=4, n_estimators=150,\n",
       "                       oob_score=True, random_state=42)"
      ]
     },
     "execution_count": 9,
     "metadata": {},
     "output_type": "execute_result"
    }
   ],
   "source": [
    "grid_search1.best_estimator_"
   ]
  },
  {
   "cell_type": "code",
   "execution_count": 10,
   "id": "9201d2db",
   "metadata": {},
   "outputs": [
    {
     "data": {
      "text/plain": [
       "0.8512055837563451"
      ]
     },
     "execution_count": 10,
     "metadata": {},
     "output_type": "execute_result"
    }
   ],
   "source": [
    "best_model = grid_search1.best_estimator_\n",
    "best_model.oob_score_"
   ]
  },
  {
   "cell_type": "code",
   "execution_count": 11,
   "id": "f7e1f7de",
   "metadata": {},
   "outputs": [
    {
     "name": "stdout",
     "output_type": "stream",
     "text": [
      "(weighted avg) AUC: 0.8568435596362913 0.013921755388534886\n"
     ]
    }
   ],
   "source": [
    "cross_val_scores = cross_val_score(best_model, X_train, y_train, scoring=roc_auc_scorer, cv=5)\n",
    "print(f\"(weighted avg) AUC: {np.mean(cross_val_scores)} {np.std(cross_val_scores)}\")"
   ]
  },
  {
   "cell_type": "code",
   "execution_count": 13,
   "id": "99abaf4f",
   "metadata": {},
   "outputs": [
    {
     "name": "stdout",
     "output_type": "stream",
     "text": [
      "(weighted avg) AUC: TEST 0.8554212983261548\n"
     ]
    }
   ],
   "source": [
    "## fit best model on full train and test on test data\n",
    "best_model = best_model.fit(X_train, y_train)\n",
    "\n",
    "## use trained model to get predicted target var\n",
    "# y_train_pred = best_model.predict(X_train)   \n",
    "y_test_pred = best_model.predict(X_test) \n",
    "\n",
    "# print(f\"(weighted avg) AUC: train {roc_auc_score(y_train, y_train_pred, average='weighted')}\")\n",
    "print(f\"(weighted avg) AUC: TEST {roc_auc_score(y_test, y_test_pred, average='weighted')}\")"
   ]
  },
  {
   "cell_type": "markdown",
   "id": "846d2607",
   "metadata": {},
   "source": [
    "# Attempting to look at the resulting decision tree nodes"
   ]
  },
  {
   "cell_type": "code",
   "execution_count": 12,
   "id": "7ee7acf9",
   "metadata": {},
   "outputs": [
    {
     "data": {
      "text/html": [
       "<div>\n",
       "<style scoped>\n",
       "    .dataframe tbody tr th:only-of-type {\n",
       "        vertical-align: middle;\n",
       "    }\n",
       "\n",
       "    .dataframe tbody tr th {\n",
       "        vertical-align: top;\n",
       "    }\n",
       "\n",
       "    .dataframe thead th {\n",
       "        text-align: right;\n",
       "    }\n",
       "</style>\n",
       "<table border=\"1\" class=\"dataframe\">\n",
       "  <thead>\n",
       "    <tr style=\"text-align: right;\">\n",
       "      <th></th>\n",
       "      <th>feature_name</th>\n",
       "      <th>importance</th>\n",
       "    </tr>\n",
       "  </thead>\n",
       "  <tbody>\n",
       "    <tr>\n",
       "      <th>7</th>\n",
       "      <td>time</td>\n",
       "      <td>0.07927435</td>\n",
       "    </tr>\n",
       "    <tr>\n",
       "      <th>12</th>\n",
       "      <td>minsToCouponDest</td>\n",
       "      <td>0.06782308</td>\n",
       "    </tr>\n",
       "    <tr>\n",
       "      <th>10</th>\n",
       "      <td>income</td>\n",
       "      <td>0.06078961</td>\n",
       "    </tr>\n",
       "    <tr>\n",
       "      <th>8</th>\n",
       "      <td>age</td>\n",
       "      <td>0.05592659</td>\n",
       "    </tr>\n",
       "    <tr>\n",
       "      <th>16</th>\n",
       "      <td>RestaurantLessThan20</td>\n",
       "      <td>0.05147447</td>\n",
       "    </tr>\n",
       "    <tr>\n",
       "      <th>18</th>\n",
       "      <td>destination_No Urgent Place</td>\n",
       "      <td>0.05110185</td>\n",
       "    </tr>\n",
       "    <tr>\n",
       "      <th>14</th>\n",
       "      <td>CoffeeHouse</td>\n",
       "      <td>0.04982734</td>\n",
       "    </tr>\n",
       "    <tr>\n",
       "      <th>9</th>\n",
       "      <td>education</td>\n",
       "      <td>0.04842292</td>\n",
       "    </tr>\n",
       "    <tr>\n",
       "      <th>15</th>\n",
       "      <td>CarryAway</td>\n",
       "      <td>0.04797704</td>\n",
       "    </tr>\n",
       "    <tr>\n",
       "      <th>17</th>\n",
       "      <td>Restaurant20To50</td>\n",
       "      <td>0.04555486</td>\n",
       "    </tr>\n",
       "  </tbody>\n",
       "</table>\n",
       "</div>"
      ],
      "text/plain": [
       "                   feature_name  importance\n",
       "7                          time  0.07927435\n",
       "12             minsToCouponDest  0.06782308\n",
       "10                       income  0.06078961\n",
       "8                           age  0.05592659\n",
       "16         RestaurantLessThan20  0.05147447\n",
       "18  destination_No Urgent Place  0.05110185\n",
       "14                  CoffeeHouse  0.04982734\n",
       "9                     education  0.04842292\n",
       "15                    CarryAway  0.04797704\n",
       "17             Restaurant20To50  0.04555486"
      ]
     },
     "execution_count": 12,
     "metadata": {},
     "output_type": "execute_result"
    }
   ],
   "source": [
    "featimp_df = pd.DataFrame({'feature_name': X.columns, 'importance': best_model.feature_importances_})\n",
    "featimp_df.sort_values('importance', ascending=False).head(10)"
   ]
  }
 ],
 "metadata": {
  "kernelspec": {
   "display_name": "Python 3 (ipykernel)",
   "language": "python",
   "name": "python3"
  },
  "language_info": {
   "codemirror_mode": {
    "name": "ipython",
    "version": 3
   },
   "file_extension": ".py",
   "mimetype": "text/x-python",
   "name": "python",
   "nbconvert_exporter": "python",
   "pygments_lexer": "ipython3",
   "version": "3.9.7"
  }
 },
 "nbformat": 4,
 "nbformat_minor": 5
}
