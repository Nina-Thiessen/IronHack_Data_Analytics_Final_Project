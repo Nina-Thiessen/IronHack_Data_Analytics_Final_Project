{
 "cells": [
  {
   "cell_type": "code",
   "execution_count": 1,
   "id": "51bc31d0",
   "metadata": {},
   "outputs": [],
   "source": [
    "import numpy as np\n",
    "import pandas as pd\n",
    "import warnings\n",
    "warnings.filterwarnings(\"ignore\")\n",
    "\n",
    "import couponProjectUtils as proj_utils\n",
    "\n",
    "from sklearn.preprocessing import StandardScaler\n",
    "\n",
    "from imblearn.over_sampling import SMOTE\n",
    "\n",
    "## models\n",
    "from sklearn.linear_model import LogisticRegression\n",
    "from sklearn.neighbors import KNeighborsClassifier\n",
    "from sklearn.tree import DecisionTreeClassifier\n",
    "\n",
    "from sklearn.ensemble import RandomForestClassifier\n",
    "\n",
    "from sklearn.model_selection import GridSearchCV\n",
    "from sklearn.model_selection import train_test_split\n",
    "from sklearn.model_selection import cross_val_score\n",
    "\n",
    "from sklearn.metrics import accuracy_score, precision_score, recall_score, roc_auc_score\n",
    "\n",
    "## to make it possible to display multiple output inside one cell \n",
    "from IPython.core.interactiveshell import InteractiveShell\n",
    "InteractiveShell.ast_node_interactivity = \"all\"\n",
    "\n",
    "pd.options.display.max_rows = 50\n",
    "pd.set_option('display.float_format', lambda x: '%9.8f' % x)"
   ]
  },
  {
   "cell_type": "markdown",
   "id": "6a7404f3",
   "metadata": {},
   "source": [
    "# Use best encoding for coupon type: Restaurant(20-50)"
   ]
  },
  {
   "cell_type": "code",
   "execution_count": 2,
   "id": "e3f61f7a",
   "metadata": {},
   "outputs": [
    {
     "name": "stdout",
     "output_type": "stream",
     "text": [
      "Orig: 44.15% Yes\n",
      "After SMOTE upsampling\n",
      "\tNum training samples: 1,329 (51.17% yes)\n",
      "\tNum testing samples:  333 (45.35% yes)\n"
     ]
    }
   ],
   "source": [
    "## load data, split Xy, upsample with SMOTE, split train/test\n",
    "data = pd.read_csv('data/Restaurant20To50_data_encoded-age_nominal.csv')\n",
    "\n",
    "## define X and y \n",
    "X = data.drop('Y', axis=1).reset_index(drop=True)\n",
    "y = data.Y\n",
    "\n",
    "## Handle imbalance\n",
    "smote = SMOTE(random_state=42)\n",
    "\n",
    "orig_vc = y.value_counts()\n",
    "print(f\"Orig: {100* orig_vc[1]/(orig_vc.sum()):.2f}% Yes\")\n",
    "\n",
    "X_sm, y_sm = smote.fit_resample(X, y)\n",
    "\n",
    "## Data splitting train/test\n",
    "X_train, X_test, y_train, y_test = train_test_split(X_sm, y_sm, test_size=0.20, random_state=42)\n",
    "\n",
    "print(\"After SMOTE upsampling\")\n",
    "train_vc = y_train.value_counts()\n",
    "print(f\"\\tNum training samples: {X_train.shape[0]:,} ({100* train_vc[1]/(train_vc.sum()):.2f}% yes)\")\n",
    "test_vc = y_test.value_counts()\n",
    "print(f\"\\tNum testing samples:  {X_test.shape[0]:,} ({100* test_vc[1]/(test_vc.sum()):.2f}% yes)\")"
   ]
  },
  {
   "cell_type": "code",
   "execution_count": 3,
   "id": "7c6ff7e0",
   "metadata": {},
   "outputs": [],
   "source": [
    "## Replace the unknown values (previously encoded as 0.0) using the most frequent value seen in the TRAINING data\n",
    "X_train, X_test, train_modes = proj_utils.replace_unknown_with_mode(X_train, X_test, \n",
    "                                                                    outfile_prefix='phase2-Restaurant20To50')"
   ]
  },
  {
   "cell_type": "markdown",
   "id": "385d87e2",
   "metadata": {},
   "source": [
    "## Testing RandomForestClassifier with Grid Search Cross-validation\n"
   ]
  },
  {
   "cell_type": "code",
   "execution_count": 4,
   "id": "56ab020a",
   "metadata": {},
   "outputs": [
    {
     "data": {
      "text/plain": [
       "GridSearchCV(cv=5,\n",
       "             estimator=RandomForestClassifier(oob_score=True, random_state=42),\n",
       "             n_jobs=4,\n",
       "             param_grid={'max_features': [2, 3, 4, 5, 6, 7, 8, 9, 10, 11, 12,\n",
       "                                          13, 14, 15],\n",
       "                         'min_samples_split': [2, 3, 4, 5],\n",
       "                         'n_estimators': [100, 150, 200]},\n",
       "             return_train_score=True, scoring='roc_auc')"
      ]
     },
     "execution_count": 4,
     "metadata": {},
     "output_type": "execute_result"
    },
    {
     "data": {
      "text/plain": [
       "RandomForestClassifier(max_features=4, n_estimators=150, oob_score=True,\n",
       "                       random_state=42)"
      ]
     },
     "execution_count": 4,
     "metadata": {},
     "output_type": "execute_result"
    }
   ],
   "source": [
    "cols_to_view = ['rank_test_score', 'param_max_features', 'param_min_samples_split', 'param_n_estimators', \n",
    "                'mean_test_score', 'std_test_score', 'mean_train_score', 'std_train_score']\n",
    "\n",
    "param_grid={'max_features': [2, 3, 4, 5, 6, 7, 8, 9, 10, 11, 12, 13, 14, 15],\n",
    "            'min_samples_split': [2, 3, 4, 5],\n",
    "            'n_estimators': [100, 150, 200]}\n",
    "\n",
    "clf = RandomForestClassifier(oob_score=True, random_state=42)\n",
    "\n",
    "grid_search1 = GridSearchCV(clf, param_grid, scoring='roc_auc', cv=5, return_train_score=True, n_jobs=4)\n",
    "grid_search1.fit(X_train.values, y_train.values)\n",
    "\n",
    "cv_results1 = pd.DataFrame(grid_search1.cv_results_)\n",
    "best_model = grid_search1.best_estimator_\n",
    "best_model"
   ]
  },
  {
   "cell_type": "code",
   "execution_count": 5,
   "id": "95050e23",
   "metadata": {},
   "outputs": [
    {
     "name": "stdout",
     "output_type": "stream",
     "text": [
      "Best model oob score: 0.7027840481565086\n",
      "ROC AUC: TEST 0.774452\n",
      "\n"
     ]
    }
   ],
   "source": [
    "print(f\"Best model oob score: {best_model.oob_score_}\")\n",
    "y_test_score = best_model.predict_proba(X_test)[:, 1]\n",
    "print(f\"ROC AUC: TEST {roc_auc_score(y_test, y_test_score):.6f}\\n\")"
   ]
  },
  {
   "cell_type": "code",
   "execution_count": 6,
   "id": "5acd3870",
   "metadata": {},
   "outputs": [
    {
     "data": {
      "text/html": [
       "<div>\n",
       "<style scoped>\n",
       "    .dataframe tbody tr th:only-of-type {\n",
       "        vertical-align: middle;\n",
       "    }\n",
       "\n",
       "    .dataframe tbody tr th {\n",
       "        vertical-align: top;\n",
       "    }\n",
       "\n",
       "    .dataframe thead th {\n",
       "        text-align: right;\n",
       "    }\n",
       "</style>\n",
       "<table border=\"1\" class=\"dataframe\">\n",
       "  <thead>\n",
       "    <tr style=\"text-align: right;\">\n",
       "      <th></th>\n",
       "      <th>rank_test_score</th>\n",
       "      <th>param_max_features</th>\n",
       "      <th>param_min_samples_split</th>\n",
       "      <th>param_n_estimators</th>\n",
       "      <th>mean_test_score</th>\n",
       "      <th>std_test_score</th>\n",
       "      <th>mean_train_score</th>\n",
       "      <th>std_train_score</th>\n",
       "    </tr>\n",
       "  </thead>\n",
       "  <tbody>\n",
       "    <tr>\n",
       "      <th>25</th>\n",
       "      <td>1</td>\n",
       "      <td>4</td>\n",
       "      <td>2</td>\n",
       "      <td>150</td>\n",
       "      <td>0.77125342</td>\n",
       "      <td>0.01560944</td>\n",
       "      <td>0.99999327</td>\n",
       "      <td>0.00000518</td>\n",
       "    </tr>\n",
       "    <tr>\n",
       "      <th>13</th>\n",
       "      <td>2</td>\n",
       "      <td>3</td>\n",
       "      <td>2</td>\n",
       "      <td>150</td>\n",
       "      <td>0.77107348</td>\n",
       "      <td>0.00923833</td>\n",
       "      <td>0.99999327</td>\n",
       "      <td>0.00000518</td>\n",
       "    </tr>\n",
       "    <tr>\n",
       "      <th>26</th>\n",
       "      <td>3</td>\n",
       "      <td>4</td>\n",
       "      <td>2</td>\n",
       "      <td>200</td>\n",
       "      <td>0.77078221</td>\n",
       "      <td>0.01369191</td>\n",
       "      <td>0.99999327</td>\n",
       "      <td>0.00000518</td>\n",
       "    </tr>\n",
       "    <tr>\n",
       "      <th>14</th>\n",
       "      <td>4</td>\n",
       "      <td>3</td>\n",
       "      <td>2</td>\n",
       "      <td>200</td>\n",
       "      <td>0.77035975</td>\n",
       "      <td>0.01146327</td>\n",
       "      <td>0.99999327</td>\n",
       "      <td>0.00000518</td>\n",
       "    </tr>\n",
       "    <tr>\n",
       "      <th>17</th>\n",
       "      <td>5</td>\n",
       "      <td>3</td>\n",
       "      <td>3</td>\n",
       "      <td>200</td>\n",
       "      <td>0.77035721</td>\n",
       "      <td>0.01327603</td>\n",
       "      <td>0.99998265</td>\n",
       "      <td>0.00001011</td>\n",
       "    </tr>\n",
       "    <tr>\n",
       "      <th>12</th>\n",
       "      <td>6</td>\n",
       "      <td>3</td>\n",
       "      <td>2</td>\n",
       "      <td>100</td>\n",
       "      <td>0.76969777</td>\n",
       "      <td>0.00993328</td>\n",
       "      <td>0.99999327</td>\n",
       "      <td>0.00000518</td>\n",
       "    </tr>\n",
       "    <tr>\n",
       "      <th>20</th>\n",
       "      <td>7</td>\n",
       "      <td>3</td>\n",
       "      <td>4</td>\n",
       "      <td>200</td>\n",
       "      <td>0.76962994</td>\n",
       "      <td>0.01653365</td>\n",
       "      <td>0.99985094</td>\n",
       "      <td>0.00005155</td>\n",
       "    </tr>\n",
       "    <tr>\n",
       "      <th>16</th>\n",
       "      <td>8</td>\n",
       "      <td>3</td>\n",
       "      <td>3</td>\n",
       "      <td>150</td>\n",
       "      <td>0.76914431</td>\n",
       "      <td>0.01513016</td>\n",
       "      <td>0.99998124</td>\n",
       "      <td>0.00001054</td>\n",
       "    </tr>\n",
       "    <tr>\n",
       "      <th>65</th>\n",
       "      <td>9</td>\n",
       "      <td>7</td>\n",
       "      <td>3</td>\n",
       "      <td>200</td>\n",
       "      <td>0.76910024</td>\n",
       "      <td>0.01584481</td>\n",
       "      <td>0.99998903</td>\n",
       "      <td>0.00000467</td>\n",
       "    </tr>\n",
       "    <tr>\n",
       "      <th>52</th>\n",
       "      <td>10</td>\n",
       "      <td>6</td>\n",
       "      <td>3</td>\n",
       "      <td>150</td>\n",
       "      <td>0.76855164</td>\n",
       "      <td>0.01505991</td>\n",
       "      <td>0.99998549</td>\n",
       "      <td>0.00000518</td>\n",
       "    </tr>\n",
       "  </tbody>\n",
       "</table>\n",
       "</div>"
      ],
      "text/plain": [
       "    rank_test_score param_max_features param_min_samples_split  \\\n",
       "25                1                  4                       2   \n",
       "13                2                  3                       2   \n",
       "26                3                  4                       2   \n",
       "14                4                  3                       2   \n",
       "17                5                  3                       3   \n",
       "12                6                  3                       2   \n",
       "20                7                  3                       4   \n",
       "16                8                  3                       3   \n",
       "65                9                  7                       3   \n",
       "52               10                  6                       3   \n",
       "\n",
       "   param_n_estimators  mean_test_score  std_test_score  mean_train_score  \\\n",
       "25                150       0.77125342      0.01560944        0.99999327   \n",
       "13                150       0.77107348      0.00923833        0.99999327   \n",
       "26                200       0.77078221      0.01369191        0.99999327   \n",
       "14                200       0.77035975      0.01146327        0.99999327   \n",
       "17                200       0.77035721      0.01327603        0.99998265   \n",
       "12                100       0.76969777      0.00993328        0.99999327   \n",
       "20                200       0.76962994      0.01653365        0.99985094   \n",
       "16                150       0.76914431      0.01513016        0.99998124   \n",
       "65                200       0.76910024      0.01584481        0.99998903   \n",
       "52                150       0.76855164      0.01505991        0.99998549   \n",
       "\n",
       "    std_train_score  \n",
       "25       0.00000518  \n",
       "13       0.00000518  \n",
       "26       0.00000518  \n",
       "14       0.00000518  \n",
       "17       0.00001011  \n",
       "12       0.00000518  \n",
       "20       0.00005155  \n",
       "16       0.00001054  \n",
       "65       0.00000467  \n",
       "52       0.00000518  "
      ]
     },
     "execution_count": 6,
     "metadata": {},
     "output_type": "execute_result"
    }
   ],
   "source": [
    "cv_results1.loc[:, cols_to_view].sort_values('rank_test_score').head(10)"
   ]
  },
  {
   "cell_type": "code",
   "execution_count": 23,
   "id": "7ee7acf9",
   "metadata": {},
   "outputs": [
    {
     "data": {
      "text/html": [
       "<div>\n",
       "<style scoped>\n",
       "    .dataframe tbody tr th:only-of-type {\n",
       "        vertical-align: middle;\n",
       "    }\n",
       "\n",
       "    .dataframe tbody tr th {\n",
       "        vertical-align: top;\n",
       "    }\n",
       "\n",
       "    .dataframe thead th {\n",
       "        text-align: right;\n",
       "    }\n",
       "</style>\n",
       "<table border=\"1\" class=\"dataframe\">\n",
       "  <thead>\n",
       "    <tr style=\"text-align: right;\">\n",
       "      <th></th>\n",
       "      <th>feature_name</th>\n",
       "      <th>importance</th>\n",
       "    </tr>\n",
       "  </thead>\n",
       "  <tbody>\n",
       "    <tr>\n",
       "      <th>9</th>\n",
       "      <td>income</td>\n",
       "      <td>0.07564337</td>\n",
       "    </tr>\n",
       "    <tr>\n",
       "      <th>13</th>\n",
       "      <td>CoffeeHouse</td>\n",
       "      <td>0.06104137</td>\n",
       "    </tr>\n",
       "    <tr>\n",
       "      <th>16</th>\n",
       "      <td>Restaurant20To50</td>\n",
       "      <td>0.06088167</td>\n",
       "    </tr>\n",
       "    <tr>\n",
       "      <th>8</th>\n",
       "      <td>education</td>\n",
       "      <td>0.05403117</td>\n",
       "    </tr>\n",
       "    <tr>\n",
       "      <th>14</th>\n",
       "      <td>CarryAway</td>\n",
       "      <td>0.05053496</td>\n",
       "    </tr>\n",
       "    <tr>\n",
       "      <th>15</th>\n",
       "      <td>RestaurantLessThan20</td>\n",
       "      <td>0.05007116</td>\n",
       "    </tr>\n",
       "    <tr>\n",
       "      <th>12</th>\n",
       "      <td>Bar</td>\n",
       "      <td>0.04973657</td>\n",
       "    </tr>\n",
       "    <tr>\n",
       "      <th>7</th>\n",
       "      <td>time</td>\n",
       "      <td>0.04624255</td>\n",
       "    </tr>\n",
       "    <tr>\n",
       "      <th>24</th>\n",
       "      <td>expiration_2h</td>\n",
       "      <td>0.04099355</td>\n",
       "    </tr>\n",
       "    <tr>\n",
       "      <th>10</th>\n",
       "      <td>temperature</td>\n",
       "      <td>0.03400992</td>\n",
       "    </tr>\n",
       "  </tbody>\n",
       "</table>\n",
       "</div>"
      ],
      "text/plain": [
       "            feature_name  importance\n",
       "9                 income  0.07564337\n",
       "13           CoffeeHouse  0.06104137\n",
       "16      Restaurant20To50  0.06088167\n",
       "8              education  0.05403117\n",
       "14             CarryAway  0.05053496\n",
       "15  RestaurantLessThan20  0.05007116\n",
       "12                   Bar  0.04973657\n",
       "7                   time  0.04624255\n",
       "24         expiration_2h  0.04099355\n",
       "10           temperature  0.03400992"
      ]
     },
     "execution_count": 23,
     "metadata": {},
     "output_type": "execute_result"
    }
   ],
   "source": [
    "featimp_df = pd.DataFrame({'feature_name': X.columns, 'importance': best_model.feature_importances_})\n",
    "featimp_df.sort_values('importance', ascending=False).head(10)"
   ]
  },
  {
   "cell_type": "code",
   "execution_count": 8,
   "id": "dbcd769f",
   "metadata": {},
   "outputs": [],
   "source": [
    "import pickle\n",
    "\n",
    "with open('model/phase2/Restaurant20To50_GridSearchCV_RFC.pickle', \"wb\") as f:\n",
    "    pickle.dump(grid_search1,f)\n",
    "    \n",
    "with open('model/phase2/Restaurant20To50_best_model_RFC.pickle', \"wb\") as f:\n",
    "    pickle.dump(best_model,f)"
   ]
  },
  {
   "cell_type": "code",
   "execution_count": 18,
   "id": "d45822cc",
   "metadata": {},
   "outputs": [
    {
     "name": "stdout",
     "output_type": "stream",
     "text": [
      "Saving file: data/Restaurant20To50_X_train_phase2.csv\n",
      "Saving file: data/Restaurant20To50_X_test_phase2.csv\n",
      "Saving file: data/Restaurant20To50_y_train_phase2.csv\n",
      "Saving file: data/Restaurant20To50_y_test_phase2.csv\n"
     ]
    }
   ],
   "source": [
    "## save train/test info to file\n",
    "Xy_tt = {'X_train': X_train, 'X_test': X_test, 'y_train': y_train, 'y_test': y_test}\n",
    "\n",
    "for k in Xy_tt.keys():\n",
    "    fname = f'data/Restaurant20To50_{k}_phase2.csv'\n",
    "    print(f'Saving file: {fname}')\n",
    "    Xy_tt[k].to_csv(fname, index=False)\n"
   ]
  },
  {
   "cell_type": "markdown",
   "id": "2f2f526f",
   "metadata": {},
   "source": [
    "# KNN"
   ]
  },
  {
   "cell_type": "code",
   "execution_count": 9,
   "id": "608e8d5b",
   "metadata": {},
   "outputs": [
    {
     "data": {
      "text/plain": [
       "GridSearchCV(cv=5, estimator=KNeighborsClassifier(), n_jobs=4,\n",
       "             param_grid={'n_neighbors': [1, 2, 3, 4, 5, 6, 7, 8, 9, 10, 11]},\n",
       "             return_train_score=True, scoring='roc_auc')"
      ]
     },
     "execution_count": 9,
     "metadata": {},
     "output_type": "execute_result"
    },
    {
     "data": {
      "text/html": [
       "<div>\n",
       "<style scoped>\n",
       "    .dataframe tbody tr th:only-of-type {\n",
       "        vertical-align: middle;\n",
       "    }\n",
       "\n",
       "    .dataframe tbody tr th {\n",
       "        vertical-align: top;\n",
       "    }\n",
       "\n",
       "    .dataframe thead th {\n",
       "        text-align: right;\n",
       "    }\n",
       "</style>\n",
       "<table border=\"1\" class=\"dataframe\">\n",
       "  <thead>\n",
       "    <tr style=\"text-align: right;\">\n",
       "      <th></th>\n",
       "      <th>rank_test_score</th>\n",
       "      <th>param_n_neighbors</th>\n",
       "      <th>mean_test_score</th>\n",
       "      <th>std_test_score</th>\n",
       "      <th>mean_train_score</th>\n",
       "      <th>std_train_score</th>\n",
       "    </tr>\n",
       "  </thead>\n",
       "  <tbody>\n",
       "    <tr>\n",
       "      <th>2</th>\n",
       "      <td>1</td>\n",
       "      <td>3</td>\n",
       "      <td>0.68208149</td>\n",
       "      <td>0.01919790</td>\n",
       "      <td>0.90766762</td>\n",
       "      <td>0.00471535</td>\n",
       "    </tr>\n",
       "    <tr>\n",
       "      <th>1</th>\n",
       "      <td>2</td>\n",
       "      <td>2</td>\n",
       "      <td>0.68165807</td>\n",
       "      <td>0.02287436</td>\n",
       "      <td>0.94713792</td>\n",
       "      <td>0.00350557</td>\n",
       "    </tr>\n",
       "    <tr>\n",
       "      <th>3</th>\n",
       "      <td>3</td>\n",
       "      <td>4</td>\n",
       "      <td>0.67914492</td>\n",
       "      <td>0.01290695</td>\n",
       "      <td>0.87633364</td>\n",
       "      <td>0.00317121</td>\n",
       "    </tr>\n",
       "    <tr>\n",
       "      <th>4</th>\n",
       "      <td>4</td>\n",
       "      <td>5</td>\n",
       "      <td>0.67863999</td>\n",
       "      <td>0.02253098</td>\n",
       "      <td>0.85305018</td>\n",
       "      <td>0.00566982</td>\n",
       "    </tr>\n",
       "    <tr>\n",
       "      <th>6</th>\n",
       "      <td>5</td>\n",
       "      <td>7</td>\n",
       "      <td>0.66734273</td>\n",
       "      <td>0.01973135</td>\n",
       "      <td>0.82170053</td>\n",
       "      <td>0.00496642</td>\n",
       "    </tr>\n",
       "  </tbody>\n",
       "</table>\n",
       "</div>"
      ],
      "text/plain": [
       "   rank_test_score param_n_neighbors  mean_test_score  std_test_score  \\\n",
       "2                1                 3       0.68208149      0.01919790   \n",
       "1                2                 2       0.68165807      0.02287436   \n",
       "3                3                 4       0.67914492      0.01290695   \n",
       "4                4                 5       0.67863999      0.02253098   \n",
       "6                5                 7       0.66734273      0.01973135   \n",
       "\n",
       "   mean_train_score  std_train_score  \n",
       "2        0.90766762       0.00471535  \n",
       "1        0.94713792       0.00350557  \n",
       "3        0.87633364       0.00317121  \n",
       "4        0.85305018       0.00566982  \n",
       "6        0.82170053       0.00496642  "
      ]
     },
     "execution_count": 9,
     "metadata": {},
     "output_type": "execute_result"
    },
    {
     "data": {
      "text/plain": [
       "RandomForestClassifier(max_features=4, n_estimators=150, oob_score=True,\n",
       "                       random_state=42)"
      ]
     },
     "execution_count": 9,
     "metadata": {},
     "output_type": "execute_result"
    },
    {
     "name": "stdout",
     "output_type": "stream",
     "text": [
      "ROC AUC: TEST 0.733134\n",
      "\n"
     ]
    }
   ],
   "source": [
    "param_grid={'n_neighbors': [x for x in range(1,12)]}\n",
    "\n",
    "clf = KNeighborsClassifier()\n",
    "\n",
    "grid_search_knn = GridSearchCV(clf, param_grid, scoring='roc_auc', cv=5, return_train_score=True, n_jobs=4)\n",
    "grid_search_knn.fit(X_train.values, y_train.values)\n",
    "\n",
    "knn_cols_to_view = ['rank_test_score', 'param_n_neighbors', \n",
    "                    'mean_test_score', 'std_test_score', 'mean_train_score', 'std_train_score']\n",
    "\n",
    "cv_results_knn = pd.DataFrame(grid_search_knn.cv_results_)\n",
    "cv_results_knn.loc[:, knn_cols_to_view].sort_values('rank_test_score').head(5)\n",
    "\n",
    "best_model_knn = grid_search_knn.best_estimator_\n",
    "best_model\n",
    "y_test_score_knn = best_model_knn.predict_proba(X_test)[:, 1]\n",
    "print(f\"ROC AUC: TEST {roc_auc_score(y_test, y_test_score_knn):.6f}\\n\")"
   ]
  },
  {
   "cell_type": "code",
   "execution_count": 10,
   "id": "e1c34542",
   "metadata": {},
   "outputs": [],
   "source": [
    "with open('model/phase2/Restaurant20To50_GridSearchCV_KNN.pickle', \"wb\") as f:\n",
    "    pickle.dump(grid_search_knn,f)\n",
    "    \n",
    "with open('model/phase2/Restaurant20To50_best_model_KNN.pickle', \"wb\") as f:\n",
    "    pickle.dump(best_model_knn,f)"
   ]
  },
  {
   "cell_type": "markdown",
   "id": "aeefe848",
   "metadata": {},
   "source": [
    "# Logistic regression"
   ]
  },
  {
   "cell_type": "code",
   "execution_count": 24,
   "id": "dc31a5ff",
   "metadata": {},
   "outputs": [
    {
     "data": {
      "text/plain": [
       "LogisticRegression(random_state=42, solver='liblinear')"
      ]
     },
     "execution_count": 24,
     "metadata": {},
     "output_type": "execute_result"
    },
    {
     "name": "stdout",
     "output_type": "stream",
     "text": [
      "5-fold CV ROC AUC: mean: 0.732574 std dev:0.008737\n",
      "ROC AUC: TEST 0.7023870169565534\n",
      "\n"
     ]
    },
    {
     "data": {
      "text/plain": [
       "LogisticRegression(random_state=42)"
      ]
     },
     "execution_count": 24,
     "metadata": {},
     "output_type": "execute_result"
    },
    {
     "name": "stdout",
     "output_type": "stream",
     "text": [
      "5-fold CV ROC AUC: mean: 0.733931 std dev:0.009610\n",
      "ROC AUC: TEST 0.7023870169565534\n",
      "\n"
     ]
    }
   ],
   "source": [
    "## standardization\n",
    "std_scaler=StandardScaler().fit(X_train) ## first fit the model on the training data\n",
    "\n",
    "## now std scaler transform\n",
    "X_train_scaled = std_scaler.transform(X_train)\n",
    "X_test_scaled = std_scaler.transform(X_test)\n",
    "\n",
    "## apply regression\n",
    "liblinear_model = LogisticRegression(solver='liblinear', random_state=42)\n",
    "liblinear_model.fit(X_train_scaled, y_train)   # train model by fitting to training data\n",
    "\n",
    "## use cv to assess generalization\n",
    "cross_val_scores = cross_val_score(liblinear_model, X_train, y_train, scoring='roc_auc', cv=5)\n",
    "print(f\"5-fold CV ROC AUC: mean: {np.mean(cross_val_scores):.6f} std dev:{np.std(cross_val_scores):.6f}\")\n",
    "    \n",
    "# use trained model to get predicted target var\n",
    "y_test_score_ll = liblinear_model.predict_proba(X_test_scaled)[:, 1]\n",
    "\n",
    "print(f\"ROC AUC: TEST {roc_auc_score(y_test, y_test_score_ll)}\\n\")\n",
    "\n",
    "## apply regression again, using a different solver\n",
    "lbfgs_model = LogisticRegression(solver='lbfgs', random_state=42)\n",
    "lbfgs_model.fit(X_train_scaled, y_train)   # train model by fitting to training data\n",
    "\n",
    "## use cv to assess generalization\n",
    "cross_val_scores = cross_val_score(lbfgs_model, X_train, y_train, scoring='roc_auc', cv=5)\n",
    "print(f\"5-fold CV ROC AUC: mean: {np.mean(cross_val_scores):.6f} std dev:{np.std(cross_val_scores):.6f}\")\n",
    "\n",
    "# use trained model to get predicted target var\n",
    "y_test_score_lb = lbfgs_model.predict_proba(X_test_scaled)[:, 1]\n",
    "\n",
    "print(f\"ROC AUC: TEST {roc_auc_score(y_test, y_test_score_lb)}\\n\")"
   ]
  },
  {
   "cell_type": "code",
   "execution_count": 26,
   "id": "f371d760",
   "metadata": {},
   "outputs": [],
   "source": [
    "## both LR models have essentially the same score, just save one\n",
    "with open('model/phase2/Restaurant20To50_best_model_LogisticRegression.pickle', \"wb\") as f:\n",
    "    pickle.dump(liblinear_model,f)"
   ]
  }
 ],
 "metadata": {
  "kernelspec": {
   "display_name": "Python 3 (ipykernel)",
   "language": "python",
   "name": "python3"
  },
  "language_info": {
   "codemirror_mode": {
    "name": "ipython",
    "version": 3
   },
   "file_extension": ".py",
   "mimetype": "text/x-python",
   "name": "python",
   "nbconvert_exporter": "python",
   "pygments_lexer": "ipython3",
   "version": "3.9.7"
  }
 },
 "nbformat": 4,
 "nbformat_minor": 5
}
