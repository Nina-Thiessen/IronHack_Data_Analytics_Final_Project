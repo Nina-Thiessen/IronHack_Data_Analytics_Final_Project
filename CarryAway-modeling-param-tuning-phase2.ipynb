{
 "cells": [
  {
   "cell_type": "code",
   "execution_count": 1,
   "id": "45baf026",
   "metadata": {},
   "outputs": [],
   "source": [
    "import numpy as np\n",
    "import pandas as pd\n",
    "import warnings\n",
    "warnings.filterwarnings(\"ignore\")\n",
    "\n",
    "import couponProjectUtils as proj_utils\n",
    "\n",
    "from sklearn.preprocessing import StandardScaler\n",
    "\n",
    "from imblearn.over_sampling import SMOTE\n",
    "\n",
    "## models\n",
    "from sklearn.linear_model import LogisticRegression\n",
    "from sklearn.neighbors import KNeighborsClassifier\n",
    "from sklearn.tree import DecisionTreeClassifier\n",
    "\n",
    "from sklearn.ensemble import RandomForestClassifier\n",
    "\n",
    "from sklearn.model_selection import GridSearchCV\n",
    "from sklearn.model_selection import train_test_split\n",
    "from sklearn.model_selection import cross_val_score\n",
    "\n",
    "from sklearn.metrics import accuracy_score, precision_score, recall_score, roc_auc_score\n",
    "\n",
    "## to make it possible to display multiple output inside one cell \n",
    "from IPython.core.interactiveshell import InteractiveShell\n",
    "InteractiveShell.ast_node_interactivity = \"all\"\n",
    "\n",
    "pd.options.display.max_rows = 50\n",
    "pd.set_option('display.float_format', lambda x: '%9.8f' % x)"
   ]
  },
  {
   "cell_type": "markdown",
   "id": "102d2405",
   "metadata": {},
   "source": [
    "# Use best encoding for coupon type: Carry out & Take away"
   ]
  },
  {
   "cell_type": "code",
   "execution_count": 2,
   "id": "528e36ad",
   "metadata": {},
   "outputs": [
    {
     "name": "stdout",
     "output_type": "stream",
     "text": [
      "Orig: 73.38% Yes\n",
      "After SMOTE upsampling\n",
      "\tNum training samples: 2,752 (49.38% yes)\n",
      "\tNum testing samples:  688 (52.47% yes)\n"
     ]
    }
   ],
   "source": [
    "## load data, split Xy, upsample with SMOTE, split train/test\n",
    "data = pd.read_csv('data/CarryAway_data_encoded-temperature_nominal.csv')\n",
    "\n",
    "## define X and y \n",
    "X = data.drop('Y', axis=1).reset_index(drop=True)\n",
    "y = data.Y\n",
    "\n",
    "## Handle imbalance\n",
    "smote = SMOTE(random_state=42)\n",
    "\n",
    "orig_vc = y.value_counts()\n",
    "print(f\"Orig: {100* orig_vc[1]/(orig_vc.sum()):.2f}% Yes\")\n",
    "\n",
    "X_sm, y_sm = smote.fit_resample(X, y)\n",
    "\n",
    "## Data splitting train/test\n",
    "X_train, X_test, y_train, y_test = train_test_split(X_sm, y_sm, test_size=0.20, random_state=42)\n",
    "\n",
    "print(\"After SMOTE upsampling\")\n",
    "train_vc = y_train.value_counts()\n",
    "print(f\"\\tNum training samples: {X_train.shape[0]:,} ({100* train_vc[1]/(train_vc.sum()):.2f}% yes)\")\n",
    "test_vc = y_test.value_counts()\n",
    "print(f\"\\tNum testing samples:  {X_test.shape[0]:,} ({100* test_vc[1]/(test_vc.sum()):.2f}% yes)\")"
   ]
  },
  {
   "cell_type": "code",
   "execution_count": 3,
   "id": "6e32ff67",
   "metadata": {},
   "outputs": [],
   "source": [
    "## Replace the unknown values (previously encoded as 0.0) using the most frequent value seen in the TRAINING data\n",
    "X_train, X_test, train_modes = proj_utils.replace_unknown_with_mode(X_train, X_test, \n",
    "                                                                    outfile_prefix='phase2-CarryAway')"
   ]
  },
  {
   "cell_type": "markdown",
   "id": "8b5b7fac",
   "metadata": {},
   "source": [
    "## Testing RandomForestClassifier with Grid Search Cross-validation\n"
   ]
  },
  {
   "cell_type": "markdown",
   "id": "32f36012",
   "metadata": {},
   "source": [
    "## RandomForestClassifier Parameters\n",
    "\n",
    "The main parameters to adjust when using these methods:\n",
    "* n_estimators\n",
    "* max_features (sqrt is generally best default for classification. I have 55 features, so try values around 8) \n",
    "\n",
    "Make sure to include params:\n",
    "* max_depth=None\n",
    "* min_samples_split=2 \n",
    "* oob_score=True (with bootstrapping)"
   ]
  },
  {
   "cell_type": "code",
   "execution_count": 23,
   "id": "bd7710a4",
   "metadata": {},
   "outputs": [],
   "source": [
    "cols_to_view = ['rank_test_score', 'param_max_features', 'param_min_samples_split', \n",
    "                'param_n_estimators', 'mean_test_score', 'std_test_score', 'mean_train_score', 'std_train_score']"
   ]
  },
  {
   "cell_type": "code",
   "execution_count": 20,
   "id": "640c640f",
   "metadata": {},
   "outputs": [
    {
     "data": {
      "text/plain": [
       "GridSearchCV(cv=5,\n",
       "             estimator=RandomForestClassifier(oob_score=True, random_state=42),\n",
       "             n_jobs=4,\n",
       "             param_grid={'max_features': [2, 3, 4, 5, 6, 7, 8, 9, 10],\n",
       "                         'min_samples_split': [2, 3, 4, 5],\n",
       "                         'n_estimators': [100, 150, 200]},\n",
       "             return_train_score=True, scoring='roc_auc')"
      ]
     },
     "execution_count": 20,
     "metadata": {},
     "output_type": "execute_result"
    },
    {
     "data": {
      "text/plain": [
       "RandomForestClassifier(max_features=2, min_samples_split=3, n_estimators=200,\n",
       "                       oob_score=True, random_state=42)"
      ]
     },
     "execution_count": 20,
     "metadata": {},
     "output_type": "execute_result"
    }
   ],
   "source": [
    "param_grid={'max_features': [2, 3, 4, 5, 6, 7, 8, 9, 10],\n",
    "            'min_samples_split': [2, 3, 4, 5],\n",
    "            'n_estimators': [100, 150, 200]}\n",
    "\n",
    "clf = RandomForestClassifier(oob_score=True, random_state=42)\n",
    "\n",
    "grid_search1 = GridSearchCV(clf, param_grid, scoring='roc_auc', cv=5, return_train_score=True, n_jobs=4)\n",
    "grid_search1.fit(X_train.values, y_train.values)\n",
    "\n",
    "cv_results1 = pd.DataFrame(grid_search1.cv_results_)\n",
    "best_model = grid_search1.best_estimator_\n",
    "best_model"
   ]
  },
  {
   "cell_type": "code",
   "execution_count": 21,
   "id": "005979f0",
   "metadata": {},
   "outputs": [
    {
     "name": "stdout",
     "output_type": "stream",
     "text": [
      "Best model oob score: 0.8626453488372093\n",
      "ROC AUC: TEST 0.922260\n",
      "\n"
     ]
    }
   ],
   "source": [
    "print(f\"Best model oob score: {best_model.oob_score_}\")\n",
    "y_test_score = best_model.predict_proba(X_test)[:, 1]\n",
    "print(f\"ROC AUC: TEST {roc_auc_score(y_test, y_test_score):.6f}\\n\")"
   ]
  },
  {
   "cell_type": "code",
   "execution_count": 24,
   "id": "290da23d",
   "metadata": {},
   "outputs": [
    {
     "data": {
      "text/html": [
       "<div>\n",
       "<style scoped>\n",
       "    .dataframe tbody tr th:only-of-type {\n",
       "        vertical-align: middle;\n",
       "    }\n",
       "\n",
       "    .dataframe tbody tr th {\n",
       "        vertical-align: top;\n",
       "    }\n",
       "\n",
       "    .dataframe thead th {\n",
       "        text-align: right;\n",
       "    }\n",
       "</style>\n",
       "<table border=\"1\" class=\"dataframe\">\n",
       "  <thead>\n",
       "    <tr style=\"text-align: right;\">\n",
       "      <th></th>\n",
       "      <th>rank_test_score</th>\n",
       "      <th>param_max_features</th>\n",
       "      <th>param_min_samples_split</th>\n",
       "      <th>param_n_estimators</th>\n",
       "      <th>mean_test_score</th>\n",
       "      <th>std_test_score</th>\n",
       "      <th>mean_train_score</th>\n",
       "      <th>std_train_score</th>\n",
       "    </tr>\n",
       "  </thead>\n",
       "  <tbody>\n",
       "    <tr>\n",
       "      <th>5</th>\n",
       "      <td>1</td>\n",
       "      <td>2</td>\n",
       "      <td>3</td>\n",
       "      <td>200</td>\n",
       "      <td>0.91979641</td>\n",
       "      <td>0.01191383</td>\n",
       "      <td>0.99985269</td>\n",
       "      <td>0.00007713</td>\n",
       "    </tr>\n",
       "    <tr>\n",
       "      <th>13</th>\n",
       "      <td>2</td>\n",
       "      <td>3</td>\n",
       "      <td>2</td>\n",
       "      <td>150</td>\n",
       "      <td>0.91913601</td>\n",
       "      <td>0.01059472</td>\n",
       "      <td>0.99994858</td>\n",
       "      <td>0.00003545</td>\n",
       "    </tr>\n",
       "    <tr>\n",
       "      <th>4</th>\n",
       "      <td>3</td>\n",
       "      <td>2</td>\n",
       "      <td>3</td>\n",
       "      <td>150</td>\n",
       "      <td>0.91886760</td>\n",
       "      <td>0.01196199</td>\n",
       "      <td>0.99983849</td>\n",
       "      <td>0.00008177</td>\n",
       "    </tr>\n",
       "    <tr>\n",
       "      <th>14</th>\n",
       "      <td>4</td>\n",
       "      <td>3</td>\n",
       "      <td>2</td>\n",
       "      <td>200</td>\n",
       "      <td>0.91882269</td>\n",
       "      <td>0.01124667</td>\n",
       "      <td>0.99995997</td>\n",
       "      <td>0.00002663</td>\n",
       "    </tr>\n",
       "    <tr>\n",
       "      <th>31</th>\n",
       "      <td>5</td>\n",
       "      <td>4</td>\n",
       "      <td>4</td>\n",
       "      <td>150</td>\n",
       "      <td>0.91877655</td>\n",
       "      <td>0.01337927</td>\n",
       "      <td>0.99971222</td>\n",
       "      <td>0.00008358</td>\n",
       "    </tr>\n",
       "    <tr>\n",
       "      <th>12</th>\n",
       "      <td>6</td>\n",
       "      <td>3</td>\n",
       "      <td>2</td>\n",
       "      <td>100</td>\n",
       "      <td>0.91838128</td>\n",
       "      <td>0.00990190</td>\n",
       "      <td>0.99993587</td>\n",
       "      <td>0.00004625</td>\n",
       "    </tr>\n",
       "    <tr>\n",
       "      <th>32</th>\n",
       "      <td>7</td>\n",
       "      <td>4</td>\n",
       "      <td>4</td>\n",
       "      <td>200</td>\n",
       "      <td>0.91818030</td>\n",
       "      <td>0.01318568</td>\n",
       "      <td>0.99971948</td>\n",
       "      <td>0.00007075</td>\n",
       "    </tr>\n",
       "    <tr>\n",
       "      <th>28</th>\n",
       "      <td>8</td>\n",
       "      <td>4</td>\n",
       "      <td>3</td>\n",
       "      <td>150</td>\n",
       "      <td>0.91780606</td>\n",
       "      <td>0.01162535</td>\n",
       "      <td>0.99986044</td>\n",
       "      <td>0.00008680</td>\n",
       "    </tr>\n",
       "    <tr>\n",
       "      <th>2</th>\n",
       "      <td>9</td>\n",
       "      <td>2</td>\n",
       "      <td>2</td>\n",
       "      <td>200</td>\n",
       "      <td>0.91768234</td>\n",
       "      <td>0.01210723</td>\n",
       "      <td>0.99996377</td>\n",
       "      <td>0.00002332</td>\n",
       "    </tr>\n",
       "    <tr>\n",
       "      <th>20</th>\n",
       "      <td>10</td>\n",
       "      <td>3</td>\n",
       "      <td>4</td>\n",
       "      <td>200</td>\n",
       "      <td>0.91763146</td>\n",
       "      <td>0.01388333</td>\n",
       "      <td>0.99967589</td>\n",
       "      <td>0.00008803</td>\n",
       "    </tr>\n",
       "  </tbody>\n",
       "</table>\n",
       "</div>"
      ],
      "text/plain": [
       "    rank_test_score param_max_features param_min_samples_split  \\\n",
       "5                 1                  2                       3   \n",
       "13                2                  3                       2   \n",
       "4                 3                  2                       3   \n",
       "14                4                  3                       2   \n",
       "31                5                  4                       4   \n",
       "12                6                  3                       2   \n",
       "32                7                  4                       4   \n",
       "28                8                  4                       3   \n",
       "2                 9                  2                       2   \n",
       "20               10                  3                       4   \n",
       "\n",
       "   param_n_estimators  mean_test_score  std_test_score  mean_train_score  \\\n",
       "5                 200       0.91979641      0.01191383        0.99985269   \n",
       "13                150       0.91913601      0.01059472        0.99994858   \n",
       "4                 150       0.91886760      0.01196199        0.99983849   \n",
       "14                200       0.91882269      0.01124667        0.99995997   \n",
       "31                150       0.91877655      0.01337927        0.99971222   \n",
       "12                100       0.91838128      0.00990190        0.99993587   \n",
       "32                200       0.91818030      0.01318568        0.99971948   \n",
       "28                150       0.91780606      0.01162535        0.99986044   \n",
       "2                 200       0.91768234      0.01210723        0.99996377   \n",
       "20                200       0.91763146      0.01388333        0.99967589   \n",
       "\n",
       "    std_train_score  \n",
       "5        0.00007713  \n",
       "13       0.00003545  \n",
       "4        0.00008177  \n",
       "14       0.00002663  \n",
       "31       0.00008358  \n",
       "12       0.00004625  \n",
       "32       0.00007075  \n",
       "28       0.00008680  \n",
       "2        0.00002332  \n",
       "20       0.00008803  "
      ]
     },
     "execution_count": 24,
     "metadata": {},
     "output_type": "execute_result"
    }
   ],
   "source": [
    "cv_results1.loc[:, cols_to_view].sort_values('rank_test_score').head(10)"
   ]
  },
  {
   "cell_type": "code",
   "execution_count": 25,
   "id": "ea126940",
   "metadata": {},
   "outputs": [
    {
     "data": {
      "text/html": [
       "<div>\n",
       "<style scoped>\n",
       "    .dataframe tbody tr th:only-of-type {\n",
       "        vertical-align: middle;\n",
       "    }\n",
       "\n",
       "    .dataframe tbody tr th {\n",
       "        vertical-align: top;\n",
       "    }\n",
       "\n",
       "    .dataframe thead th {\n",
       "        text-align: right;\n",
       "    }\n",
       "</style>\n",
       "<table border=\"1\" class=\"dataframe\">\n",
       "  <thead>\n",
       "    <tr style=\"text-align: right;\">\n",
       "      <th></th>\n",
       "      <th>feature_name</th>\n",
       "      <th>importance</th>\n",
       "    </tr>\n",
       "  </thead>\n",
       "  <tbody>\n",
       "    <tr>\n",
       "      <th>10</th>\n",
       "      <td>income</td>\n",
       "      <td>0.07033584</td>\n",
       "    </tr>\n",
       "    <tr>\n",
       "      <th>9</th>\n",
       "      <td>education</td>\n",
       "      <td>0.06200222</td>\n",
       "    </tr>\n",
       "    <tr>\n",
       "      <th>13</th>\n",
       "      <td>CoffeeHouse</td>\n",
       "      <td>0.06177936</td>\n",
       "    </tr>\n",
       "    <tr>\n",
       "      <th>8</th>\n",
       "      <td>age</td>\n",
       "      <td>0.06114562</td>\n",
       "    </tr>\n",
       "    <tr>\n",
       "      <th>15</th>\n",
       "      <td>RestaurantLessThan20</td>\n",
       "      <td>0.05615734</td>\n",
       "    </tr>\n",
       "    <tr>\n",
       "      <th>7</th>\n",
       "      <td>time</td>\n",
       "      <td>0.05595383</td>\n",
       "    </tr>\n",
       "    <tr>\n",
       "      <th>14</th>\n",
       "      <td>CarryAway</td>\n",
       "      <td>0.05506686</td>\n",
       "    </tr>\n",
       "    <tr>\n",
       "      <th>16</th>\n",
       "      <td>Restaurant20To50</td>\n",
       "      <td>0.05285552</td>\n",
       "    </tr>\n",
       "    <tr>\n",
       "      <th>12</th>\n",
       "      <td>Bar</td>\n",
       "      <td>0.05139247</td>\n",
       "    </tr>\n",
       "    <tr>\n",
       "      <th>11</th>\n",
       "      <td>minsToCouponDest</td>\n",
       "      <td>0.04721316</td>\n",
       "    </tr>\n",
       "  </tbody>\n",
       "</table>\n",
       "</div>"
      ],
      "text/plain": [
       "            feature_name  importance\n",
       "10                income  0.07033584\n",
       "9              education  0.06200222\n",
       "13           CoffeeHouse  0.06177936\n",
       "8                    age  0.06114562\n",
       "15  RestaurantLessThan20  0.05615734\n",
       "7                   time  0.05595383\n",
       "14             CarryAway  0.05506686\n",
       "16      Restaurant20To50  0.05285552\n",
       "12                   Bar  0.05139247\n",
       "11      minsToCouponDest  0.04721316"
      ]
     },
     "execution_count": 25,
     "metadata": {},
     "output_type": "execute_result"
    }
   ],
   "source": [
    "featimp_df = pd.DataFrame({'feature_name': X.columns, 'importance': best_model.feature_importances_})\n",
    "featimp_df.sort_values('importance', ascending=False).head(10)"
   ]
  },
  {
   "cell_type": "code",
   "execution_count": 26,
   "id": "9e3b10d1",
   "metadata": {},
   "outputs": [],
   "source": [
    "import pickle\n",
    "\n",
    "with open('model/phase2/CarryAway_GridSearchCV_RFC.pickle', \"wb\") as f:\n",
    "    pickle.dump(grid_search1,f)\n",
    "    \n",
    "with open('model/phase2/CarryAway_best_model_RFC.pickle', \"wb\") as f:\n",
    "    pickle.dump(best_model,f)"
   ]
  },
  {
   "cell_type": "code",
   "execution_count": 27,
   "id": "4f7af53f",
   "metadata": {},
   "outputs": [
    {
     "name": "stdout",
     "output_type": "stream",
     "text": [
      "Saving file: data/CarryAway_X_train_phase2.csv\n",
      "Saving file: data/CarryAway_X_test_phase2.csv\n",
      "Saving file: data/CarryAway_y_train_phase2.csv\n",
      "Saving file: data/CarryAway_y_test_phase2.csv\n"
     ]
    }
   ],
   "source": [
    "## save train/test info to file\n",
    "Xy_tt = {'X_train': X_train, 'X_test': X_test, 'y_train': y_train, 'y_test': y_test}\n",
    "\n",
    "for k in Xy_tt.keys():\n",
    "    fname = f'data/CarryAway_{k}_phase2.csv'\n",
    "    print(f'Saving file: {fname}')\n",
    "    Xy_tt[k].to_csv(fname, index=False)"
   ]
  },
  {
   "cell_type": "markdown",
   "id": "2bc9c27b",
   "metadata": {},
   "source": [
    "# KNN"
   ]
  },
  {
   "cell_type": "code",
   "execution_count": 10,
   "id": "18c49a1c",
   "metadata": {},
   "outputs": [
    {
     "data": {
      "text/plain": [
       "GridSearchCV(cv=5, estimator=KNeighborsClassifier(), n_jobs=4,\n",
       "             param_grid={'n_neighbors': [1, 2, 3, 4, 5, 6, 7, 8, 9, 10, 11, 12,\n",
       "                                         13, 14, 15, 16, 17, 18, 19, 20, 21, 22,\n",
       "                                         23, 24, 25]},\n",
       "             return_train_score=True, scoring='roc_auc')"
      ]
     },
     "execution_count": 10,
     "metadata": {},
     "output_type": "execute_result"
    }
   ],
   "source": [
    "param_grid={'n_neighbors': [x for x in range(1,26)]}\n",
    "\n",
    "clf = KNeighborsClassifier()\n",
    "\n",
    "grid_search_knn = GridSearchCV(clf, param_grid, scoring='roc_auc', cv=5, return_train_score=True, n_jobs=4)\n",
    "grid_search_knn.fit(X_train.values, y_train.values)"
   ]
  },
  {
   "cell_type": "code",
   "execution_count": 11,
   "id": "7c68dd30",
   "metadata": {},
   "outputs": [
    {
     "data": {
      "text/html": [
       "<div>\n",
       "<style scoped>\n",
       "    .dataframe tbody tr th:only-of-type {\n",
       "        vertical-align: middle;\n",
       "    }\n",
       "\n",
       "    .dataframe tbody tr th {\n",
       "        vertical-align: top;\n",
       "    }\n",
       "\n",
       "    .dataframe thead th {\n",
       "        text-align: right;\n",
       "    }\n",
       "</style>\n",
       "<table border=\"1\" class=\"dataframe\">\n",
       "  <thead>\n",
       "    <tr style=\"text-align: right;\">\n",
       "      <th></th>\n",
       "      <th>rank_test_score</th>\n",
       "      <th>param_n_neighbors</th>\n",
       "      <th>mean_test_score</th>\n",
       "      <th>std_test_score</th>\n",
       "      <th>mean_train_score</th>\n",
       "      <th>std_train_score</th>\n",
       "    </tr>\n",
       "  </thead>\n",
       "  <tbody>\n",
       "    <tr>\n",
       "      <th>2</th>\n",
       "      <td>1</td>\n",
       "      <td>3</td>\n",
       "      <td>0.84204642</td>\n",
       "      <td>0.00339922</td>\n",
       "      <td>0.97565922</td>\n",
       "      <td>0.00130962</td>\n",
       "    </tr>\n",
       "    <tr>\n",
       "      <th>3</th>\n",
       "      <td>2</td>\n",
       "      <td>4</td>\n",
       "      <td>0.83953618</td>\n",
       "      <td>0.00312299</td>\n",
       "      <td>0.96037401</td>\n",
       "      <td>0.00146195</td>\n",
       "    </tr>\n",
       "    <tr>\n",
       "      <th>1</th>\n",
       "      <td>3</td>\n",
       "      <td>2</td>\n",
       "      <td>0.83883446</td>\n",
       "      <td>0.00798575</td>\n",
       "      <td>0.98804292</td>\n",
       "      <td>0.00063673</td>\n",
       "    </tr>\n",
       "  </tbody>\n",
       "</table>\n",
       "</div>"
      ],
      "text/plain": [
       "   rank_test_score param_n_neighbors  mean_test_score  std_test_score  \\\n",
       "2                1                 3       0.84204642      0.00339922   \n",
       "3                2                 4       0.83953618      0.00312299   \n",
       "1                3                 2       0.83883446      0.00798575   \n",
       "\n",
       "   mean_train_score  std_train_score  \n",
       "2        0.97565922       0.00130962  \n",
       "3        0.96037401       0.00146195  \n",
       "1        0.98804292       0.00063673  "
      ]
     },
     "execution_count": 11,
     "metadata": {},
     "output_type": "execute_result"
    }
   ],
   "source": [
    "knn_cols_to_view = ['rank_test_score', 'param_n_neighbors', \n",
    "                    'mean_test_score', 'std_test_score', 'mean_train_score', 'std_train_score']\n",
    "\n",
    "cv_results_knn = pd.DataFrame(grid_search_knn.cv_results_)\n",
    "cv_results_knn.loc[:, knn_cols_to_view].sort_values('rank_test_score').head(3)"
   ]
  },
  {
   "cell_type": "code",
   "execution_count": 12,
   "id": "7836da03",
   "metadata": {},
   "outputs": [
    {
     "data": {
      "text/plain": [
       "KNeighborsClassifier(n_neighbors=3)"
      ]
     },
     "execution_count": 12,
     "metadata": {},
     "output_type": "execute_result"
    },
    {
     "name": "stdout",
     "output_type": "stream",
     "text": [
      "ROC AUC: TEST 0.871644\n",
      "\n"
     ]
    }
   ],
   "source": [
    "best_model_knn = grid_search_knn.best_estimator_\n",
    "best_model_knn\n",
    "y_test_score_knn = best_model_knn.predict_proba(X_test)[:, 1]\n",
    "print(f\"ROC AUC: TEST {roc_auc_score(y_test, y_test_score_knn):.6f}\\n\")"
   ]
  },
  {
   "cell_type": "code",
   "execution_count": 13,
   "id": "46250cbd",
   "metadata": {},
   "outputs": [],
   "source": [
    "with open('model/phase2/CarryAway_GridSearchCV_KNN.pickle', \"wb\") as f:\n",
    "    pickle.dump(grid_search_knn,f)\n",
    "    \n",
    "with open('model/phase2/CarryAway_best_model_KNN.pickle', \"wb\") as f:\n",
    "    pickle.dump(best_model_knn,f)"
   ]
  },
  {
   "cell_type": "markdown",
   "id": "c9a5a5ed",
   "metadata": {},
   "source": [
    "# Logistic regression"
   ]
  },
  {
   "cell_type": "code",
   "execution_count": 17,
   "id": "98cfafe2",
   "metadata": {},
   "outputs": [
    {
     "data": {
      "text/plain": [
       "LogisticRegression(random_state=42, solver='liblinear')"
      ]
     },
     "execution_count": 17,
     "metadata": {},
     "output_type": "execute_result"
    },
    {
     "name": "stdout",
     "output_type": "stream",
     "text": [
      "5-fold CV ROC AUC: mean: 0.835316 std dev:0.023199\n",
      "ROC AUC: TEST 0.8208044253560023\n",
      "\n"
     ]
    },
    {
     "data": {
      "text/plain": [
       "LogisticRegression(random_state=42)"
      ]
     },
     "execution_count": 17,
     "metadata": {},
     "output_type": "execute_result"
    },
    {
     "name": "stdout",
     "output_type": "stream",
     "text": [
      "5-fold CV ROC AUC: mean: 0.835117 std dev:0.021572\n",
      "ROC AUC: TEST 0.820855252568892\n",
      "\n"
     ]
    }
   ],
   "source": [
    "## standardization\n",
    "std_scaler=StandardScaler().fit(X_train) ## first fit the model on the training data\n",
    "\n",
    "## now std scaler transform\n",
    "X_train_scaled = std_scaler.transform(X_train)\n",
    "X_test_scaled = std_scaler.transform(X_test)\n",
    "\n",
    "## apply regression\n",
    "liblinear_model = LogisticRegression(solver='liblinear', random_state=42)\n",
    "liblinear_model.fit(X_train_scaled, y_train)   # train model by fitting to training data\n",
    "\n",
    "## use cv to assess generalization\n",
    "cross_val_scores = cross_val_score(liblinear_model, X_train, y_train, scoring='roc_auc', cv=5)\n",
    "print(f\"5-fold CV ROC AUC: mean: {np.mean(cross_val_scores):.6f} std dev:{np.std(cross_val_scores):.6f}\")\n",
    "    \n",
    "# use trained model to get predicted target var\n",
    "y_test_score_ll = liblinear_model.predict_proba(X_test_scaled)[:, 1]\n",
    "\n",
    "print(f\"ROC AUC: TEST {roc_auc_score(y_test, y_test_score_ll)}\\n\")\n",
    "\n",
    "## apply regression again, using a different solver\n",
    "lbfgs_model = LogisticRegression(solver='lbfgs', random_state=42)\n",
    "lbfgs_model.fit(X_train_scaled, y_train)   # train model by fitting to training data\n",
    "\n",
    "## use cv to assess generalization\n",
    "cross_val_scores = cross_val_score(lbfgs_model, X_train, y_train, scoring='roc_auc', cv=5)\n",
    "print(f\"5-fold CV ROC AUC: mean: {np.mean(cross_val_scores):.6f} std dev:{np.std(cross_val_scores):.6f}\")\n",
    "\n",
    "# use trained model to get predicted target var\n",
    "y_test_score_lb = lbfgs_model.predict_proba(X_test_scaled)[:, 1]\n",
    "\n",
    "print(f\"ROC AUC: TEST {roc_auc_score(y_test, y_test_score_lb)}\\n\")"
   ]
  },
  {
   "cell_type": "code",
   "execution_count": 18,
   "id": "cf908cad",
   "metadata": {},
   "outputs": [],
   "source": [
    "## both LR models have essentially the same score, just save one\n",
    "with open('model/phase2/CarryAway_best_model_LogisticRegression.pickle', \"wb\") as f:\n",
    "    pickle.dump(liblinear_model,f)"
   ]
  }
 ],
 "metadata": {
  "kernelspec": {
   "display_name": "Python 3 (ipykernel)",
   "language": "python",
   "name": "python3"
  },
  "language_info": {
   "codemirror_mode": {
    "name": "ipython",
    "version": 3
   },
   "file_extension": ".py",
   "mimetype": "text/x-python",
   "name": "python",
   "nbconvert_exporter": "python",
   "pygments_lexer": "ipython3",
   "version": "3.9.7"
  }
 },
 "nbformat": 4,
 "nbformat_minor": 5
}
