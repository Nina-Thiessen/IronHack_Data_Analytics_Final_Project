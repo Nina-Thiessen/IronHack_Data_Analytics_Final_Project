{
 "cells": [
  {
   "cell_type": "code",
   "execution_count": 1,
   "id": "072047f4",
   "metadata": {},
   "outputs": [],
   "source": [
    "import os\n",
    "import numpy as np\n",
    "import pandas as pd\n",
    "import warnings\n",
    "warnings.filterwarnings(\"ignore\")\n",
    "\n",
    "from sklearn.preprocessing import StandardScaler\n",
    "from sklearn.preprocessing import minmax_scale\n",
    "from sklearn.preprocessing import PowerTransformer\n",
    "\n",
    "from imblearn.over_sampling import SMOTE\n",
    "\n",
    "## models\n",
    "from sklearn.linear_model import LogisticRegression\n",
    "from sklearn.neighbors import KNeighborsClassifier\n",
    "from sklearn.tree import DecisionTreeClassifier\n",
    "from sklearn.tree import plot_tree\n",
    "from sklearn.svm import LinearSVC\n",
    "\n",
    "from sklearn.ensemble import RandomForestClassifier\n",
    "from sklearn.ensemble import GradientBoostingClassifier\n",
    "\n",
    "from sklearn.model_selection import GridSearchCV\n",
    "from sklearn.model_selection import train_test_split\n",
    "from sklearn.model_selection import cross_val_score, cross_val_predict, cross_validate\n",
    "\n",
    "from sklearn.metrics import accuracy_score, precision_score, recall_score\n",
    "from sklearn.metrics import confusion_matrix, make_scorer, roc_auc_score\n",
    "\n",
    "import matplotlib.pyplot as plt\n",
    "%matplotlib inline\n",
    "import seaborn as sns\n",
    "\n",
    "## to make it possible to display multiple output inside one cell \n",
    "from IPython.core.interactiveshell import InteractiveShell\n",
    "InteractiveShell.ast_node_interactivity = \"all\"\n",
    "\n",
    "pd.options.display.max_rows = 50\n",
    "pd.set_option('display.float_format', lambda x: '%9.8f' % x)"
   ]
  },
  {
   "cell_type": "code",
   "execution_count": 2,
   "id": "d2f6cb02",
   "metadata": {},
   "outputs": [
    {
     "name": "stdout",
     "output_type": "stream",
     "text": [
      "Orig: 73.55% Yes\n",
      "After SMOTE: 50.00% Yes\n"
     ]
    }
   ],
   "source": [
    "## load data, split Xy, upsample with SMOTE, split train/test\n",
    "data = pd.read_csv('data/CarryAway_data_encoded.csv')\n",
    "\n",
    "## define X and y \n",
    "X = data.drop('Y', axis=1).reset_index(drop=True)\n",
    "y = data.Y\n",
    "\n",
    "## Handle imbalance\n",
    "smote = SMOTE(random_state=42)\n",
    "\n",
    "orig_vc = y.value_counts()\n",
    "print(f\"Orig: {100* orig_vc[1]/(orig_vc.sum()):.2f}% Yes\")\n",
    "\n",
    "X_sm, y_sm = smote.fit_resample(X, y)\n",
    "sm_vc = y_sm.value_counts()\n",
    "print(f\"After SMOTE: {100* sm_vc[1]/(sm_vc.sum()):.2f}% Yes\")\n",
    "\n",
    "## Data splitting train/test\n",
    "X_train, X_test, y_train, y_test = train_test_split(X_sm, y_sm, test_size=0.20, random_state=42)"
   ]
  },
  {
   "cell_type": "code",
   "execution_count": 3,
   "id": "e058ee8a",
   "metadata": {},
   "outputs": [
    {
     "data": {
      "text/plain": [
       "(2816, 55)"
      ]
     },
     "execution_count": 3,
     "metadata": {},
     "output_type": "execute_result"
    }
   ],
   "source": [
    "X_train.shape"
   ]
  },
  {
   "cell_type": "markdown",
   "id": "be9a2ad8",
   "metadata": {},
   "source": [
    "## Testing RandomForestClassifier with Grid Search Cross-validation\n"
   ]
  },
  {
   "cell_type": "markdown",
   "id": "dfbc7173",
   "metadata": {},
   "source": [
    "## RandomForestClassifier Parameters\n",
    "\n",
    "The main parameters to adjust when using these methods:\n",
    "* n_estimators\n",
    "* max_features (sqrt is best default for classification) \n",
    "\n",
    "Try starting with:\n",
    "* max_depth=None\n",
    "* min_samples_split=2 \n",
    "* oob_score=True (with bootstrapping)\n",
    "\n",
    "Also investigate parameters: \n",
    "1. max_leaf_nodes\n",
    "1. min_samples_leaf"
   ]
  },
  {
   "cell_type": "code",
   "execution_count": 4,
   "id": "b674a0cb",
   "metadata": {},
   "outputs": [],
   "source": [
    "cols_to_view = ['rank_test_score', 'param_max_depth', 'param_max_features', 'param_min_samples_split', \n",
    "                'param_min_samples_leaf', 'param_n_estimators', 'param_max_leaf_nodes',\n",
    "                'mean_test_score', 'std_test_score', 'mean_train_score', 'std_train_score']"
   ]
  },
  {
   "cell_type": "code",
   "execution_count": 7,
   "id": "46aa79dd",
   "metadata": {},
   "outputs": [
    {
     "data": {
      "text/plain": [
       "GridSearchCV(cv=5,\n",
       "             estimator=RandomForestClassifier(oob_score=True, random_state=42),\n",
       "             n_jobs=4,\n",
       "             param_grid={'max_depth': [None, 15],\n",
       "                         'max_features': [5, 6, 7, 8, 9, 10],\n",
       "                         'max_leaf_nodes': [None, 50, 100, 150],\n",
       "                         'min_samples_leaf': [1, 3],\n",
       "                         'min_samples_split': [2, 3, 4, 5],\n",
       "                         'n_estimators': [100, 150, 200]},\n",
       "             return_train_score=True, scoring='roc_auc')"
      ]
     },
     "execution_count": 7,
     "metadata": {},
     "output_type": "execute_result"
    },
    {
     "data": {
      "text/plain": [
       "RandomForestClassifier(max_features=5, n_estimators=150, oob_score=True,\n",
       "                       random_state=42)"
      ]
     },
     "execution_count": 7,
     "metadata": {},
     "output_type": "execute_result"
    }
   ],
   "source": [
    "param_grid={'max_depth': [None, 15],\n",
    "            'max_features': [5, 6, 7, 8, 9, 10],\n",
    "            'max_leaf_nodes': [None, 50, 100, 150],\n",
    "            'min_samples_split': [2, 3, 4, 5],\n",
    "            'min_samples_leaf': [1, 3],\n",
    "            'n_estimators': [100, 150, 200]}\n",
    "\n",
    "clf = RandomForestClassifier(oob_score=True, random_state=42)\n",
    "\n",
    "grid_search1 = GridSearchCV(clf, param_grid, scoring='roc_auc', cv=5, return_train_score=True, n_jobs=4)\n",
    "grid_search1.fit(X_train.values, y_train.values)\n",
    "\n",
    "cv_results1 = pd.DataFrame(grid_search1.cv_results_)\n",
    "best_model = grid_search1.best_estimator_\n",
    "best_model"
   ]
  },
  {
   "cell_type": "code",
   "execution_count": 8,
   "id": "7e7e6211",
   "metadata": {},
   "outputs": [
    {
     "name": "stdout",
     "output_type": "stream",
     "text": [
      "Best model oob score: 0.86328125\n",
      "ROC AUC: TEST 0.930397\n",
      "\n"
     ]
    }
   ],
   "source": [
    "print(f\"Best model oob score: {best_model.oob_score_}\")\n",
    "y_test_score = best_model.predict_proba(X_test)[:, 1]\n",
    "print(f\"ROC AUC: TEST {roc_auc_score(y_test, y_test_score):.6f}\\n\")"
   ]
  },
  {
   "cell_type": "code",
   "execution_count": 11,
   "id": "a79e79dd",
   "metadata": {},
   "outputs": [
    {
     "data": {
      "text/html": [
       "<div>\n",
       "<style scoped>\n",
       "    .dataframe tbody tr th:only-of-type {\n",
       "        vertical-align: middle;\n",
       "    }\n",
       "\n",
       "    .dataframe tbody tr th {\n",
       "        vertical-align: top;\n",
       "    }\n",
       "\n",
       "    .dataframe thead th {\n",
       "        text-align: right;\n",
       "    }\n",
       "</style>\n",
       "<table border=\"1\" class=\"dataframe\">\n",
       "  <thead>\n",
       "    <tr style=\"text-align: right;\">\n",
       "      <th></th>\n",
       "      <th>rank_test_score</th>\n",
       "      <th>param_max_depth</th>\n",
       "      <th>param_max_features</th>\n",
       "      <th>param_min_samples_split</th>\n",
       "      <th>param_min_samples_leaf</th>\n",
       "      <th>param_n_estimators</th>\n",
       "      <th>param_max_leaf_nodes</th>\n",
       "      <th>mean_test_score</th>\n",
       "      <th>std_test_score</th>\n",
       "      <th>mean_train_score</th>\n",
       "      <th>std_train_score</th>\n",
       "    </tr>\n",
       "  </thead>\n",
       "  <tbody>\n",
       "    <tr>\n",
       "      <th>1</th>\n",
       "      <td>1</td>\n",
       "      <td>None</td>\n",
       "      <td>5</td>\n",
       "      <td>2</td>\n",
       "      <td>1</td>\n",
       "      <td>150</td>\n",
       "      <td>None</td>\n",
       "      <td>0.92754250</td>\n",
       "      <td>0.00996240</td>\n",
       "      <td>0.99998952</td>\n",
       "      <td>0.00000462</td>\n",
       "    </tr>\n",
       "    <tr>\n",
       "      <th>2</th>\n",
       "      <td>2</td>\n",
       "      <td>None</td>\n",
       "      <td>5</td>\n",
       "      <td>2</td>\n",
       "      <td>1</td>\n",
       "      <td>200</td>\n",
       "      <td>None</td>\n",
       "      <td>0.92732463</td>\n",
       "      <td>0.00986402</td>\n",
       "      <td>0.99998952</td>\n",
       "      <td>0.00000462</td>\n",
       "    </tr>\n",
       "    <tr>\n",
       "      <th>5</th>\n",
       "      <td>3</td>\n",
       "      <td>None</td>\n",
       "      <td>5</td>\n",
       "      <td>3</td>\n",
       "      <td>1</td>\n",
       "      <td>200</td>\n",
       "      <td>None</td>\n",
       "      <td>0.92696915</td>\n",
       "      <td>0.00955805</td>\n",
       "      <td>0.99996965</td>\n",
       "      <td>0.00001339</td>\n",
       "    </tr>\n",
       "    <tr>\n",
       "      <th>8</th>\n",
       "      <td>4</td>\n",
       "      <td>None</td>\n",
       "      <td>5</td>\n",
       "      <td>4</td>\n",
       "      <td>1</td>\n",
       "      <td>200</td>\n",
       "      <td>None</td>\n",
       "      <td>0.92674606</td>\n",
       "      <td>0.00817474</td>\n",
       "      <td>0.99986056</td>\n",
       "      <td>0.00004082</td>\n",
       "    </tr>\n",
       "    <tr>\n",
       "      <th>4</th>\n",
       "      <td>5</td>\n",
       "      <td>None</td>\n",
       "      <td>5</td>\n",
       "      <td>3</td>\n",
       "      <td>1</td>\n",
       "      <td>150</td>\n",
       "      <td>None</td>\n",
       "      <td>0.92658816</td>\n",
       "      <td>0.00978333</td>\n",
       "      <td>0.99997233</td>\n",
       "      <td>0.00001206</td>\n",
       "    </tr>\n",
       "    <tr>\n",
       "      <th>104</th>\n",
       "      <td>6</td>\n",
       "      <td>None</td>\n",
       "      <td>6</td>\n",
       "      <td>4</td>\n",
       "      <td>1</td>\n",
       "      <td>200</td>\n",
       "      <td>None</td>\n",
       "      <td>0.92646999</td>\n",
       "      <td>0.01000667</td>\n",
       "      <td>0.99988499</td>\n",
       "      <td>0.00005138</td>\n",
       "    </tr>\n",
       "    <tr>\n",
       "      <th>7</th>\n",
       "      <td>7</td>\n",
       "      <td>None</td>\n",
       "      <td>5</td>\n",
       "      <td>4</td>\n",
       "      <td>1</td>\n",
       "      <td>150</td>\n",
       "      <td>None</td>\n",
       "      <td>0.92631026</td>\n",
       "      <td>0.00754393</td>\n",
       "      <td>0.99985347</td>\n",
       "      <td>0.00004212</td>\n",
       "    </tr>\n",
       "    <tr>\n",
       "      <th>103</th>\n",
       "      <td>8</td>\n",
       "      <td>None</td>\n",
       "      <td>6</td>\n",
       "      <td>4</td>\n",
       "      <td>1</td>\n",
       "      <td>150</td>\n",
       "      <td>None</td>\n",
       "      <td>0.92619479</td>\n",
       "      <td>0.01020585</td>\n",
       "      <td>0.99987948</td>\n",
       "      <td>0.00005294</td>\n",
       "    </tr>\n",
       "    <tr>\n",
       "      <th>197</th>\n",
       "      <td>9</td>\n",
       "      <td>None</td>\n",
       "      <td>7</td>\n",
       "      <td>3</td>\n",
       "      <td>1</td>\n",
       "      <td>200</td>\n",
       "      <td>None</td>\n",
       "      <td>0.92612284</td>\n",
       "      <td>0.00798019</td>\n",
       "      <td>0.99997091</td>\n",
       "      <td>0.00001274</td>\n",
       "    </tr>\n",
       "    <tr>\n",
       "      <th>581</th>\n",
       "      <td>10</td>\n",
       "      <td>15</td>\n",
       "      <td>5</td>\n",
       "      <td>3</td>\n",
       "      <td>1</td>\n",
       "      <td>200</td>\n",
       "      <td>None</td>\n",
       "      <td>0.92581099</td>\n",
       "      <td>0.00952455</td>\n",
       "      <td>0.99983614</td>\n",
       "      <td>0.00005803</td>\n",
       "    </tr>\n",
       "  </tbody>\n",
       "</table>\n",
       "</div>"
      ],
      "text/plain": [
       "     rank_test_score param_max_depth param_max_features  \\\n",
       "1                  1            None                  5   \n",
       "2                  2            None                  5   \n",
       "5                  3            None                  5   \n",
       "8                  4            None                  5   \n",
       "4                  5            None                  5   \n",
       "104                6            None                  6   \n",
       "7                  7            None                  5   \n",
       "103                8            None                  6   \n",
       "197                9            None                  7   \n",
       "581               10              15                  5   \n",
       "\n",
       "    param_min_samples_split param_min_samples_leaf param_n_estimators  \\\n",
       "1                         2                      1                150   \n",
       "2                         2                      1                200   \n",
       "5                         3                      1                200   \n",
       "8                         4                      1                200   \n",
       "4                         3                      1                150   \n",
       "104                       4                      1                200   \n",
       "7                         4                      1                150   \n",
       "103                       4                      1                150   \n",
       "197                       3                      1                200   \n",
       "581                       3                      1                200   \n",
       "\n",
       "    param_max_leaf_nodes  mean_test_score  std_test_score  mean_train_score  \\\n",
       "1                   None       0.92754250      0.00996240        0.99998952   \n",
       "2                   None       0.92732463      0.00986402        0.99998952   \n",
       "5                   None       0.92696915      0.00955805        0.99996965   \n",
       "8                   None       0.92674606      0.00817474        0.99986056   \n",
       "4                   None       0.92658816      0.00978333        0.99997233   \n",
       "104                 None       0.92646999      0.01000667        0.99988499   \n",
       "7                   None       0.92631026      0.00754393        0.99985347   \n",
       "103                 None       0.92619479      0.01020585        0.99987948   \n",
       "197                 None       0.92612284      0.00798019        0.99997091   \n",
       "581                 None       0.92581099      0.00952455        0.99983614   \n",
       "\n",
       "     std_train_score  \n",
       "1         0.00000462  \n",
       "2         0.00000462  \n",
       "5         0.00001339  \n",
       "8         0.00004082  \n",
       "4         0.00001206  \n",
       "104       0.00005138  \n",
       "7         0.00004212  \n",
       "103       0.00005294  \n",
       "197       0.00001274  \n",
       "581       0.00005803  "
      ]
     },
     "execution_count": 11,
     "metadata": {},
     "output_type": "execute_result"
    }
   ],
   "source": [
    "cv_results1.loc[:, cols_to_view].sort_values('rank_test_score').head(10)"
   ]
  },
  {
   "cell_type": "code",
   "execution_count": 10,
   "id": "a72e4eb5",
   "metadata": {},
   "outputs": [
    {
     "data": {
      "text/html": [
       "<div>\n",
       "<style scoped>\n",
       "    .dataframe tbody tr th:only-of-type {\n",
       "        vertical-align: middle;\n",
       "    }\n",
       "\n",
       "    .dataframe tbody tr th {\n",
       "        vertical-align: top;\n",
       "    }\n",
       "\n",
       "    .dataframe thead th {\n",
       "        text-align: right;\n",
       "    }\n",
       "</style>\n",
       "<table border=\"1\" class=\"dataframe\">\n",
       "  <thead>\n",
       "    <tr style=\"text-align: right;\">\n",
       "      <th></th>\n",
       "      <th>feature_name</th>\n",
       "      <th>importance</th>\n",
       "    </tr>\n",
       "  </thead>\n",
       "  <tbody>\n",
       "    <tr>\n",
       "      <th>10</th>\n",
       "      <td>income</td>\n",
       "      <td>0.07010677</td>\n",
       "    </tr>\n",
       "    <tr>\n",
       "      <th>14</th>\n",
       "      <td>CoffeeHouse</td>\n",
       "      <td>0.06478373</td>\n",
       "    </tr>\n",
       "    <tr>\n",
       "      <th>9</th>\n",
       "      <td>education</td>\n",
       "      <td>0.05812116</td>\n",
       "    </tr>\n",
       "    <tr>\n",
       "      <th>8</th>\n",
       "      <td>age</td>\n",
       "      <td>0.05801979</td>\n",
       "    </tr>\n",
       "    <tr>\n",
       "      <th>7</th>\n",
       "      <td>time</td>\n",
       "      <td>0.05597261</td>\n",
       "    </tr>\n",
       "    <tr>\n",
       "      <th>16</th>\n",
       "      <td>RestaurantLessThan20</td>\n",
       "      <td>0.05587273</td>\n",
       "    </tr>\n",
       "    <tr>\n",
       "      <th>15</th>\n",
       "      <td>CarryAway</td>\n",
       "      <td>0.05552131</td>\n",
       "    </tr>\n",
       "    <tr>\n",
       "      <th>13</th>\n",
       "      <td>Bar</td>\n",
       "      <td>0.05463156</td>\n",
       "    </tr>\n",
       "    <tr>\n",
       "      <th>11</th>\n",
       "      <td>temperature</td>\n",
       "      <td>0.04995737</td>\n",
       "    </tr>\n",
       "    <tr>\n",
       "      <th>17</th>\n",
       "      <td>Restaurant20To50</td>\n",
       "      <td>0.04956038</td>\n",
       "    </tr>\n",
       "  </tbody>\n",
       "</table>\n",
       "</div>"
      ],
      "text/plain": [
       "            feature_name  importance\n",
       "10                income  0.07010677\n",
       "14           CoffeeHouse  0.06478373\n",
       "9              education  0.05812116\n",
       "8                    age  0.05801979\n",
       "7                   time  0.05597261\n",
       "16  RestaurantLessThan20  0.05587273\n",
       "15             CarryAway  0.05552131\n",
       "13                   Bar  0.05463156\n",
       "11           temperature  0.04995737\n",
       "17      Restaurant20To50  0.04956038"
      ]
     },
     "execution_count": 10,
     "metadata": {},
     "output_type": "execute_result"
    }
   ],
   "source": [
    "featimp_df = pd.DataFrame({'feature_name': X.columns, 'importance': best_model.feature_importances_})\n",
    "featimp_df.sort_values('importance', ascending=False).head(10)"
   ]
  },
  {
   "cell_type": "markdown",
   "id": "c2994541",
   "metadata": {},
   "source": [
    "# KNN"
   ]
  },
  {
   "cell_type": "code",
   "execution_count": 12,
   "id": "2af3b49a",
   "metadata": {},
   "outputs": [
    {
     "data": {
      "text/plain": [
       "GridSearchCV(cv=5, estimator=KNeighborsClassifier(), n_jobs=4,\n",
       "             param_grid={'n_neighbors': [1, 2, 3, 4, 5, 6, 7, 8, 9, 10, 11, 12,\n",
       "                                         13, 14, 15, 16, 17, 18, 19, 20, 21, 22,\n",
       "                                         23, 24, 25]},\n",
       "             return_train_score=True, scoring='roc_auc')"
      ]
     },
     "execution_count": 12,
     "metadata": {},
     "output_type": "execute_result"
    }
   ],
   "source": [
    "param_grid={'n_neighbors': [x for x in range(1,26)]}\n",
    "\n",
    "clf = KNeighborsClassifier()\n",
    "\n",
    "grid_search_knn = GridSearchCV(clf, param_grid, scoring='roc_auc', cv=5, return_train_score=True, n_jobs=4)\n",
    "grid_search_knn.fit(X_train.values, y_train.values)"
   ]
  },
  {
   "cell_type": "code",
   "execution_count": 13,
   "id": "4b8f7d84",
   "metadata": {},
   "outputs": [
    {
     "data": {
      "text/html": [
       "<div>\n",
       "<style scoped>\n",
       "    .dataframe tbody tr th:only-of-type {\n",
       "        vertical-align: middle;\n",
       "    }\n",
       "\n",
       "    .dataframe tbody tr th {\n",
       "        vertical-align: top;\n",
       "    }\n",
       "\n",
       "    .dataframe thead th {\n",
       "        text-align: right;\n",
       "    }\n",
       "</style>\n",
       "<table border=\"1\" class=\"dataframe\">\n",
       "  <thead>\n",
       "    <tr style=\"text-align: right;\">\n",
       "      <th></th>\n",
       "      <th>rank_test_score</th>\n",
       "      <th>param_n_neighbors</th>\n",
       "      <th>mean_test_score</th>\n",
       "      <th>std_test_score</th>\n",
       "      <th>mean_train_score</th>\n",
       "      <th>std_train_score</th>\n",
       "    </tr>\n",
       "  </thead>\n",
       "  <tbody>\n",
       "    <tr>\n",
       "      <th>2</th>\n",
       "      <td>1</td>\n",
       "      <td>3</td>\n",
       "      <td>0.85676188</td>\n",
       "      <td>0.01455993</td>\n",
       "      <td>0.97573660</td>\n",
       "      <td>0.00077729</td>\n",
       "    </tr>\n",
       "    <tr>\n",
       "      <th>1</th>\n",
       "      <td>2</td>\n",
       "      <td>2</td>\n",
       "      <td>0.85648387</td>\n",
       "      <td>0.01258463</td>\n",
       "      <td>0.98878988</td>\n",
       "      <td>0.00066234</td>\n",
       "    </tr>\n",
       "    <tr>\n",
       "      <th>3</th>\n",
       "      <td>3</td>\n",
       "      <td>4</td>\n",
       "      <td>0.85215760</td>\n",
       "      <td>0.01676664</td>\n",
       "      <td>0.96316250</td>\n",
       "      <td>0.00172038</td>\n",
       "    </tr>\n",
       "  </tbody>\n",
       "</table>\n",
       "</div>"
      ],
      "text/plain": [
       "   rank_test_score param_n_neighbors  mean_test_score  std_test_score  \\\n",
       "2                1                 3       0.85676188      0.01455993   \n",
       "1                2                 2       0.85648387      0.01258463   \n",
       "3                3                 4       0.85215760      0.01676664   \n",
       "\n",
       "   mean_train_score  std_train_score  \n",
       "2        0.97573660       0.00077729  \n",
       "1        0.98878988       0.00066234  \n",
       "3        0.96316250       0.00172038  "
      ]
     },
     "execution_count": 13,
     "metadata": {},
     "output_type": "execute_result"
    }
   ],
   "source": [
    "knn_cols_to_view = ['rank_test_score', 'param_n_neighbors', \n",
    "                    'mean_test_score', 'std_test_score', 'mean_train_score', 'std_train_score']\n",
    "\n",
    "cv_results_knn = pd.DataFrame(grid_search_knn.cv_results_)\n",
    "cv_results_knn.loc[:, knn_cols_to_view].sort_values('rank_test_score').head(3)"
   ]
  },
  {
   "cell_type": "code",
   "execution_count": 16,
   "id": "e932578c",
   "metadata": {},
   "outputs": [
    {
     "data": {
      "text/plain": [
       "RandomForestClassifier(max_features=5, n_estimators=150, oob_score=True,\n",
       "                       random_state=42)"
      ]
     },
     "execution_count": 16,
     "metadata": {},
     "output_type": "execute_result"
    },
    {
     "name": "stdout",
     "output_type": "stream",
     "text": [
      "ROC AUC: TEST 0.869875\n",
      "\n"
     ]
    }
   ],
   "source": [
    "best_model_knn = grid_search_knn.best_estimator_\n",
    "best_model\n",
    "y_test_score_knn = best_model_knn.predict_proba(X_test)[:, 1]\n",
    "print(f\"ROC AUC: TEST {roc_auc_score(y_test, y_test_score_knn):.6f}\\n\")"
   ]
  },
  {
   "cell_type": "markdown",
   "id": "ae8b57e9",
   "metadata": {},
   "source": [
    "# Logistic regression"
   ]
  },
  {
   "cell_type": "code",
   "execution_count": 18,
   "id": "6234bfa3",
   "metadata": {},
   "outputs": [
    {
     "data": {
      "text/plain": [
       "LogisticRegression(random_state=42, solver='liblinear')"
      ]
     },
     "execution_count": 18,
     "metadata": {},
     "output_type": "execute_result"
    },
    {
     "name": "stdout",
     "output_type": "stream",
     "text": [
      "ROC AUC: TEST 0.816650\n",
      "\n"
     ]
    },
    {
     "data": {
      "text/plain": [
       "LogisticRegression(random_state=42)"
      ]
     },
     "execution_count": 18,
     "metadata": {},
     "output_type": "execute_result"
    },
    {
     "name": "stdout",
     "output_type": "stream",
     "text": [
      "ROC AUC: TEST 0.816650\n",
      "\n"
     ]
    }
   ],
   "source": [
    "## standardization\n",
    "std_scaler=StandardScaler().fit(X_train) ## first fit the model on the training data\n",
    "\n",
    "## now std scaler transform\n",
    "X_train_scaled = std_scaler.transform(X_train)\n",
    "X_test_scaled = std_scaler.transform(X_test)\n",
    "\n",
    "## apply regression\n",
    "liblinear_model = LogisticRegression(solver='liblinear', random_state=42)\n",
    "liblinear_model.fit(X_train_scaled, y_train)   # train model by fitting to training data\n",
    "\n",
    "# use trained model to get predicted target var\n",
    "y_test_score_ll = liblinear_model.predict_proba(X_test_scaled)[:, 1]\n",
    "\n",
    "print(f\"ROC AUC: TEST {roc_auc_score(y_test, y_test_score_ll):.6f}\\n\")\n",
    "\n",
    "## apply regression again, using a different solver\n",
    "lbfgs_model = LogisticRegression(solver='lbfgs', random_state=42)\n",
    "lbfgs_model.fit(X_train_scaled, y_train)   # train model by fitting to training data\n",
    "\n",
    "# use trained model to get predicted target var\n",
    "y_test_score_lb = lbfgs_model.predict_proba(X_test_scaled)[:, 1]\n",
    "\n",
    "print(f\"ROC AUC: TEST {roc_auc_score(y_test, y_test_score_lb):.6f}\\n\")"
   ]
  },
  {
   "cell_type": "markdown",
   "id": "23c972e6",
   "metadata": {},
   "source": [
    "# Attempting to look at the resulting decision tree nodes"
   ]
  },
  {
   "cell_type": "code",
   "execution_count": null,
   "id": "db606d8c",
   "metadata": {},
   "outputs": [],
   "source": [
    "len(best_model.estimators_)\n",
    "best_model.estimators_[0]"
   ]
  },
  {
   "cell_type": "code",
   "execution_count": null,
   "id": "9c30e2c2",
   "metadata": {},
   "outputs": [],
   "source": [
    "# fig, ax = plt.subplots(1,1,figsize = (20,20))\n",
    "plt.figure()\n",
    "\n",
    "plot_tree(best_model.estimators_[0], filled=True, rounded=True, max_depth=5, feature_names=X_train.columns)\n",
    "# plt.show()\n",
    "\n",
    "plt.savefig('plots/test-tree.eps',format='eps',bbox_inches = \"tight\")"
   ]
  },
  {
   "cell_type": "code",
   "execution_count": null,
   "id": "ac7051ea",
   "metadata": {},
   "outputs": [],
   "source": [
    "#Extracting the decision path for instance i = 12\n",
    "i_data = X_train.iloc[12].values.reshape(1,-1)\n",
    "d_path = best_model.decision_path(i_data)\n",
    "\n",
    "print(d_path)"
   ]
  }
 ],
 "metadata": {
  "kernelspec": {
   "display_name": "Python 3 (ipykernel)",
   "language": "python",
   "name": "python3"
  },
  "language_info": {
   "codemirror_mode": {
    "name": "ipython",
    "version": 3
   },
   "file_extension": ".py",
   "mimetype": "text/x-python",
   "name": "python",
   "nbconvert_exporter": "python",
   "pygments_lexer": "ipython3",
   "version": "3.9.7"
  }
 },
 "nbformat": 4,
 "nbformat_minor": 5
}
